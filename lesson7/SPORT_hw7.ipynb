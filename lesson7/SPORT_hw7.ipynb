{
 "cells": [
  {
   "cell_type": "markdown",
   "metadata": {},
   "source": [
    "## Урок 7"
   ]
  },
  {
   "cell_type": "code",
   "execution_count": null,
   "metadata": {},
   "outputs": [],
   "source": [
    "#!pip install catboost\n",
    "# conda install scikit-learn\n",
    "# !pip install scikit-learn==0.22\n",
    "# !pip install lightgbm\n",
    "# !pip install xgboost\n",
    "# !pip install bayesian-optimization"
   ]
  },
  {
   "cell_type": "code",
   "execution_count": 97,
   "metadata": {},
   "outputs": [],
   "source": [
    "from typing import List, Optional\n",
    "from tqdm import tqdm\n",
    "\n",
    "import numpy as np\n",
    "import pandas as pd\n",
    "import matplotlib as mpl\n",
    "import matplotlib.pyplot as plt\n",
    "\n",
    "import seaborn as sns\n",
    "import scipy.stats as st\n",
    "from scipy.stats import probplot, ks_2samp\n",
    "\n",
    "from sklearn.model_selection import KFold, cross_val_score\n",
    "from sklearn.base import BaseEstimator, TransformerMixin\n",
    "from sklearn.utils.validation import check_is_fitted\n",
    "# import missingno as msno\n",
    "\n",
    "from scipy.stats import gmean, rankdata\n",
    "\n",
    "# plt.style.use('fivethirtyeight')\n",
    "# %config InlineBackend.figure_format = 'svg'\n",
    "%matplotlib inline\n",
    "import warnings\n",
    "warnings.filterwarnings('ignore')\n",
    "\n",
    "from sklearn.metrics import (roc_auc_score, roc_curve, auc, confusion_matrix, accuracy_score, \\\n",
    "                            classification_report, plot_confusion_matrix, plot_precision_recall_curve, \\\n",
    "                            precision_recall_curve, recall_score, plot_roc_curve)\n",
    "\n",
    "import xgboost as xgb\n",
    "import catboost as ctb\n",
    "from xgboost import XGBClassifier\n",
    "from catboost import CatBoostClassifier\n",
    "from lightgbm import LGBMClassifier\n",
    "import lightgbm as lgb\n",
    "\n",
    "# !pip install bayesian-optimization\n",
    "from bayes_opt import BayesianOptimization\n",
    "from sklearn.discriminant_analysis import LinearDiscriminantAnalysis\n",
    "\n",
    "from sklearn.model_selection import train_test_split"
   ]
  },
  {
   "cell_type": "markdown",
   "metadata": {},
   "source": [
    "### 1.Обучить алгоритмы LightGBM и XGBoost, получить OOF прогнозы, оценить корреляцию прогнозов на обучающей выборке. Применить модели на тестовую выборку и оценить корреляцию."
   ]
  },
  {
   "cell_type": "code",
   "execution_count": null,
   "metadata": {},
   "outputs": [],
   "source": [
    "# Загрузка и небольшое преобразование данных перед подачей в модель ------------------------------------------------->>>"
   ]
  },
  {
   "cell_type": "code",
   "execution_count": 2,
   "metadata": {},
   "outputs": [],
   "source": [
    "my_train_old = pd.read_csv(r\"./competitive-data-analysis_coursework/my_train_old.csv\")\n",
    "my_test_old = pd.read_csv(r\"./competitive-data-analysis_coursework/my_test_old.csv\")"
   ]
  },
  {
   "cell_type": "code",
   "execution_count": 4,
   "metadata": {},
   "outputs": [
    {
     "data": {
      "text/html": [
       "<div>\n",
       "<style scoped>\n",
       "    .dataframe tbody tr th:only-of-type {\n",
       "        vertical-align: middle;\n",
       "    }\n",
       "\n",
       "    .dataframe tbody tr th {\n",
       "        vertical-align: top;\n",
       "    }\n",
       "\n",
       "    .dataframe thead th {\n",
       "        text-align: right;\n",
       "    }\n",
       "</style>\n",
       "<table border=\"1\" class=\"dataframe\">\n",
       "  <thead>\n",
       "    <tr style=\"text-align: right;\">\n",
       "      <th></th>\n",
       "      <th>APPLICATION_NUMBER</th>\n",
       "      <th>TARGET</th>\n",
       "      <th>NAME_CONTRACT_TYPE</th>\n",
       "      <th>GENDER</th>\n",
       "      <th>CHILDRENS</th>\n",
       "      <th>TOTAL_SALARY</th>\n",
       "      <th>AMOUNT_CREDIT</th>\n",
       "      <th>AMOUNT_ANNUITY</th>\n",
       "      <th>EDUCATION_LEVEL</th>\n",
       "      <th>FAMILY_STATUS</th>\n",
       "      <th>...</th>\n",
       "      <th>FAMILY_SIZE</th>\n",
       "      <th>EXTERNAL_SCORING_RATING_1</th>\n",
       "      <th>EXTERNAL_SCORING_RATING_2</th>\n",
       "      <th>EXTERNAL_SCORING_RATING_3</th>\n",
       "      <th>AMT_REQ_CREDIT_BUREAU_HOUR</th>\n",
       "      <th>AMT_REQ_CREDIT_BUREAU_DAY</th>\n",
       "      <th>AMT_REQ_CREDIT_BUREAU_WEEK</th>\n",
       "      <th>AMT_REQ_CREDIT_BUREAU_MON</th>\n",
       "      <th>AMT_REQ_CREDIT_BUREAU_QRT</th>\n",
       "      <th>AMT_REQ_CREDIT_BUREAU_YEAR</th>\n",
       "    </tr>\n",
       "  </thead>\n",
       "  <tbody>\n",
       "    <tr>\n",
       "      <th>0</th>\n",
       "      <td>123687442</td>\n",
       "      <td>0</td>\n",
       "      <td>Cash</td>\n",
       "      <td>M</td>\n",
       "      <td>1.0</td>\n",
       "      <td>157500.0</td>\n",
       "      <td>855000.0</td>\n",
       "      <td>25128.0</td>\n",
       "      <td>Secondary / secondary special</td>\n",
       "      <td>Married</td>\n",
       "      <td>...</td>\n",
       "      <td>3.0</td>\n",
       "      <td>0.700784</td>\n",
       "      <td>0.645914</td>\n",
       "      <td>0.716570</td>\n",
       "      <td>0.0</td>\n",
       "      <td>0.0</td>\n",
       "      <td>1.0</td>\n",
       "      <td>0.0</td>\n",
       "      <td>0.0</td>\n",
       "      <td>2.0</td>\n",
       "    </tr>\n",
       "    <tr>\n",
       "      <th>1</th>\n",
       "      <td>123597908</td>\n",
       "      <td>1</td>\n",
       "      <td>Cash</td>\n",
       "      <td>NaN</td>\n",
       "      <td>NaN</td>\n",
       "      <td>NaN</td>\n",
       "      <td>NaN</td>\n",
       "      <td>NaN</td>\n",
       "      <td>NaN</td>\n",
       "      <td>NaN</td>\n",
       "      <td>...</td>\n",
       "      <td>NaN</td>\n",
       "      <td>NaN</td>\n",
       "      <td>NaN</td>\n",
       "      <td>NaN</td>\n",
       "      <td>NaN</td>\n",
       "      <td>NaN</td>\n",
       "      <td>NaN</td>\n",
       "      <td>NaN</td>\n",
       "      <td>NaN</td>\n",
       "      <td>NaN</td>\n",
       "    </tr>\n",
       "    <tr>\n",
       "      <th>2</th>\n",
       "      <td>123526683</td>\n",
       "      <td>0</td>\n",
       "      <td>Cash</td>\n",
       "      <td>F</td>\n",
       "      <td>0.0</td>\n",
       "      <td>135000.0</td>\n",
       "      <td>1006920.0</td>\n",
       "      <td>42660.0</td>\n",
       "      <td>Higher education</td>\n",
       "      <td>Married</td>\n",
       "      <td>...</td>\n",
       "      <td>2.0</td>\n",
       "      <td>NaN</td>\n",
       "      <td>0.682149</td>\n",
       "      <td>0.267869</td>\n",
       "      <td>0.0</td>\n",
       "      <td>0.0</td>\n",
       "      <td>0.0</td>\n",
       "      <td>7.0</td>\n",
       "      <td>0.0</td>\n",
       "      <td>4.0</td>\n",
       "    </tr>\n",
       "    <tr>\n",
       "      <th>3</th>\n",
       "      <td>123710391</td>\n",
       "      <td>1</td>\n",
       "      <td>Cash</td>\n",
       "      <td>M</td>\n",
       "      <td>0.0</td>\n",
       "      <td>180000.0</td>\n",
       "      <td>518562.0</td>\n",
       "      <td>22972.5</td>\n",
       "      <td>Secondary / secondary special</td>\n",
       "      <td>Married</td>\n",
       "      <td>...</td>\n",
       "      <td>2.0</td>\n",
       "      <td>NaN</td>\n",
       "      <td>0.171299</td>\n",
       "      <td>0.170446</td>\n",
       "      <td>0.0</td>\n",
       "      <td>0.0</td>\n",
       "      <td>0.0</td>\n",
       "      <td>0.0</td>\n",
       "      <td>0.0</td>\n",
       "      <td>0.0</td>\n",
       "    </tr>\n",
       "    <tr>\n",
       "      <th>4</th>\n",
       "      <td>123590329</td>\n",
       "      <td>1</td>\n",
       "      <td>Cash</td>\n",
       "      <td>NaN</td>\n",
       "      <td>NaN</td>\n",
       "      <td>NaN</td>\n",
       "      <td>NaN</td>\n",
       "      <td>NaN</td>\n",
       "      <td>NaN</td>\n",
       "      <td>NaN</td>\n",
       "      <td>...</td>\n",
       "      <td>NaN</td>\n",
       "      <td>NaN</td>\n",
       "      <td>NaN</td>\n",
       "      <td>NaN</td>\n",
       "      <td>NaN</td>\n",
       "      <td>NaN</td>\n",
       "      <td>NaN</td>\n",
       "      <td>NaN</td>\n",
       "      <td>NaN</td>\n",
       "      <td>NaN</td>\n",
       "    </tr>\n",
       "  </tbody>\n",
       "</table>\n",
       "<p>5 rows × 26 columns</p>\n",
       "</div>"
      ],
      "text/plain": [
       "   APPLICATION_NUMBER  TARGET NAME_CONTRACT_TYPE GENDER  CHILDRENS  \\\n",
       "0           123687442       0               Cash      M        1.0   \n",
       "1           123597908       1               Cash    NaN        NaN   \n",
       "2           123526683       0               Cash      F        0.0   \n",
       "3           123710391       1               Cash      M        0.0   \n",
       "4           123590329       1               Cash    NaN        NaN   \n",
       "\n",
       "   TOTAL_SALARY  AMOUNT_CREDIT  AMOUNT_ANNUITY                EDUCATION_LEVEL  \\\n",
       "0      157500.0       855000.0         25128.0  Secondary / secondary special   \n",
       "1           NaN            NaN             NaN                            NaN   \n",
       "2      135000.0      1006920.0         42660.0               Higher education   \n",
       "3      180000.0       518562.0         22972.5  Secondary / secondary special   \n",
       "4           NaN            NaN             NaN                            NaN   \n",
       "\n",
       "  FAMILY_STATUS  ...  FAMILY_SIZE  EXTERNAL_SCORING_RATING_1  \\\n",
       "0       Married  ...          3.0                   0.700784   \n",
       "1           NaN  ...          NaN                        NaN   \n",
       "2       Married  ...          2.0                        NaN   \n",
       "3       Married  ...          2.0                        NaN   \n",
       "4           NaN  ...          NaN                        NaN   \n",
       "\n",
       "   EXTERNAL_SCORING_RATING_2  EXTERNAL_SCORING_RATING_3  \\\n",
       "0                   0.645914                   0.716570   \n",
       "1                        NaN                        NaN   \n",
       "2                   0.682149                   0.267869   \n",
       "3                   0.171299                   0.170446   \n",
       "4                        NaN                        NaN   \n",
       "\n",
       "   AMT_REQ_CREDIT_BUREAU_HOUR  AMT_REQ_CREDIT_BUREAU_DAY  \\\n",
       "0                         0.0                        0.0   \n",
       "1                         NaN                        NaN   \n",
       "2                         0.0                        0.0   \n",
       "3                         0.0                        0.0   \n",
       "4                         NaN                        NaN   \n",
       "\n",
       "   AMT_REQ_CREDIT_BUREAU_WEEK  AMT_REQ_CREDIT_BUREAU_MON  \\\n",
       "0                         1.0                        0.0   \n",
       "1                         NaN                        NaN   \n",
       "2                         0.0                        7.0   \n",
       "3                         0.0                        0.0   \n",
       "4                         NaN                        NaN   \n",
       "\n",
       "   AMT_REQ_CREDIT_BUREAU_QRT  AMT_REQ_CREDIT_BUREAU_YEAR  \n",
       "0                        0.0                         2.0  \n",
       "1                        NaN                         NaN  \n",
       "2                        0.0                         4.0  \n",
       "3                        0.0                         0.0  \n",
       "4                        NaN                         NaN  \n",
       "\n",
       "[5 rows x 26 columns]"
      ]
     },
     "execution_count": 4,
     "metadata": {},
     "output_type": "execute_result"
    }
   ],
   "source": [
    "my_train_old.head()"
   ]
  },
  {
   "cell_type": "code",
   "execution_count": 21,
   "metadata": {},
   "outputs": [],
   "source": [
    "def make_cross_validation(X: pd.DataFrame,\n",
    "                          y: pd.Series,\n",
    "                          estimator: object,\n",
    "                          metric: callable,\n",
    "                          cv_strategy):\n",
    "  \n",
    "    estimators, fold_train_scores, fold_valid_scores = [], [], []\n",
    "    oof_predictions = np.zeros(X.shape[0])\n",
    "\n",
    "    for fold_number, (train_idx, valid_idx) in enumerate(cv_strategy.split(X, y)):\n",
    "        x_train, x_valid = X.loc[train_idx], X.loc[valid_idx]\n",
    "        y_train, y_valid = y.loc[train_idx], y.loc[valid_idx]\n",
    "\n",
    "        estimator.fit(x_train, y_train)\n",
    "        y_train_pred = estimator.predict_proba(x_train)\n",
    "        y_valid_pred = estimator.predict_proba(x_valid)\n",
    "\n",
    "        fold_train_scores.append(metric(y_train, y_train_pred[:,1]))\n",
    "        fold_valid_scores.append(metric(y_valid, y_valid_pred[:,1]))\n",
    "        oof_predictions[valid_idx] = y_valid_pred[:,1]\n",
    "\n",
    "        msg = (\n",
    "            f\"Fold: {fold_number+1}, train-observations = {len(train_idx)}, \"\n",
    "            f\"valid-observations = {len(valid_idx)}\\n\"\n",
    "            f\"train-score = {round(fold_train_scores[fold_number], 4)}, \"\n",
    "            f\"valid-score = {round(fold_valid_scores[fold_number], 4)}\" \n",
    "        )\n",
    "        print(msg)\n",
    "        print(\"=\"*69)\n",
    "        estimators.append(estimator)\n",
    "\n",
    "    oof_score = metric(y, oof_predictions)\n",
    "    print(f\"CV-results train: {round(np.mean(fold_train_scores), 4)} +/- {round(np.std(fold_train_scores), 3)}\")\n",
    "    print(f\"CV-results valid: {round(np.mean(fold_valid_scores), 4)} +/- {round(np.std(fold_valid_scores), 3)}\")\n",
    "    print(f\"OOF-score = {round(oof_score, 4)}\")\n",
    "    \n",
    "    print(estimators, oof_score, fold_train_scores, fold_valid_scores, oof_predictions)\n",
    "    return estimators, oof_score, fold_train_scores, fold_valid_scores, oof_predictions"
   ]
  },
  {
   "cell_type": "code",
   "execution_count": 26,
   "metadata": {},
   "outputs": [],
   "source": [
    "import time\n",
    "def xgboost_cross_validation(params, X, y, cv, categorical = None):\n",
    "    estimators, encoders = [], {}\n",
    "    oof_preds = np.zeros(X.shape[0])\n",
    "\n",
    "    if categorical:\n",
    "        for feature in categorical:\n",
    "            encoder = LabelEncoder()\n",
    "            X[feature] = encoder.fit_transform(X[feature].astype(\"str\").fillna(\"NA\"))\n",
    "            encoders[feature] = encoder\n",
    "\n",
    "    print(f\"{time.ctime()}, Cross-Validation, {X.shape[0]} rows, {X.shape[1]} cols\")\n",
    "\n",
    "    for fold, (train_idx, valid_idx) in enumerate(cv.split(X, y)):\n",
    "\n",
    "        x_train, x_valid = X.loc[train_idx], X.loc[valid_idx]\n",
    "        y_train, y_valid = y[train_idx], y[valid_idx]\n",
    "        dtrain = xgb.DMatrix(x_train, y_train)\n",
    "        dvalid = xgb.DMatrix(x_valid, y_valid)\n",
    "\n",
    "        model = xgb.train(\n",
    "            params=params,\n",
    "            dtrain=dtrain,\n",
    "            maximize=True,\n",
    "            num_boost_round=10000,\n",
    "            early_stopping_rounds=75,\n",
    "            evals=[(dtrain, \"train\"), (dvalid, \"valid\")],\n",
    "            verbose_eval=100,\n",
    "        )\n",
    "        oof_preds[valid_idx] = model.predict(dvalid)\n",
    "        score = roc_auc_score(y_valid, oof_preds[valid_idx])\n",
    "        print(f\"Fold {fold+1}, Valid score = {round(score, 5)}\")\n",
    "        estimators.append(model)\n",
    "\n",
    "    return estimators, encoders, oof_preds"
   ]
  },
  {
   "cell_type": "code",
   "execution_count": 7,
   "metadata": {},
   "outputs": [],
   "source": [
    "X = my_train_old.drop(\"TARGET\", axis=1)\n",
    "y = my_train_old[\"TARGET\"]\n",
    "X_train, X_valid, y_train, y_valid = train_test_split(X, y, test_size=0.33, random_state=99)"
   ]
  },
  {
   "cell_type": "code",
   "execution_count": null,
   "metadata": {},
   "outputs": [],
   "source": [
    "# Модель lgbm"
   ]
  },
  {
   "cell_type": "code",
   "execution_count": 16,
   "metadata": {},
   "outputs": [],
   "source": [
    "lgbm_params = {\n",
    "    'metric':\"auc\", \n",
    "    'boosting_type': 'gbdt',\n",
    "     'n_estimators': 1500,\n",
    "      'learning_rate': 0.06,\n",
    "    'max_depth': 3,\n",
    "    'min_child_weight': 114,\n",
    "    'num_leaves': 132,\n",
    "    'reg_alpha': 0.04,\n",
    "    'reg_lambda': 0.01,\n",
    "    'subsample': 0.3, \n",
    "    'random_state': 99,\n",
    "#     \"early_stopping_rounds\": 25\n",
    "}"
   ]
  },
  {
   "cell_type": "code",
   "execution_count": 17,
   "metadata": {},
   "outputs": [
    {
     "name": "stdout",
     "output_type": "stream",
     "text": [
      "[200]\ttraining's auc: 0.73879\tvalid_1's auc: 0.722267\n",
      "[400]\ttraining's auc: 0.749862\tvalid_1's auc: 0.72509\n",
      "[600]\ttraining's auc: 0.757739\tvalid_1's auc: 0.726673\n",
      "[800]\ttraining's auc: 0.76357\tvalid_1's auc: 0.726769\n",
      "[1000]\ttraining's auc: 0.769156\tvalid_1's auc: 0.72603\n",
      "[1200]\ttraining's auc: 0.773435\tvalid_1's auc: 0.726082\n",
      "[1400]\ttraining's auc: 0.777771\tvalid_1's auc: 0.725337\n",
      "[1600]\ttraining's auc: 0.781726\tvalid_1's auc: 0.724796\n"
     ]
    },
    {
     "data": {
      "text/plain": [
       "LGBMClassifier(learning_rate=0.05, max_depth=3, metric='auc',\n",
       "               min_child_weight=114, n_estimators=1631, num_leaves=132,\n",
       "               random_state=99, reg_alpha=0.04813, reg_lambda=0.0162,\n",
       "               subsample=0.3)"
      ]
     },
     "execution_count": 17,
     "metadata": {},
     "output_type": "execute_result"
    }
   ],
   "source": [
    "model_lgbm = LGBMClassifier(**lgbm_params)\n",
    "model_lgbm.fit(X_train, y_train, eval_set=[(X_train, y_train), (X_valid, y_valid)], verbose=200)"
   ]
  },
  {
   "cell_type": "code",
   "execution_count": 19,
   "metadata": {},
   "outputs": [
    {
     "name": "stdout",
     "output_type": "stream",
     "text": [
      "|   iter    |  target   | learni... | max_depth | min_ch... | n_esti... | num_le... | reg_alpha | reg_la... | subsample |\n",
      "-------------------------------------------------------------------------------------------------------------------------\n",
      "| \u001b[0m 1       \u001b[0m | \u001b[0m 0.7249  \u001b[0m | \u001b[0m 0.03672 \u001b[0m | \u001b[0m 3.488   \u001b[0m | \u001b[0m 119.1   \u001b[0m | \u001b[0m 1.516e+0\u001b[0m | \u001b[0m 132.1   \u001b[0m | \u001b[0m 0.04808 \u001b[0m | \u001b[0m 0.05756 \u001b[0m | \u001b[0m 0.3047  \u001b[0m |\n",
      "| \u001b[0m 2       \u001b[0m | \u001b[0m 0.7247  \u001b[0m | \u001b[0m 0.03991 \u001b[0m | \u001b[0m 3.007   \u001b[0m | \u001b[0m 118.8   \u001b[0m | \u001b[0m 1.873e+0\u001b[0m | \u001b[0m 125.7   \u001b[0m | \u001b[0m 0.042   \u001b[0m | \u001b[0m 0.09481 \u001b[0m | \u001b[0m 0.3395  \u001b[0m |\n",
      "| \u001b[0m 3       \u001b[0m | \u001b[0m 0.7245  \u001b[0m | \u001b[0m 0.03974 \u001b[0m | \u001b[0m 3.524   \u001b[0m | \u001b[0m 115.5   \u001b[0m | \u001b[0m 1.907e+0\u001b[0m | \u001b[0m 123.2   \u001b[0m | \u001b[0m 0.04712 \u001b[0m | \u001b[0m 0.05724 \u001b[0m | \u001b[0m 0.3816  \u001b[0m |\n",
      "| \u001b[95m 4       \u001b[0m | \u001b[95m 0.7256  \u001b[0m | \u001b[95m 0.03828 \u001b[0m | \u001b[95m 3.222   \u001b[0m | \u001b[95m 118.2   \u001b[0m | \u001b[95m 1.548e+0\u001b[0m | \u001b[95m 126.2   \u001b[0m | \u001b[95m 0.008234\u001b[0m | \u001b[95m 0.0485  \u001b[0m | \u001b[95m 0.3212  \u001b[0m |\n",
      "| \u001b[0m 5       \u001b[0m | \u001b[0m 0.7254  \u001b[0m | \u001b[0m 0.03477 \u001b[0m | \u001b[0m 3.078   \u001b[0m | \u001b[0m 116.2   \u001b[0m | \u001b[0m 1.503e+0\u001b[0m | \u001b[0m 133.5   \u001b[0m | \u001b[0m 0.04694 \u001b[0m | \u001b[0m 0.04989 \u001b[0m | \u001b[0m 0.3929  \u001b[0m |\n",
      "| \u001b[0m 6       \u001b[0m | \u001b[0m 0.725   \u001b[0m | \u001b[0m 0.03542 \u001b[0m | \u001b[0m 3.042   \u001b[0m | \u001b[0m 117.6   \u001b[0m | \u001b[0m 1.82e+03\u001b[0m | \u001b[0m 132.0   \u001b[0m | \u001b[0m 0.07097 \u001b[0m | \u001b[0m 0.05491 \u001b[0m | \u001b[0m 0.3968  \u001b[0m |\n",
      "| \u001b[95m 7       \u001b[0m | \u001b[95m 0.7256  \u001b[0m | \u001b[95m 0.03466 \u001b[0m | \u001b[95m 3.264   \u001b[0m | \u001b[95m 117.7   \u001b[0m | \u001b[95m 1.689e+0\u001b[0m | \u001b[95m 123.1   \u001b[0m | \u001b[95m 0.07781 \u001b[0m | \u001b[95m 0.09541 \u001b[0m | \u001b[95m 0.3837  \u001b[0m |\n",
      "| \u001b[95m 8       \u001b[0m | \u001b[95m 0.7259  \u001b[0m | \u001b[95m 0.03433 \u001b[0m | \u001b[95m 3.716   \u001b[0m | \u001b[95m 119.3   \u001b[0m | \u001b[95m 1.54e+03\u001b[0m | \u001b[95m 126.1   \u001b[0m | \u001b[95m 0.05453 \u001b[0m | \u001b[95m 0.09761 \u001b[0m | \u001b[95m 0.3705  \u001b[0m |\n",
      "| \u001b[0m 9       \u001b[0m | \u001b[0m 0.7257  \u001b[0m | \u001b[0m 0.03637 \u001b[0m | \u001b[0m 3.205   \u001b[0m | \u001b[0m 116.5   \u001b[0m | \u001b[0m 1.58e+03\u001b[0m | \u001b[0m 124.6   \u001b[0m | \u001b[0m 0.06107 \u001b[0m | \u001b[0m 0.09652 \u001b[0m | \u001b[0m 0.3016  \u001b[0m |\n",
      "| \u001b[0m 10      \u001b[0m | \u001b[0m 0.7253  \u001b[0m | \u001b[0m 0.03313 \u001b[0m | \u001b[0m 3.049   \u001b[0m | \u001b[0m 119.4   \u001b[0m | \u001b[0m 1.847e+0\u001b[0m | \u001b[0m 132.4   \u001b[0m | \u001b[0m 0.07806 \u001b[0m | \u001b[0m 0.04903 \u001b[0m | \u001b[0m 0.347   \u001b[0m |\n",
      "| \u001b[0m 11      \u001b[0m | \u001b[0m 0.7255  \u001b[0m | \u001b[0m 0.03057 \u001b[0m | \u001b[0m 3.827   \u001b[0m | \u001b[0m 118.6   \u001b[0m | \u001b[0m 1.539e+0\u001b[0m | \u001b[0m 126.9   \u001b[0m | \u001b[0m 0.03515 \u001b[0m | \u001b[0m 0.08623 \u001b[0m | \u001b[0m 0.3217  \u001b[0m |\n",
      "| \u001b[0m 12      \u001b[0m | \u001b[0m 0.7253  \u001b[0m | \u001b[0m 0.03522 \u001b[0m | \u001b[0m 3.553   \u001b[0m | \u001b[0m 118.1   \u001b[0m | \u001b[0m 1.54e+03\u001b[0m | \u001b[0m 125.8   \u001b[0m | \u001b[0m 0.05793 \u001b[0m | \u001b[0m 0.06962 \u001b[0m | \u001b[0m 0.3913  \u001b[0m |\n",
      "| \u001b[0m 13      \u001b[0m | \u001b[0m 0.7253  \u001b[0m | \u001b[0m 0.03799 \u001b[0m | \u001b[0m 3.96    \u001b[0m | \u001b[0m 119.3   \u001b[0m | \u001b[0m 1.54e+03\u001b[0m | \u001b[0m 126.4   \u001b[0m | \u001b[0m 0.02411 \u001b[0m | \u001b[0m 0.09629 \u001b[0m | \u001b[0m 0.3638  \u001b[0m |\n",
      "=========================================================================================================================\n"
     ]
    }
   ],
   "source": [
    "def lgbm_optimize_params(n_estimators, max_depth, learning_rate, num_leaves, reg_alpha, reg_lambda, min_child_weight, subsample):\n",
    "    lgbm_params[\"n_estimators\"]= int(n_estimators)\n",
    "    lgbm_params[\"max_depth\"] = int(max_depth)\n",
    "    lgbm_params[\"learning_rate\"] = learning_rate\n",
    "    lgbm_params[\"num_leaves\"] = int(num_leaves)\n",
    "    lgbm_params[\"reg_alpha\"] = reg_alpha\n",
    "    lgbm_params[\"reg_lambda\"] = reg_lambda\n",
    "    lgbm_params[\"min_child_weight\"] = min_child_weight\n",
    "    lgbm_params[\"subsample\"] = subsample\n",
    "          \n",
    "    model_lgbm = LGBMClassifier(**lgbm_params)\n",
    "    model_lgbm.fit(X_train, y_train, eval_set=[(X_train, y_train), (X_valid, y_valid)], verbose=False)\n",
    "\n",
    "    return roc_auc_score(y_valid, model_lgbm.predict_proba(X_valid)[:,1])\n",
    "\n",
    "lgbm_params_search = BayesianOptimization(\n",
    "    f=lgbm_optimize_params,\n",
    "    pbounds={\n",
    "        \"n_estimators\": (1500, 2000),\n",
    "        \"max_depth\": (3, 4),\n",
    "        'learning_rate': (0.03, 0.04),\n",
    "        \"num_leaves\": (120, 135),\n",
    "        \"reg_alpha\": (0.0, 0.085),\n",
    "        \"reg_lambda\": (0.04, 0.099),\n",
    "        'min_child_weight': (115, 120),\n",
    "        'subsample': (0.3, 0.4),\n",
    "\n",
    "    },\n",
    "    random_state=99)\n",
    "\n",
    "lgbm_params_search.maximize(init_points=10, n_iter=3, acq='ei')"
   ]
  },
  {
   "cell_type": "code",
   "execution_count": 22,
   "metadata": {
    "scrolled": true
   },
   "outputs": [
    {
     "name": "stdout",
     "output_type": "stream",
     "text": [
      "Fold: 1, train-observations = 99083, valid-observations = 11010\n",
      "train-score = 0.7749, valid-score = 0.7212\n",
      "=====================================================================\n",
      "Fold: 2, train-observations = 99083, valid-observations = 11010\n",
      "train-score = 0.7735, valid-score = 0.733\n",
      "=====================================================================\n",
      "Fold: 3, train-observations = 99083, valid-observations = 11010\n",
      "train-score = 0.7753, valid-score = 0.7137\n",
      "=====================================================================\n",
      "Fold: 4, train-observations = 99084, valid-observations = 11009\n",
      "train-score = 0.7736, valid-score = 0.728\n",
      "=====================================================================\n",
      "Fold: 5, train-observations = 99084, valid-observations = 11009\n",
      "train-score = 0.7724, valid-score = 0.7388\n",
      "=====================================================================\n",
      "Fold: 6, train-observations = 99084, valid-observations = 11009\n",
      "train-score = 0.7718, valid-score = 0.7319\n",
      "=====================================================================\n",
      "Fold: 7, train-observations = 99084, valid-observations = 11009\n",
      "train-score = 0.773, valid-score = 0.7278\n",
      "=====================================================================\n",
      "Fold: 8, train-observations = 99084, valid-observations = 11009\n",
      "train-score = 0.7727, valid-score = 0.7203\n",
      "=====================================================================\n",
      "Fold: 9, train-observations = 99084, valid-observations = 11009\n",
      "train-score = 0.7733, valid-score = 0.7362\n",
      "=====================================================================\n",
      "Fold: 10, train-observations = 99084, valid-observations = 11009\n",
      "train-score = 0.7715, valid-score = 0.7425\n",
      "=====================================================================\n",
      "CV-results train: 0.7732 +/- 0.001\n",
      "CV-results valid: 0.7293 +/- 0.009\n",
      "OOF-score = 0.7289\n",
      "[LGBMClassifier(learning_rate=0.05, max_depth=3, metric='auc',\n",
      "               min_child_weight=114, n_estimators=1631, num_leaves=132,\n",
      "               random_state=99, reg_alpha=0.04813, reg_lambda=0.0162,\n",
      "               subsample=0.3), LGBMClassifier(learning_rate=0.05, max_depth=3, metric='auc',\n",
      "               min_child_weight=114, n_estimators=1631, num_leaves=132,\n",
      "               random_state=99, reg_alpha=0.04813, reg_lambda=0.0162,\n",
      "               subsample=0.3), LGBMClassifier(learning_rate=0.05, max_depth=3, metric='auc',\n",
      "               min_child_weight=114, n_estimators=1631, num_leaves=132,\n",
      "               random_state=99, reg_alpha=0.04813, reg_lambda=0.0162,\n",
      "               subsample=0.3), LGBMClassifier(learning_rate=0.05, max_depth=3, metric='auc',\n",
      "               min_child_weight=114, n_estimators=1631, num_leaves=132,\n",
      "               random_state=99, reg_alpha=0.04813, reg_lambda=0.0162,\n",
      "               subsample=0.3), LGBMClassifier(learning_rate=0.05, max_depth=3, metric='auc',\n",
      "               min_child_weight=114, n_estimators=1631, num_leaves=132,\n",
      "               random_state=99, reg_alpha=0.04813, reg_lambda=0.0162,\n",
      "               subsample=0.3), LGBMClassifier(learning_rate=0.05, max_depth=3, metric='auc',\n",
      "               min_child_weight=114, n_estimators=1631, num_leaves=132,\n",
      "               random_state=99, reg_alpha=0.04813, reg_lambda=0.0162,\n",
      "               subsample=0.3), LGBMClassifier(learning_rate=0.05, max_depth=3, metric='auc',\n",
      "               min_child_weight=114, n_estimators=1631, num_leaves=132,\n",
      "               random_state=99, reg_alpha=0.04813, reg_lambda=0.0162,\n",
      "               subsample=0.3), LGBMClassifier(learning_rate=0.05, max_depth=3, metric='auc',\n",
      "               min_child_weight=114, n_estimators=1631, num_leaves=132,\n",
      "               random_state=99, reg_alpha=0.04813, reg_lambda=0.0162,\n",
      "               subsample=0.3), LGBMClassifier(learning_rate=0.05, max_depth=3, metric='auc',\n",
      "               min_child_weight=114, n_estimators=1631, num_leaves=132,\n",
      "               random_state=99, reg_alpha=0.04813, reg_lambda=0.0162,\n",
      "               subsample=0.3), LGBMClassifier(learning_rate=0.05, max_depth=3, metric='auc',\n",
      "               min_child_weight=114, n_estimators=1631, num_leaves=132,\n",
      "               random_state=99, reg_alpha=0.04813, reg_lambda=0.0162,\n",
      "               subsample=0.3)] 0.7289246324868366 [0.7749103034390644, 0.7734689521093825, 0.7752903514405804, 0.773640008514183, 0.7723666306978516, 0.7718231157888075, 0.7729654800176653, 0.7727215523193911, 0.7732745081727421, 0.7714714128203355] [0.7212287325921427, 0.7330405928466623, 0.7136731206951739, 0.7280269737757356, 0.738762563849069, 0.7318652466207571, 0.7277805491894811, 0.7202724284134555, 0.736167235079877, 0.7425372176817979] [0.02148688 0.07849917 0.05722738 ... 0.08614175 0.03200809 0.08112532]\n"
     ]
    }
   ],
   "source": [
    "cv_strategy = KFold(n_splits=10)\n",
    "# random_state=99, shuffle=True\n",
    "\n",
    "estimators_lgbm, oof_score_lgbm, fold_train_scores_lgbm, fold_valid_scores_lgbm, oof_predictions_lgbm = make_cross_validation(\n",
    "    my_train_old.drop('TARGET', axis=1), my_train_old['TARGET'], model_lgbm, metric=roc_auc_score, cv_strategy=cv_strategy\n",
    ")"
   ]
  },
  {
   "cell_type": "code",
   "execution_count": null,
   "metadata": {
    "scrolled": false
   },
   "outputs": [],
   "source": [
    "# sample_submit = pd.read_csv(r\"./competitive-data-analysis_coursework/sample_submit.csv\")\n",
    "# sample_submit['TARGET'] = estimators_lgbm[9].predict_proba(my_test_old)[:,1].tolist()\n",
    "# sample_submit.to_csv(r\"./competitive-data-analysis_coursework/submitions/sport_kag_lite51.csv\", index=False)\n",
    "# sample_submit"
   ]
  },
  {
   "cell_type": "code",
   "execution_count": null,
   "metadata": {},
   "outputs": [],
   "source": [
    "# результат model_lgbm на лидерборде kaggle составил 0.728"
   ]
  },
  {
   "cell_type": "code",
   "execution_count": null,
   "metadata": {},
   "outputs": [],
   "source": [
    "# Модель XGBoost"
   ]
  },
  {
   "cell_type": "code",
   "execution_count": 76,
   "metadata": {},
   "outputs": [
    {
     "name": "stdout",
     "output_type": "stream",
     "text": [
      "[0]\tdtrain-auc:0.63392\tdvalid-auc:0.62680\n",
      "[215]\tdtrain-auc:0.76109\tdvalid-auc:0.73007\n"
     ]
    }
   ],
   "source": [
    "xgb_params = {\n",
    "#     \"booster\": \"gbtree\",\n",
    "    \"eval_metric\": \"auc\",\n",
    "    \"objective\": \"binary:logistic\",\n",
    "    \"nthread\": 10,\n",
    "    \"seed\": 99,\n",
    "    'colsample_bytree': 0.9,\n",
    "    'learning_rate': 0.4,\n",
    "    'max_depth': 3,\n",
    "    'min_child_weight': 100,\n",
    "#     'reg_alpha': 0.0452,\n",
    "    'reg_lambda': 0.09,\n",
    "#     'subsample': 0.69\n",
    "}\n",
    "\n",
    "\n",
    "dtrain = xgb.DMatrix(X_train, y_train)\n",
    "dvalid = xgb.DMatrix(X_valid, y_valid)\n",
    "\n",
    "model_xgb = xgb.train(\n",
    "    params=xgb_params,\n",
    "    dtrain=dtrain,\n",
    "    evals=[(dtrain, \"dtrain\"), (dvalid, \"dvalid\")],\n",
    "    early_stopping_rounds=25,\n",
    "    num_boost_round=2000,\n",
    "    verbose_eval=500,\n",
    "    maximize=True,\n",
    ")"
   ]
  },
  {
   "cell_type": "code",
   "execution_count": 77,
   "metadata": {},
   "outputs": [],
   "source": [
    "def xgboost_optimize_params(learning_rate, min_child_weight, subsample, colsample_bytree, reg_lambda):\n",
    "#     xgb_params[\"num_boost_round\"] = int(num_boost_round) \n",
    "#     xgb_params[\"max_depth\"] = int(max_depth)\n",
    "    xgb_params[\"learning_rate\"] = learning_rate\n",
    "    xgb_params[\"min_child_weight\"] = int(min_child_weight)\n",
    "    xgb_params[\"subsample\"] = subsample\n",
    "    xgb_params[\"colsample_bytree\"] = colsample_bytree\n",
    "#     xgb_params[\"reg_alpha\"] = reg_alpha\n",
    "    xgb_params[\"reg_lambda\"] = reg_lambda\n",
    "\n",
    "    model_xgb = xgb.train(\n",
    "        params=xgb_params,\n",
    "        dtrain=dtrain,\n",
    "        evals=[(dtrain, \"dtrain\"), (dvalid, \"dvalid\")],\n",
    "        early_stopping_rounds=75,\n",
    "        num_boost_round=2000,\n",
    "        verbose_eval=False,\n",
    "        maximize=True,\n",
    "    )\n",
    "\n",
    "    return roc_auc_score(y_valid, model_xgb.predict(dvalid))"
   ]
  },
  {
   "cell_type": "code",
   "execution_count": 78,
   "metadata": {},
   "outputs": [
    {
     "name": "stdout",
     "output_type": "stream",
     "text": [
      "|   iter    |  target   | colsam... | learni... | min_ch... | reg_la... | subsample |\n",
      "-------------------------------------------------------------------------------------\n",
      "| \u001b[0m 1       \u001b[0m | \u001b[0m 0.7195  \u001b[0m | \u001b[0m 0.6672  \u001b[0m | \u001b[0m 0.5928  \u001b[0m | \u001b[0m 473.8   \u001b[0m | \u001b[0m 0.03189 \u001b[0m | \u001b[0m 0.7656  \u001b[0m |\n",
      "| \u001b[0m 2       \u001b[0m | \u001b[0m 0.6981  \u001b[0m | \u001b[0m 0.6566  \u001b[0m | \u001b[0m 0.4786  \u001b[0m | \u001b[0m 357.0   \u001b[0m | \u001b[0m 0.08944 \u001b[0m | \u001b[0m 0.2048  \u001b[0m |\n",
      "| \u001b[95m 3       \u001b[0m | \u001b[95m 0.7212  \u001b[0m | \u001b[95m 0.677   \u001b[0m | \u001b[95m 0.7481  \u001b[0m | \u001b[95m 406.6   \u001b[0m | \u001b[95m 0.05965 \u001b[0m | \u001b[95m 0.8503  \u001b[0m |\n",
      "| \u001b[0m 4       \u001b[0m | \u001b[0m 0.719   \u001b[0m | \u001b[0m 0.6395  \u001b[0m | \u001b[0m 0.8844  \u001b[0m | \u001b[0m 428.7   \u001b[0m | \u001b[0m 0.03562 \u001b[0m | \u001b[0m 0.7693  \u001b[0m |\n",
      "| \u001b[95m 5       \u001b[0m | \u001b[95m 0.7219  \u001b[0m | \u001b[95m 0.6212  \u001b[0m | \u001b[95m 0.6326  \u001b[0m | \u001b[95m 393.8   \u001b[0m | \u001b[95m 0.07897 \u001b[0m | \u001b[95m 0.7796  \u001b[0m |\n",
      "| \u001b[0m 6       \u001b[0m | \u001b[0m 0.7019  \u001b[0m | \u001b[0m 0.6222  \u001b[0m | \u001b[0m 0.6869  \u001b[0m | \u001b[0m 364.3   \u001b[0m | \u001b[0m 0.0547  \u001b[0m | \u001b[0m 0.2678  \u001b[0m |\n",
      "| \u001b[0m 7       \u001b[0m | \u001b[0m 0.7183  \u001b[0m | \u001b[0m 0.6144  \u001b[0m | \u001b[0m 0.4273  \u001b[0m | \u001b[0m 421.5   \u001b[0m | \u001b[0m 0.03466 \u001b[0m | \u001b[0m 0.3645  \u001b[0m |\n",
      "| \u001b[0m 8       \u001b[0m | \u001b[0m 0.7198  \u001b[0m | \u001b[0m 0.6007  \u001b[0m | \u001b[0m 0.8392  \u001b[0m | \u001b[0m 432.8   \u001b[0m | \u001b[0m 0.04005 \u001b[0m | \u001b[0m 0.8502  \u001b[0m |\n",
      "| \u001b[95m 9       \u001b[0m | \u001b[95m 0.725   \u001b[0m | \u001b[95m 0.6542  \u001b[0m | \u001b[95m 0.3251  \u001b[0m | \u001b[95m 428.7   \u001b[0m | \u001b[95m 0.06841 \u001b[0m | \u001b[95m 0.7605  \u001b[0m |\n",
      "| \u001b[0m 10      \u001b[0m | \u001b[0m 0.713   \u001b[0m | \u001b[0m 0.6835  \u001b[0m | \u001b[0m 0.4516  \u001b[0m | \u001b[0m 495.2   \u001b[0m | \u001b[0m 0.05797 \u001b[0m | \u001b[0m 0.3849  \u001b[0m |\n",
      "| \u001b[0m 11      \u001b[0m | \u001b[0m 0.7225  \u001b[0m | \u001b[0m 0.6978  \u001b[0m | \u001b[0m 0.3034  \u001b[0m | \u001b[0m 429.2   \u001b[0m | \u001b[0m 0.06434 \u001b[0m | \u001b[0m 0.6697  \u001b[0m |\n",
      "| \u001b[0m 12      \u001b[0m | \u001b[0m 0.7004  \u001b[0m | \u001b[0m 0.6056  \u001b[0m | \u001b[0m 0.321   \u001b[0m | \u001b[0m 427.9   \u001b[0m | \u001b[0m 0.06039 \u001b[0m | \u001b[0m 0.2542  \u001b[0m |\n",
      "| \u001b[0m 13      \u001b[0m | \u001b[0m 0.7229  \u001b[0m | \u001b[0m 0.6463  \u001b[0m | \u001b[0m 0.3284  \u001b[0m | \u001b[0m 429.2   \u001b[0m | \u001b[0m 0.06978 \u001b[0m | \u001b[0m 0.6557  \u001b[0m |\n",
      "=====================================================================================\n"
     ]
    }
   ],
   "source": [
    "xgb_params_search = BayesianOptimization(\n",
    "    xgboost_optimize_params,\n",
    "    pbounds={\n",
    "#         \"num_boost_round\": (500, 3500),\n",
    "#         \"max_depth\": (2, 3),\n",
    "        \"learning_rate\": (0.3, 0.9),\n",
    "         \"min_child_weight\": (350, 500),\n",
    "        'subsample': (0.2, 0.9),\n",
    "        \"colsample_bytree\": (0.6, 0.7),\n",
    "#         \"reg_alpha\": (0.03, 0.09),\n",
    "        \"reg_lambda\": (0.03, 0.09),\n",
    "        \n",
    "},\n",
    "    random_state=99)\n",
    "\n",
    "xgb_params_search.maximize(init_points=10, n_iter=3, acq='ei')"
   ]
  },
  {
   "cell_type": "code",
   "execution_count": 79,
   "metadata": {},
   "outputs": [
    {
     "name": "stdout",
     "output_type": "stream",
     "text": [
      "Thu Oct 28 21:02:38 2021, Cross-Validation, 110093 rows, 29 cols\n",
      "[0]\ttrain-auc:0.62830\tvalid-auc:0.61411\n",
      "[100]\ttrain-auc:0.73403\tvalid-auc:0.70883\n",
      "[200]\ttrain-auc:0.74137\tvalid-auc:0.71316\n",
      "[300]\ttrain-auc:0.74691\tvalid-auc:0.71431\n",
      "[400]\ttrain-auc:0.75052\tvalid-auc:0.71590\n",
      "[500]\ttrain-auc:0.75438\tvalid-auc:0.71742\n",
      "[534]\ttrain-auc:0.75537\tvalid-auc:0.71643\n",
      "Fold 1, Valid score = 0.71643\n",
      "[0]\ttrain-auc:0.62713\tvalid-auc:0.63553\n",
      "[100]\ttrain-auc:0.73276\tvalid-auc:0.72714\n",
      "[168]\ttrain-auc:0.73818\tvalid-auc:0.72781\n",
      "Fold 2, Valid score = 0.72781\n",
      "[0]\ttrain-auc:0.62903\tvalid-auc:0.61471\n",
      "[100]\ttrain-auc:0.73485\tvalid-auc:0.71201\n",
      "[200]\ttrain-auc:0.74242\tvalid-auc:0.71628\n",
      "[287]\ttrain-auc:0.74704\tvalid-auc:0.71649\n",
      "Fold 3, Valid score = 0.71669\n",
      "[0]\ttrain-auc:0.63217\tvalid-auc:0.62683\n",
      "[100]\ttrain-auc:0.73293\tvalid-auc:0.72430\n",
      "[200]\ttrain-auc:0.74084\tvalid-auc:0.72622\n",
      "[274]\ttrain-auc:0.74418\tvalid-auc:0.72558\n",
      "Fold 4, Valid score = 0.72558\n",
      "[0]\ttrain-auc:0.63149\tvalid-auc:0.65098\n",
      "[100]\ttrain-auc:0.73194\tvalid-auc:0.73163\n",
      "[200]\ttrain-auc:0.73946\tvalid-auc:0.73433\n",
      "[300]\ttrain-auc:0.74506\tvalid-auc:0.73585\n",
      "[362]\ttrain-auc:0.74803\tvalid-auc:0.73577\n",
      "Fold 5, Valid score = 0.73577\n",
      "[0]\ttrain-auc:0.62903\tvalid-auc:0.62169\n",
      "[100]\ttrain-auc:0.73339\tvalid-auc:0.72085\n",
      "[200]\ttrain-auc:0.74081\tvalid-auc:0.72516\n",
      "[300]\ttrain-auc:0.74621\tvalid-auc:0.72525\n",
      "[400]\ttrain-auc:0.74995\tvalid-auc:0.72702\n",
      "[452]\ttrain-auc:0.75232\tvalid-auc:0.72834\n",
      "Fold 6, Valid score = 0.72834\n",
      "[0]\ttrain-auc:0.63173\tvalid-auc:0.63207\n",
      "[100]\ttrain-auc:0.73393\tvalid-auc:0.72391\n",
      "[149]\ttrain-auc:0.73828\tvalid-auc:0.72363\n",
      "Fold 7, Valid score = 0.72361\n",
      "[0]\ttrain-auc:0.63329\tvalid-auc:0.61772\n",
      "[100]\ttrain-auc:0.73420\tvalid-auc:0.71203\n",
      "[200]\ttrain-auc:0.74177\tvalid-auc:0.71361\n",
      "[300]\ttrain-auc:0.74723\tvalid-auc:0.71660\n",
      "[394]\ttrain-auc:0.75051\tvalid-auc:0.71603\n",
      "Fold 8, Valid score = 0.71603\n",
      "[0]\ttrain-auc:0.63187\tvalid-auc:0.63108\n",
      "[100]\ttrain-auc:0.73296\tvalid-auc:0.73195\n",
      "[200]\ttrain-auc:0.74064\tvalid-auc:0.73291\n",
      "[300]\ttrain-auc:0.74522\tvalid-auc:0.73538\n",
      "[400]\ttrain-auc:0.74882\tvalid-auc:0.73638\n",
      "[452]\ttrain-auc:0.75104\tvalid-auc:0.73715\n",
      "Fold 9, Valid score = 0.73715\n",
      "[0]\ttrain-auc:0.62994\tvalid-auc:0.65130\n",
      "[100]\ttrain-auc:0.73142\tvalid-auc:0.73388\n",
      "[200]\ttrain-auc:0.74001\tvalid-auc:0.73680\n",
      "[300]\ttrain-auc:0.74561\tvalid-auc:0.73823\n",
      "[325]\ttrain-auc:0.74655\tvalid-auc:0.73749\n",
      "Fold 10, Valid score = 0.73749\n"
     ]
    }
   ],
   "source": [
    "cv_strategy = KFold(n_splits=10)\n",
    "\n",
    "xgb_estimators, _, xgb_oof = xgboost_cross_validation(\n",
    "    xgb_params, my_train_old.drop('TARGET', axis=1), my_train_old['TARGET'], cv_strategy\n",
    ")"
   ]
  },
  {
   "cell_type": "code",
   "execution_count": 100,
   "metadata": {},
   "outputs": [],
   "source": [
    "dtest = xgb.DMatrix(my_test_old)"
   ]
  },
  {
   "cell_type": "code",
   "execution_count": null,
   "metadata": {},
   "outputs": [],
   "source": [
    "# sample_submit = pd.read_csv(r\"./competitive-data-analysis_coursework/sample_submit.csv\")\n",
    "# sample_submit['TARGET'] = xgb_estimators[9].predict(dtest).tolist()\n",
    "# sample_submit.to_csv(r\"./competitive-data-analysis_coursework/submitions/sport_kag_lite52.csv\", index=False)\n",
    "# sample_submit"
   ]
  },
  {
   "cell_type": "code",
   "execution_count": null,
   "metadata": {},
   "outputs": [],
   "source": [
    "# результат model_xgb на лидерборде kaggle составил 0.72506"
   ]
  },
  {
   "cell_type": "code",
   "execution_count": 82,
   "metadata": {},
   "outputs": [],
   "source": [
    "scores = pd.DataFrame({\n",
    "    \"lgbm\": oof_predictions_lgbm,\n",
    "    \"xgb\": xgb_oof,\n",
    "})\n",
    "\n",
    "corr = scores.corr()\n",
    "mask = np.zeros_like(corr, dtype=np.bool)\n",
    "mask[np.triu_indices_from(mask)] = True"
   ]
  },
  {
   "cell_type": "code",
   "execution_count": 83,
   "metadata": {},
   "outputs": [
    {
     "data": {
      "text/plain": [
       "<matplotlib.axes._subplots.AxesSubplot at 0x2cec7cdfb08>"
      ]
     },
     "execution_count": 83,
     "metadata": {},
     "output_type": "execute_result"
    },
    {
     "data": {
      "image/png": "[encoded data removed]",
      "text/plain": [
       "<Figure size 360x360 with 2 Axes>"
      ]
     },
     "metadata": {
      "needs_background": "light"
     },
     "output_type": "display_data"
    }
   ],
   "source": [
    "fig, axes = plt.subplots(1, 1, figsize=(5, 5))\n",
    "sns.heatmap(corr, mask=mask, annot=True, fmt=\".4g\", square=True, cmap=\"viridis\", ax=axes)"
   ]
  },
  {
   "cell_type": "markdown",
   "metadata": {},
   "source": [
    "Корреляция не сильная(сильная 0,97+), поэтому это предположительно может дать повышение качества при том, что качество каждой модели будет примерно одинаково."
   ]
  },
  {
   "cell_type": "markdown",
   "metadata": {},
   "source": [
    "### 2.Усреднить прогнозы с помощью арифмитического среднего, геометрического среднего и усреднить ранги, сделать выводы о качестве отдельных моделей и о качестве комбинации."
   ]
  },
  {
   "cell_type": "code",
   "execution_count": 84,
   "metadata": {},
   "outputs": [
    {
     "name": "stdout",
     "output_type": "stream",
     "text": [
      "Score = 0.7302\n"
     ]
    }
   ],
   "source": [
    "# AMean\n",
    "scores_mean_am = scores.mean(axis=1)\n",
    "score_am = roc_auc_score(my_train_old['TARGET'], scores_mean_am)\n",
    "print(f\"Score = {round(score_am, 4)}\")\n",
    "\n",
    "# 0.6*best + 0.4*(best-1)\n",
    "# scipy.optimize"
   ]
  },
  {
   "cell_type": "code",
   "execution_count": 85,
   "metadata": {},
   "outputs": [
    {
     "name": "stdout",
     "output_type": "stream",
     "text": [
      "Score = 0.7302\n"
     ]
    }
   ],
   "source": [
    "# GMean\n",
    "scores_mean_gm = gmean(scores, axis=1)\n",
    "score_gm = roc_auc_score(my_train_old['TARGET'], scores_mean_gm)\n",
    "print(f\"Score = {round(score_gm, 4)}\")"
   ]
  },
  {
   "cell_type": "code",
   "execution_count": 86,
   "metadata": {},
   "outputs": [
    {
     "name": "stdout",
     "output_type": "stream",
     "text": [
      "Score = 0.7296\n"
     ]
    }
   ],
   "source": [
    "# Rankdata\n",
    "# ROC-AUC / GINI\n",
    "scores_mean_rg = scores.rank().mean(axis=1)\n",
    "score_rg = roc_auc_score(my_train_old['TARGET'], scores_mean_rg)\n",
    "print(f\"Score = {round(score_rg, 4)}\")"
   ]
  },
  {
   "cell_type": "code",
   "execution_count": 87,
   "metadata": {},
   "outputs": [
    {
     "name": "stdout",
     "output_type": "stream",
     "text": [
      "Score = 0.7295\n"
     ]
    }
   ],
   "source": [
    "# Rankdata\n",
    "scores_mean_rd = gmean(scores.rank(), axis=1)\n",
    "score_rd = roc_auc_score(my_train_old['TARGET'], scores_mean_rd)\n",
    "print(f\"Score = {round(score_rd, 4)}\")"
   ]
  },
  {
   "cell_type": "markdown",
   "metadata": {},
   "source": [
    "Качество комбинации немного увеличилось, корреляция между моделями не сильная, что позволило увеличить общее качество(каждая из 2 моделей хуже комбинации)."
   ]
  },
  {
   "cell_type": "markdown",
   "metadata": {},
   "source": [
    "### 3.Обучить CatBoost, получить OOF прогнозы и выполнить задание 1 для трех моделей."
   ]
  },
  {
   "cell_type": "code",
   "execution_count": 14,
   "metadata": {},
   "outputs": [],
   "source": [
    "params_ctb3 = {\n",
    "    \"silent\": True,\n",
    "    \"loss_function\": \"Logloss\",\n",
    "    \"eval_metric\": \"AUC\",\n",
    "    \"task_type\": \"CPU\",\n",
    "    \"early_stopping_rounds\": 55,\n",
    "    \"random_state\": 99,\n",
    "    'learning_rate': 0.05,\n",
    "    'max_bin': 158,\n",
    "    'min_child_samples': 234.79662806085997,\n",
    "    'n_estimators': 1552,\n",
    "    'thread_count': 28\n",
    "}"
   ]
  },
  {
   "cell_type": "code",
   "execution_count": 15,
   "metadata": {},
   "outputs": [
    {
     "name": "stdout",
     "output_type": "stream",
     "text": [
      "0:\ttest: 0.5055865\ttest1: 0.5061707\tbest: 0.5061707 (0)\ttotal: 18.2ms\tremaining: 1m 23s\n",
      "200:\ttest: 0.7113879\ttest1: 0.7082072\tbest: 0.7082072 (200)\ttotal: 8.2s\tremaining: 2m 57s\n",
      "400:\ttest: 0.7208276\ttest1: 0.7193361\tbest: 0.7193361 (400)\ttotal: 16.2s\tremaining: 2m 47s\n",
      "600:\ttest: 0.7263921\ttest1: 0.7222402\tbest: 0.7224618 (575)\ttotal: 24.1s\tremaining: 2m 38s\n",
      "800:\ttest: 0.7301950\ttest1: 0.7240537\tbest: 0.7241173 (798)\ttotal: 32s\tremaining: 2m 29s\n",
      "1000:\ttest: 0.7333180\ttest1: 0.7257342\tbest: 0.7257729 (997)\ttotal: 39.8s\tremaining: 2m 21s\n",
      "1200:\ttest: 0.7357734\ttest1: 0.7268440\tbest: 0.7269146 (1171)\ttotal: 47.7s\tremaining: 2m 13s\n",
      "1400:\ttest: 0.7378336\ttest1: 0.7270844\tbest: 0.7271319 (1357)\ttotal: 55.7s\tremaining: 2m 5s\n",
      "1600:\ttest: 0.7397340\ttest1: 0.7278132\tbest: 0.7278325 (1596)\ttotal: 1m 3s\tremaining: 1m 57s\n",
      "1800:\ttest: 0.7414503\ttest1: 0.7282369\tbest: 0.7282369 (1800)\ttotal: 1m 11s\tremaining: 1m 49s\n",
      "2000:\ttest: 0.7431165\ttest1: 0.7286078\tbest: 0.7286321 (1937)\ttotal: 1m 19s\tremaining: 1m 41s\n",
      "2200:\ttest: 0.7446391\ttest1: 0.7293552\tbest: 0.7293737 (2198)\ttotal: 1m 27s\tremaining: 1m 33s\n",
      "2400:\ttest: 0.7459166\ttest1: 0.7296922\tbest: 0.7297428 (2362)\ttotal: 1m 36s\tremaining: 1m 26s\n",
      "2600:\ttest: 0.7471171\ttest1: 0.7297138\tbest: 0.7297851 (2579)\ttotal: 1m 44s\tremaining: 1m 18s\n",
      "2800:\ttest: 0.7481741\ttest1: 0.7297849\tbest: 0.7298438 (2784)\ttotal: 1m 52s\tremaining: 1m 10s\n",
      "3000:\ttest: 0.7492616\ttest1: 0.7298114\tbest: 0.7299403 (2898)\ttotal: 2m\tremaining: 1m 2s\n",
      "3200:\ttest: 0.7502512\ttest1: 0.7299435\tbest: 0.7299771 (3174)\ttotal: 2m 8s\tremaining: 54.3s\n",
      "3400:\ttest: 0.7512382\ttest1: 0.7300561\tbest: 0.7300561 (3400)\ttotal: 2m 16s\tremaining: 46.3s\n",
      "3600:\ttest: 0.7522568\ttest1: 0.7301422\tbest: 0.7301470 (3563)\ttotal: 2m 24s\tremaining: 38.2s\n",
      "3800:\ttest: 0.7532207\ttest1: 0.7302425\tbest: 0.7302536 (3798)\ttotal: 2m 32s\tremaining: 30.2s\n",
      "4000:\ttest: 0.7541694\ttest1: 0.7303470\tbest: 0.7303707 (3936)\ttotal: 2m 41s\tremaining: 22.2s\n",
      "4200:\ttest: 0.7549983\ttest1: 0.7302288\tbest: 0.7303707 (3936)\ttotal: 2m 48s\tremaining: 14.1s\n",
      "4400:\ttest: 0.7558064\ttest1: 0.7302054\tbest: 0.7303707 (3936)\ttotal: 2m 56s\tremaining: 6.07s\n",
      "Stopped by overfitting detector  (550 iterations wait)\n",
      "\n",
      "bestTest = 0.7303706551\n",
      "bestIteration = 3936\n",
      "\n",
      "Shrink model to first 3937 iterations.\n"
     ]
    },
    {
     "data": {
      "text/plain": [
       "<catboost.core.CatBoostClassifier at 0x2cecaadbfc8>"
      ]
     },
     "execution_count": 15,
     "metadata": {},
     "output_type": "execute_result"
    }
   ],
   "source": [
    "model_ctb_old = CatBoostClassifier(**params_ctb3)\n",
    "model_ctb_old.fit(X_train, y_train, eval_set=[(X_train, y_train), (X_valid, y_valid)], verbose=200)"
   ]
  },
  {
   "cell_type": "code",
   "execution_count": null,
   "metadata": {},
   "outputs": [],
   "source": [
    "def catboost_old_optimize_params(n_estimators, max_depth, learning_rate, l2_leaf_reg, max_bin, thread_count):\n",
    "    params_ctb2[\"n_estimators\"]= int(n_estimators)\n",
    "    params_ctb2[\"max_depth\"] = int(max_depth)\n",
    "    params_ctb2[\"learning_rate\"] = learning_rate\n",
    "    params_ctb2[\"l2_leaf_reg\"]= int(l2_leaf_reg)\n",
    "    params_ctb2[\"max_bin\"]= int(max_bin)\n",
    "    params_ctb2[\"thread_count\"]= int(thread_count)\n",
    "    params_ctb2[\"min_child_samples\"]= int(min_child_samples)\n",
    "    params_ctb2[\"subsample\"] = subsample\n",
    "\n",
    "    model_ctb_old = CatBoostClassifier(**params_ctb2)\n",
    "    model_ctb_old.fit(X_train, y_train, eval_set=[(X_train, y_train), (X_valid, y_valid)])\n",
    "\n",
    "    return roc_auc_score(y_valid, model_ctb_old.predict_proba(X_valid)[:,1])"
   ]
  },
  {
   "cell_type": "code",
   "execution_count": null,
   "metadata": {},
   "outputs": [],
   "source": [
    "#!pip install scikit-learn==0.22 ,если будет выдать ошибку типа найдены NaN или inf(беск-сть), на версии 0,22 должно заработать!\n",
    "ctb_params_search = BayesianOptimization(\n",
    "    f=catboost_old_optimize_params,\n",
    "    pbounds={\n",
    "        \"n_estimators\": (1000, 2000),\n",
    "        \"max_depth\": (2, 8),\n",
    "        'learning_rate': (0.01, 0.5),\n",
    "        \"l2_leaf_reg\": (150, 300),\n",
    "        \"max_bin\": (100, 350),\n",
    "        \"thread_count\": (10, 30),\n",
    "    \n",
    "    },\n",
    "    random_state=99\n",
    ")\n",
    "\n",
    "ctb_params_search.maximize(init_points=10, n_iter=3, acq='ei')"
   ]
  },
  {
   "cell_type": "code",
   "execution_count": 88,
   "metadata": {
    "scrolled": true
   },
   "outputs": [
    {
     "name": "stdout",
     "output_type": "stream",
     "text": [
      "Fold: 1, train-observations = 99083, valid-observations = 11010\n",
      "train-score = 0.7521, valid-score = 0.7199\n",
      "=====================================================================\n",
      "Fold: 2, train-observations = 99083, valid-observations = 11010\n",
      "train-score = 0.7507, valid-score = 0.735\n",
      "=====================================================================\n",
      "Fold: 3, train-observations = 99083, valid-observations = 11010\n",
      "train-score = 0.7524, valid-score = 0.7207\n",
      "=====================================================================\n",
      "Fold: 4, train-observations = 99084, valid-observations = 11009\n",
      "train-score = 0.7513, valid-score = 0.7323\n",
      "=====================================================================\n",
      "Fold: 5, train-observations = 99084, valid-observations = 11009\n",
      "train-score = 0.7513, valid-score = 0.7396\n",
      "=====================================================================\n",
      "Fold: 6, train-observations = 99084, valid-observations = 11009\n",
      "train-score = 0.7507, valid-score = 0.7302\n",
      "=====================================================================\n",
      "Fold: 7, train-observations = 99084, valid-observations = 11009\n",
      "train-score = 0.7509, valid-score = 0.7335\n",
      "=====================================================================\n",
      "Fold: 8, train-observations = 99084, valid-observations = 11009\n",
      "train-score = 0.7518, valid-score = 0.7223\n",
      "=====================================================================\n",
      "Fold: 9, train-observations = 99084, valid-observations = 11009\n",
      "train-score = 0.7514, valid-score = 0.7354\n",
      "=====================================================================\n",
      "Fold: 10, train-observations = 99084, valid-observations = 11009\n",
      "train-score = 0.7502, valid-score = 0.7403\n",
      "=====================================================================\n",
      "CV-results train: 0.7513 +/- 0.001\n",
      "CV-results valid: 0.7309 +/- 0.007\n",
      "OOF-score = 0.7305\n",
      "[<catboost.core.CatBoostClassifier object at 0x000002CECAADBFC8>, <catboost.core.CatBoostClassifier object at 0x000002CECAADBFC8>, <catboost.core.CatBoostClassifier object at 0x000002CECAADBFC8>, <catboost.core.CatBoostClassifier object at 0x000002CECAADBFC8>, <catboost.core.CatBoostClassifier object at 0x000002CECAADBFC8>, <catboost.core.CatBoostClassifier object at 0x000002CECAADBFC8>, <catboost.core.CatBoostClassifier object at 0x000002CECAADBFC8>, <catboost.core.CatBoostClassifier object at 0x000002CECAADBFC8>, <catboost.core.CatBoostClassifier object at 0x000002CECAADBFC8>, <catboost.core.CatBoostClassifier object at 0x000002CECAADBFC8>] 0.7304845528872904 [0.7521329624276301, 0.7507423163273669, 0.752431476891255, 0.7512756573948718, 0.7512854533449232, 0.7507221116137639, 0.7508893170636486, 0.7518193382267679, 0.7514041956338874, 0.7502440069161216] [0.7199080748739052, 0.7349791543310606, 0.7207489868257713, 0.7322749228650524, 0.7395641952003859, 0.7302111105686603, 0.7335065008953847, 0.7223106832388378, 0.735384330324314, 0.7402891484575571] [0.01826454 0.0835575  0.03723534 ... 0.0827495  0.03793723 0.08175574]\n"
     ]
    }
   ],
   "source": [
    "cv_strategy = KFold(n_splits=10)\n",
    "\n",
    "estimators, oof_score, fold_train_scores, fold_valid_scores, oof_predictions = make_cross_validation(\n",
    "    my_train_old.drop('TARGET', axis=1), my_train_old['TARGET'], model_ctb_old, metric=roc_auc_score, cv_strategy=cv_strategy\n",
    ")"
   ]
  },
  {
   "cell_type": "code",
   "execution_count": 107,
   "metadata": {},
   "outputs": [],
   "source": [
    "scores = pd.DataFrame({\n",
    "    \"lgbm\": oof_predictions_lgbm,\n",
    "    \"xgb\": xgb_oof,\n",
    "    \"ctb\": oof_predictions\n",
    "})\n",
    "\n",
    "corr = scores.corr()\n",
    "mask = np.zeros_like(corr, dtype=np.bool)\n",
    "mask[np.triu_indices_from(mask)] = True"
   ]
  },
  {
   "cell_type": "code",
   "execution_count": 108,
   "metadata": {},
   "outputs": [
    {
     "data": {
      "text/plain": [
       "<matplotlib.axes._subplots.AxesSubplot at 0x2cec99710c8>"
      ]
     },
     "execution_count": 108,
     "metadata": {},
     "output_type": "execute_result"
    },
    {
     "data": {
      "image/png": "[encoded data removed]",
      "text/plain": [
       "<Figure size 576x576 with 2 Axes>"
      ]
     },
     "metadata": {
      "needs_background": "light"
     },
     "output_type": "display_data"
    }
   ],
   "source": [
    "fig, axes = plt.subplots(1, 1, figsize=(8, 8))\n",
    "sns.heatmap(corr, mask=mask, annot=True, fmt=\".4g\", square=True, cmap=\"viridis\", ax=axes)"
   ]
  },
  {
   "cell_type": "markdown",
   "metadata": {},
   "source": [
    "Корреляция близка к высокой, однако все еще возможно улучшение качества комбинации моделей."
   ]
  },
  {
   "cell_type": "markdown",
   "metadata": {},
   "source": [
    "### 4.Выполнить задание 2 для трех моделей."
   ]
  },
  {
   "cell_type": "code",
   "execution_count": 93,
   "metadata": {},
   "outputs": [
    {
     "name": "stdout",
     "output_type": "stream",
     "text": [
      "Score = 0.7312\n"
     ]
    }
   ],
   "source": [
    "# AMean\n",
    "scores_mean_am = scores.mean(axis=1)\n",
    "score_am = roc_auc_score(my_train_old['TARGET'], scores_mean_am)\n",
    "print(f\"Score = {round(score_am, 4)}\")\n"
   ]
  },
  {
   "cell_type": "code",
   "execution_count": 94,
   "metadata": {},
   "outputs": [
    {
     "name": "stdout",
     "output_type": "stream",
     "text": [
      "Score = 0.7312\n"
     ]
    }
   ],
   "source": [
    "# GMean\n",
    "scores_mean_gm = gmean(scores, axis=1)\n",
    "score_gm = roc_auc_score(my_train_old['TARGET'], scores_mean_gm)\n",
    "print(f\"Score = {round(score_gm, 4)}\")"
   ]
  },
  {
   "cell_type": "code",
   "execution_count": 95,
   "metadata": {},
   "outputs": [
    {
     "name": "stdout",
     "output_type": "stream",
     "text": [
      "Score = 0.7308\n"
     ]
    }
   ],
   "source": [
    "# Rankdata\n",
    "# ROC-AUC / GINI\n",
    "scores_mean_rg = scores.rank().mean(axis=1)\n",
    "score_rg = roc_auc_score(my_train_old['TARGET'], scores_mean_rg)\n",
    "print(f\"Score = {round(score_rg, 4)}\")"
   ]
  },
  {
   "cell_type": "code",
   "execution_count": 96,
   "metadata": {},
   "outputs": [
    {
     "name": "stdout",
     "output_type": "stream",
     "text": [
      "Score = 0.7307\n"
     ]
    }
   ],
   "source": [
    "# Rankdata\n",
    "scores_mean_rd = gmean(scores.rank(), axis=1)\n",
    "score_rd = roc_auc_score(my_train_old['TARGET'], scores_mean_rd)\n",
    "print(f\"Score = {round(score_rd, 4)}\")"
   ]
  },
  {
   "cell_type": "markdown",
   "metadata": {},
   "source": [
    "Видно, что результат значительно улучшился. Улучшение произошло благодаря схожести моделей на качеству и отсутствию высокой корреляции моделей (высокая 0.97+). "
   ]
  },
  {
   "cell_type": "code",
   "execution_count": null,
   "metadata": {},
   "outputs": [],
   "source": []
  },
  {
   "cell_type": "code",
   "execution_count": null,
   "metadata": {},
   "outputs": [],
   "source": []
  }
 ],
 "metadata": {
  "kernelspec": {
   "display_name": "Python 3",
   "language": "python",
   "name": "python3"
  },
  "language_info": {
   "codemirror_mode": {
    "name": "ipython",
    "version": 3
   },
   "file_extension": ".py",
   "mimetype": "text/x-python",
   "name": "python",
   "nbconvert_exporter": "python",
   "pygments_lexer": "ipython3",
   "version": "3.7.6"
  }
 },
 "nbformat": 4,
 "nbformat_minor": 4
}
