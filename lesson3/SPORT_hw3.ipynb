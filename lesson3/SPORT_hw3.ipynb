{
 "cells": [
  {
   "cell_type": "markdown",
   "metadata": {},
   "source": [
    "## Урок 3"
   ]
  },
  {
   "cell_type": "code",
   "execution_count": 1,
   "metadata": {},
   "outputs": [],
   "source": [
    "from typing import List, Optional\n",
    "from tqdm import tqdm\n",
    "\n",
    "import numpy as np\n",
    "import pandas as pd\n",
    "import matplotlib as mpl\n",
    "import matplotlib.pyplot as plt\n",
    "\n",
    "import seaborn as sns\n",
    "import scipy.stats as st\n",
    "from scipy.stats import probplot, ks_2samp\n",
    "\n",
    "from sklearn.metrics import roc_auc_score\n",
    "from sklearn.ensemble import RandomForestClassifier\n",
    "from sklearn.model_selection import KFold, cross_val_score\n",
    "from sklearn.base import BaseEstimator, TransformerMixin\n",
    "from sklearn.utils.validation import check_is_fitted\n",
    "import missingno as msno\n",
    "import xgboost as xgb\n",
    "\n",
    "from sklearn.metrics import (roc_auc_score, roc_curve, auc, confusion_matrix, accuracy_score, \\\n",
    "                            classification_report, plot_confusion_matrix, plot_precision_recall_curve, \\\n",
    "                            precision_recall_curve, recall_score, plot_roc_curve)\n",
    "import catboost as cb\n",
    "import xgboost as xgb\n",
    "from xgboost import XGBClassifier\n",
    "\n",
    "from sklearn.model_selection import train_test_split\n",
    "from sklearn.metrics import roc_auc_score\n",
    "# plt.style.use('fivethirtyeight')\n",
    "# %config InlineBackend.figure_format = 'svg'\n",
    "%matplotlib inline\n",
    "import warnings\n",
    "warnings.filterwarnings('ignore')"
   ]
  },
  {
   "cell_type": "code",
   "execution_count": 2,
   "metadata": {},
   "outputs": [],
   "source": [
    "train = pd.read_csv(r\"./assignment_2_train.csv\")\n",
    "test = pd.read_csv(r\"./assignment_2_test.csv\")"
   ]
  },
  {
   "cell_type": "code",
   "execution_count": 3,
   "metadata": {},
   "outputs": [
    {
     "data": {
      "text/html": [
       "<div>\n",
       "<style scoped>\n",
       "    .dataframe tbody tr th:only-of-type {\n",
       "        vertical-align: middle;\n",
       "    }\n",
       "\n",
       "    .dataframe tbody tr th {\n",
       "        vertical-align: top;\n",
       "    }\n",
       "\n",
       "    .dataframe thead th {\n",
       "        text-align: right;\n",
       "    }\n",
       "</style>\n",
       "<table border=\"1\" class=\"dataframe\">\n",
       "  <thead>\n",
       "    <tr style=\"text-align: right;\">\n",
       "      <th></th>\n",
       "      <th>TransactionID</th>\n",
       "      <th>isFraud</th>\n",
       "      <th>TransactionDT</th>\n",
       "      <th>TransactionAmt</th>\n",
       "      <th>ProductCD</th>\n",
       "      <th>card1</th>\n",
       "      <th>card2</th>\n",
       "      <th>card3</th>\n",
       "      <th>card4</th>\n",
       "      <th>card5</th>\n",
       "      <th>...</th>\n",
       "      <th>V330</th>\n",
       "      <th>V331</th>\n",
       "      <th>V332</th>\n",
       "      <th>V333</th>\n",
       "      <th>V334</th>\n",
       "      <th>V335</th>\n",
       "      <th>V336</th>\n",
       "      <th>V337</th>\n",
       "      <th>V338</th>\n",
       "      <th>V339</th>\n",
       "    </tr>\n",
       "  </thead>\n",
       "  <tbody>\n",
       "    <tr>\n",
       "      <th>0</th>\n",
       "      <td>2987000</td>\n",
       "      <td>0</td>\n",
       "      <td>86400</td>\n",
       "      <td>68.5</td>\n",
       "      <td>W</td>\n",
       "      <td>13926</td>\n",
       "      <td>NaN</td>\n",
       "      <td>150.0</td>\n",
       "      <td>discover</td>\n",
       "      <td>142.0</td>\n",
       "      <td>...</td>\n",
       "      <td>NaN</td>\n",
       "      <td>NaN</td>\n",
       "      <td>NaN</td>\n",
       "      <td>NaN</td>\n",
       "      <td>NaN</td>\n",
       "      <td>NaN</td>\n",
       "      <td>NaN</td>\n",
       "      <td>NaN</td>\n",
       "      <td>NaN</td>\n",
       "      <td>NaN</td>\n",
       "    </tr>\n",
       "    <tr>\n",
       "      <th>1</th>\n",
       "      <td>2987001</td>\n",
       "      <td>0</td>\n",
       "      <td>86401</td>\n",
       "      <td>29.0</td>\n",
       "      <td>W</td>\n",
       "      <td>2755</td>\n",
       "      <td>404.0</td>\n",
       "      <td>150.0</td>\n",
       "      <td>mastercard</td>\n",
       "      <td>102.0</td>\n",
       "      <td>...</td>\n",
       "      <td>NaN</td>\n",
       "      <td>NaN</td>\n",
       "      <td>NaN</td>\n",
       "      <td>NaN</td>\n",
       "      <td>NaN</td>\n",
       "      <td>NaN</td>\n",
       "      <td>NaN</td>\n",
       "      <td>NaN</td>\n",
       "      <td>NaN</td>\n",
       "      <td>NaN</td>\n",
       "    </tr>\n",
       "  </tbody>\n",
       "</table>\n",
       "<p>2 rows × 394 columns</p>\n",
       "</div>"
      ],
      "text/plain": [
       "   TransactionID  isFraud  TransactionDT  TransactionAmt ProductCD  card1  \\\n",
       "0        2987000        0          86400            68.5         W  13926   \n",
       "1        2987001        0          86401            29.0         W   2755   \n",
       "\n",
       "   card2  card3       card4  card5  ... V330  V331  V332  V333  V334 V335  \\\n",
       "0    NaN  150.0    discover  142.0  ...  NaN   NaN   NaN   NaN   NaN  NaN   \n",
       "1  404.0  150.0  mastercard  102.0  ...  NaN   NaN   NaN   NaN   NaN  NaN   \n",
       "\n",
       "  V336  V337  V338  V339  \n",
       "0  NaN   NaN   NaN   NaN  \n",
       "1  NaN   NaN   NaN   NaN  \n",
       "\n",
       "[2 rows x 394 columns]"
      ]
     },
     "execution_count": 3,
     "metadata": {},
     "output_type": "execute_result"
    }
   ],
   "source": [
    "train.head(2)"
   ]
  },
  {
   "cell_type": "code",
   "execution_count": 4,
   "metadata": {},
   "outputs": [
    {
     "data": {
      "text/html": [
       "<div>\n",
       "<style scoped>\n",
       "    .dataframe tbody tr th:only-of-type {\n",
       "        vertical-align: middle;\n",
       "    }\n",
       "\n",
       "    .dataframe tbody tr th {\n",
       "        vertical-align: top;\n",
       "    }\n",
       "\n",
       "    .dataframe thead th {\n",
       "        text-align: right;\n",
       "    }\n",
       "</style>\n",
       "<table border=\"1\" class=\"dataframe\">\n",
       "  <thead>\n",
       "    <tr style=\"text-align: right;\">\n",
       "      <th></th>\n",
       "      <th>TransactionID</th>\n",
       "      <th>isFraud</th>\n",
       "      <th>TransactionDT</th>\n",
       "      <th>TransactionAmt</th>\n",
       "      <th>ProductCD</th>\n",
       "      <th>card1</th>\n",
       "      <th>card2</th>\n",
       "      <th>card3</th>\n",
       "      <th>card4</th>\n",
       "      <th>card5</th>\n",
       "      <th>...</th>\n",
       "      <th>V330</th>\n",
       "      <th>V331</th>\n",
       "      <th>V332</th>\n",
       "      <th>V333</th>\n",
       "      <th>V334</th>\n",
       "      <th>V335</th>\n",
       "      <th>V336</th>\n",
       "      <th>V337</th>\n",
       "      <th>V338</th>\n",
       "      <th>V339</th>\n",
       "    </tr>\n",
       "  </thead>\n",
       "  <tbody>\n",
       "    <tr>\n",
       "      <th>0</th>\n",
       "      <td>3287000</td>\n",
       "      <td>1</td>\n",
       "      <td>7415038</td>\n",
       "      <td>226.0</td>\n",
       "      <td>W</td>\n",
       "      <td>12473</td>\n",
       "      <td>555.0</td>\n",
       "      <td>150.0</td>\n",
       "      <td>visa</td>\n",
       "      <td>226.0</td>\n",
       "      <td>...</td>\n",
       "      <td>NaN</td>\n",
       "      <td>NaN</td>\n",
       "      <td>NaN</td>\n",
       "      <td>NaN</td>\n",
       "      <td>NaN</td>\n",
       "      <td>NaN</td>\n",
       "      <td>NaN</td>\n",
       "      <td>NaN</td>\n",
       "      <td>NaN</td>\n",
       "      <td>NaN</td>\n",
       "    </tr>\n",
       "    <tr>\n",
       "      <th>1</th>\n",
       "      <td>3287001</td>\n",
       "      <td>0</td>\n",
       "      <td>7415054</td>\n",
       "      <td>3072.0</td>\n",
       "      <td>W</td>\n",
       "      <td>15651</td>\n",
       "      <td>417.0</td>\n",
       "      <td>150.0</td>\n",
       "      <td>visa</td>\n",
       "      <td>226.0</td>\n",
       "      <td>...</td>\n",
       "      <td>NaN</td>\n",
       "      <td>NaN</td>\n",
       "      <td>NaN</td>\n",
       "      <td>NaN</td>\n",
       "      <td>NaN</td>\n",
       "      <td>NaN</td>\n",
       "      <td>NaN</td>\n",
       "      <td>NaN</td>\n",
       "      <td>NaN</td>\n",
       "      <td>NaN</td>\n",
       "    </tr>\n",
       "  </tbody>\n",
       "</table>\n",
       "<p>2 rows × 394 columns</p>\n",
       "</div>"
      ],
      "text/plain": [
       "   TransactionID  isFraud  TransactionDT  TransactionAmt ProductCD  card1  \\\n",
       "0        3287000        1        7415038           226.0         W  12473   \n",
       "1        3287001        0        7415054          3072.0         W  15651   \n",
       "\n",
       "   card2  card3 card4  card5  ... V330  V331  V332  V333  V334 V335 V336  \\\n",
       "0  555.0  150.0  visa  226.0  ...  NaN   NaN   NaN   NaN   NaN  NaN  NaN   \n",
       "1  417.0  150.0  visa  226.0  ...  NaN   NaN   NaN   NaN   NaN  NaN  NaN   \n",
       "\n",
       "   V337  V338  V339  \n",
       "0   NaN   NaN   NaN  \n",
       "1   NaN   NaN   NaN  \n",
       "\n",
       "[2 rows x 394 columns]"
      ]
     },
     "execution_count": 4,
     "metadata": {},
     "output_type": "execute_result"
    }
   ],
   "source": [
    "test.head(2)"
   ]
  },
  {
   "cell_type": "markdown",
   "metadata": {},
   "source": [
    "### Задание 1: сделать Hold-Out валидацию с разбиением, размер которого будет адеквтаным, по вашему мнению; разбиение проводить по id-транзакции (TransactionID), обучать модель градиетного бустинга любой реализации с подбором числа деревьев по early_stopping критерию до достижения сходимости. Оценить качество модели на валидационной выборке, оценить расхождение по сравнению с качеством на обучающей выборке и валидационной выборке. Оценить качество на ЛБ, сравнить с качеством на обучении и валидации. Сделать выводы."
   ]
  },
  {
   "cell_type": "code",
   "execution_count": 5,
   "metadata": {},
   "outputs": [
    {
     "data": {
      "text/plain": [
       "['ProductCD',\n",
       " 'card4',\n",
       " 'card6',\n",
       " 'P_emaildomain',\n",
       " 'R_emaildomain',\n",
       " 'M1',\n",
       " 'M2',\n",
       " 'M3',\n",
       " 'M4',\n",
       " 'M5',\n",
       " 'M6',\n",
       " 'M7',\n",
       " 'M8',\n",
       " 'M9']"
      ]
     },
     "execution_count": 5,
     "metadata": {},
     "output_type": "execute_result"
    }
   ],
   "source": [
    "cat_cols = train.select_dtypes(include=[np.object]).columns.tolist()\n",
    "cat_cols"
   ]
  },
  {
   "cell_type": "code",
   "execution_count": 6,
   "metadata": {},
   "outputs": [],
   "source": [
    "for ii in train[cat_cols]:\n",
    "    train[ii] = train[ii].astype(str)"
   ]
  },
  {
   "cell_type": "code",
   "execution_count": 7,
   "metadata": {},
   "outputs": [
    {
     "data": {
      "text/plain": [
       "[3, 7, 9, 14, 15, 45, 46, 47, 48, 49, 50, 51, 52, 53]"
      ]
     },
     "execution_count": 7,
     "metadata": {},
     "output_type": "execute_result"
    }
   ],
   "source": [
    "cat_features_idx = np.where(train.drop('isFraud', axis=1).dtypes == \"object\")[0].tolist()\n",
    "cat_features_idx"
   ]
  },
  {
   "cell_type": "code",
   "execution_count": 8,
   "metadata": {},
   "outputs": [],
   "source": [
    "for ii in train.drop('isFraud', axis=1).select_dtypes(include=['float', 'int']).columns.tolist():\n",
    "    train[ii] = train[ii].fillna(-1)"
   ]
  },
  {
   "cell_type": "code",
   "execution_count": 9,
   "metadata": {},
   "outputs": [],
   "source": [
    "X4 = train.drop(['isFraud'], axis=1)\n",
    "y4 = train['isFraud']\n",
    "X_train4, X_valid4, y_train4, y_valid4 = train_test_split(X4, y4, test_size=0.2, random_state=99, stratify=y4)"
   ]
  },
  {
   "cell_type": "code",
   "execution_count": 10,
   "metadata": {},
   "outputs": [],
   "source": [
    "cb_params = {\n",
    "    \"n_estimators\": 1500,\n",
    "    \"loss_function\": \"Logloss\",\n",
    "    \"eval_metric\": \"AUC\",\n",
    "    \"task_type\": \"CPU\",\n",
    "    \"max_bin\": 20,\n",
    "    \"verbose\": 50,\n",
    "    \"max_depth\": 6,\n",
    "    \"l2_leaf_reg\": 100,\n",
    "    \"early_stopping_rounds\": 50,\n",
    "    \"thread_count\": 6,\n",
    "    \"random_seed\": 42\n",
    "}"
   ]
  },
  {
   "cell_type": "code",
   "execution_count": 15,
   "metadata": {},
   "outputs": [
    {
     "name": "stdout",
     "output_type": "stream",
     "text": [
      "0:\ttest: 0.6215528\ttest1: 0.6194003\tbest: 0.6194003 (0)\ttotal: 588ms\tremaining: 14m 40s\n",
      "25:\ttest: 0.8395464\ttest1: 0.8333882\tbest: 0.8333882 (25)\ttotal: 11.4s\tremaining: 10m 46s\n",
      "50:\ttest: 0.8537770\ttest1: 0.8479772\tbest: 0.8479772 (50)\ttotal: 22.1s\tremaining: 10m 29s\n",
      "75:\ttest: 0.8631775\ttest1: 0.8551333\tbest: 0.8551333 (75)\ttotal: 32.9s\tremaining: 10m 16s\n",
      "100:\ttest: 0.8696869\ttest1: 0.8601079\tbest: 0.8601079 (100)\ttotal: 43.6s\tremaining: 10m 3s\n",
      "125:\ttest: 0.8728865\ttest1: 0.8638313\tbest: 0.8638866 (123)\ttotal: 54.2s\tremaining: 9m 50s\n",
      "150:\ttest: 0.8774091\ttest1: 0.8676607\tbest: 0.8676607 (150)\ttotal: 1m 4s\tremaining: 9m 38s\n",
      "175:\ttest: 0.8819457\ttest1: 0.8720511\tbest: 0.8720511 (175)\ttotal: 1m 15s\tremaining: 9m 27s\n",
      "200:\ttest: 0.8863090\ttest1: 0.8762741\tbest: 0.8762741 (200)\ttotal: 1m 26s\tremaining: 9m 15s\n",
      "225:\ttest: 0.8897830\ttest1: 0.8795568\tbest: 0.8795568 (225)\ttotal: 1m 36s\tremaining: 9m 1s\n",
      "250:\ttest: 0.8915717\ttest1: 0.8814177\tbest: 0.8814177 (250)\ttotal: 1m 46s\tremaining: 8m 49s\n",
      "275:\ttest: 0.8939973\ttest1: 0.8839631\tbest: 0.8839710 (274)\ttotal: 1m 56s\tremaining: 8m 37s\n",
      "300:\ttest: 0.8958451\ttest1: 0.8856844\tbest: 0.8856844 (300)\ttotal: 2m 7s\tremaining: 8m 26s\n",
      "325:\ttest: 0.8978383\ttest1: 0.8874107\tbest: 0.8874107 (325)\ttotal: 2m 17s\tremaining: 8m 15s\n",
      "350:\ttest: 0.8995653\ttest1: 0.8890758\tbest: 0.8890761 (349)\ttotal: 2m 28s\tremaining: 8m 5s\n",
      "375:\ttest: 0.9004959\ttest1: 0.8898732\tbest: 0.8898732 (375)\ttotal: 2m 38s\tremaining: 7m 53s\n",
      "400:\ttest: 0.9017292\ttest1: 0.8909956\tbest: 0.8909972 (399)\ttotal: 2m 48s\tremaining: 7m 42s\n",
      "425:\ttest: 0.9021100\ttest1: 0.8913864\tbest: 0.8913891 (424)\ttotal: 2m 59s\tremaining: 7m 32s\n",
      "450:\ttest: 0.9021797\ttest1: 0.8914395\tbest: 0.8914402 (447)\ttotal: 3m 9s\tremaining: 7m 20s\n",
      "475:\ttest: 0.9022961\ttest1: 0.8915373\tbest: 0.8915373 (475)\ttotal: 3m 19s\tremaining: 7m 9s\n",
      "500:\ttest: 0.9025075\ttest1: 0.8916792\tbest: 0.8916806 (498)\ttotal: 3m 29s\tremaining: 6m 58s\n",
      "525:\ttest: 0.9025122\ttest1: 0.8916906\tbest: 0.8916906 (525)\ttotal: 3m 40s\tremaining: 6m 48s\n",
      "550:\ttest: 0.9026617\ttest1: 0.8918264\tbest: 0.8918264 (550)\ttotal: 3m 50s\tremaining: 6m 37s\n",
      "575:\ttest: 0.9028810\ttest1: 0.8920516\tbest: 0.8920516 (575)\ttotal: 4m 1s\tremaining: 6m 26s\n",
      "600:\ttest: 0.9034965\ttest1: 0.8926746\tbest: 0.8926746 (600)\ttotal: 4m 11s\tremaining: 6m 15s\n",
      "625:\ttest: 0.9042542\ttest1: 0.8933694\tbest: 0.8933694 (625)\ttotal: 4m 21s\tremaining: 6m 5s\n",
      "650:\ttest: 0.9050031\ttest1: 0.8941027\tbest: 0.8941048 (649)\ttotal: 4m 31s\tremaining: 5m 54s\n",
      "675:\ttest: 0.9057718\ttest1: 0.8948090\tbest: 0.8948133 (674)\ttotal: 4m 42s\tremaining: 5m 44s\n",
      "700:\ttest: 0.9064629\ttest1: 0.8955345\tbest: 0.8955345 (700)\ttotal: 4m 52s\tremaining: 5m 33s\n",
      "725:\ttest: 0.9075650\ttest1: 0.8964420\tbest: 0.8964420 (725)\ttotal: 5m 3s\tremaining: 5m 23s\n",
      "750:\ttest: 0.9082010\ttest1: 0.8971553\tbest: 0.8971553 (750)\ttotal: 5m 14s\tremaining: 5m 13s\n",
      "775:\ttest: 0.9090047\ttest1: 0.8976630\tbest: 0.8976630 (775)\ttotal: 5m 26s\tremaining: 5m 4s\n",
      "800:\ttest: 0.9098455\ttest1: 0.8984192\tbest: 0.8984192 (800)\ttotal: 5m 37s\tremaining: 4m 54s\n",
      "825:\ttest: 0.9103117\ttest1: 0.8987392\tbest: 0.8987392 (825)\ttotal: 5m 48s\tremaining: 4m 44s\n",
      "850:\ttest: 0.9106821\ttest1: 0.8990394\tbest: 0.8990398 (849)\ttotal: 5m 59s\tremaining: 4m 34s\n",
      "875:\ttest: 0.9109765\ttest1: 0.8991660\tbest: 0.8991981 (859)\ttotal: 6m 9s\tremaining: 4m 23s\n",
      "900:\ttest: 0.9118072\ttest1: 0.8998301\tbest: 0.8998301 (900)\ttotal: 6m 21s\tremaining: 4m 13s\n",
      "925:\ttest: 0.9122226\ttest1: 0.9001983\tbest: 0.9001997 (923)\ttotal: 6m 31s\tremaining: 4m 2s\n",
      "950:\ttest: 0.9125974\ttest1: 0.9005515\tbest: 0.9005515 (950)\ttotal: 6m 41s\tremaining: 3m 51s\n",
      "975:\ttest: 0.9128114\ttest1: 0.9007854\tbest: 0.9007854 (975)\ttotal: 6m 52s\tremaining: 3m 41s\n",
      "1000:\ttest: 0.9134223\ttest1: 0.9013786\tbest: 0.9013788 (999)\ttotal: 7m 2s\tremaining: 3m 30s\n",
      "1025:\ttest: 0.9135413\ttest1: 0.9014389\tbest: 0.9014392 (1023)\ttotal: 7m 11s\tremaining: 3m 19s\n",
      "1050:\ttest: 0.9136911\ttest1: 0.9015011\tbest: 0.9015011 (1049)\ttotal: 7m 21s\tremaining: 3m 8s\n",
      "1075:\ttest: 0.9137166\ttest1: 0.9015006\tbest: 0.9015026 (1054)\ttotal: 7m 31s\tremaining: 2m 57s\n",
      "1100:\ttest: 0.9137732\ttest1: 0.9015345\tbest: 0.9015345 (1100)\ttotal: 7m 40s\tremaining: 2m 47s\n",
      "1125:\ttest: 0.9141066\ttest1: 0.9018047\tbest: 0.9018180 (1120)\ttotal: 7m 52s\tremaining: 2m 36s\n",
      "1150:\ttest: 0.9142721\ttest1: 0.9018864\tbest: 0.9019089 (1146)\ttotal: 8m 2s\tremaining: 2m 26s\n",
      "1175:\ttest: 0.9146311\ttest1: 0.9021674\tbest: 0.9021674 (1175)\ttotal: 8m 13s\tremaining: 2m 15s\n",
      "1200:\ttest: 0.9147822\ttest1: 0.9022078\tbest: 0.9022306 (1189)\ttotal: 8m 23s\tremaining: 2m 5s\n",
      "1225:\ttest: 0.9149336\ttest1: 0.9023037\tbest: 0.9023045 (1223)\ttotal: 8m 34s\tremaining: 1m 54s\n",
      "1250:\ttest: 0.9151040\ttest1: 0.9024822\tbest: 0.9024822 (1250)\ttotal: 8m 44s\tremaining: 1m 44s\n",
      "1275:\ttest: 0.9153080\ttest1: 0.9025827\tbest: 0.9025827 (1275)\ttotal: 8m 54s\tremaining: 1m 33s\n",
      "1300:\ttest: 0.9156282\ttest1: 0.9028552\tbest: 0.9028562 (1299)\ttotal: 9m 4s\tremaining: 1m 23s\n",
      "1325:\ttest: 0.9157697\ttest1: 0.9029343\tbest: 0.9029343 (1325)\ttotal: 9m 14s\tremaining: 1m 12s\n",
      "1350:\ttest: 0.9158943\ttest1: 0.9030388\tbest: 0.9030388 (1350)\ttotal: 9m 23s\tremaining: 1m 2s\n",
      "1375:\ttest: 0.9160810\ttest1: 0.9033184\tbest: 0.9033222 (1373)\ttotal: 9m 32s\tremaining: 51.6s\n",
      "1400:\ttest: 0.9161405\ttest1: 0.9033584\tbest: 0.9033595 (1398)\ttotal: 9m 41s\tremaining: 41.1s\n",
      "1425:\ttest: 0.9166061\ttest1: 0.9036822\tbest: 0.9036831 (1424)\ttotal: 9m 52s\tremaining: 30.8s\n",
      "1450:\ttest: 0.9169969\ttest1: 0.9040997\tbest: 0.9041001 (1449)\ttotal: 10m 4s\tremaining: 20.4s\n",
      "1475:\ttest: 0.9172541\ttest1: 0.9041837\tbest: 0.9041837 (1475)\ttotal: 10m 15s\tremaining: 10s\n",
      "1499:\ttest: 0.9175128\ttest1: 0.9043798\tbest: 0.9044032 (1493)\ttotal: 10m 26s\tremaining: 0us\n",
      "\n",
      "bestTest = 0.9044031501\n",
      "bestIteration = 1493\n",
      "\n",
      "Shrink model to first 1494 iterations.\n"
     ]
    },
    {
     "data": {
      "text/plain": [
       "<catboost.core.CatBoostClassifier at 0x24333b39188>"
      ]
     },
     "execution_count": 15,
     "metadata": {},
     "output_type": "execute_result"
    }
   ],
   "source": [
    "model_cb4 = cb.CatBoostClassifier(**cb_params)\n",
    "model_cb4.fit(X_train4, y_train4, eval_set=[(X_train4, y_train4), (X_valid4, y_valid4)], cat_features=cat_features_idx)"
   ]
  },
  {
   "cell_type": "code",
   "execution_count": 11,
   "metadata": {},
   "outputs": [],
   "source": [
    "# Посмотрим какие результаты модель показывает на assignment_2_test(лидерборде)\n",
    "for ii in test[cat_cols]:\n",
    "    test[ii] = test[ii].astype(str)\n",
    "    \n",
    "for ii in test.drop('isFraud', axis=1).select_dtypes(include=['float', 'int']).columns.tolist():\n",
    "    test[ii] = test[ii].fillna(-1)"
   ]
  },
  {
   "cell_type": "code",
   "execution_count": 12,
   "metadata": {},
   "outputs": [
    {
     "data": {
      "text/plain": [
       "[3, 7, 9, 14, 15, 45, 46, 47, 48, 49, 50, 51, 52, 53]"
      ]
     },
     "execution_count": 12,
     "metadata": {},
     "output_type": "execute_result"
    }
   ],
   "source": [
    "cat_features_idxx = np.where(test.drop('isFraud', axis=1).dtypes == \"object\")[0].tolist()\n",
    "cat_features_idxx"
   ]
  },
  {
   "cell_type": "code",
   "execution_count": 13,
   "metadata": {},
   "outputs": [],
   "source": [
    "X_test_catb = test.drop('isFraud', axis=1)\n",
    "y_test_catb = test['isFraud']"
   ]
  },
  {
   "cell_type": "code",
   "execution_count": 19,
   "metadata": {},
   "outputs": [],
   "source": [
    "model_cb4_pred_proba = model_cb4.predict_proba(X_test_catb)"
   ]
  },
  {
   "cell_type": "code",
   "execution_count": 20,
   "metadata": {},
   "outputs": [
    {
     "data": {
      "text/plain": [
       "0.8654995455074463"
      ]
     },
     "execution_count": 20,
     "metadata": {},
     "output_type": "execute_result"
    }
   ],
   "source": [
    "roc_auc_score(y_test_catb, model_cb4_pred_proba[:,1])"
   ]
  },
  {
   "cell_type": "markdown",
   "metadata": {},
   "source": [
    "Выводы: Модель показала стабильный результат на обучающей и валидационной выборках(разница менее 2%), переобучение отсутствует, также модель показала хороший результат на лидерборде с разницей менее 5% от показателеля на валидационной выборке. Такие хорошие показатели обусловлены синтетическим происхождением данных и соответствием распределением статистик выборок. "
   ]
  },
  {
   "cell_type": "markdown",
   "metadata": {},
   "source": [
    "### Задание 2: сделать Hold-Out валидацию с разбиением на 3 выборки, разбиение проводить по id-транзакции (TransactionID), размер каждой выборки подобрать самостоятельно. Повторить процедуру из п.1. для каждой выборки."
   ]
  },
  {
   "cell_type": "code",
   "execution_count": 14,
   "metadata": {},
   "outputs": [
    {
     "data": {
      "text/plain": [
       "(180000, 393)"
      ]
     },
     "execution_count": 14,
     "metadata": {},
     "output_type": "execute_result"
    }
   ],
   "source": [
    "X4.shape"
   ]
  },
  {
   "cell_type": "code",
   "execution_count": 15,
   "metadata": {},
   "outputs": [],
   "source": [
    "X_train, X_part, y_train, y_part = train_test_split(X4, y4, train_size=0.6, random_state=99, stratify=y4)"
   ]
  },
  {
   "cell_type": "code",
   "execution_count": 16,
   "metadata": {},
   "outputs": [],
   "source": [
    "X_valid, X_test, y_valid, y_test = train_test_split(X_part, y_part, train_size=0.5, random_state=99, stratify=y_part)"
   ]
  },
  {
   "cell_type": "code",
   "execution_count": 17,
   "metadata": {},
   "outputs": [
    {
     "data": {
      "text/plain": [
       "((108000, 393), (36000, 393), (36000, 393))"
      ]
     },
     "execution_count": 17,
     "metadata": {},
     "output_type": "execute_result"
    }
   ],
   "source": [
    "X_train.shape, X_valid.shape, X_test.shape"
   ]
  },
  {
   "cell_type": "code",
   "execution_count": 18,
   "metadata": {},
   "outputs": [
    {
     "data": {
      "text/plain": [
       "(0.02940475623123481, 0.029394944527050212, 0.029394944527050212)"
      ]
     },
     "execution_count": 18,
     "metadata": {},
     "output_type": "execute_result"
    }
   ],
   "source": [
    "# Соотношение классов\n",
    "y_train[y_train==1].count() / y_train[y_train==0].count(), \\\n",
    "y_valid[y_valid==1].count() / y_valid[y_valid==0].count(), \\\n",
    "y_test[y_test==1].count() / y_test[y_test==0].count()"
   ]
  },
  {
   "cell_type": "code",
   "execution_count": 21,
   "metadata": {},
   "outputs": [
    {
     "name": "stdout",
     "output_type": "stream",
     "text": [
      "0:\ttest: 0.6789397\ttest1: 0.6878085\tbest: 0.6878085 (0)\ttotal: 480ms\tremaining: 12m\n",
      "50:\ttest: 0.8499162\ttest1: 0.8469826\tbest: 0.8476461 (47)\ttotal: 18.6s\tremaining: 8m 48s\n",
      "100:\ttest: 0.8660818\ttest1: 0.8647403\tbest: 0.8647403 (100)\ttotal: 36s\tremaining: 8m 18s\n",
      "150:\ttest: 0.8748416\ttest1: 0.8720256\tbest: 0.8720256 (150)\ttotal: 53s\tremaining: 7m 53s\n",
      "200:\ttest: 0.8839868\ttest1: 0.8796879\tbest: 0.8796879 (200)\ttotal: 1m 10s\tremaining: 7m 32s\n",
      "250:\ttest: 0.8900731\ttest1: 0.8851295\tbest: 0.8851295 (250)\ttotal: 1m 26s\tremaining: 7m 12s\n",
      "300:\ttest: 0.8946869\ttest1: 0.8888934\tbest: 0.8888934 (300)\ttotal: 1m 43s\tremaining: 6m 52s\n",
      "350:\ttest: 0.8980165\ttest1: 0.8917620\tbest: 0.8917620 (350)\ttotal: 2m\tremaining: 6m 33s\n",
      "400:\ttest: 0.8994873\ttest1: 0.8928102\tbest: 0.8928102 (400)\ttotal: 2m 16s\tremaining: 6m 14s\n",
      "450:\ttest: 0.9006590\ttest1: 0.8935748\tbest: 0.8935748 (450)\ttotal: 2m 32s\tremaining: 5m 55s\n",
      "500:\ttest: 0.9014083\ttest1: 0.8940899\tbest: 0.8941136 (496)\ttotal: 2m 48s\tremaining: 5m 36s\n",
      "550:\ttest: 0.9024733\ttest1: 0.8949430\tbest: 0.8949430 (550)\ttotal: 3m 3s\tremaining: 5m 16s\n",
      "600:\ttest: 0.9028779\ttest1: 0.8952457\tbest: 0.8952592 (578)\ttotal: 3m 19s\tremaining: 4m 59s\n",
      "650:\ttest: 0.9033919\ttest1: 0.8957318\tbest: 0.8957318 (650)\ttotal: 3m 36s\tremaining: 4m 41s\n",
      "700:\ttest: 0.9037803\ttest1: 0.8961016\tbest: 0.8961016 (700)\ttotal: 3m 53s\tremaining: 4m 26s\n",
      "750:\ttest: 0.9042798\ttest1: 0.8963301\tbest: 0.8963301 (750)\ttotal: 4m 10s\tremaining: 4m 10s\n",
      "800:\ttest: 0.9044382\ttest1: 0.8964191\tbest: 0.8964191 (800)\ttotal: 4m 28s\tremaining: 3m 54s\n",
      "850:\ttest: 0.9050970\ttest1: 0.8969564\tbest: 0.8969564 (850)\ttotal: 4m 45s\tremaining: 3m 37s\n",
      "900:\ttest: 0.9058906\ttest1: 0.8974539\tbest: 0.8974749 (893)\ttotal: 5m 2s\tremaining: 3m 21s\n",
      "950:\ttest: 0.9060696\ttest1: 0.8976228\tbest: 0.8976251 (949)\ttotal: 5m 18s\tremaining: 3m 3s\n",
      "1000:\ttest: 0.9062879\ttest1: 0.8978278\tbest: 0.8978279 (999)\ttotal: 5m 34s\tremaining: 2m 46s\n",
      "1050:\ttest: 0.9066718\ttest1: 0.8982329\tbest: 0.8982329 (1050)\ttotal: 5m 50s\tremaining: 2m 29s\n",
      "1100:\ttest: 0.9072976\ttest1: 0.8987020\tbest: 0.8987020 (1100)\ttotal: 6m 8s\tremaining: 2m 13s\n",
      "1150:\ttest: 0.9080174\ttest1: 0.8993669\tbest: 0.8993669 (1150)\ttotal: 6m 25s\tremaining: 1m 57s\n",
      "1200:\ttest: 0.9088194\ttest1: 0.8998289\tbest: 0.8998289 (1200)\ttotal: 6m 44s\tremaining: 1m 40s\n",
      "1250:\ttest: 0.9096022\ttest1: 0.9004003\tbest: 0.9004003 (1250)\ttotal: 7m 2s\tremaining: 1m 24s\n",
      "1300:\ttest: 0.9100997\ttest1: 0.9007444\tbest: 0.9007444 (1300)\ttotal: 7m 20s\tremaining: 1m 7s\n",
      "1350:\ttest: 0.9101636\ttest1: 0.9007825\tbest: 0.9007825 (1350)\ttotal: 7m 37s\tremaining: 50.5s\n",
      "1400:\ttest: 0.9102490\ttest1: 0.9008881\tbest: 0.9008885 (1393)\ttotal: 7m 55s\tremaining: 33.6s\n",
      "1450:\ttest: 0.9108928\ttest1: 0.9013807\tbest: 0.9013807 (1450)\ttotal: 8m 12s\tremaining: 16.6s\n",
      "1499:\ttest: 0.9115448\ttest1: 0.9019943\tbest: 0.9019943 (1499)\ttotal: 8m 29s\tremaining: 0us\n",
      "\n",
      "bestTest = 0.9019943164\n",
      "bestIteration = 1499\n",
      "\n"
     ]
    },
    {
     "data": {
      "text/plain": [
       "<catboost.core.CatBoostClassifier at 0x1e6e4604808>"
      ]
     },
     "execution_count": 21,
     "metadata": {},
     "output_type": "execute_result"
    }
   ],
   "source": [
    "model_cb5 = cb.CatBoostClassifier(**cb_params)\n",
    "model_cb5.fit(X_train, y_train, eval_set=[(X_train, y_train), (X_valid, y_valid)], cat_features=cat_features_idx)"
   ]
  },
  {
   "cell_type": "code",
   "execution_count": 66,
   "metadata": {},
   "outputs": [
    {
     "name": "stdout",
     "output_type": "stream",
     "text": [
      "train_auc: 0.9115\n",
      "valid_auc: 0.902\n",
      "test_auc: 0.9\n",
      "LB_auc: 0.8609\n"
     ]
    }
   ],
   "source": [
    "print(f'train_auc: {round(roc_auc_score(y_train, model_cb5.predict_proba(X_train)[:,1]), 4)}')\n",
    "print(f'valid_auc: {round(roc_auc_score(y_valid, model_cb5.predict_proba(X_valid)[:,1]), 4)}')\n",
    "print(f'test_auc: {round(roc_auc_score(y_test, model_cb5.predict_proba(X_test)[:,1]), 4)}')\n",
    "print(f'LB_auc: {round(roc_auc_score(y_test_catb, model_cb5.predict_proba(X_test_catb)[:,1]), 4)}')"
   ]
  },
  {
   "cell_type": "markdown",
   "metadata": {},
   "source": [
    "Показатели аналогичны предыдущим тестам, разница между тестом и лидербордом осталась на том же уровне."
   ]
  },
  {
   "cell_type": "markdown",
   "metadata": {},
   "source": [
    "### Задание 3: построить доверительный интервал на данных из п.2 на основе бутстреп выборок, оценить качество модели на ЛБ относительно полученного доверительного интервала. Сделать выводы."
   ]
  },
  {
   "cell_type": "code",
   "execution_count": 31,
   "metadata": {},
   "outputs": [],
   "source": [
    "from typing import List, Tuple\n",
    "def create_bootstrap_samples(data: np.array, n_samples: int = 1000) -> np.array:\n",
    "    \"\"\"\n",
    "    Создание бутстреп-выборок.\n",
    "\n",
    "    Parameters\n",
    "    ----------\n",
    "    data: np.array\n",
    "        Исходная выборка, которая будет использоваться для\n",
    "        создания бутстреп выборок.\n",
    "\n",
    "    n_samples: int, optional, default = 1000\n",
    "        Количество создаваемых бутстреп выборок.\n",
    "        Опциональный параметр, по умолчанию, равен 1000.\n",
    "\n",
    "    Returns\n",
    "    -------\n",
    "    bootstrap_idx: np.array\n",
    "        Матрица индексов, для создания бутстреп выборок.\n",
    "\n",
    "    \"\"\"\n",
    "    bootstrap_idx = np.random.randint(\n",
    "        low=0, high=len(data), size=(n_samples, len(data))\n",
    "    )\n",
    "    return bootstrap_idx\n",
    "\n",
    "\n",
    "def create_bootstrap_metrics(y_true: np.array,\n",
    "                             y_pred: np.array,\n",
    "                             metric: callable,\n",
    "                             n_samlpes: int = 1000) -> List[float]:\n",
    "    \"\"\"\n",
    "    Вычисление бутстреп оценок.\n",
    "\n",
    "    Parameters\n",
    "    ----------\n",
    "    y_true: np.array\n",
    "        Вектор целевой переменной.\n",
    "\n",
    "    y_pred: np.array\n",
    "        Вектор прогнозов.\n",
    "\n",
    "    metric: callable\n",
    "        Функция для вычисления метрики.\n",
    "        Функция должна принимать 2 аргумента: y_true, y_pred.\n",
    "\n",
    "    n_samples: int, optional, default = 1000\n",
    "        Количество создаваемых бутстреп выборок.\n",
    "        Опциональный параметр, по умолчанию, равен 1000.\n",
    "\n",
    "    Returns\n",
    "    -------\n",
    "    bootstrap_metrics: List[float]\n",
    "        Список со значениями метрики качества на каждой бустреп выборке.\n",
    "\n",
    "    \"\"\"\n",
    "    scores = []\n",
    "\n",
    "    if isinstance(y_true, pd.Series):\n",
    "        y_true = y_true.values\n",
    "\n",
    "    bootstrap_idx = create_bootstrap_samples(y_true)\n",
    "    for idx in bootstrap_idx:\n",
    "        y_true_bootstrap = y_true[idx]\n",
    "        y_pred_bootstrap = y_pred[idx]\n",
    "\n",
    "        score = metric(y_true_bootstrap, y_pred_bootstrap)\n",
    "        scores.append(score)\n",
    "\n",
    "    return scores\n",
    "\n",
    "\n",
    "def calculate_confidence_interval(scores: list, conf_interval: float = 0.95) -> Tuple[float]:\n",
    "    \"\"\"\n",
    "    Вычисление доверительного интервала.\n",
    "\n",
    "    Parameters\n",
    "    ----------\n",
    "    scores: List[float / int]\n",
    "        Список с оценками изучаемой величины.\n",
    "\n",
    "    conf_interval: float, optional, default = 0.95\n",
    "        Уровень доверия для построения интервала.\n",
    "        Опциональный параметр, по умолчанию, равен 0.95.\n",
    "\n",
    "    Returns\n",
    "    -------\n",
    "    conf_interval: Tuple[float]\n",
    "        Кортеж с границами доверительного интервала.\n",
    "\n",
    "    \"\"\"\n",
    "    left_bound = np.percentile(\n",
    "        scores, ((1 - conf_interval) / 2) * 100\n",
    "    )\n",
    "    right_bound = np.percentile(\n",
    "        scores, (conf_interval + ((1 - conf_interval) / 2)) * 100\n",
    "    )\n",
    "\n",
    "    return left_bound, right_bound"
   ]
  },
  {
   "cell_type": "code",
   "execution_count": 35,
   "metadata": {},
   "outputs": [],
   "source": [
    "pred = model_cb5.predict_proba(X_test)[:,1]"
   ]
  },
  {
   "cell_type": "code",
   "execution_count": 46,
   "metadata": {},
   "outputs": [
    {
     "data": {
      "text/plain": [
       "(0.8884487671314546, 0.9109710135320566)"
      ]
     },
     "execution_count": 46,
     "metadata": {},
     "output_type": "execute_result"
    }
   ],
   "source": [
    "np.random.seed(99)\n",
    "scores1 = create_bootstrap_metrics(y_test, pred, roc_auc_score)\n",
    "calculate_confidence_interval(scores1, conf_interval=0.95)"
   ]
  },
  {
   "cell_type": "code",
   "execution_count": 47,
   "metadata": {},
   "outputs": [
    {
     "data": {
      "text/plain": [
       "(0.8907482740199953, 0.9132809502901694)"
      ]
     },
     "execution_count": 47,
     "metadata": {},
     "output_type": "execute_result"
    }
   ],
   "source": [
    "np.random.seed(99)\n",
    "scores2 = create_bootstrap_metrics(y_valid, model_cb5.predict_proba(X_valid)[:,1], roc_auc_score)\n",
    "calculate_confidence_interval(scores2, conf_interval=0.95)"
   ]
  },
  {
   "cell_type": "markdown",
   "metadata": {},
   "source": [
    "Результат на лидерборде(LB_auc 0.8609) лежит вблизи слева доверительного интервала, но не внутри, однако в то же время нельзя сделать вывод, что модель явно неустойчива."
   ]
  },
  {
   "cell_type": "markdown",
   "metadata": {},
   "source": [
    "### Задание 4: выполнить Adversarial Validation, подобрать объекты из обучающей выборки, которые сильно похожи на объекты из assignment_2_test.csv, и использовать их в качестве валидационного набора. Оценить качество модели на ЛБ, сделать выводы о полученных результатах."
   ]
  },
  {
   "cell_type": "code",
   "execution_count": 55,
   "metadata": {},
   "outputs": [],
   "source": [
    "X_adv = pd.concat([\n",
    "    train.drop('isFraud', axis=1), test.drop('isFraud', axis=1)\n",
    "])\n",
    "y_adv = np.hstack(\n",
    "    (np.ones(train.shape[0]), np.zeros(test.shape[0])))\n",
    "\n",
    "X_adv = X_adv.reset_index(drop=True)\n",
    "assert X_adv.shape[0] == y_adv.shape[0], 'неверная размерность'"
   ]
  },
  {
   "cell_type": "code",
   "execution_count": 68,
   "metadata": {},
   "outputs": [
    {
     "data": {
      "text/html": [
       "<div>\n",
       "<style scoped>\n",
       "    .dataframe tbody tr th:only-of-type {\n",
       "        vertical-align: middle;\n",
       "    }\n",
       "\n",
       "    .dataframe tbody tr th {\n",
       "        vertical-align: top;\n",
       "    }\n",
       "\n",
       "    .dataframe thead th {\n",
       "        text-align: right;\n",
       "    }\n",
       "</style>\n",
       "<table border=\"1\" class=\"dataframe\">\n",
       "  <thead>\n",
       "    <tr style=\"text-align: right;\">\n",
       "      <th></th>\n",
       "      <th>TransactionID</th>\n",
       "      <th>TransactionDT</th>\n",
       "      <th>TransactionAmt</th>\n",
       "      <th>ProductCD</th>\n",
       "      <th>card1</th>\n",
       "      <th>card2</th>\n",
       "      <th>card3</th>\n",
       "      <th>card4</th>\n",
       "      <th>card5</th>\n",
       "      <th>card6</th>\n",
       "      <th>...</th>\n",
       "      <th>V330</th>\n",
       "      <th>V331</th>\n",
       "      <th>V332</th>\n",
       "      <th>V333</th>\n",
       "      <th>V334</th>\n",
       "      <th>V335</th>\n",
       "      <th>V336</th>\n",
       "      <th>V337</th>\n",
       "      <th>V338</th>\n",
       "      <th>V339</th>\n",
       "    </tr>\n",
       "  </thead>\n",
       "  <tbody>\n",
       "    <tr>\n",
       "      <th>0</th>\n",
       "      <td>2987000</td>\n",
       "      <td>86400</td>\n",
       "      <td>68.500</td>\n",
       "      <td>W</td>\n",
       "      <td>13926</td>\n",
       "      <td>-1.0</td>\n",
       "      <td>150.0</td>\n",
       "      <td>discover</td>\n",
       "      <td>142.0</td>\n",
       "      <td>credit</td>\n",
       "      <td>...</td>\n",
       "      <td>-1.0</td>\n",
       "      <td>-1.0</td>\n",
       "      <td>-1.0</td>\n",
       "      <td>-1.0</td>\n",
       "      <td>-1.0</td>\n",
       "      <td>-1.0</td>\n",
       "      <td>-1.0</td>\n",
       "      <td>-1.0</td>\n",
       "      <td>-1.0</td>\n",
       "      <td>-1.0</td>\n",
       "    </tr>\n",
       "    <tr>\n",
       "      <th>1</th>\n",
       "      <td>2987001</td>\n",
       "      <td>86401</td>\n",
       "      <td>29.000</td>\n",
       "      <td>W</td>\n",
       "      <td>2755</td>\n",
       "      <td>404.0</td>\n",
       "      <td>150.0</td>\n",
       "      <td>mastercard</td>\n",
       "      <td>102.0</td>\n",
       "      <td>credit</td>\n",
       "      <td>...</td>\n",
       "      <td>-1.0</td>\n",
       "      <td>-1.0</td>\n",
       "      <td>-1.0</td>\n",
       "      <td>-1.0</td>\n",
       "      <td>-1.0</td>\n",
       "      <td>-1.0</td>\n",
       "      <td>-1.0</td>\n",
       "      <td>-1.0</td>\n",
       "      <td>-1.0</td>\n",
       "      <td>-1.0</td>\n",
       "    </tr>\n",
       "    <tr>\n",
       "      <th>2</th>\n",
       "      <td>2987002</td>\n",
       "      <td>86469</td>\n",
       "      <td>59.000</td>\n",
       "      <td>W</td>\n",
       "      <td>4663</td>\n",
       "      <td>490.0</td>\n",
       "      <td>150.0</td>\n",
       "      <td>visa</td>\n",
       "      <td>166.0</td>\n",
       "      <td>debit</td>\n",
       "      <td>...</td>\n",
       "      <td>-1.0</td>\n",
       "      <td>-1.0</td>\n",
       "      <td>-1.0</td>\n",
       "      <td>-1.0</td>\n",
       "      <td>-1.0</td>\n",
       "      <td>-1.0</td>\n",
       "      <td>-1.0</td>\n",
       "      <td>-1.0</td>\n",
       "      <td>-1.0</td>\n",
       "      <td>-1.0</td>\n",
       "    </tr>\n",
       "    <tr>\n",
       "      <th>3</th>\n",
       "      <td>2987003</td>\n",
       "      <td>86499</td>\n",
       "      <td>50.000</td>\n",
       "      <td>W</td>\n",
       "      <td>18132</td>\n",
       "      <td>567.0</td>\n",
       "      <td>150.0</td>\n",
       "      <td>mastercard</td>\n",
       "      <td>117.0</td>\n",
       "      <td>debit</td>\n",
       "      <td>...</td>\n",
       "      <td>-1.0</td>\n",
       "      <td>-1.0</td>\n",
       "      <td>-1.0</td>\n",
       "      <td>-1.0</td>\n",
       "      <td>-1.0</td>\n",
       "      <td>-1.0</td>\n",
       "      <td>-1.0</td>\n",
       "      <td>-1.0</td>\n",
       "      <td>-1.0</td>\n",
       "      <td>-1.0</td>\n",
       "    </tr>\n",
       "    <tr>\n",
       "      <th>4</th>\n",
       "      <td>2987004</td>\n",
       "      <td>86506</td>\n",
       "      <td>50.000</td>\n",
       "      <td>H</td>\n",
       "      <td>4497</td>\n",
       "      <td>514.0</td>\n",
       "      <td>150.0</td>\n",
       "      <td>mastercard</td>\n",
       "      <td>102.0</td>\n",
       "      <td>credit</td>\n",
       "      <td>...</td>\n",
       "      <td>0.0</td>\n",
       "      <td>0.0</td>\n",
       "      <td>0.0</td>\n",
       "      <td>0.0</td>\n",
       "      <td>0.0</td>\n",
       "      <td>0.0</td>\n",
       "      <td>0.0</td>\n",
       "      <td>0.0</td>\n",
       "      <td>0.0</td>\n",
       "      <td>0.0</td>\n",
       "    </tr>\n",
       "    <tr>\n",
       "      <th>...</th>\n",
       "      <td>...</td>\n",
       "      <td>...</td>\n",
       "      <td>...</td>\n",
       "      <td>...</td>\n",
       "      <td>...</td>\n",
       "      <td>...</td>\n",
       "      <td>...</td>\n",
       "      <td>...</td>\n",
       "      <td>...</td>\n",
       "      <td>...</td>\n",
       "      <td>...</td>\n",
       "      <td>...</td>\n",
       "      <td>...</td>\n",
       "      <td>...</td>\n",
       "      <td>...</td>\n",
       "      <td>...</td>\n",
       "      <td>...</td>\n",
       "      <td>...</td>\n",
       "      <td>...</td>\n",
       "      <td>...</td>\n",
       "      <td>...</td>\n",
       "    </tr>\n",
       "    <tr>\n",
       "      <th>279996</th>\n",
       "      <td>3386996</td>\n",
       "      <td>10091528</td>\n",
       "      <td>368.990</td>\n",
       "      <td>W</td>\n",
       "      <td>13964</td>\n",
       "      <td>496.0</td>\n",
       "      <td>150.0</td>\n",
       "      <td>mastercard</td>\n",
       "      <td>224.0</td>\n",
       "      <td>debit</td>\n",
       "      <td>...</td>\n",
       "      <td>-1.0</td>\n",
       "      <td>-1.0</td>\n",
       "      <td>-1.0</td>\n",
       "      <td>-1.0</td>\n",
       "      <td>-1.0</td>\n",
       "      <td>-1.0</td>\n",
       "      <td>-1.0</td>\n",
       "      <td>-1.0</td>\n",
       "      <td>-1.0</td>\n",
       "      <td>-1.0</td>\n",
       "    </tr>\n",
       "    <tr>\n",
       "      <th>279997</th>\n",
       "      <td>3386997</td>\n",
       "      <td>10091533</td>\n",
       "      <td>445.330</td>\n",
       "      <td>W</td>\n",
       "      <td>10616</td>\n",
       "      <td>583.0</td>\n",
       "      <td>150.0</td>\n",
       "      <td>visa</td>\n",
       "      <td>226.0</td>\n",
       "      <td>credit</td>\n",
       "      <td>...</td>\n",
       "      <td>-1.0</td>\n",
       "      <td>-1.0</td>\n",
       "      <td>-1.0</td>\n",
       "      <td>-1.0</td>\n",
       "      <td>-1.0</td>\n",
       "      <td>-1.0</td>\n",
       "      <td>-1.0</td>\n",
       "      <td>-1.0</td>\n",
       "      <td>-1.0</td>\n",
       "      <td>-1.0</td>\n",
       "    </tr>\n",
       "    <tr>\n",
       "      <th>279998</th>\n",
       "      <td>3386998</td>\n",
       "      <td>10091544</td>\n",
       "      <td>15.226</td>\n",
       "      <td>C</td>\n",
       "      <td>9803</td>\n",
       "      <td>583.0</td>\n",
       "      <td>150.0</td>\n",
       "      <td>visa</td>\n",
       "      <td>226.0</td>\n",
       "      <td>credit</td>\n",
       "      <td>...</td>\n",
       "      <td>-1.0</td>\n",
       "      <td>-1.0</td>\n",
       "      <td>-1.0</td>\n",
       "      <td>-1.0</td>\n",
       "      <td>-1.0</td>\n",
       "      <td>-1.0</td>\n",
       "      <td>-1.0</td>\n",
       "      <td>-1.0</td>\n",
       "      <td>-1.0</td>\n",
       "      <td>-1.0</td>\n",
       "    </tr>\n",
       "    <tr>\n",
       "      <th>279999</th>\n",
       "      <td>3386999</td>\n",
       "      <td>10091549</td>\n",
       "      <td>34.742</td>\n",
       "      <td>C</td>\n",
       "      <td>16062</td>\n",
       "      <td>500.0</td>\n",
       "      <td>185.0</td>\n",
       "      <td>mastercard</td>\n",
       "      <td>137.0</td>\n",
       "      <td>credit</td>\n",
       "      <td>...</td>\n",
       "      <td>-1.0</td>\n",
       "      <td>-1.0</td>\n",
       "      <td>-1.0</td>\n",
       "      <td>-1.0</td>\n",
       "      <td>-1.0</td>\n",
       "      <td>-1.0</td>\n",
       "      <td>-1.0</td>\n",
       "      <td>-1.0</td>\n",
       "      <td>-1.0</td>\n",
       "      <td>-1.0</td>\n",
       "    </tr>\n",
       "    <tr>\n",
       "      <th>280000</th>\n",
       "      <td>3387000</td>\n",
       "      <td>10091550</td>\n",
       "      <td>312.450</td>\n",
       "      <td>W</td>\n",
       "      <td>16632</td>\n",
       "      <td>215.0</td>\n",
       "      <td>150.0</td>\n",
       "      <td>mastercard</td>\n",
       "      <td>229.0</td>\n",
       "      <td>debit</td>\n",
       "      <td>...</td>\n",
       "      <td>-1.0</td>\n",
       "      <td>-1.0</td>\n",
       "      <td>-1.0</td>\n",
       "      <td>-1.0</td>\n",
       "      <td>-1.0</td>\n",
       "      <td>-1.0</td>\n",
       "      <td>-1.0</td>\n",
       "      <td>-1.0</td>\n",
       "      <td>-1.0</td>\n",
       "      <td>-1.0</td>\n",
       "    </tr>\n",
       "  </tbody>\n",
       "</table>\n",
       "<p>280001 rows × 393 columns</p>\n",
       "</div>"
      ],
      "text/plain": [
       "        TransactionID  TransactionDT  TransactionAmt ProductCD  card1  card2  \\\n",
       "0             2987000          86400          68.500         W  13926   -1.0   \n",
       "1             2987001          86401          29.000         W   2755  404.0   \n",
       "2             2987002          86469          59.000         W   4663  490.0   \n",
       "3             2987003          86499          50.000         W  18132  567.0   \n",
       "4             2987004          86506          50.000         H   4497  514.0   \n",
       "...               ...            ...             ...       ...    ...    ...   \n",
       "279996        3386996       10091528         368.990         W  13964  496.0   \n",
       "279997        3386997       10091533         445.330         W  10616  583.0   \n",
       "279998        3386998       10091544          15.226         C   9803  583.0   \n",
       "279999        3386999       10091549          34.742         C  16062  500.0   \n",
       "280000        3387000       10091550         312.450         W  16632  215.0   \n",
       "\n",
       "        card3       card4  card5   card6  ...  V330  V331  V332  V333 V334  \\\n",
       "0       150.0    discover  142.0  credit  ...  -1.0  -1.0  -1.0  -1.0 -1.0   \n",
       "1       150.0  mastercard  102.0  credit  ...  -1.0  -1.0  -1.0  -1.0 -1.0   \n",
       "2       150.0        visa  166.0   debit  ...  -1.0  -1.0  -1.0  -1.0 -1.0   \n",
       "3       150.0  mastercard  117.0   debit  ...  -1.0  -1.0  -1.0  -1.0 -1.0   \n",
       "4       150.0  mastercard  102.0  credit  ...   0.0   0.0   0.0   0.0  0.0   \n",
       "...       ...         ...    ...     ...  ...   ...   ...   ...   ...  ...   \n",
       "279996  150.0  mastercard  224.0   debit  ...  -1.0  -1.0  -1.0  -1.0 -1.0   \n",
       "279997  150.0        visa  226.0  credit  ...  -1.0  -1.0  -1.0  -1.0 -1.0   \n",
       "279998  150.0        visa  226.0  credit  ...  -1.0  -1.0  -1.0  -1.0 -1.0   \n",
       "279999  185.0  mastercard  137.0  credit  ...  -1.0  -1.0  -1.0  -1.0 -1.0   \n",
       "280000  150.0  mastercard  229.0   debit  ...  -1.0  -1.0  -1.0  -1.0 -1.0   \n",
       "\n",
       "       V335  V336  V337  V338  V339  \n",
       "0      -1.0  -1.0  -1.0  -1.0  -1.0  \n",
       "1      -1.0  -1.0  -1.0  -1.0  -1.0  \n",
       "2      -1.0  -1.0  -1.0  -1.0  -1.0  \n",
       "3      -1.0  -1.0  -1.0  -1.0  -1.0  \n",
       "4       0.0   0.0   0.0   0.0   0.0  \n",
       "...     ...   ...   ...   ...   ...  \n",
       "279996 -1.0  -1.0  -1.0  -1.0  -1.0  \n",
       "279997 -1.0  -1.0  -1.0  -1.0  -1.0  \n",
       "279998 -1.0  -1.0  -1.0  -1.0  -1.0  \n",
       "279999 -1.0  -1.0  -1.0  -1.0  -1.0  \n",
       "280000 -1.0  -1.0  -1.0  -1.0  -1.0  \n",
       "\n",
       "[280001 rows x 393 columns]"
      ]
     },
     "execution_count": 68,
     "metadata": {},
     "output_type": "execute_result"
    }
   ],
   "source": [
    "X_adv"
   ]
  },
  {
   "cell_type": "code",
   "execution_count": 73,
   "metadata": {},
   "outputs": [
    {
     "name": "stdout",
     "output_type": "stream",
     "text": [
      "0:\ttotal: 613ms\tremaining: 15m 18s\n",
      "50:\ttotal: 30.9s\tremaining: 14m 36s\n",
      "100:\ttotal: 58.2s\tremaining: 13m 25s\n",
      "150:\ttotal: 1m 22s\tremaining: 12m 19s\n",
      "200:\ttotal: 1m 47s\tremaining: 11m 32s\n",
      "250:\ttotal: 2m 11s\tremaining: 10m 53s\n",
      "300:\ttotal: 2m 35s\tremaining: 10m 19s\n",
      "350:\ttotal: 2m 59s\tremaining: 9m 47s\n",
      "400:\ttotal: 3m 22s\tremaining: 9m 15s\n",
      "450:\ttotal: 3m 46s\tremaining: 8m 47s\n",
      "500:\ttotal: 4m 11s\tremaining: 8m 20s\n",
      "550:\ttotal: 4m 35s\tremaining: 7m 54s\n",
      "600:\ttotal: 4m 59s\tremaining: 7m 27s\n",
      "650:\ttotal: 5m 22s\tremaining: 7m 1s\n",
      "700:\ttotal: 5m 46s\tremaining: 6m 35s\n",
      "750:\ttotal: 6m 10s\tremaining: 6m 9s\n",
      "800:\ttotal: 6m 34s\tremaining: 5m 44s\n",
      "850:\ttotal: 6m 58s\tremaining: 5m 19s\n",
      "900:\ttotal: 7m 23s\tremaining: 4m 55s\n",
      "950:\ttotal: 7m 50s\tremaining: 4m 31s\n",
      "1000:\ttotal: 8m 17s\tremaining: 4m 7s\n",
      "1050:\ttotal: 8m 43s\tremaining: 3m 43s\n",
      "1100:\ttotal: 9m 10s\tremaining: 3m 19s\n",
      "1150:\ttotal: 9m 37s\tremaining: 2m 54s\n",
      "1200:\ttotal: 10m 3s\tremaining: 2m 30s\n",
      "1250:\ttotal: 10m 30s\tremaining: 2m 5s\n",
      "1300:\ttotal: 10m 56s\tremaining: 1m 40s\n",
      "1350:\ttotal: 11m 23s\tremaining: 1m 15s\n",
      "1400:\ttotal: 11m 50s\tremaining: 50.2s\n",
      "1450:\ttotal: 12m 16s\tremaining: 24.9s\n",
      "1499:\ttotal: 12m 42s\tremaining: 0us\n",
      "0.9992\n"
     ]
    }
   ],
   "source": [
    "model_cb6 = cb.CatBoostClassifier(**cb_params)\n",
    "model_cb6.fit(X_adv, y_adv, cat_features=cat_features_idx)\n",
    "\n",
    "y_pred_adv = model_cb6.predict_proba(X_adv)\n",
    "score = roc_auc_score(y_adv, y_pred_adv[:, 1])\n",
    "print(round(score, 4))"
   ]
  },
  {
   "cell_type": "markdown",
   "metadata": {},
   "source": [
    "Выводы: гипотеза о том, что распределения на трейне и на тесте совпадают, неверна(CV-score: 0.9992), распределения на трейне и на тесте сильно различаются. "
   ]
  },
  {
   "cell_type": "markdown",
   "metadata": {},
   "source": [
    "### Задание 5: сделать KFold / StratifiedKFold валидацию (на ваше усмотрение), оценить получаемые качество и разброс по метрике качества. Сделать выводы об устойчивости кросс-валидации, сходимости оценки на кросс-валидации и отложенном наборе данных; Оценить качество на ЛБ, сделать выводы."
   ]
  },
  {
   "cell_type": "code",
   "execution_count": 82,
   "metadata": {},
   "outputs": [],
   "source": [
    "def make_cross_validation(X: pd.DataFrame,\n",
    "                          y: pd.Series,\n",
    "                          estimator: object,\n",
    "                          metric: callable,\n",
    "                          cv_strategy):\n",
    "  \n",
    "    estimators, fold_train_scores, fold_valid_scores = [], [], []\n",
    "    oof_predictions = np.zeros(X.shape[0])\n",
    "\n",
    "    for fold_number, (train_idx, valid_idx) in enumerate(cv_strategy.split(X, y)):\n",
    "        x_train, x_valid = X.loc[train_idx], X.loc[valid_idx]\n",
    "        y_train, y_valid = y.loc[train_idx], y.loc[valid_idx]\n",
    "\n",
    "        estimator.fit(x_train, y_train)\n",
    "        y_train_pred = estimator.predict_proba(x_train)\n",
    "        y_valid_pred = estimator.predict_proba(x_valid)\n",
    "\n",
    "        fold_train_scores.append(metric(y_train, y_train_pred[:,1]))\n",
    "        fold_valid_scores.append(metric(y_valid, y_valid_pred[:,1]))\n",
    "        oof_predictions[valid_idx] = y_valid_pred[:,1]\n",
    "\n",
    "        msg = (\n",
    "            f\"Fold: {fold_number+1}, train-observations = {len(train_idx)}, \"\n",
    "            f\"valid-observations = {len(valid_idx)}\\n\"\n",
    "            f\"train-score = {round(fold_train_scores[fold_number], 4)}, \"\n",
    "            f\"valid-score = {round(fold_valid_scores[fold_number], 4)}\" \n",
    "        )\n",
    "        print(msg)\n",
    "        print(\"=\"*69)\n",
    "        estimators.append(estimator)\n",
    "\n",
    "    oof_score = metric(y, oof_predictions)\n",
    "    print(f\"CV-results train: {round(np.mean(fold_train_scores), 4)} +/- {round(np.std(fold_train_scores), 3)}\")\n",
    "    print(f\"CV-results valid: {round(np.mean(fold_valid_scores), 4)} +/- {round(np.std(fold_valid_scores), 3)}\")\n",
    "    print(f\"OOF-score = {round(oof_score, 4)}\")\n",
    "    \n",
    "    print(estimators, oof_score, fold_train_scores, fold_valid_scores, oof_predictions)\n",
    "    return estimators, oof_score, fold_train_scores, fold_valid_scores, oof_predictions"
   ]
  },
  {
   "cell_type": "code",
   "execution_count": 83,
   "metadata": {},
   "outputs": [],
   "source": [
    "model_cb7 = cb.CatBoostClassifier(**cb_params, cat_features=cat_features_idx)"
   ]
  },
  {
   "cell_type": "code",
   "execution_count": 84,
   "metadata": {},
   "outputs": [
    {
     "name": "stdout",
     "output_type": "stream",
     "text": [
      "0:\ttotal: 398ms\tremaining: 9m 57s\n",
      "50:\ttotal: 16.2s\tremaining: 7m 39s\n",
      "100:\ttotal: 31.6s\tremaining: 7m 18s\n",
      "150:\ttotal: 47.4s\tremaining: 7m 3s\n",
      "200:\ttotal: 1m 3s\tremaining: 6m 48s\n",
      "250:\ttotal: 1m 18s\tremaining: 6m 32s\n",
      "300:\ttotal: 1m 34s\tremaining: 6m 15s\n",
      "350:\ttotal: 1m 49s\tremaining: 5m 59s\n",
      "400:\ttotal: 2m 5s\tremaining: 5m 42s\n",
      "450:\ttotal: 2m 20s\tremaining: 5m 26s\n",
      "500:\ttotal: 2m 36s\tremaining: 5m 11s\n",
      "550:\ttotal: 2m 51s\tremaining: 4m 55s\n",
      "600:\ttotal: 3m 6s\tremaining: 4m 39s\n",
      "650:\ttotal: 3m 22s\tremaining: 4m 23s\n",
      "700:\ttotal: 3m 37s\tremaining: 4m 7s\n",
      "750:\ttotal: 3m 52s\tremaining: 3m 51s\n",
      "800:\ttotal: 4m 7s\tremaining: 3m 36s\n",
      "850:\ttotal: 4m 23s\tremaining: 3m 21s\n",
      "900:\ttotal: 4m 39s\tremaining: 3m 5s\n",
      "950:\ttotal: 4m 54s\tremaining: 2m 50s\n",
      "1000:\ttotal: 5m 10s\tremaining: 2m 34s\n",
      "1050:\ttotal: 5m 26s\tremaining: 2m 19s\n",
      "1100:\ttotal: 5m 41s\tremaining: 2m 3s\n",
      "1150:\ttotal: 5m 57s\tremaining: 1m 48s\n",
      "1200:\ttotal: 6m 12s\tremaining: 1m 32s\n",
      "1250:\ttotal: 6m 27s\tremaining: 1m 17s\n",
      "1300:\ttotal: 6m 41s\tremaining: 1m 1s\n",
      "1350:\ttotal: 6m 56s\tremaining: 45.9s\n",
      "1400:\ttotal: 7m 11s\tremaining: 30.5s\n",
      "1450:\ttotal: 7m 25s\tremaining: 15.1s\n",
      "1499:\ttotal: 7m 40s\tremaining: 0us\n",
      "Fold: 1, train-observations = 144000, valid-observations = 36000\n",
      "train-score = 0.9197, valid-score = 0.8811\n",
      "=====================================================================\n",
      "0:\ttotal: 354ms\tremaining: 8m 50s\n",
      "50:\ttotal: 16.1s\tremaining: 7m 38s\n",
      "100:\ttotal: 32.1s\tremaining: 7m 25s\n",
      "150:\ttotal: 48.2s\tremaining: 7m 10s\n",
      "200:\ttotal: 1m 4s\tremaining: 6m 57s\n",
      "250:\ttotal: 1m 20s\tremaining: 6m 40s\n",
      "300:\ttotal: 1m 35s\tremaining: 6m 20s\n",
      "350:\ttotal: 1m 51s\tremaining: 6m 4s\n",
      "400:\ttotal: 2m 6s\tremaining: 5m 47s\n",
      "450:\ttotal: 2m 22s\tremaining: 5m 30s\n",
      "500:\ttotal: 2m 37s\tremaining: 5m 14s\n",
      "550:\ttotal: 2m 53s\tremaining: 4m 58s\n",
      "600:\ttotal: 3m 9s\tremaining: 4m 43s\n",
      "650:\ttotal: 3m 25s\tremaining: 4m 27s\n",
      "700:\ttotal: 3m 41s\tremaining: 4m 12s\n",
      "750:\ttotal: 3m 57s\tremaining: 3m 56s\n",
      "800:\ttotal: 4m 12s\tremaining: 3m 40s\n",
      "850:\ttotal: 4m 28s\tremaining: 3m 25s\n",
      "900:\ttotal: 4m 44s\tremaining: 3m 9s\n",
      "950:\ttotal: 5m\tremaining: 2m 53s\n",
      "1000:\ttotal: 5m 16s\tremaining: 2m 37s\n",
      "1050:\ttotal: 5m 32s\tremaining: 2m 21s\n",
      "1100:\ttotal: 5m 48s\tremaining: 2m 6s\n",
      "1150:\ttotal: 6m 4s\tremaining: 1m 50s\n",
      "1200:\ttotal: 6m 20s\tremaining: 1m 34s\n",
      "1250:\ttotal: 6m 36s\tremaining: 1m 18s\n",
      "1300:\ttotal: 6m 51s\tremaining: 1m 3s\n",
      "1350:\ttotal: 7m 7s\tremaining: 47.2s\n",
      "1400:\ttotal: 7m 23s\tremaining: 31.4s\n",
      "1450:\ttotal: 7m 40s\tremaining: 15.5s\n",
      "1499:\ttotal: 7m 55s\tremaining: 0us\n",
      "Fold: 2, train-observations = 144000, valid-observations = 36000\n",
      "train-score = 0.9213, valid-score = 0.9033\n",
      "=====================================================================\n",
      "0:\ttotal: 356ms\tremaining: 8m 53s\n",
      "50:\ttotal: 15.7s\tremaining: 7m 26s\n",
      "100:\ttotal: 31.4s\tremaining: 7m 15s\n",
      "150:\ttotal: 47.6s\tremaining: 7m 4s\n",
      "200:\ttotal: 1m 3s\tremaining: 6m 51s\n",
      "250:\ttotal: 1m 19s\tremaining: 6m 37s\n",
      "300:\ttotal: 1m 35s\tremaining: 6m 19s\n",
      "350:\ttotal: 1m 50s\tremaining: 6m 3s\n",
      "400:\ttotal: 2m 7s\tremaining: 5m 48s\n",
      "450:\ttotal: 2m 22s\tremaining: 5m 32s\n",
      "500:\ttotal: 2m 38s\tremaining: 5m 16s\n",
      "550:\ttotal: 2m 54s\tremaining: 5m\n",
      "600:\ttotal: 3m 11s\tremaining: 4m 45s\n",
      "650:\ttotal: 3m 27s\tremaining: 4m 30s\n",
      "700:\ttotal: 3m 43s\tremaining: 4m 14s\n",
      "750:\ttotal: 3m 59s\tremaining: 3m 58s\n",
      "800:\ttotal: 4m 15s\tremaining: 3m 42s\n",
      "850:\ttotal: 4m 31s\tremaining: 3m 26s\n",
      "900:\ttotal: 4m 46s\tremaining: 3m 10s\n",
      "950:\ttotal: 5m 2s\tremaining: 2m 54s\n",
      "1000:\ttotal: 5m 17s\tremaining: 2m 38s\n",
      "1050:\ttotal: 5m 33s\tremaining: 2m 22s\n",
      "1100:\ttotal: 5m 48s\tremaining: 2m 6s\n",
      "1150:\ttotal: 6m 3s\tremaining: 1m 50s\n",
      "1200:\ttotal: 6m 19s\tremaining: 1m 34s\n",
      "1250:\ttotal: 6m 34s\tremaining: 1m 18s\n",
      "1300:\ttotal: 6m 48s\tremaining: 1m 2s\n",
      "1350:\ttotal: 7m 2s\tremaining: 46.6s\n",
      "1400:\ttotal: 7m 16s\tremaining: 30.9s\n",
      "1450:\ttotal: 7m 30s\tremaining: 15.2s\n",
      "1499:\ttotal: 7m 44s\tremaining: 0us\n",
      "Fold: 3, train-observations = 144000, valid-observations = 36000\n",
      "train-score = 0.9159, valid-score = 0.9063\n",
      "=====================================================================\n",
      "0:\ttotal: 364ms\tremaining: 9m 5s\n",
      "50:\ttotal: 15.5s\tremaining: 7m 19s\n",
      "100:\ttotal: 30.8s\tremaining: 7m 6s\n",
      "150:\ttotal: 46.1s\tremaining: 6m 51s\n",
      "200:\ttotal: 1m 1s\tremaining: 6m 38s\n",
      "250:\ttotal: 1m 17s\tremaining: 6m 23s\n",
      "300:\ttotal: 1m 32s\tremaining: 6m 7s\n",
      "350:\ttotal: 1m 46s\tremaining: 5m 50s\n",
      "400:\ttotal: 2m 1s\tremaining: 5m 33s\n",
      "450:\ttotal: 2m 16s\tremaining: 5m 17s\n",
      "500:\ttotal: 2m 31s\tremaining: 5m 1s\n",
      "550:\ttotal: 2m 46s\tremaining: 4m 47s\n",
      "600:\ttotal: 3m 2s\tremaining: 4m 32s\n",
      "650:\ttotal: 3m 17s\tremaining: 4m 17s\n",
      "700:\ttotal: 3m 32s\tremaining: 4m 2s\n",
      "750:\ttotal: 3m 47s\tremaining: 3m 47s\n",
      "800:\ttotal: 4m 2s\tremaining: 3m 31s\n",
      "850:\ttotal: 4m 17s\tremaining: 3m 16s\n",
      "900:\ttotal: 4m 33s\tremaining: 3m 1s\n",
      "950:\ttotal: 4m 48s\tremaining: 2m 46s\n",
      "1000:\ttotal: 5m 4s\tremaining: 2m 31s\n",
      "1050:\ttotal: 5m 19s\tremaining: 2m 16s\n",
      "1100:\ttotal: 5m 34s\tremaining: 2m 1s\n",
      "1150:\ttotal: 5m 49s\tremaining: 1m 46s\n",
      "1200:\ttotal: 6m 5s\tremaining: 1m 30s\n",
      "1250:\ttotal: 6m 20s\tremaining: 1m 15s\n",
      "1300:\ttotal: 6m 35s\tremaining: 1m\n",
      "1350:\ttotal: 6m 49s\tremaining: 45.2s\n",
      "1400:\ttotal: 7m 4s\tremaining: 30s\n",
      "1450:\ttotal: 7m 19s\tremaining: 14.8s\n",
      "1499:\ttotal: 7m 33s\tremaining: 0us\n",
      "Fold: 4, train-observations = 144000, valid-observations = 36000\n",
      "train-score = 0.9181, valid-score = 0.8946\n",
      "=====================================================================\n",
      "0:\ttotal: 357ms\tremaining: 8m 55s\n",
      "50:\ttotal: 15.9s\tremaining: 7m 31s\n",
      "100:\ttotal: 32s\tremaining: 7m 22s\n",
      "150:\ttotal: 48.5s\tremaining: 7m 13s\n",
      "200:\ttotal: 1m 4s\tremaining: 6m 57s\n",
      "250:\ttotal: 1m 20s\tremaining: 6m 40s\n",
      "300:\ttotal: 1m 36s\tremaining: 6m 24s\n",
      "350:\ttotal: 1m 52s\tremaining: 6m 7s\n",
      "400:\ttotal: 2m 7s\tremaining: 5m 49s\n",
      "450:\ttotal: 2m 23s\tremaining: 5m 32s\n",
      "500:\ttotal: 2m 38s\tremaining: 5m 16s\n",
      "550:\ttotal: 2m 55s\tremaining: 5m 1s\n",
      "600:\ttotal: 3m 11s\tremaining: 4m 46s\n",
      "650:\ttotal: 3m 27s\tremaining: 4m 30s\n",
      "700:\ttotal: 3m 44s\tremaining: 4m 15s\n",
      "750:\ttotal: 4m 1s\tremaining: 4m\n",
      "800:\ttotal: 4m 18s\tremaining: 3m 45s\n",
      "850:\ttotal: 4m 34s\tremaining: 3m 29s\n",
      "900:\ttotal: 4m 49s\tremaining: 3m 12s\n",
      "950:\ttotal: 5m 5s\tremaining: 2m 56s\n",
      "1000:\ttotal: 5m 20s\tremaining: 2m 40s\n",
      "1050:\ttotal: 5m 37s\tremaining: 2m 24s\n",
      "1100:\ttotal: 5m 52s\tremaining: 2m 7s\n",
      "1150:\ttotal: 6m 8s\tremaining: 1m 51s\n",
      "1200:\ttotal: 6m 23s\tremaining: 1m 35s\n",
      "1250:\ttotal: 6m 39s\tremaining: 1m 19s\n",
      "1300:\ttotal: 6m 55s\tremaining: 1m 3s\n",
      "1350:\ttotal: 7m 10s\tremaining: 47.5s\n",
      "1400:\ttotal: 7m 25s\tremaining: 31.5s\n",
      "1450:\ttotal: 7m 39s\tremaining: 15.5s\n",
      "1499:\ttotal: 7m 53s\tremaining: 0us\n",
      "Fold: 5, train-observations = 144000, valid-observations = 36000\n",
      "train-score = 0.9144, valid-score = 0.8835\n",
      "=====================================================================\n",
      "CV-results train: 0.9179 +/- 0.002\n",
      "CV-results valid: 0.8938 +/- 0.01\n",
      "OOF-score = 0.8923\n",
      "[<catboost.core.CatBoostClassifier object at 0x000001E6F9405588>, <catboost.core.CatBoostClassifier object at 0x000001E6F9405588>, <catboost.core.CatBoostClassifier object at 0x000001E6F9405588>, <catboost.core.CatBoostClassifier object at 0x000001E6F9405588>, <catboost.core.CatBoostClassifier object at 0x000001E6F9405588>] 0.8923313519245444 [0.919694163648039, 0.9212761573323609, 0.9158920693749049, 0.9181201698502006, 0.914370345220276] [0.8811361928399428, 0.9033207004122825, 0.9062853895567332, 0.8945993950365204, 0.8835235944553022] [0.01173027 0.02674102 0.00661332 ... 0.01320118 0.00909323 0.01984083]\n",
      "Wall time: 39min 4s\n"
     ]
    }
   ],
   "source": [
    "%%time\n",
    "cv_strategy = KFold(n_splits=5)\n",
    "\n",
    "estimators, oof_score, fold_train_scores, fold_valid_scores, oof_predictions = make_cross_validation(\n",
    "    train.drop('isFraud', axis=1), train['isFraud'], model_cb7, metric=roc_auc_score, cv_strategy=cv_strategy\n",
    ")"
   ]
  },
  {
   "cell_type": "code",
   "execution_count": 86,
   "metadata": {},
   "outputs": [
    {
     "data": {
      "text/plain": [
       "0.8695781716971943"
      ]
     },
     "execution_count": 86,
     "metadata": {},
     "output_type": "execute_result"
    }
   ],
   "source": [
    "model_cb7_pred_proba = model_cb7.predict_proba(X_test_catb)\n",
    "roc_auc_score(y_test_catb, model_cb7_pred_proba[:,1])"
   ]
  },
  {
   "cell_type": "markdown",
   "metadata": {},
   "source": [
    "Выводы: Кросс-валидация устойчивая на всех фолдах, дисперсия низкая. "
   ]
  },
  {
   "cell_type": "code",
   "execution_count": null,
   "metadata": {},
   "outputs": [],
   "source": []
  }
 ],
 "metadata": {
  "colab": {
   "name": "035b8a0e7096fceb77c734f1c4a117ef.ipynb",
   "provenance": []
  },
  "kernelspec": {
   "display_name": "Python 3",
   "language": "python",
   "name": "python3"
  },
  "language_info": {
   "codemirror_mode": {
    "name": "ipython",
    "version": 3
   },
   "file_extension": ".py",
   "mimetype": "text/x-python",
   "name": "python",
   "nbconvert_exporter": "python",
   "pygments_lexer": "ipython3",
   "version": "3.7.6"
  }
 },
 "nbformat": 4,
 "nbformat_minor": 1
}
