{
 "cells": [
  {
   "cell_type": "markdown",
   "metadata": {},
   "source": [
    "## Урок 5"
   ]
  },
  {
   "cell_type": "code",
   "execution_count": 1,
   "metadata": {},
   "outputs": [],
   "source": [
    "from typing import List, Optional\n",
    "from tqdm import tqdm\n",
    "\n",
    "import numpy as np\n",
    "import pandas as pd\n",
    "import matplotlib as mpl\n",
    "import matplotlib.pyplot as plt\n",
    "\n",
    "import seaborn as sns\n",
    "import scipy.stats as st\n",
    "from scipy.stats import probplot, ks_2samp\n",
    "\n",
    "from sklearn.metrics import roc_auc_score\n",
    "from sklearn.ensemble import RandomForestClassifier\n",
    "from sklearn.model_selection import KFold, cross_val_score\n",
    "from sklearn.base import BaseEstimator, TransformerMixin\n",
    "from sklearn.utils.validation import check_is_fitted\n",
    "import missingno as msno\n",
    "import xgboost as xgb\n",
    "\n",
    "from sklearn.metrics import (roc_auc_score, roc_curve, auc, confusion_matrix, accuracy_score, \\\n",
    "                            classification_report, plot_confusion_matrix, plot_precision_recall_curve, \\\n",
    "                            precision_recall_curve, recall_score, plot_roc_curve)\n",
    "import catboost as cb\n",
    "import xgboost as xgb\n",
    "from xgboost import XGBClassifier\n",
    "\n",
    "from sklearn.model_selection import train_test_split\n",
    "from sklearn.metrics import roc_auc_score\n",
    "# plt.style.use('fivethirtyeight')\n",
    "# %config InlineBackend.figure_format = 'svg'\n",
    "%matplotlib inline\n",
    "import warnings\n",
    "warnings.filterwarnings('ignore')\n",
    "\n",
    "from lightgbm import LGBMClassifier\n",
    "import lightgbm as lgb"
   ]
  },
  {
   "cell_type": "code",
   "execution_count": 2,
   "metadata": {},
   "outputs": [],
   "source": [
    "def reduce_mem_usage(df):\n",
    "    \"\"\" iterate through all the columns of a dataframe and modify the data type\n",
    "        to reduce memory usage.        \n",
    "    \"\"\"\n",
    "    start_mem = df.memory_usage().sum() / 1024**2\n",
    "    print('Memory usage of dataframe is {:.2f} MB'.format(start_mem))\n",
    "    for col in df.columns:\n",
    "        col_type = df[col].dtype\n",
    "        if col_type != object:\n",
    "            c_min = df[col].min()\n",
    "            c_max = df[col].max()\n",
    "            if str(col_type)[:3] == 'int':\n",
    "                if c_min > np.iinfo(np.int8).min and c_max < np.iinfo(np.int8).max:\n",
    "                    df[col] = df[col].astype(np.int8)\n",
    "                elif c_min > np.iinfo(np.int16).min and c_max < np.iinfo(np.int16).max:\n",
    "                    df[col] = df[col].astype(np.int16)\n",
    "                elif c_min > np.iinfo(np.int32).min and c_max < np.iinfo(np.int32).max:\n",
    "                    df[col] = df[col].astype(np.int32)\n",
    "                elif c_min > np.iinfo(np.int64).min and c_max < np.iinfo(np.int64).max:\n",
    "                    df[col] = df[col].astype(np.int64)\n",
    "            else:\n",
    "                if c_min > np.finfo(np.float32).min and c_max < np.finfo(np.float32).max:\n",
    "                    df[col] = df[col].astype(np.float32)\n",
    "                else:\n",
    "                    df[col] = df[col].astype(np.float64)\n",
    "        else:\n",
    "            df[col] = df[col].astype('category')\n",
    "    end_mem = df.memory_usage().sum() / 1024**2\n",
    "    print('Memory usage after optimization is: {:.2f} MB'.format(end_mem))\n",
    "    print('Decreased by {:.1f}%'.format(\n",
    "        100 * (start_mem - end_mem) / start_mem))\n",
    "\n",
    "    return df"
   ]
  },
  {
   "cell_type": "code",
   "execution_count": 3,
   "metadata": {},
   "outputs": [
    {
     "name": "stdout",
     "output_type": "stream",
     "text": [
      "Memory usage of dataframe is 541.08 MB\n",
      "Memory usage after optimization is: 262.48 MB\n",
      "Decreased by 51.5%\n",
      "Memory usage of dataframe is 300.60 MB\n",
      "Memory usage after optimization is: 145.83 MB\n",
      "Decreased by 51.5%\n"
     ]
    }
   ],
   "source": [
    "train = reduce_mem_usage(pd.read_csv(r\"./assignment_2_train.csv\"))\n",
    "test = reduce_mem_usage(pd.read_csv(r\"./assignment_2_test.csv\"))"
   ]
  },
  {
   "cell_type": "code",
   "execution_count": 4,
   "metadata": {},
   "outputs": [
    {
     "data": {
      "text/html": [
       "<div>\n",
       "<style scoped>\n",
       "    .dataframe tbody tr th:only-of-type {\n",
       "        vertical-align: middle;\n",
       "    }\n",
       "\n",
       "    .dataframe tbody tr th {\n",
       "        vertical-align: top;\n",
       "    }\n",
       "\n",
       "    .dataframe thead th {\n",
       "        text-align: right;\n",
       "    }\n",
       "</style>\n",
       "<table border=\"1\" class=\"dataframe\">\n",
       "  <thead>\n",
       "    <tr style=\"text-align: right;\">\n",
       "      <th></th>\n",
       "      <th>TransactionID</th>\n",
       "      <th>isFraud</th>\n",
       "      <th>TransactionDT</th>\n",
       "      <th>TransactionAmt</th>\n",
       "      <th>ProductCD</th>\n",
       "      <th>card1</th>\n",
       "      <th>card2</th>\n",
       "      <th>card3</th>\n",
       "      <th>card4</th>\n",
       "      <th>card5</th>\n",
       "      <th>...</th>\n",
       "      <th>V330</th>\n",
       "      <th>V331</th>\n",
       "      <th>V332</th>\n",
       "      <th>V333</th>\n",
       "      <th>V334</th>\n",
       "      <th>V335</th>\n",
       "      <th>V336</th>\n",
       "      <th>V337</th>\n",
       "      <th>V338</th>\n",
       "      <th>V339</th>\n",
       "    </tr>\n",
       "  </thead>\n",
       "  <tbody>\n",
       "    <tr>\n",
       "      <th>0</th>\n",
       "      <td>2987000</td>\n",
       "      <td>0</td>\n",
       "      <td>86400</td>\n",
       "      <td>68.5</td>\n",
       "      <td>W</td>\n",
       "      <td>13926</td>\n",
       "      <td>NaN</td>\n",
       "      <td>150.0</td>\n",
       "      <td>discover</td>\n",
       "      <td>142.0</td>\n",
       "      <td>...</td>\n",
       "      <td>NaN</td>\n",
       "      <td>NaN</td>\n",
       "      <td>NaN</td>\n",
       "      <td>NaN</td>\n",
       "      <td>NaN</td>\n",
       "      <td>NaN</td>\n",
       "      <td>NaN</td>\n",
       "      <td>NaN</td>\n",
       "      <td>NaN</td>\n",
       "      <td>NaN</td>\n",
       "    </tr>\n",
       "    <tr>\n",
       "      <th>1</th>\n",
       "      <td>2987001</td>\n",
       "      <td>0</td>\n",
       "      <td>86401</td>\n",
       "      <td>29.0</td>\n",
       "      <td>W</td>\n",
       "      <td>2755</td>\n",
       "      <td>404.0</td>\n",
       "      <td>150.0</td>\n",
       "      <td>mastercard</td>\n",
       "      <td>102.0</td>\n",
       "      <td>...</td>\n",
       "      <td>NaN</td>\n",
       "      <td>NaN</td>\n",
       "      <td>NaN</td>\n",
       "      <td>NaN</td>\n",
       "      <td>NaN</td>\n",
       "      <td>NaN</td>\n",
       "      <td>NaN</td>\n",
       "      <td>NaN</td>\n",
       "      <td>NaN</td>\n",
       "      <td>NaN</td>\n",
       "    </tr>\n",
       "  </tbody>\n",
       "</table>\n",
       "<p>2 rows × 394 columns</p>\n",
       "</div>"
      ],
      "text/plain": [
       "   TransactionID  isFraud  TransactionDT  TransactionAmt ProductCD  card1  \\\n",
       "0        2987000        0          86400            68.5         W  13926   \n",
       "1        2987001        0          86401            29.0         W   2755   \n",
       "\n",
       "   card2  card3       card4  card5  ... V330  V331  V332  V333  V334 V335  \\\n",
       "0    NaN  150.0    discover  142.0  ...  NaN   NaN   NaN   NaN   NaN  NaN   \n",
       "1  404.0  150.0  mastercard  102.0  ...  NaN   NaN   NaN   NaN   NaN  NaN   \n",
       "\n",
       "  V336  V337  V338  V339  \n",
       "0  NaN   NaN   NaN   NaN  \n",
       "1  NaN   NaN   NaN   NaN  \n",
       "\n",
       "[2 rows x 394 columns]"
      ]
     },
     "execution_count": 4,
     "metadata": {},
     "output_type": "execute_result"
    }
   ],
   "source": [
    "train.head(2)"
   ]
  },
  {
   "cell_type": "code",
   "execution_count": 5,
   "metadata": {},
   "outputs": [
    {
     "data": {
      "text/html": [
       "<div>\n",
       "<style scoped>\n",
       "    .dataframe tbody tr th:only-of-type {\n",
       "        vertical-align: middle;\n",
       "    }\n",
       "\n",
       "    .dataframe tbody tr th {\n",
       "        vertical-align: top;\n",
       "    }\n",
       "\n",
       "    .dataframe thead th {\n",
       "        text-align: right;\n",
       "    }\n",
       "</style>\n",
       "<table border=\"1\" class=\"dataframe\">\n",
       "  <thead>\n",
       "    <tr style=\"text-align: right;\">\n",
       "      <th></th>\n",
       "      <th>TransactionID</th>\n",
       "      <th>isFraud</th>\n",
       "      <th>TransactionDT</th>\n",
       "      <th>TransactionAmt</th>\n",
       "      <th>ProductCD</th>\n",
       "      <th>card1</th>\n",
       "      <th>card2</th>\n",
       "      <th>card3</th>\n",
       "      <th>card4</th>\n",
       "      <th>card5</th>\n",
       "      <th>...</th>\n",
       "      <th>V330</th>\n",
       "      <th>V331</th>\n",
       "      <th>V332</th>\n",
       "      <th>V333</th>\n",
       "      <th>V334</th>\n",
       "      <th>V335</th>\n",
       "      <th>V336</th>\n",
       "      <th>V337</th>\n",
       "      <th>V338</th>\n",
       "      <th>V339</th>\n",
       "    </tr>\n",
       "  </thead>\n",
       "  <tbody>\n",
       "    <tr>\n",
       "      <th>0</th>\n",
       "      <td>3287000</td>\n",
       "      <td>1</td>\n",
       "      <td>7415038</td>\n",
       "      <td>226.0</td>\n",
       "      <td>W</td>\n",
       "      <td>12473</td>\n",
       "      <td>555.0</td>\n",
       "      <td>150.0</td>\n",
       "      <td>visa</td>\n",
       "      <td>226.0</td>\n",
       "      <td>...</td>\n",
       "      <td>NaN</td>\n",
       "      <td>NaN</td>\n",
       "      <td>NaN</td>\n",
       "      <td>NaN</td>\n",
       "      <td>NaN</td>\n",
       "      <td>NaN</td>\n",
       "      <td>NaN</td>\n",
       "      <td>NaN</td>\n",
       "      <td>NaN</td>\n",
       "      <td>NaN</td>\n",
       "    </tr>\n",
       "    <tr>\n",
       "      <th>1</th>\n",
       "      <td>3287001</td>\n",
       "      <td>0</td>\n",
       "      <td>7415054</td>\n",
       "      <td>3072.0</td>\n",
       "      <td>W</td>\n",
       "      <td>15651</td>\n",
       "      <td>417.0</td>\n",
       "      <td>150.0</td>\n",
       "      <td>visa</td>\n",
       "      <td>226.0</td>\n",
       "      <td>...</td>\n",
       "      <td>NaN</td>\n",
       "      <td>NaN</td>\n",
       "      <td>NaN</td>\n",
       "      <td>NaN</td>\n",
       "      <td>NaN</td>\n",
       "      <td>NaN</td>\n",
       "      <td>NaN</td>\n",
       "      <td>NaN</td>\n",
       "      <td>NaN</td>\n",
       "      <td>NaN</td>\n",
       "    </tr>\n",
       "  </tbody>\n",
       "</table>\n",
       "<p>2 rows × 394 columns</p>\n",
       "</div>"
      ],
      "text/plain": [
       "   TransactionID  isFraud  TransactionDT  TransactionAmt ProductCD  card1  \\\n",
       "0        3287000        1        7415038           226.0         W  12473   \n",
       "1        3287001        0        7415054          3072.0         W  15651   \n",
       "\n",
       "   card2  card3 card4  card5  ... V330  V331  V332  V333  V334 V335 V336  \\\n",
       "0  555.0  150.0  visa  226.0  ...  NaN   NaN   NaN   NaN   NaN  NaN  NaN   \n",
       "1  417.0  150.0  visa  226.0  ...  NaN   NaN   NaN   NaN   NaN  NaN  NaN   \n",
       "\n",
       "   V337  V338  V339  \n",
       "0   NaN   NaN   NaN  \n",
       "1   NaN   NaN   NaN  \n",
       "\n",
       "[2 rows x 394 columns]"
      ]
     },
     "execution_count": 5,
     "metadata": {},
     "output_type": "execute_result"
    }
   ],
   "source": [
    "test.head(2)"
   ]
  },
  {
   "cell_type": "markdown",
   "metadata": {},
   "source": [
    "### Задание 0: построить базовую модель."
   ]
  },
  {
   "cell_type": "code",
   "execution_count": 7,
   "metadata": {},
   "outputs": [],
   "source": [
    "def get_train_and_split(train):\n",
    "    cat_cols = train.select_dtypes(include=['category', 'object']).columns.tolist()\n",
    "    \n",
    "    # Преобразуем сначала object в category, потому что LGBM работает с категорями\n",
    "    for feature in cat_cols:\n",
    "        train[feature] = pd.Series(train[feature], dtype=\"category\")\n",
    "    \n",
    "    X = train.drop(['isFraud'], axis=1)\n",
    "    y = train['isFraud']\n",
    "\n",
    "    X_train, X_valid, y_train, y_valid = train_test_split(X, y, test_size=0.3, random_state=99)\n",
    "    \n",
    "    return X_train, X_valid, y_train, y_valid, cat_cols"
   ]
  },
  {
   "cell_type": "code",
   "execution_count": 8,
   "metadata": {},
   "outputs": [],
   "source": [
    "params = {\n",
    "    \"boosting_type\": \"gbdt\",\n",
    "    \"objective\": \"binary\",\n",
    "    \"metric\": \"auc\",\n",
    "    \"learning_rate\": 0.01,\n",
    "    \"n_estimators\": 1000,\n",
    "    \"n_jobs\": 6,\n",
    "    \"seed\": 99\n",
    "}"
   ]
  },
  {
   "cell_type": "code",
   "execution_count": 9,
   "metadata": {},
   "outputs": [],
   "source": [
    "X_train, X_valid, y_train, y_valid, cat_cols = get_train_and_split(train)"
   ]
  },
  {
   "cell_type": "code",
   "execution_count": 10,
   "metadata": {},
   "outputs": [
    {
     "name": "stdout",
     "output_type": "stream",
     "text": [
      "Training until validation scores don't improve for 25 rounds\n",
      "[25]\ttraining's auc: 0.86501\tvalid_1's auc: 0.856429\n",
      "[50]\ttraining's auc: 0.882889\tvalid_1's auc: 0.873321\n",
      "[75]\ttraining's auc: 0.895319\tvalid_1's auc: 0.883766\n",
      "[100]\ttraining's auc: 0.902809\tvalid_1's auc: 0.891425\n",
      "[125]\ttraining's auc: 0.907445\tvalid_1's auc: 0.895538\n",
      "[150]\ttraining's auc: 0.912388\tvalid_1's auc: 0.89913\n",
      "[175]\ttraining's auc: 0.917652\tvalid_1's auc: 0.901404\n",
      "[200]\ttraining's auc: 0.922074\tvalid_1's auc: 0.90415\n",
      "[225]\ttraining's auc: 0.926308\tvalid_1's auc: 0.906693\n",
      "[250]\ttraining's auc: 0.930318\tvalid_1's auc: 0.909918\n",
      "[275]\ttraining's auc: 0.933664\tvalid_1's auc: 0.912505\n",
      "[300]\ttraining's auc: 0.93661\tvalid_1's auc: 0.914988\n",
      "[325]\ttraining's auc: 0.93972\tvalid_1's auc: 0.916854\n",
      "[350]\ttraining's auc: 0.942434\tvalid_1's auc: 0.918379\n",
      "[375]\ttraining's auc: 0.945284\tvalid_1's auc: 0.920736\n",
      "[400]\ttraining's auc: 0.947663\tvalid_1's auc: 0.922354\n",
      "[425]\ttraining's auc: 0.950029\tvalid_1's auc: 0.923984\n",
      "[450]\ttraining's auc: 0.952409\tvalid_1's auc: 0.925549\n",
      "[475]\ttraining's auc: 0.954771\tvalid_1's auc: 0.926816\n",
      "[500]\ttraining's auc: 0.956528\tvalid_1's auc: 0.927768\n",
      "[525]\ttraining's auc: 0.958362\tvalid_1's auc: 0.92883\n",
      "[550]\ttraining's auc: 0.959761\tvalid_1's auc: 0.929624\n",
      "[575]\ttraining's auc: 0.961038\tvalid_1's auc: 0.930392\n",
      "[600]\ttraining's auc: 0.962567\tvalid_1's auc: 0.931128\n",
      "[625]\ttraining's auc: 0.964023\tvalid_1's auc: 0.932035\n",
      "[650]\ttraining's auc: 0.965394\tvalid_1's auc: 0.93247\n",
      "[675]\ttraining's auc: 0.966662\tvalid_1's auc: 0.932887\n",
      "[700]\ttraining's auc: 0.967876\tvalid_1's auc: 0.933294\n",
      "[725]\ttraining's auc: 0.968818\tvalid_1's auc: 0.933819\n",
      "[750]\ttraining's auc: 0.969723\tvalid_1's auc: 0.934418\n",
      "[775]\ttraining's auc: 0.970599\tvalid_1's auc: 0.934898\n",
      "[800]\ttraining's auc: 0.971463\tvalid_1's auc: 0.935206\n",
      "[825]\ttraining's auc: 0.972312\tvalid_1's auc: 0.935493\n",
      "[850]\ttraining's auc: 0.972973\tvalid_1's auc: 0.935919\n",
      "[875]\ttraining's auc: 0.973654\tvalid_1's auc: 0.93637\n",
      "[900]\ttraining's auc: 0.974394\tvalid_1's auc: 0.936757\n",
      "[925]\ttraining's auc: 0.975108\tvalid_1's auc: 0.937215\n",
      "[950]\ttraining's auc: 0.975658\tvalid_1's auc: 0.937612\n",
      "[975]\ttraining's auc: 0.976277\tvalid_1's auc: 0.938055\n",
      "[1000]\ttraining's auc: 0.976857\tvalid_1's auc: 0.938427\n",
      "Did not meet early stopping. Best iteration is:\n",
      "[1000]\ttraining's auc: 0.976857\tvalid_1's auc: 0.938427\n"
     ]
    },
    {
     "data": {
      "text/plain": [
       "LGBMClassifier(learning_rate=0.01, metric='auc', n_estimators=1000, n_jobs=6,\n",
       "               objective='binary', seed=99)"
      ]
     },
     "execution_count": 10,
     "metadata": {},
     "output_type": "execute_result"
    }
   ],
   "source": [
    "model_lgbm0 = LGBMClassifier(**params)\n",
    "model_lgbm0.fit(\n",
    "    categorical_feature=cat_cols,\n",
    "    X=X_train,\n",
    "    y=y_train,\n",
    "    eval_set=[(X_train, y_train), (X_valid, y_valid)],\n",
    "    early_stopping_rounds=25,\n",
    "    eval_metric=\"auc\",\n",
    "    verbose=25\n",
    ")"
   ]
  },
  {
   "cell_type": "code",
   "execution_count": 11,
   "metadata": {},
   "outputs": [
    {
     "data": {
      "text/plain": [
       "(0.976857061341522, 0.9384269116413441)"
      ]
     },
     "execution_count": 11,
     "metadata": {},
     "output_type": "execute_result"
    }
   ],
   "source": [
    "model0_train, model0_valid = model_lgbm0.best_score_.get('training').get('auc'), model_lgbm0.best_score_.get('valid_1').get('auc')\n",
    "model0_train, model0_valid"
   ]
  },
  {
   "cell_type": "markdown",
   "metadata": {},
   "source": [
    "### Задание 1: признак TransactionDT - это смещение в секундах относительно базовой даты. Базовая дата - 2017-12-01,  преобразовать признак TransactionDT в datetime, прибавив к базовой дате исходное значение признака. Из полученного признака выделить год, месяц, день недели, час, день."
   ]
  },
  {
   "cell_type": "code",
   "execution_count": 12,
   "metadata": {},
   "outputs": [],
   "source": [
    "train1 = train.copy() "
   ]
  },
  {
   "cell_type": "code",
   "execution_count": 13,
   "metadata": {},
   "outputs": [
    {
     "data": {
      "text/html": [
       "<div>\n",
       "<style scoped>\n",
       "    .dataframe tbody tr th:only-of-type {\n",
       "        vertical-align: middle;\n",
       "    }\n",
       "\n",
       "    .dataframe tbody tr th {\n",
       "        vertical-align: top;\n",
       "    }\n",
       "\n",
       "    .dataframe thead th {\n",
       "        text-align: right;\n",
       "    }\n",
       "</style>\n",
       "<table border=\"1\" class=\"dataframe\">\n",
       "  <thead>\n",
       "    <tr style=\"text-align: right;\">\n",
       "      <th></th>\n",
       "      <th>TransactionID</th>\n",
       "      <th>isFraud</th>\n",
       "      <th>TransactionDT</th>\n",
       "      <th>TransactionAmt</th>\n",
       "      <th>ProductCD</th>\n",
       "      <th>card1</th>\n",
       "      <th>card2</th>\n",
       "      <th>card3</th>\n",
       "      <th>card4</th>\n",
       "      <th>card5</th>\n",
       "      <th>...</th>\n",
       "      <th>V330</th>\n",
       "      <th>V331</th>\n",
       "      <th>V332</th>\n",
       "      <th>V333</th>\n",
       "      <th>V334</th>\n",
       "      <th>V335</th>\n",
       "      <th>V336</th>\n",
       "      <th>V337</th>\n",
       "      <th>V338</th>\n",
       "      <th>V339</th>\n",
       "    </tr>\n",
       "  </thead>\n",
       "  <tbody>\n",
       "    <tr>\n",
       "      <th>0</th>\n",
       "      <td>2987000</td>\n",
       "      <td>0</td>\n",
       "      <td>86400</td>\n",
       "      <td>68.5</td>\n",
       "      <td>W</td>\n",
       "      <td>13926</td>\n",
       "      <td>NaN</td>\n",
       "      <td>150.0</td>\n",
       "      <td>discover</td>\n",
       "      <td>142.0</td>\n",
       "      <td>...</td>\n",
       "      <td>NaN</td>\n",
       "      <td>NaN</td>\n",
       "      <td>NaN</td>\n",
       "      <td>NaN</td>\n",
       "      <td>NaN</td>\n",
       "      <td>NaN</td>\n",
       "      <td>NaN</td>\n",
       "      <td>NaN</td>\n",
       "      <td>NaN</td>\n",
       "      <td>NaN</td>\n",
       "    </tr>\n",
       "    <tr>\n",
       "      <th>1</th>\n",
       "      <td>2987001</td>\n",
       "      <td>0</td>\n",
       "      <td>86401</td>\n",
       "      <td>29.0</td>\n",
       "      <td>W</td>\n",
       "      <td>2755</td>\n",
       "      <td>404.0</td>\n",
       "      <td>150.0</td>\n",
       "      <td>mastercard</td>\n",
       "      <td>102.0</td>\n",
       "      <td>...</td>\n",
       "      <td>NaN</td>\n",
       "      <td>NaN</td>\n",
       "      <td>NaN</td>\n",
       "      <td>NaN</td>\n",
       "      <td>NaN</td>\n",
       "      <td>NaN</td>\n",
       "      <td>NaN</td>\n",
       "      <td>NaN</td>\n",
       "      <td>NaN</td>\n",
       "      <td>NaN</td>\n",
       "    </tr>\n",
       "  </tbody>\n",
       "</table>\n",
       "<p>2 rows × 394 columns</p>\n",
       "</div>"
      ],
      "text/plain": [
       "   TransactionID  isFraud  TransactionDT  TransactionAmt ProductCD  card1  \\\n",
       "0        2987000        0          86400            68.5         W  13926   \n",
       "1        2987001        0          86401            29.0         W   2755   \n",
       "\n",
       "   card2  card3       card4  card5  ... V330  V331  V332  V333  V334 V335  \\\n",
       "0    NaN  150.0    discover  142.0  ...  NaN   NaN   NaN   NaN   NaN  NaN   \n",
       "1  404.0  150.0  mastercard  102.0  ...  NaN   NaN   NaN   NaN   NaN  NaN   \n",
       "\n",
       "  V336  V337  V338  V339  \n",
       "0  NaN   NaN   NaN   NaN  \n",
       "1  NaN   NaN   NaN   NaN  \n",
       "\n",
       "[2 rows x 394 columns]"
      ]
     },
     "execution_count": 13,
     "metadata": {},
     "output_type": "execute_result"
    }
   ],
   "source": [
    "train1.head(2)"
   ]
  },
  {
   "cell_type": "code",
   "execution_count": 14,
   "metadata": {},
   "outputs": [],
   "source": [
    "# Перевести дату в секунды, прибавить исходное значение\n",
    "train1['TransactionDT'] = ((pd.to_datetime('2017-12-01') - pd.Timestamp(\"1970-01-01\")) // pd.Timedelta('1s')) + train1['TransactionDT']\n"
   ]
  },
  {
   "cell_type": "code",
   "execution_count": 15,
   "metadata": {},
   "outputs": [],
   "source": [
    "# # Год\n",
    "# pd.to_datetime(1512172800, unit='s').year\n",
    "train1['TransactionDT_year'] = pd.to_datetime([ii for ii in train1['TransactionDT']], unit='s').year\n",
    "\n",
    "# Месяц\n",
    "train1['TransactionDT_month'] = pd.to_datetime([ii for ii in train1['TransactionDT']], unit='s').month\n",
    "\n",
    "# День\n",
    "train1['TransactionDT_day'] = pd.to_datetime([ii for ii in train1['TransactionDT']], unit='s').day\n",
    "\n",
    "# День недели\n",
    "train1['TransactionDT_dayofweek'] = pd.to_datetime([ii for ii in train1['TransactionDT']], unit='s').dayofweek + 1\n",
    "\n",
    "# Час\n",
    "train1['TransactionDT_hour'] = pd.to_datetime([ii for ii in train1['TransactionDT']], unit='s').hour"
   ]
  },
  {
   "cell_type": "code",
   "execution_count": 16,
   "metadata": {},
   "outputs": [
    {
     "data": {
      "text/html": [
       "<div>\n",
       "<style scoped>\n",
       "    .dataframe tbody tr th:only-of-type {\n",
       "        vertical-align: middle;\n",
       "    }\n",
       "\n",
       "    .dataframe tbody tr th {\n",
       "        vertical-align: top;\n",
       "    }\n",
       "\n",
       "    .dataframe thead th {\n",
       "        text-align: right;\n",
       "    }\n",
       "</style>\n",
       "<table border=\"1\" class=\"dataframe\">\n",
       "  <thead>\n",
       "    <tr style=\"text-align: right;\">\n",
       "      <th></th>\n",
       "      <th>TransactionID</th>\n",
       "      <th>isFraud</th>\n",
       "      <th>TransactionDT</th>\n",
       "      <th>TransactionAmt</th>\n",
       "      <th>ProductCD</th>\n",
       "      <th>card1</th>\n",
       "      <th>card2</th>\n",
       "      <th>card3</th>\n",
       "      <th>card4</th>\n",
       "      <th>card5</th>\n",
       "      <th>...</th>\n",
       "      <th>V335</th>\n",
       "      <th>V336</th>\n",
       "      <th>V337</th>\n",
       "      <th>V338</th>\n",
       "      <th>V339</th>\n",
       "      <th>TransactionDT_year</th>\n",
       "      <th>TransactionDT_month</th>\n",
       "      <th>TransactionDT_day</th>\n",
       "      <th>TransactionDT_dayofweek</th>\n",
       "      <th>TransactionDT_hour</th>\n",
       "    </tr>\n",
       "  </thead>\n",
       "  <tbody>\n",
       "    <tr>\n",
       "      <th>0</th>\n",
       "      <td>2987000</td>\n",
       "      <td>0</td>\n",
       "      <td>1512172800</td>\n",
       "      <td>68.5</td>\n",
       "      <td>W</td>\n",
       "      <td>13926</td>\n",
       "      <td>NaN</td>\n",
       "      <td>150.0</td>\n",
       "      <td>discover</td>\n",
       "      <td>142.0</td>\n",
       "      <td>...</td>\n",
       "      <td>NaN</td>\n",
       "      <td>NaN</td>\n",
       "      <td>NaN</td>\n",
       "      <td>NaN</td>\n",
       "      <td>NaN</td>\n",
       "      <td>2017</td>\n",
       "      <td>12</td>\n",
       "      <td>2</td>\n",
       "      <td>6</td>\n",
       "      <td>0</td>\n",
       "    </tr>\n",
       "    <tr>\n",
       "      <th>1</th>\n",
       "      <td>2987001</td>\n",
       "      <td>0</td>\n",
       "      <td>1512172801</td>\n",
       "      <td>29.0</td>\n",
       "      <td>W</td>\n",
       "      <td>2755</td>\n",
       "      <td>404.0</td>\n",
       "      <td>150.0</td>\n",
       "      <td>mastercard</td>\n",
       "      <td>102.0</td>\n",
       "      <td>...</td>\n",
       "      <td>NaN</td>\n",
       "      <td>NaN</td>\n",
       "      <td>NaN</td>\n",
       "      <td>NaN</td>\n",
       "      <td>NaN</td>\n",
       "      <td>2017</td>\n",
       "      <td>12</td>\n",
       "      <td>2</td>\n",
       "      <td>6</td>\n",
       "      <td>0</td>\n",
       "    </tr>\n",
       "  </tbody>\n",
       "</table>\n",
       "<p>2 rows × 399 columns</p>\n",
       "</div>"
      ],
      "text/plain": [
       "   TransactionID  isFraud  TransactionDT  TransactionAmt ProductCD  card1  \\\n",
       "0        2987000        0     1512172800            68.5         W  13926   \n",
       "1        2987001        0     1512172801            29.0         W   2755   \n",
       "\n",
       "   card2  card3       card4  card5  ... V335  V336  V337  V338  V339  \\\n",
       "0    NaN  150.0    discover  142.0  ...  NaN   NaN   NaN   NaN   NaN   \n",
       "1  404.0  150.0  mastercard  102.0  ...  NaN   NaN   NaN   NaN   NaN   \n",
       "\n",
       "  TransactionDT_year TransactionDT_month  TransactionDT_day  \\\n",
       "0               2017                  12                  2   \n",
       "1               2017                  12                  2   \n",
       "\n",
       "   TransactionDT_dayofweek  TransactionDT_hour  \n",
       "0                        6                   0  \n",
       "1                        6                   0  \n",
       "\n",
       "[2 rows x 399 columns]"
      ]
     },
     "execution_count": 16,
     "metadata": {},
     "output_type": "execute_result"
    }
   ],
   "source": [
    "train1.head(2)"
   ]
  },
  {
   "cell_type": "code",
   "execution_count": 17,
   "metadata": {},
   "outputs": [
    {
     "name": "stdout",
     "output_type": "stream",
     "text": [
      "Training until validation scores don't improve for 25 rounds\n",
      "[25]\ttraining's auc: 0.866454\tvalid_1's auc: 0.857073\n",
      "[50]\ttraining's auc: 0.882464\tvalid_1's auc: 0.872832\n",
      "[75]\ttraining's auc: 0.895596\tvalid_1's auc: 0.884796\n",
      "[100]\ttraining's auc: 0.902863\tvalid_1's auc: 0.891598\n",
      "[125]\ttraining's auc: 0.90749\tvalid_1's auc: 0.895261\n",
      "[150]\ttraining's auc: 0.911791\tvalid_1's auc: 0.897705\n",
      "[175]\ttraining's auc: 0.917495\tvalid_1's auc: 0.901148\n",
      "[200]\ttraining's auc: 0.92152\tvalid_1's auc: 0.903695\n",
      "[225]\ttraining's auc: 0.92496\tvalid_1's auc: 0.906389\n",
      "[250]\ttraining's auc: 0.929331\tvalid_1's auc: 0.909661\n",
      "[275]\ttraining's auc: 0.93435\tvalid_1's auc: 0.912599\n",
      "[300]\ttraining's auc: 0.937983\tvalid_1's auc: 0.91522\n",
      "[325]\ttraining's auc: 0.941168\tvalid_1's auc: 0.917385\n",
      "[350]\ttraining's auc: 0.945457\tvalid_1's auc: 0.920077\n",
      "[375]\ttraining's auc: 0.94799\tvalid_1's auc: 0.921529\n",
      "[400]\ttraining's auc: 0.950141\tvalid_1's auc: 0.92325\n",
      "[425]\ttraining's auc: 0.952239\tvalid_1's auc: 0.924417\n",
      "[450]\ttraining's auc: 0.954475\tvalid_1's auc: 0.925458\n",
      "[475]\ttraining's auc: 0.956536\tvalid_1's auc: 0.926551\n",
      "[500]\ttraining's auc: 0.958244\tvalid_1's auc: 0.927549\n",
      "[525]\ttraining's auc: 0.9596\tvalid_1's auc: 0.928381\n",
      "[550]\ttraining's auc: 0.961272\tvalid_1's auc: 0.929467\n",
      "[575]\ttraining's auc: 0.962707\tvalid_1's auc: 0.930207\n",
      "[600]\ttraining's auc: 0.964017\tvalid_1's auc: 0.930767\n",
      "[625]\ttraining's auc: 0.965325\tvalid_1's auc: 0.931497\n",
      "[650]\ttraining's auc: 0.966629\tvalid_1's auc: 0.932106\n",
      "[675]\ttraining's auc: 0.967981\tvalid_1's auc: 0.932742\n",
      "[700]\ttraining's auc: 0.96923\tvalid_1's auc: 0.933336\n",
      "[725]\ttraining's auc: 0.970381\tvalid_1's auc: 0.933734\n",
      "[750]\ttraining's auc: 0.971337\tvalid_1's auc: 0.934115\n",
      "[775]\ttraining's auc: 0.972256\tvalid_1's auc: 0.934588\n",
      "[800]\ttraining's auc: 0.973147\tvalid_1's auc: 0.934956\n",
      "[825]\ttraining's auc: 0.973866\tvalid_1's auc: 0.935314\n",
      "[850]\ttraining's auc: 0.974682\tvalid_1's auc: 0.93568\n",
      "[875]\ttraining's auc: 0.975345\tvalid_1's auc: 0.936017\n",
      "[900]\ttraining's auc: 0.975923\tvalid_1's auc: 0.936399\n",
      "[925]\ttraining's auc: 0.976466\tvalid_1's auc: 0.936749\n",
      "[950]\ttraining's auc: 0.977198\tvalid_1's auc: 0.936965\n",
      "[975]\ttraining's auc: 0.977819\tvalid_1's auc: 0.937314\n",
      "[1000]\ttraining's auc: 0.978466\tvalid_1's auc: 0.937601\n",
      "Did not meet early stopping. Best iteration is:\n",
      "[1000]\ttraining's auc: 0.978466\tvalid_1's auc: 0.937601\n"
     ]
    },
    {
     "data": {
      "text/plain": [
       "LGBMClassifier(learning_rate=0.01, metric='auc', n_estimators=1000, n_jobs=6,\n",
       "               objective='binary', seed=99)"
      ]
     },
     "execution_count": 17,
     "metadata": {},
     "output_type": "execute_result"
    }
   ],
   "source": [
    "X_train1, X_valid1, y_train1, y_valid1, cat_cols1 = get_train_and_split(train1)\n",
    "model_lgbm1 = LGBMClassifier(**params)\n",
    "model_lgbm1.fit(\n",
    "    categorical_feature=cat_cols1,\n",
    "    X=X_train1,\n",
    "    y=y_train1,\n",
    "    eval_set=[(X_train1, y_train1), (X_valid1, y_valid1)],\n",
    "    early_stopping_rounds=25,\n",
    "    eval_metric=\"auc\",\n",
    "    verbose=25\n",
    ")"
   ]
  },
  {
   "cell_type": "code",
   "execution_count": 18,
   "metadata": {},
   "outputs": [
    {
     "data": {
      "text/plain": [
       "(0.9784660361710271, 0.9376012952504569)"
      ]
     },
     "execution_count": 18,
     "metadata": {},
     "output_type": "execute_result"
    }
   ],
   "source": [
    "model1_train, model1_valid = model_lgbm1.best_score_.get('training').get('auc'), model_lgbm1.best_score_.get('valid_1').get('auc')\n",
    "model1_train, model1_valid"
   ]
  },
  {
   "cell_type": "markdown",
   "metadata": {},
   "source": [
    "Выводы: преобразование TransactionDT и добавление новых фичей не дало прироста качества."
   ]
  },
  {
   "cell_type": "markdown",
   "metadata": {},
   "source": [
    "### Задание 2: сделать конкатенацию признаков\n",
    "* card1 + card2;\n",
    "* card1 + card2 + card_3 + card_5;\n",
    "* card1 + card2 + card_3 + card_5 + addr1 + addr2"
   ]
  },
  {
   "cell_type": "code",
   "execution_count": 19,
   "metadata": {},
   "outputs": [],
   "source": [
    "train2 = train.copy()"
   ]
  },
  {
   "cell_type": "code",
   "execution_count": 20,
   "metadata": {},
   "outputs": [
    {
     "data": {
      "text/html": [
       "<div>\n",
       "<style scoped>\n",
       "    .dataframe tbody tr th:only-of-type {\n",
       "        vertical-align: middle;\n",
       "    }\n",
       "\n",
       "    .dataframe tbody tr th {\n",
       "        vertical-align: top;\n",
       "    }\n",
       "\n",
       "    .dataframe thead th {\n",
       "        text-align: right;\n",
       "    }\n",
       "</style>\n",
       "<table border=\"1\" class=\"dataframe\">\n",
       "  <thead>\n",
       "    <tr style=\"text-align: right;\">\n",
       "      <th></th>\n",
       "      <th>TransactionID</th>\n",
       "      <th>isFraud</th>\n",
       "      <th>TransactionDT</th>\n",
       "      <th>TransactionAmt</th>\n",
       "      <th>ProductCD</th>\n",
       "      <th>card1</th>\n",
       "      <th>card2</th>\n",
       "      <th>card3</th>\n",
       "      <th>card4</th>\n",
       "      <th>card5</th>\n",
       "      <th>...</th>\n",
       "      <th>V330</th>\n",
       "      <th>V331</th>\n",
       "      <th>V332</th>\n",
       "      <th>V333</th>\n",
       "      <th>V334</th>\n",
       "      <th>V335</th>\n",
       "      <th>V336</th>\n",
       "      <th>V337</th>\n",
       "      <th>V338</th>\n",
       "      <th>V339</th>\n",
       "    </tr>\n",
       "  </thead>\n",
       "  <tbody>\n",
       "    <tr>\n",
       "      <th>0</th>\n",
       "      <td>2987000</td>\n",
       "      <td>0</td>\n",
       "      <td>86400</td>\n",
       "      <td>68.5</td>\n",
       "      <td>W</td>\n",
       "      <td>13926</td>\n",
       "      <td>NaN</td>\n",
       "      <td>150.0</td>\n",
       "      <td>discover</td>\n",
       "      <td>142.0</td>\n",
       "      <td>...</td>\n",
       "      <td>NaN</td>\n",
       "      <td>NaN</td>\n",
       "      <td>NaN</td>\n",
       "      <td>NaN</td>\n",
       "      <td>NaN</td>\n",
       "      <td>NaN</td>\n",
       "      <td>NaN</td>\n",
       "      <td>NaN</td>\n",
       "      <td>NaN</td>\n",
       "      <td>NaN</td>\n",
       "    </tr>\n",
       "    <tr>\n",
       "      <th>1</th>\n",
       "      <td>2987001</td>\n",
       "      <td>0</td>\n",
       "      <td>86401</td>\n",
       "      <td>29.0</td>\n",
       "      <td>W</td>\n",
       "      <td>2755</td>\n",
       "      <td>404.0</td>\n",
       "      <td>150.0</td>\n",
       "      <td>mastercard</td>\n",
       "      <td>102.0</td>\n",
       "      <td>...</td>\n",
       "      <td>NaN</td>\n",
       "      <td>NaN</td>\n",
       "      <td>NaN</td>\n",
       "      <td>NaN</td>\n",
       "      <td>NaN</td>\n",
       "      <td>NaN</td>\n",
       "      <td>NaN</td>\n",
       "      <td>NaN</td>\n",
       "      <td>NaN</td>\n",
       "      <td>NaN</td>\n",
       "    </tr>\n",
       "  </tbody>\n",
       "</table>\n",
       "<p>2 rows × 394 columns</p>\n",
       "</div>"
      ],
      "text/plain": [
       "   TransactionID  isFraud  TransactionDT  TransactionAmt ProductCD  card1  \\\n",
       "0        2987000        0          86400            68.5         W  13926   \n",
       "1        2987001        0          86401            29.0         W   2755   \n",
       "\n",
       "   card2  card3       card4  card5  ... V330  V331  V332  V333  V334 V335  \\\n",
       "0    NaN  150.0    discover  142.0  ...  NaN   NaN   NaN   NaN   NaN  NaN   \n",
       "1  404.0  150.0  mastercard  102.0  ...  NaN   NaN   NaN   NaN   NaN  NaN   \n",
       "\n",
       "  V336  V337  V338  V339  \n",
       "0  NaN   NaN   NaN   NaN  \n",
       "1  NaN   NaN   NaN   NaN  \n",
       "\n",
       "[2 rows x 394 columns]"
      ]
     },
     "execution_count": 20,
     "metadata": {},
     "output_type": "execute_result"
    }
   ],
   "source": [
    "train2.head(2)"
   ]
  },
  {
   "cell_type": "code",
   "execution_count": 21,
   "metadata": {},
   "outputs": [],
   "source": [
    "train2['card1 + card2'] = train2['card1'].astype('str') + \" | \" +  train2['card2'].astype('str')"
   ]
  },
  {
   "cell_type": "code",
   "execution_count": 22,
   "metadata": {},
   "outputs": [],
   "source": [
    "train2['card1 + card2 + card_3 + card_5'] = train2['card1'].astype('str') + \" | \" + \\\n",
    "    train2['card2'].astype('str') + \" | \" + train2['card3'].astype('str') + \" | \" + train2['card5'].astype('str')\n"
   ]
  },
  {
   "cell_type": "code",
   "execution_count": 23,
   "metadata": {},
   "outputs": [],
   "source": [
    "train2['card1 + card2 + card_3 + card_5 + addr1 + addr2'] = train2['card1'].astype('str') + \" | \" + \\\n",
    "    train2['card2'].astype('str') + \" | \" + train2['card3'].astype('str') + \" | \" + train2['card5'].astype('str') + \" | \" + \\\n",
    "    train2['addr1'].astype('str') + \" | \" + train2['addr2'].astype('str')"
   ]
  },
  {
   "cell_type": "code",
   "execution_count": 24,
   "metadata": {},
   "outputs": [
    {
     "data": {
      "text/html": [
       "<div>\n",
       "<style scoped>\n",
       "    .dataframe tbody tr th:only-of-type {\n",
       "        vertical-align: middle;\n",
       "    }\n",
       "\n",
       "    .dataframe tbody tr th {\n",
       "        vertical-align: top;\n",
       "    }\n",
       "\n",
       "    .dataframe thead th {\n",
       "        text-align: right;\n",
       "    }\n",
       "</style>\n",
       "<table border=\"1\" class=\"dataframe\">\n",
       "  <thead>\n",
       "    <tr style=\"text-align: right;\">\n",
       "      <th></th>\n",
       "      <th>TransactionID</th>\n",
       "      <th>isFraud</th>\n",
       "      <th>TransactionDT</th>\n",
       "      <th>TransactionAmt</th>\n",
       "      <th>ProductCD</th>\n",
       "      <th>card1</th>\n",
       "      <th>card2</th>\n",
       "      <th>card3</th>\n",
       "      <th>card4</th>\n",
       "      <th>card5</th>\n",
       "      <th>...</th>\n",
       "      <th>V333</th>\n",
       "      <th>V334</th>\n",
       "      <th>V335</th>\n",
       "      <th>V336</th>\n",
       "      <th>V337</th>\n",
       "      <th>V338</th>\n",
       "      <th>V339</th>\n",
       "      <th>card1 + card2</th>\n",
       "      <th>card1 + card2 + card_3 + card_5</th>\n",
       "      <th>card1 + card2 + card_3 + card_5 + addr1 + addr2</th>\n",
       "    </tr>\n",
       "  </thead>\n",
       "  <tbody>\n",
       "    <tr>\n",
       "      <th>0</th>\n",
       "      <td>2987000</td>\n",
       "      <td>0</td>\n",
       "      <td>86400</td>\n",
       "      <td>68.5</td>\n",
       "      <td>W</td>\n",
       "      <td>13926</td>\n",
       "      <td>NaN</td>\n",
       "      <td>150.0</td>\n",
       "      <td>discover</td>\n",
       "      <td>142.0</td>\n",
       "      <td>...</td>\n",
       "      <td>NaN</td>\n",
       "      <td>NaN</td>\n",
       "      <td>NaN</td>\n",
       "      <td>NaN</td>\n",
       "      <td>NaN</td>\n",
       "      <td>NaN</td>\n",
       "      <td>NaN</td>\n",
       "      <td>13926 | nan</td>\n",
       "      <td>13926 | nan | 150.0 | 142.0</td>\n",
       "      <td>13926 | nan | 150.0 | 142.0 | 315.0 | 87.0</td>\n",
       "    </tr>\n",
       "    <tr>\n",
       "      <th>1</th>\n",
       "      <td>2987001</td>\n",
       "      <td>0</td>\n",
       "      <td>86401</td>\n",
       "      <td>29.0</td>\n",
       "      <td>W</td>\n",
       "      <td>2755</td>\n",
       "      <td>404.0</td>\n",
       "      <td>150.0</td>\n",
       "      <td>mastercard</td>\n",
       "      <td>102.0</td>\n",
       "      <td>...</td>\n",
       "      <td>NaN</td>\n",
       "      <td>NaN</td>\n",
       "      <td>NaN</td>\n",
       "      <td>NaN</td>\n",
       "      <td>NaN</td>\n",
       "      <td>NaN</td>\n",
       "      <td>NaN</td>\n",
       "      <td>2755 | 404.0</td>\n",
       "      <td>2755 | 404.0 | 150.0 | 102.0</td>\n",
       "      <td>2755 | 404.0 | 150.0 | 102.0 | 325.0 | 87.0</td>\n",
       "    </tr>\n",
       "  </tbody>\n",
       "</table>\n",
       "<p>2 rows × 397 columns</p>\n",
       "</div>"
      ],
      "text/plain": [
       "   TransactionID  isFraud  TransactionDT  TransactionAmt ProductCD  card1  \\\n",
       "0        2987000        0          86400            68.5         W  13926   \n",
       "1        2987001        0          86401            29.0         W   2755   \n",
       "\n",
       "   card2  card3       card4  card5  ... V333  V334  V335  V336  V337 V338  \\\n",
       "0    NaN  150.0    discover  142.0  ...  NaN   NaN   NaN   NaN   NaN  NaN   \n",
       "1  404.0  150.0  mastercard  102.0  ...  NaN   NaN   NaN   NaN   NaN  NaN   \n",
       "\n",
       "  V339  card1 + card2  card1 + card2 + card_3 + card_5  \\\n",
       "0  NaN    13926 | nan      13926 | nan | 150.0 | 142.0   \n",
       "1  NaN   2755 | 404.0     2755 | 404.0 | 150.0 | 102.0   \n",
       "\n",
       "   card1 + card2 + card_3 + card_5 + addr1 + addr2  \n",
       "0       13926 | nan | 150.0 | 142.0 | 315.0 | 87.0  \n",
       "1      2755 | 404.0 | 150.0 | 102.0 | 325.0 | 87.0  \n",
       "\n",
       "[2 rows x 397 columns]"
      ]
     },
     "execution_count": 24,
     "metadata": {},
     "output_type": "execute_result"
    }
   ],
   "source": [
    "train2.head(2)"
   ]
  },
  {
   "cell_type": "code",
   "execution_count": 25,
   "metadata": {},
   "outputs": [
    {
     "name": "stdout",
     "output_type": "stream",
     "text": [
      "Training until validation scores don't improve for 25 rounds\n",
      "[50]\ttraining's auc: 0.92035\tvalid_1's auc: 0.88198\n",
      "[100]\ttraining's auc: 0.942025\tvalid_1's auc: 0.901229\n",
      "[150]\ttraining's auc: 0.953043\tvalid_1's auc: 0.911751\n",
      "[200]\ttraining's auc: 0.962401\tvalid_1's auc: 0.919205\n",
      "[250]\ttraining's auc: 0.967513\tvalid_1's auc: 0.92345\n",
      "[300]\ttraining's auc: 0.971498\tvalid_1's auc: 0.926965\n",
      "[350]\ttraining's auc: 0.974769\tvalid_1's auc: 0.930341\n",
      "[400]\ttraining's auc: 0.977374\tvalid_1's auc: 0.933214\n",
      "[450]\ttraining's auc: 0.98001\tvalid_1's auc: 0.935259\n",
      "[500]\ttraining's auc: 0.982297\tvalid_1's auc: 0.936883\n",
      "[550]\ttraining's auc: 0.984364\tvalid_1's auc: 0.938398\n",
      "[600]\ttraining's auc: 0.986165\tvalid_1's auc: 0.940031\n",
      "[650]\ttraining's auc: 0.987435\tvalid_1's auc: 0.941038\n",
      "[700]\ttraining's auc: 0.989199\tvalid_1's auc: 0.942502\n",
      "[750]\ttraining's auc: 0.990589\tvalid_1's auc: 0.944001\n",
      "[800]\ttraining's auc: 0.991452\tvalid_1's auc: 0.944751\n",
      "[850]\ttraining's auc: 0.992196\tvalid_1's auc: 0.945567\n",
      "[900]\ttraining's auc: 0.993049\tvalid_1's auc: 0.946524\n",
      "[950]\ttraining's auc: 0.993748\tvalid_1's auc: 0.947381\n",
      "[1000]\ttraining's auc: 0.99444\tvalid_1's auc: 0.948138\n",
      "Did not meet early stopping. Best iteration is:\n",
      "[1000]\ttraining's auc: 0.99444\tvalid_1's auc: 0.948138\n"
     ]
    },
    {
     "data": {
      "text/plain": [
       "LGBMClassifier(learning_rate=0.01, metric='auc', n_estimators=1000, n_jobs=6,\n",
       "               objective='binary', seed=99)"
      ]
     },
     "execution_count": 25,
     "metadata": {},
     "output_type": "execute_result"
    }
   ],
   "source": [
    "X_train2, X_valid2, y_train2, y_valid2, cat_cols2 = get_train_and_split(train2)\n",
    "model_lgbm2 = LGBMClassifier(**params)\n",
    "model_lgbm2.fit(\n",
    "    categorical_feature=cat_cols2,\n",
    "    X=X_train2,\n",
    "    y=y_train2,\n",
    "    eval_set=[(X_train2, y_train2), (X_valid2, y_valid2)],\n",
    "    early_stopping_rounds=25,\n",
    "    eval_metric=\"auc\",\n",
    "    verbose=50\n",
    ")"
   ]
  },
  {
   "cell_type": "code",
   "execution_count": 26,
   "metadata": {
    "scrolled": true
   },
   "outputs": [
    {
     "data": {
      "text/plain": [
       "(0.9944403753635318, 0.9481375498399482)"
      ]
     },
     "execution_count": 26,
     "metadata": {},
     "output_type": "execute_result"
    }
   ],
   "source": [
    "model2_train, model2_valid = model_lgbm2.best_score_.get('training').get('auc'), model_lgbm2.best_score_.get('valid_1').get('auc')\n",
    "model2_train, model2_valid"
   ]
  },
  {
   "cell_type": "markdown",
   "metadata": {},
   "source": [
    "Выводы: качество немного улучшилось, но пошло переобучение на трейне."
   ]
  },
  {
   "cell_type": "markdown",
   "metadata": {},
   "source": [
    "### Задание 3: Сделать FrequencyEncoder для признаков card1 - card6, addr1, addr2."
   ]
  },
  {
   "cell_type": "code",
   "execution_count": 27,
   "metadata": {},
   "outputs": [],
   "source": [
    "train3 = train.copy()"
   ]
  },
  {
   "cell_type": "code",
   "execution_count": 28,
   "metadata": {},
   "outputs": [],
   "source": [
    "cat_coll = ['card1', 'card2', 'card3', 'card4', 'card5', 'card6', 'addr1', 'addr2']"
   ]
  },
  {
   "cell_type": "code",
   "execution_count": 29,
   "metadata": {},
   "outputs": [
    {
     "name": "stderr",
     "output_type": "stream",
     "text": [
      "100%|████████████████████████████████████████████████████████████████████████████████████| 8/8 [00:00<00:00, 68.37it/s]\n"
     ]
    }
   ],
   "source": [
    "from tqdm import tqdm\n",
    "for feature in tqdm(cat_coll):\n",
    "    freq_encoder = train3[feature].value_counts(normalize=True)\n",
    "    train3[f\"Embarked_freq_{feature}\"] = train3[feature].map(freq_encoder)"
   ]
  },
  {
   "cell_type": "code",
   "execution_count": 30,
   "metadata": {},
   "outputs": [
    {
     "data": {
      "text/html": [
       "<div>\n",
       "<style scoped>\n",
       "    .dataframe tbody tr th:only-of-type {\n",
       "        vertical-align: middle;\n",
       "    }\n",
       "\n",
       "    .dataframe tbody tr th {\n",
       "        vertical-align: top;\n",
       "    }\n",
       "\n",
       "    .dataframe thead th {\n",
       "        text-align: right;\n",
       "    }\n",
       "</style>\n",
       "<table border=\"1\" class=\"dataframe\">\n",
       "  <thead>\n",
       "    <tr style=\"text-align: right;\">\n",
       "      <th></th>\n",
       "      <th>TransactionID</th>\n",
       "      <th>isFraud</th>\n",
       "      <th>TransactionDT</th>\n",
       "      <th>TransactionAmt</th>\n",
       "      <th>ProductCD</th>\n",
       "      <th>card1</th>\n",
       "      <th>card2</th>\n",
       "      <th>card3</th>\n",
       "      <th>card4</th>\n",
       "      <th>card5</th>\n",
       "      <th>...</th>\n",
       "      <th>V338</th>\n",
       "      <th>V339</th>\n",
       "      <th>Embarked_freq_card1</th>\n",
       "      <th>Embarked_freq_card2</th>\n",
       "      <th>Embarked_freq_card3</th>\n",
       "      <th>Embarked_freq_card4</th>\n",
       "      <th>Embarked_freq_card5</th>\n",
       "      <th>Embarked_freq_card6</th>\n",
       "      <th>Embarked_freq_addr1</th>\n",
       "      <th>Embarked_freq_addr2</th>\n",
       "    </tr>\n",
       "  </thead>\n",
       "  <tbody>\n",
       "    <tr>\n",
       "      <th>0</th>\n",
       "      <td>2987000</td>\n",
       "      <td>0</td>\n",
       "      <td>86400</td>\n",
       "      <td>68.5</td>\n",
       "      <td>W</td>\n",
       "      <td>13926</td>\n",
       "      <td>NaN</td>\n",
       "      <td>150.0</td>\n",
       "      <td>discover</td>\n",
       "      <td>142.0</td>\n",
       "      <td>...</td>\n",
       "      <td>NaN</td>\n",
       "      <td>NaN</td>\n",
       "      <td>0.000061</td>\n",
       "      <td>NaN</td>\n",
       "      <td>0.879737</td>\n",
       "      <td>0.013212</td>\n",
       "      <td>0.000274</td>\n",
       "      <td>0.317951</td>\n",
       "      <td>0.042773</td>\n",
       "      <td>0.982344</td>\n",
       "    </tr>\n",
       "    <tr>\n",
       "      <th>1</th>\n",
       "      <td>2987001</td>\n",
       "      <td>0</td>\n",
       "      <td>86401</td>\n",
       "      <td>29.0</td>\n",
       "      <td>W</td>\n",
       "      <td>2755</td>\n",
       "      <td>404.0</td>\n",
       "      <td>150.0</td>\n",
       "      <td>mastercard</td>\n",
       "      <td>102.0</td>\n",
       "      <td>...</td>\n",
       "      <td>NaN</td>\n",
       "      <td>NaN</td>\n",
       "      <td>0.001244</td>\n",
       "      <td>0.006855</td>\n",
       "      <td>0.879737</td>\n",
       "      <td>0.302797</td>\n",
       "      <td>0.054723</td>\n",
       "      <td>0.317951</td>\n",
       "      <td>0.080004</td>\n",
       "      <td>0.982344</td>\n",
       "    </tr>\n",
       "  </tbody>\n",
       "</table>\n",
       "<p>2 rows × 402 columns</p>\n",
       "</div>"
      ],
      "text/plain": [
       "   TransactionID  isFraud  TransactionDT  TransactionAmt ProductCD  card1  \\\n",
       "0        2987000        0          86400            68.5         W  13926   \n",
       "1        2987001        0          86401            29.0         W   2755   \n",
       "\n",
       "   card2  card3       card4  card5  ... V338  V339  Embarked_freq_card1  \\\n",
       "0    NaN  150.0    discover  142.0  ...  NaN   NaN             0.000061   \n",
       "1  404.0  150.0  mastercard  102.0  ...  NaN   NaN             0.001244   \n",
       "\n",
       "   Embarked_freq_card2  Embarked_freq_card3 Embarked_freq_card4  \\\n",
       "0                  NaN             0.879737            0.013212   \n",
       "1             0.006855             0.879737            0.302797   \n",
       "\n",
       "  Embarked_freq_card5  Embarked_freq_card6  Embarked_freq_addr1  \\\n",
       "0            0.000274             0.317951             0.042773   \n",
       "1            0.054723             0.317951             0.080004   \n",
       "\n",
       "   Embarked_freq_addr2  \n",
       "0             0.982344  \n",
       "1             0.982344  \n",
       "\n",
       "[2 rows x 402 columns]"
      ]
     },
     "execution_count": 30,
     "metadata": {},
     "output_type": "execute_result"
    }
   ],
   "source": [
    "train3.head(2)"
   ]
  },
  {
   "cell_type": "code",
   "execution_count": 31,
   "metadata": {},
   "outputs": [
    {
     "name": "stdout",
     "output_type": "stream",
     "text": [
      "Training until validation scores don't improve for 25 rounds\n",
      "[50]\ttraining's auc: 0.882282\tvalid_1's auc: 0.872308\n",
      "[100]\ttraining's auc: 0.903405\tvalid_1's auc: 0.891041\n",
      "[150]\ttraining's auc: 0.912423\tvalid_1's auc: 0.897623\n",
      "[200]\ttraining's auc: 0.924064\tvalid_1's auc: 0.904357\n",
      "[250]\ttraining's auc: 0.933578\tvalid_1's auc: 0.911453\n",
      "[300]\ttraining's auc: 0.94055\tvalid_1's auc: 0.91685\n",
      "[350]\ttraining's auc: 0.946803\tvalid_1's auc: 0.921068\n",
      "[400]\ttraining's auc: 0.951513\tvalid_1's auc: 0.924191\n",
      "[450]\ttraining's auc: 0.955394\tvalid_1's auc: 0.926518\n",
      "[500]\ttraining's auc: 0.959251\tvalid_1's auc: 0.928737\n",
      "[550]\ttraining's auc: 0.962637\tvalid_1's auc: 0.9313\n",
      "[600]\ttraining's auc: 0.965569\tvalid_1's auc: 0.932948\n",
      "[650]\ttraining's auc: 0.968315\tvalid_1's auc: 0.934399\n",
      "[700]\ttraining's auc: 0.971217\tvalid_1's auc: 0.935508\n",
      "[750]\ttraining's auc: 0.973163\tvalid_1's auc: 0.936556\n",
      "[800]\ttraining's auc: 0.97481\tvalid_1's auc: 0.937422\n",
      "[850]\ttraining's auc: 0.976306\tvalid_1's auc: 0.938274\n",
      "[900]\ttraining's auc: 0.977813\tvalid_1's auc: 0.939122\n",
      "[950]\ttraining's auc: 0.979332\tvalid_1's auc: 0.939742\n",
      "[1000]\ttraining's auc: 0.980344\tvalid_1's auc: 0.940236\n",
      "Did not meet early stopping. Best iteration is:\n",
      "[1000]\ttraining's auc: 0.980344\tvalid_1's auc: 0.940236\n"
     ]
    },
    {
     "data": {
      "text/plain": [
       "LGBMClassifier(learning_rate=0.01, metric='auc', n_estimators=1000, n_jobs=6,\n",
       "               objective='binary', seed=99)"
      ]
     },
     "execution_count": 31,
     "metadata": {},
     "output_type": "execute_result"
    }
   ],
   "source": [
    "X_train3, X_valid3, y_train3, y_valid3, cat_cols3 = get_train_and_split(train3)\n",
    "model_lgbm3 = LGBMClassifier(**params)\n",
    "model_lgbm3.fit(\n",
    "    categorical_feature=cat_cols3,\n",
    "    X=X_train3,\n",
    "    y=y_train3,\n",
    "    eval_set=[(X_train3, y_train3), (X_valid3, y_valid3)],\n",
    "    early_stopping_rounds=25,\n",
    "    eval_metric=\"auc\",\n",
    "    verbose=50\n",
    ")"
   ]
  },
  {
   "cell_type": "code",
   "execution_count": 32,
   "metadata": {},
   "outputs": [
    {
     "data": {
      "text/plain": [
       "(0.9803437116086793, 0.9402359458451894)"
      ]
     },
     "execution_count": 32,
     "metadata": {},
     "output_type": "execute_result"
    }
   ],
   "source": [
    "model3_train, model3_valid = model_lgbm3.best_score_.get('training').get('auc'), model_lgbm3.best_score_.get('valid_1').get('auc')\n",
    "model3_train, model3_valid"
   ]
  },
  {
   "cell_type": "markdown",
   "metadata": {},
   "source": [
    "Выводы: наблюдается небольшой прирост качества на тренировочной выборке и незначительный прирост на валидационной выборке, переобучения на терейне меньше, чем в предыдущих экспериментах."
   ]
  },
  {
   "cell_type": "markdown",
   "metadata": {},
   "source": [
    "### Задание 4: Создать признаки на основе отношения: TransactionAmt к вычисленной статистике. Статистика - среднее значение / стандартное отклонение TransactionAmt, сгруппированное по card1 - card6, addr1, addr2, и по признакам, созданным в задании 2."
   ]
  },
  {
   "cell_type": "code",
   "execution_count": 33,
   "metadata": {},
   "outputs": [],
   "source": [
    "train4 = train.copy()"
   ]
  },
  {
   "cell_type": "code",
   "execution_count": 34,
   "metadata": {},
   "outputs": [
    {
     "data": {
      "text/html": [
       "<div>\n",
       "<style scoped>\n",
       "    .dataframe tbody tr th:only-of-type {\n",
       "        vertical-align: middle;\n",
       "    }\n",
       "\n",
       "    .dataframe tbody tr th {\n",
       "        vertical-align: top;\n",
       "    }\n",
       "\n",
       "    .dataframe thead th {\n",
       "        text-align: right;\n",
       "    }\n",
       "</style>\n",
       "<table border=\"1\" class=\"dataframe\">\n",
       "  <thead>\n",
       "    <tr style=\"text-align: right;\">\n",
       "      <th></th>\n",
       "      <th>TransactionID</th>\n",
       "      <th>isFraud</th>\n",
       "      <th>TransactionDT</th>\n",
       "      <th>TransactionAmt</th>\n",
       "      <th>ProductCD</th>\n",
       "      <th>card1</th>\n",
       "      <th>card2</th>\n",
       "      <th>card3</th>\n",
       "      <th>card4</th>\n",
       "      <th>card5</th>\n",
       "      <th>...</th>\n",
       "      <th>V330</th>\n",
       "      <th>V331</th>\n",
       "      <th>V332</th>\n",
       "      <th>V333</th>\n",
       "      <th>V334</th>\n",
       "      <th>V335</th>\n",
       "      <th>V336</th>\n",
       "      <th>V337</th>\n",
       "      <th>V338</th>\n",
       "      <th>V339</th>\n",
       "    </tr>\n",
       "  </thead>\n",
       "  <tbody>\n",
       "    <tr>\n",
       "      <th>0</th>\n",
       "      <td>2987000</td>\n",
       "      <td>0</td>\n",
       "      <td>86400</td>\n",
       "      <td>68.5</td>\n",
       "      <td>W</td>\n",
       "      <td>13926</td>\n",
       "      <td>NaN</td>\n",
       "      <td>150.0</td>\n",
       "      <td>discover</td>\n",
       "      <td>142.0</td>\n",
       "      <td>...</td>\n",
       "      <td>NaN</td>\n",
       "      <td>NaN</td>\n",
       "      <td>NaN</td>\n",
       "      <td>NaN</td>\n",
       "      <td>NaN</td>\n",
       "      <td>NaN</td>\n",
       "      <td>NaN</td>\n",
       "      <td>NaN</td>\n",
       "      <td>NaN</td>\n",
       "      <td>NaN</td>\n",
       "    </tr>\n",
       "    <tr>\n",
       "      <th>1</th>\n",
       "      <td>2987001</td>\n",
       "      <td>0</td>\n",
       "      <td>86401</td>\n",
       "      <td>29.0</td>\n",
       "      <td>W</td>\n",
       "      <td>2755</td>\n",
       "      <td>404.0</td>\n",
       "      <td>150.0</td>\n",
       "      <td>mastercard</td>\n",
       "      <td>102.0</td>\n",
       "      <td>...</td>\n",
       "      <td>NaN</td>\n",
       "      <td>NaN</td>\n",
       "      <td>NaN</td>\n",
       "      <td>NaN</td>\n",
       "      <td>NaN</td>\n",
       "      <td>NaN</td>\n",
       "      <td>NaN</td>\n",
       "      <td>NaN</td>\n",
       "      <td>NaN</td>\n",
       "      <td>NaN</td>\n",
       "    </tr>\n",
       "  </tbody>\n",
       "</table>\n",
       "<p>2 rows × 394 columns</p>\n",
       "</div>"
      ],
      "text/plain": [
       "   TransactionID  isFraud  TransactionDT  TransactionAmt ProductCD  card1  \\\n",
       "0        2987000        0          86400            68.5         W  13926   \n",
       "1        2987001        0          86401            29.0         W   2755   \n",
       "\n",
       "   card2  card3       card4  card5  ... V330  V331  V332  V333  V334 V335  \\\n",
       "0    NaN  150.0    discover  142.0  ...  NaN   NaN   NaN   NaN   NaN  NaN   \n",
       "1  404.0  150.0  mastercard  102.0  ...  NaN   NaN   NaN   NaN   NaN  NaN   \n",
       "\n",
       "  V336  V337  V338  V339  \n",
       "0  NaN   NaN   NaN   NaN  \n",
       "1  NaN   NaN   NaN   NaN  \n",
       "\n",
       "[2 rows x 394 columns]"
      ]
     },
     "execution_count": 34,
     "metadata": {},
     "output_type": "execute_result"
    }
   ],
   "source": [
    "train4.head(2)"
   ]
  },
  {
   "cell_type": "code",
   "execution_count": 35,
   "metadata": {},
   "outputs": [],
   "source": [
    "train4 = pd.concat([ train4, train2[train2.iloc[:, 394:].columns.tolist()] ], axis=1)"
   ]
  },
  {
   "cell_type": "code",
   "execution_count": 36,
   "metadata": {},
   "outputs": [],
   "source": [
    "train4 = pd.concat([ train4, train3[train3.iloc[:, 394:].columns.tolist()] ], axis=1)"
   ]
  },
  {
   "cell_type": "code",
   "execution_count": 37,
   "metadata": {},
   "outputs": [
    {
     "data": {
      "text/html": [
       "<div>\n",
       "<style scoped>\n",
       "    .dataframe tbody tr th:only-of-type {\n",
       "        vertical-align: middle;\n",
       "    }\n",
       "\n",
       "    .dataframe tbody tr th {\n",
       "        vertical-align: top;\n",
       "    }\n",
       "\n",
       "    .dataframe thead th {\n",
       "        text-align: right;\n",
       "    }\n",
       "</style>\n",
       "<table border=\"1\" class=\"dataframe\">\n",
       "  <thead>\n",
       "    <tr style=\"text-align: right;\">\n",
       "      <th></th>\n",
       "      <th>TransactionID</th>\n",
       "      <th>isFraud</th>\n",
       "      <th>TransactionDT</th>\n",
       "      <th>TransactionAmt</th>\n",
       "      <th>ProductCD</th>\n",
       "      <th>card1</th>\n",
       "      <th>card2</th>\n",
       "      <th>card3</th>\n",
       "      <th>card4</th>\n",
       "      <th>card5</th>\n",
       "      <th>...</th>\n",
       "      <th>card1 + card2 + card_3 + card_5</th>\n",
       "      <th>card1 + card2 + card_3 + card_5 + addr1 + addr2</th>\n",
       "      <th>Embarked_freq_card1</th>\n",
       "      <th>Embarked_freq_card2</th>\n",
       "      <th>Embarked_freq_card3</th>\n",
       "      <th>Embarked_freq_card4</th>\n",
       "      <th>Embarked_freq_card5</th>\n",
       "      <th>Embarked_freq_card6</th>\n",
       "      <th>Embarked_freq_addr1</th>\n",
       "      <th>Embarked_freq_addr2</th>\n",
       "    </tr>\n",
       "  </thead>\n",
       "  <tbody>\n",
       "    <tr>\n",
       "      <th>0</th>\n",
       "      <td>2987000</td>\n",
       "      <td>0</td>\n",
       "      <td>86400</td>\n",
       "      <td>68.5</td>\n",
       "      <td>W</td>\n",
       "      <td>13926</td>\n",
       "      <td>NaN</td>\n",
       "      <td>150.0</td>\n",
       "      <td>discover</td>\n",
       "      <td>142.0</td>\n",
       "      <td>...</td>\n",
       "      <td>13926 | nan | 150.0 | 142.0</td>\n",
       "      <td>13926 | nan | 150.0 | 142.0 | 315.0 | 87.0</td>\n",
       "      <td>0.000061</td>\n",
       "      <td>NaN</td>\n",
       "      <td>0.879737</td>\n",
       "      <td>0.013212</td>\n",
       "      <td>0.000274</td>\n",
       "      <td>0.317951</td>\n",
       "      <td>0.042773</td>\n",
       "      <td>0.982344</td>\n",
       "    </tr>\n",
       "  </tbody>\n",
       "</table>\n",
       "<p>1 rows × 405 columns</p>\n",
       "</div>"
      ],
      "text/plain": [
       "   TransactionID  isFraud  TransactionDT  TransactionAmt ProductCD  card1  \\\n",
       "0        2987000        0          86400            68.5         W  13926   \n",
       "\n",
       "   card2  card3     card4  card5  ... card1 + card2 + card_3 + card_5  \\\n",
       "0    NaN  150.0  discover  142.0  ...     13926 | nan | 150.0 | 142.0   \n",
       "\n",
       "   card1 + card2 + card_3 + card_5 + addr1 + addr2  Embarked_freq_card1  \\\n",
       "0       13926 | nan | 150.0 | 142.0 | 315.0 | 87.0             0.000061   \n",
       "\n",
       "   Embarked_freq_card2  Embarked_freq_card3 Embarked_freq_card4  \\\n",
       "0                  NaN             0.879737            0.013212   \n",
       "\n",
       "  Embarked_freq_card5  Embarked_freq_card6  Embarked_freq_addr1  \\\n",
       "0            0.000274             0.317951             0.042773   \n",
       "\n",
       "   Embarked_freq_addr2  \n",
       "0             0.982344  \n",
       "\n",
       "[1 rows x 405 columns]"
      ]
     },
     "execution_count": 37,
     "metadata": {},
     "output_type": "execute_result"
    }
   ],
   "source": [
    "train4.head(1)"
   ]
  },
  {
   "cell_type": "code",
   "execution_count": 38,
   "metadata": {},
   "outputs": [
    {
     "data": {
      "text/plain": [
       "['card1 + card2',\n",
       " 'card1 + card2 + card_3 + card_5',\n",
       " 'card1 + card2 + card_3 + card_5 + addr1 + addr2',\n",
       " 'Embarked_freq_card1',\n",
       " 'Embarked_freq_card2',\n",
       " 'Embarked_freq_card3',\n",
       " 'Embarked_freq_card4',\n",
       " 'Embarked_freq_card5',\n",
       " 'Embarked_freq_card6',\n",
       " 'Embarked_freq_addr1',\n",
       " 'Embarked_freq_addr2',\n",
       " 'card1',\n",
       " 'card2',\n",
       " 'card3',\n",
       " 'card4',\n",
       " 'card5',\n",
       " 'card6',\n",
       " 'addr1',\n",
       " 'addr2']"
      ]
     },
     "execution_count": 38,
     "metadata": {},
     "output_type": "execute_result"
    }
   ],
   "source": [
    "listt = train4.iloc[:, 394:].columns.tolist() + train4.iloc[:, 5:13].columns.tolist()\n",
    "listt"
   ]
  },
  {
   "cell_type": "code",
   "execution_count": 39,
   "metadata": {},
   "outputs": [],
   "source": [
    "def create_numerical_aggs(data: pd.DataFrame,\n",
    "                          groupby_id: str,\n",
    "                          aggs: dict,\n",
    "                          prefix: Optional[str] = None,\n",
    "                          suffix: Optional[str] = None,\n",
    "                          ) -> pd.DataFrame:\n",
    "    \"\"\"\n",
    "    Построение агрегаций для числовых признаков.\n",
    "\n",
    "    Parameters\n",
    "    ----------\n",
    "    data: pandas.core.frame.DataFrame\n",
    "        Выборка для построения агрегаций.\n",
    "\n",
    "    groupby_id: str\n",
    "        Название ключа, по которому нужно произвести группировку.\n",
    "\n",
    "    aggs: dict\n",
    "        Словарь с названием признака и списка функций.\n",
    "        Ключ словаря - название признака, который используется для\n",
    "        вычисления агрегаций, значение словаря - список с названием\n",
    "        функций для вычисления агрегаций.\n",
    "\n",
    "    prefix: str, optional, default = None\n",
    "        Префикс для названия признаков.\n",
    "        Опциональный параметр, по умолчанию, не используется.\n",
    "\n",
    "    suffix: str, optional, default = None\n",
    "        Суффикс для названия признаков.\n",
    "        Опциональный параметр, по умолчанию, не используется.\n",
    "\n",
    "    Returns\n",
    "    -------\n",
    "    stats: pandas.core.frame.DataFrame\n",
    "        Выборка с рассчитанными агрегациями.\n",
    "\n",
    "    \"\"\"\n",
    "    if not prefix:\n",
    "        prefix = \"\"\n",
    "    if not suffix:\n",
    "        suffix = \"\"\n",
    "\n",
    "    data_grouped = data.groupby(groupby_id)\n",
    "    stats = data_grouped.agg(aggs)\n",
    "    stats.columns = [f\"{prefix}{feature}_{stat}{suffix}\".upper() for feature, stat in stats]\n",
    "    stats = stats.reset_index()\n",
    "\n",
    "    return stats"
   ]
  },
  {
   "cell_type": "code",
   "execution_count": 40,
   "metadata": {},
   "outputs": [
    {
     "name": "stderr",
     "output_type": "stream",
     "text": [
      "100%|██████████████████████████████████████████████████████████████████████████████████| 19/19 [00:43<00:00,  2.31s/it]\n"
     ]
    }
   ],
   "source": [
    "aggs = {'TransactionAmt': [\"mean\", \"std\"]}\n",
    "\n",
    "for feature_for_group in tqdm(listt):\n",
    "    stats = create_numerical_aggs(\n",
    "        train4, groupby_id=feature_for_group, aggs=aggs, suffix=f\"_BY_{feature_for_group}\")\n",
    "\n",
    "    train4 = train4.merge(\n",
    "        stats, how=\"left\", on=feature_for_group)\n",
    "    \n",
    "    train4[f'TransactionAmt / {train4.iloc[:, -1].name}'] = train4['TransactionAmt'] / train4[train4.iloc[:, -1].name] \n",
    "    train4[f'TransactionAmt / {train4.iloc[:, -3].name}'] = train4['TransactionAmt'] / train4[train4.iloc[:, -3].name]\n",
    "    \n",
    "    # сразу удалим ненужные признаки (срез не берет правую границу!)\n",
    "    train4 = train4.drop(train4.iloc[:, -4:-2].columns.tolist(), axis=1)"
   ]
  },
  {
   "cell_type": "code",
   "execution_count": 41,
   "metadata": {},
   "outputs": [
    {
     "data": {
      "text/html": [
       "<div>\n",
       "<style scoped>\n",
       "    .dataframe tbody tr th:only-of-type {\n",
       "        vertical-align: middle;\n",
       "    }\n",
       "\n",
       "    .dataframe tbody tr th {\n",
       "        vertical-align: top;\n",
       "    }\n",
       "\n",
       "    .dataframe thead th {\n",
       "        text-align: right;\n",
       "    }\n",
       "</style>\n",
       "<table border=\"1\" class=\"dataframe\">\n",
       "  <thead>\n",
       "    <tr style=\"text-align: right;\">\n",
       "      <th></th>\n",
       "      <th>TransactionID</th>\n",
       "      <th>isFraud</th>\n",
       "      <th>TransactionDT</th>\n",
       "      <th>TransactionAmt</th>\n",
       "      <th>ProductCD</th>\n",
       "      <th>card1</th>\n",
       "      <th>card2</th>\n",
       "      <th>card3</th>\n",
       "      <th>card4</th>\n",
       "      <th>card5</th>\n",
       "      <th>...</th>\n",
       "      <th>TransactionAmt / TRANSACTIONAMT_STD_BY_CARD4</th>\n",
       "      <th>TransactionAmt / TRANSACTIONAMT_MEAN_BY_CARD4</th>\n",
       "      <th>TransactionAmt / TRANSACTIONAMT_STD_BY_CARD5</th>\n",
       "      <th>TransactionAmt / TRANSACTIONAMT_MEAN_BY_CARD5</th>\n",
       "      <th>TransactionAmt / TRANSACTIONAMT_STD_BY_CARD6</th>\n",
       "      <th>TransactionAmt / TRANSACTIONAMT_MEAN_BY_CARD6</th>\n",
       "      <th>TransactionAmt / TRANSACTIONAMT_STD_BY_ADDR1</th>\n",
       "      <th>TransactionAmt / TRANSACTIONAMT_MEAN_BY_ADDR1</th>\n",
       "      <th>TransactionAmt / TRANSACTIONAMT_STD_BY_ADDR2</th>\n",
       "      <th>TransactionAmt / TRANSACTIONAMT_MEAN_BY_ADDR2</th>\n",
       "    </tr>\n",
       "  </thead>\n",
       "  <tbody>\n",
       "    <tr>\n",
       "      <th>0</th>\n",
       "      <td>2987000</td>\n",
       "      <td>0</td>\n",
       "      <td>86400</td>\n",
       "      <td>68.5</td>\n",
       "      <td>W</td>\n",
       "      <td>13926</td>\n",
       "      <td>NaN</td>\n",
       "      <td>150.0</td>\n",
       "      <td>discover</td>\n",
       "      <td>142.0</td>\n",
       "      <td>...</td>\n",
       "      <td>0.200988</td>\n",
       "      <td>0.310646</td>\n",
       "      <td>0.587950</td>\n",
       "      <td>0.555175</td>\n",
       "      <td>0.262542</td>\n",
       "      <td>0.403732</td>\n",
       "      <td>0.287943</td>\n",
       "      <td>0.514610</td>\n",
       "      <td>0.314946</td>\n",
       "      <td>0.486380</td>\n",
       "    </tr>\n",
       "    <tr>\n",
       "      <th>1</th>\n",
       "      <td>2987001</td>\n",
       "      <td>0</td>\n",
       "      <td>86401</td>\n",
       "      <td>29.0</td>\n",
       "      <td>W</td>\n",
       "      <td>2755</td>\n",
       "      <td>404.0</td>\n",
       "      <td>150.0</td>\n",
       "      <td>mastercard</td>\n",
       "      <td>102.0</td>\n",
       "      <td>...</td>\n",
       "      <td>0.141234</td>\n",
       "      <td>0.230124</td>\n",
       "      <td>0.099868</td>\n",
       "      <td>0.152468</td>\n",
       "      <td>0.111149</td>\n",
       "      <td>0.170923</td>\n",
       "      <td>0.126667</td>\n",
       "      <td>0.194195</td>\n",
       "      <td>0.133335</td>\n",
       "      <td>0.205913</td>\n",
       "    </tr>\n",
       "  </tbody>\n",
       "</table>\n",
       "<p>2 rows × 443 columns</p>\n",
       "</div>"
      ],
      "text/plain": [
       "   TransactionID  isFraud  TransactionDT  TransactionAmt ProductCD  card1  \\\n",
       "0        2987000        0          86400            68.5         W  13926   \n",
       "1        2987001        0          86401            29.0         W   2755   \n",
       "\n",
       "   card2  card3       card4  card5  ...  \\\n",
       "0    NaN  150.0    discover  142.0  ...   \n",
       "1  404.0  150.0  mastercard  102.0  ...   \n",
       "\n",
       "  TransactionAmt / TRANSACTIONAMT_STD_BY_CARD4  \\\n",
       "0                                     0.200988   \n",
       "1                                     0.141234   \n",
       "\n",
       "   TransactionAmt / TRANSACTIONAMT_MEAN_BY_CARD4  \\\n",
       "0                                       0.310646   \n",
       "1                                       0.230124   \n",
       "\n",
       "   TransactionAmt / TRANSACTIONAMT_STD_BY_CARD5  \\\n",
       "0                                      0.587950   \n",
       "1                                      0.099868   \n",
       "\n",
       "   TransactionAmt / TRANSACTIONAMT_MEAN_BY_CARD5  \\\n",
       "0                                       0.555175   \n",
       "1                                       0.152468   \n",
       "\n",
       "   TransactionAmt / TRANSACTIONAMT_STD_BY_CARD6  \\\n",
       "0                                      0.262542   \n",
       "1                                      0.111149   \n",
       "\n",
       "  TransactionAmt / TRANSACTIONAMT_MEAN_BY_CARD6  \\\n",
       "0                                      0.403732   \n",
       "1                                      0.170923   \n",
       "\n",
       "  TransactionAmt / TRANSACTIONAMT_STD_BY_ADDR1  \\\n",
       "0                                     0.287943   \n",
       "1                                     0.126667   \n",
       "\n",
       "   TransactionAmt / TRANSACTIONAMT_MEAN_BY_ADDR1  \\\n",
       "0                                       0.514610   \n",
       "1                                       0.194195   \n",
       "\n",
       "   TransactionAmt / TRANSACTIONAMT_STD_BY_ADDR2  \\\n",
       "0                                      0.314946   \n",
       "1                                      0.133335   \n",
       "\n",
       "   TransactionAmt / TRANSACTIONAMT_MEAN_BY_ADDR2  \n",
       "0                                       0.486380  \n",
       "1                                       0.205913  \n",
       "\n",
       "[2 rows x 443 columns]"
      ]
     },
     "execution_count": 41,
     "metadata": {},
     "output_type": "execute_result"
    }
   ],
   "source": [
    "train4.head(2)"
   ]
  },
  {
   "cell_type": "code",
   "execution_count": 42,
   "metadata": {},
   "outputs": [
    {
     "name": "stdout",
     "output_type": "stream",
     "text": [
      "Training until validation scores don't improve for 25 rounds\n",
      "[50]\ttraining's auc: 0.921079\tvalid_1's auc: 0.886451\n",
      "[100]\ttraining's auc: 0.945502\tvalid_1's auc: 0.907679\n",
      "[150]\ttraining's auc: 0.960708\tvalid_1's auc: 0.922499\n",
      "[200]\ttraining's auc: 0.968469\tvalid_1's auc: 0.927302\n",
      "[250]\ttraining's auc: 0.973785\tvalid_1's auc: 0.93046\n",
      "[300]\ttraining's auc: 0.978067\tvalid_1's auc: 0.933451\n",
      "[350]\ttraining's auc: 0.981362\tvalid_1's auc: 0.936779\n",
      "[400]\ttraining's auc: 0.984736\tvalid_1's auc: 0.939302\n",
      "[450]\ttraining's auc: 0.987032\tvalid_1's auc: 0.941129\n",
      "[500]\ttraining's auc: 0.988983\tvalid_1's auc: 0.942299\n",
      "[550]\ttraining's auc: 0.990753\tvalid_1's auc: 0.944044\n",
      "[600]\ttraining's auc: 0.992175\tvalid_1's auc: 0.945104\n",
      "[650]\ttraining's auc: 0.993302\tvalid_1's auc: 0.945965\n",
      "[700]\ttraining's auc: 0.994481\tvalid_1's auc: 0.946933\n",
      "[750]\ttraining's auc: 0.995223\tvalid_1's auc: 0.94765\n",
      "[800]\ttraining's auc: 0.995957\tvalid_1's auc: 0.948044\n",
      "[850]\ttraining's auc: 0.996469\tvalid_1's auc: 0.94872\n",
      "[900]\ttraining's auc: 0.996979\tvalid_1's auc: 0.94913\n",
      "[950]\ttraining's auc: 0.997478\tvalid_1's auc: 0.949403\n",
      "[1000]\ttraining's auc: 0.997764\tvalid_1's auc: 0.949626\n",
      "Did not meet early stopping. Best iteration is:\n",
      "[1000]\ttraining's auc: 0.997764\tvalid_1's auc: 0.949626\n"
     ]
    },
    {
     "data": {
      "text/plain": [
       "LGBMClassifier(learning_rate=0.01, metric='auc', n_estimators=1000, n_jobs=6,\n",
       "               objective='binary', seed=99)"
      ]
     },
     "execution_count": 42,
     "metadata": {},
     "output_type": "execute_result"
    }
   ],
   "source": [
    "X_train4, X_valid4, y_train4, y_valid4, cat_cols4 = get_train_and_split(train4)\n",
    "model_lgbm4 = LGBMClassifier(**params)\n",
    "model_lgbm4.fit(\n",
    "    categorical_feature=cat_cols4,\n",
    "    X=X_train4,\n",
    "    y=y_train4,\n",
    "    eval_set=[(X_train4, y_train4), (X_valid4, y_valid4)],\n",
    "    early_stopping_rounds=25,\n",
    "    eval_metric=\"auc\",\n",
    "    verbose=50\n",
    ")"
   ]
  },
  {
   "cell_type": "code",
   "execution_count": 43,
   "metadata": {},
   "outputs": [
    {
     "data": {
      "text/plain": [
       "(0.9977643731482249, 0.9496259796588522)"
      ]
     },
     "execution_count": 43,
     "metadata": {},
     "output_type": "execute_result"
    }
   ],
   "source": [
    "model4_train, model4_valid = model_lgbm4.best_score_.get('training').get('auc'), model_lgbm4.best_score_.get('valid_1').get('auc')\n",
    "model4_train, model4_valid"
   ]
  },
  {
   "cell_type": "markdown",
   "metadata": {},
   "source": [
    "Выводы: новые сгенерированные признаки TransactionAmt значительно увеличили качество на валидации, однако и модель сильно переобучилась на трейне."
   ]
  },
  {
   "cell_type": "markdown",
   "metadata": {},
   "source": [
    "### Задание 5: Создать признаки на основе отношения: D15 к вычисленной статистике. Статистика - среднее значение / стандартное отклонение D15, сгруппированное по card1 - card6, addr1, addr2, и по признакам, созданным в задании 2."
   ]
  },
  {
   "cell_type": "code",
   "execution_count": 44,
   "metadata": {},
   "outputs": [],
   "source": [
    "train5 = train.copy()"
   ]
  },
  {
   "cell_type": "code",
   "execution_count": 45,
   "metadata": {},
   "outputs": [],
   "source": [
    "train5 = pd.concat([ train5, train3[train3.iloc[:, 394:].columns.tolist()] ], axis=1)\n",
    "train5 = pd.concat([ train5, train2[train2.iloc[:, 394:].columns.tolist()] ], axis=1)"
   ]
  },
  {
   "cell_type": "code",
   "execution_count": 46,
   "metadata": {},
   "outputs": [
    {
     "data": {
      "text/plain": [
       "['Embarked_freq_card1',\n",
       " 'Embarked_freq_card2',\n",
       " 'Embarked_freq_card3',\n",
       " 'Embarked_freq_card4',\n",
       " 'Embarked_freq_card5',\n",
       " 'Embarked_freq_card6',\n",
       " 'Embarked_freq_addr1',\n",
       " 'Embarked_freq_addr2',\n",
       " 'card1 + card2',\n",
       " 'card1 + card2 + card_3 + card_5',\n",
       " 'card1 + card2 + card_3 + card_5 + addr1 + addr2',\n",
       " 'card1',\n",
       " 'card2',\n",
       " 'card3',\n",
       " 'card4',\n",
       " 'card5',\n",
       " 'card6',\n",
       " 'addr1',\n",
       " 'addr2']"
      ]
     },
     "execution_count": 46,
     "metadata": {},
     "output_type": "execute_result"
    }
   ],
   "source": [
    "listt = train5.iloc[:, 394:].columns.tolist() + train5.iloc[:, 5:13].columns.tolist()\n",
    "listt"
   ]
  },
  {
   "cell_type": "code",
   "execution_count": 51,
   "metadata": {},
   "outputs": [
    {
     "data": {
      "text/plain": [
       "48819"
      ]
     },
     "execution_count": 51,
     "metadata": {},
     "output_type": "execute_result"
    }
   ],
   "source": [
    "train5.D15.isna().sum()"
   ]
  },
  {
   "cell_type": "code",
   "execution_count": 52,
   "metadata": {},
   "outputs": [],
   "source": [
    "train5.D15.fillna(0, inplace=True)"
   ]
  },
  {
   "cell_type": "code",
   "execution_count": 53,
   "metadata": {},
   "outputs": [
    {
     "name": "stderr",
     "output_type": "stream",
     "text": [
      "\n",
      "  0%|                                                                                           | 0/19 [00:00<?, ?it/s]\u001b[A\n",
      "  5%|████▎                                                                              | 1/19 [00:02<00:41,  2.32s/it]\u001b[A\n",
      " 11%|████████▋                                                                          | 2/19 [00:04<00:39,  2.32s/it]\u001b[A\n",
      " 16%|█████████████                                                                      | 3/19 [00:06<00:37,  2.32s/it]\u001b[A\n",
      " 21%|█████████████████▍                                                                 | 4/19 [00:09<00:34,  2.32s/it]\u001b[A\n",
      " 26%|█████████████████████▊                                                             | 5/19 [00:11<00:32,  2.33s/it]\u001b[A\n",
      " 32%|██████████████████████████▏                                                        | 6/19 [00:13<00:30,  2.32s/it]\u001b[A\n",
      " 37%|██████████████████████████████▌                                                    | 7/19 [00:16<00:28,  2.35s/it]\u001b[A\n",
      " 42%|██████████████████████████████████▉                                                | 8/19 [00:18<00:25,  2.34s/it]\u001b[A\n",
      " 47%|███████████████████████████████████████▎                                           | 9/19 [00:20<00:23,  2.33s/it]\u001b[A\n",
      " 53%|███████████████████████████████████████████▏                                      | 10/19 [00:23<00:20,  2.32s/it]\u001b[A\n",
      " 58%|███████████████████████████████████████████████▍                                  | 11/19 [00:25<00:18,  2.35s/it]\u001b[A\n",
      " 63%|███████████████████████████████████████████████████▊                              | 12/19 [00:28<00:16,  2.37s/it]\u001b[A\n",
      " 68%|████████████████████████████████████████████████████████                          | 13/19 [00:30<00:14,  2.39s/it]\u001b[A\n",
      " 74%|████████████████████████████████████████████████████████████▍                     | 14/19 [00:33<00:12,  2.41s/it]\u001b[A\n",
      " 79%|████████████████████████████████████████████████████████████████▋                 | 15/19 [00:35<00:09,  2.42s/it]\u001b[A\n",
      " 84%|█████████████████████████████████████████████████████████████████████             | 16/19 [00:37<00:07,  2.42s/it]\u001b[A\n",
      " 89%|█████████████████████████████████████████████████████████████████████████▎        | 17/19 [00:40<00:04,  2.41s/it]\u001b[A\n",
      " 95%|█████████████████████████████████████████████████████████████████████████████▋    | 18/19 [00:42<00:02,  2.42s/it]\u001b[A\n",
      "100%|██████████████████████████████████████████████████████████████████████████████████| 19/19 [00:45<00:00,  2.37s/it]\u001b[A\n"
     ]
    }
   ],
   "source": [
    "aggs = {'D15': [\"mean\", \"std\"]}\n",
    "\n",
    "for feature_for_group in tqdm(listt):\n",
    "    stats = create_numerical_aggs(\n",
    "        train5, groupby_id=feature_for_group, aggs=aggs, suffix=f\"_BY_{feature_for_group}\")\n",
    "\n",
    "    train5 = train5.merge(\n",
    "        stats, how=\"left\", on=feature_for_group)\n",
    "    \n",
    "    train5[f'D15 / {train5.iloc[:, -1].name}'] = train5['D15'] / train5[train5.iloc[:, -1].name] \n",
    "    train5[f'D15 / {train5.iloc[:, -3].name}'] = train5['D15'] / train5[train5.iloc[:, -3].name]\n",
    "    \n",
    "    # сразу удалим ненужные признаки (срез не берет правую границу!)\n",
    "    train5 = train5.drop(train5.iloc[:, -4:-2].columns.tolist(), axis=1)"
   ]
  },
  {
   "cell_type": "code",
   "execution_count": 54,
   "metadata": {},
   "outputs": [
    {
     "data": {
      "text/html": [
       "<div>\n",
       "<style scoped>\n",
       "    .dataframe tbody tr th:only-of-type {\n",
       "        vertical-align: middle;\n",
       "    }\n",
       "\n",
       "    .dataframe tbody tr th {\n",
       "        vertical-align: top;\n",
       "    }\n",
       "\n",
       "    .dataframe thead th {\n",
       "        text-align: right;\n",
       "    }\n",
       "</style>\n",
       "<table border=\"1\" class=\"dataframe\">\n",
       "  <thead>\n",
       "    <tr style=\"text-align: right;\">\n",
       "      <th></th>\n",
       "      <th>TransactionID</th>\n",
       "      <th>isFraud</th>\n",
       "      <th>TransactionDT</th>\n",
       "      <th>TransactionAmt</th>\n",
       "      <th>ProductCD</th>\n",
       "      <th>card1</th>\n",
       "      <th>card2</th>\n",
       "      <th>card3</th>\n",
       "      <th>card4</th>\n",
       "      <th>card5</th>\n",
       "      <th>...</th>\n",
       "      <th>D15 / D15_STD_BY_CARD4</th>\n",
       "      <th>D15 / D15_MEAN_BY_CARD4</th>\n",
       "      <th>D15 / D15_STD_BY_CARD5</th>\n",
       "      <th>D15 / D15_MEAN_BY_CARD5</th>\n",
       "      <th>D15 / D15_STD_BY_CARD6</th>\n",
       "      <th>D15 / D15_MEAN_BY_CARD6</th>\n",
       "      <th>D15 / D15_STD_BY_ADDR1</th>\n",
       "      <th>D15 / D15_MEAN_BY_ADDR1</th>\n",
       "      <th>D15 / D15_STD_BY_ADDR2</th>\n",
       "      <th>D15 / D15_MEAN_BY_ADDR2</th>\n",
       "    </tr>\n",
       "  </thead>\n",
       "  <tbody>\n",
       "    <tr>\n",
       "      <th>0</th>\n",
       "      <td>2987000</td>\n",
       "      <td>0</td>\n",
       "      <td>86400</td>\n",
       "      <td>68.5</td>\n",
       "      <td>W</td>\n",
       "      <td>13926</td>\n",
       "      <td>NaN</td>\n",
       "      <td>150.0</td>\n",
       "      <td>discover</td>\n",
       "      <td>142.0</td>\n",
       "      <td>...</td>\n",
       "      <td>0.0</td>\n",
       "      <td>0.0</td>\n",
       "      <td>0.0</td>\n",
       "      <td>0.0</td>\n",
       "      <td>0.0</td>\n",
       "      <td>0.0</td>\n",
       "      <td>0.0</td>\n",
       "      <td>0.0</td>\n",
       "      <td>0.0</td>\n",
       "      <td>0.0</td>\n",
       "    </tr>\n",
       "    <tr>\n",
       "      <th>1</th>\n",
       "      <td>2987001</td>\n",
       "      <td>0</td>\n",
       "      <td>86401</td>\n",
       "      <td>29.0</td>\n",
       "      <td>W</td>\n",
       "      <td>2755</td>\n",
       "      <td>404.0</td>\n",
       "      <td>150.0</td>\n",
       "      <td>mastercard</td>\n",
       "      <td>102.0</td>\n",
       "      <td>...</td>\n",
       "      <td>0.0</td>\n",
       "      <td>0.0</td>\n",
       "      <td>0.0</td>\n",
       "      <td>0.0</td>\n",
       "      <td>0.0</td>\n",
       "      <td>0.0</td>\n",
       "      <td>0.0</td>\n",
       "      <td>0.0</td>\n",
       "      <td>0.0</td>\n",
       "      <td>0.0</td>\n",
       "    </tr>\n",
       "  </tbody>\n",
       "</table>\n",
       "<p>2 rows × 451 columns</p>\n",
       "</div>"
      ],
      "text/plain": [
       "   TransactionID  isFraud  TransactionDT  TransactionAmt ProductCD  card1  \\\n",
       "0        2987000        0          86400            68.5         W  13926   \n",
       "1        2987001        0          86401            29.0         W   2755   \n",
       "\n",
       "   card2  card3       card4  card5  ... D15 / D15_STD_BY_CARD4  \\\n",
       "0    NaN  150.0    discover  142.0  ...                    0.0   \n",
       "1  404.0  150.0  mastercard  102.0  ...                    0.0   \n",
       "\n",
       "   D15 / D15_MEAN_BY_CARD4  D15 / D15_STD_BY_CARD5  D15 / D15_MEAN_BY_CARD5  \\\n",
       "0                      0.0                     0.0                      0.0   \n",
       "1                      0.0                     0.0                      0.0   \n",
       "\n",
       "   D15 / D15_STD_BY_CARD6 D15 / D15_MEAN_BY_CARD6 D15 / D15_STD_BY_ADDR1  \\\n",
       "0                     0.0                     0.0                    0.0   \n",
       "1                     0.0                     0.0                    0.0   \n",
       "\n",
       "   D15 / D15_MEAN_BY_ADDR1  D15 / D15_STD_BY_ADDR2  D15 / D15_MEAN_BY_ADDR2  \n",
       "0                      0.0                     0.0                      0.0  \n",
       "1                      0.0                     0.0                      0.0  \n",
       "\n",
       "[2 rows x 451 columns]"
      ]
     },
     "execution_count": 54,
     "metadata": {},
     "output_type": "execute_result"
    }
   ],
   "source": [
    "train5.head(2)"
   ]
  },
  {
   "cell_type": "code",
   "execution_count": 55,
   "metadata": {},
   "outputs": [
    {
     "name": "stdout",
     "output_type": "stream",
     "text": [
      "Training until validation scores don't improve for 25 rounds\n",
      "[50]\ttraining's auc: 0.921141\tvalid_1's auc: 0.882877\n",
      "[100]\ttraining's auc: 0.947834\tvalid_1's auc: 0.907977\n",
      "[150]\ttraining's auc: 0.958996\tvalid_1's auc: 0.917168\n",
      "[200]\ttraining's auc: 0.967717\tvalid_1's auc: 0.924173\n",
      "[250]\ttraining's auc: 0.972918\tvalid_1's auc: 0.928761\n",
      "[300]\ttraining's auc: 0.977366\tvalid_1's auc: 0.932294\n",
      "[350]\ttraining's auc: 0.980863\tvalid_1's auc: 0.935243\n",
      "[400]\ttraining's auc: 0.983769\tvalid_1's auc: 0.93788\n",
      "[450]\ttraining's auc: 0.986427\tvalid_1's auc: 0.9401\n",
      "[500]\ttraining's auc: 0.988544\tvalid_1's auc: 0.941511\n",
      "[550]\ttraining's auc: 0.990147\tvalid_1's auc: 0.942841\n",
      "[600]\ttraining's auc: 0.991665\tvalid_1's auc: 0.943698\n",
      "[650]\ttraining's auc: 0.992768\tvalid_1's auc: 0.94456\n",
      "[700]\ttraining's auc: 0.993686\tvalid_1's auc: 0.945237\n",
      "[750]\ttraining's auc: 0.994443\tvalid_1's auc: 0.945589\n",
      "[800]\ttraining's auc: 0.995203\tvalid_1's auc: 0.946057\n",
      "Early stopping, best iteration is:\n",
      "[811]\ttraining's auc: 0.995483\tvalid_1's auc: 0.946377\n"
     ]
    },
    {
     "data": {
      "text/plain": [
       "LGBMClassifier(learning_rate=0.01, metric='auc', n_estimators=1000, n_jobs=6,\n",
       "               objective='binary', seed=99)"
      ]
     },
     "execution_count": 55,
     "metadata": {},
     "output_type": "execute_result"
    }
   ],
   "source": [
    "X_train5, X_valid5, y_train5, y_valid5, cat_cols5 = get_train_and_split(train5)\n",
    "model_lgbm5 = LGBMClassifier(**params)\n",
    "model_lgbm5.fit(\n",
    "    categorical_feature=cat_cols5,\n",
    "    X=X_train5,\n",
    "    y=y_train5,\n",
    "    eval_set=[(X_train5, y_train5), (X_valid5, y_valid5)],\n",
    "    early_stopping_rounds=25,\n",
    "    eval_metric=\"auc\",\n",
    "    verbose=50\n",
    ")"
   ]
  },
  {
   "cell_type": "markdown",
   "metadata": {},
   "source": [
    "Выводы: новые сгенерированные признаки D15 значительно увеличили качество, однако также модель слишком переобучилась."
   ]
  },
  {
   "cell_type": "markdown",
   "metadata": {},
   "source": [
    "### Задание 6: выделить дробную часть и целую часть признака TransactionAmt в два отдельных признака.  После создать отдельных признак - логарифм от TransactionAmt"
   ]
  },
  {
   "cell_type": "code",
   "execution_count": 56,
   "metadata": {},
   "outputs": [],
   "source": [
    "train6 = train.copy()"
   ]
  },
  {
   "cell_type": "code",
   "execution_count": 57,
   "metadata": {},
   "outputs": [],
   "source": [
    "train6['TransactionAmt_int'] = train6['TransactionAmt'].astype('int')"
   ]
  },
  {
   "cell_type": "code",
   "execution_count": 58,
   "metadata": {},
   "outputs": [],
   "source": [
    "train6['TransactionAmt_float'] = train6['TransactionAmt'] % 1"
   ]
  },
  {
   "cell_type": "code",
   "execution_count": 59,
   "metadata": {},
   "outputs": [],
   "source": [
    "train6['TransactionAmt_log'] = np.log(train6['TransactionAmt'])"
   ]
  },
  {
   "cell_type": "code",
   "execution_count": 60,
   "metadata": {},
   "outputs": [
    {
     "data": {
      "text/html": [
       "<div>\n",
       "<style scoped>\n",
       "    .dataframe tbody tr th:only-of-type {\n",
       "        vertical-align: middle;\n",
       "    }\n",
       "\n",
       "    .dataframe tbody tr th {\n",
       "        vertical-align: top;\n",
       "    }\n",
       "\n",
       "    .dataframe thead th {\n",
       "        text-align: right;\n",
       "    }\n",
       "</style>\n",
       "<table border=\"1\" class=\"dataframe\">\n",
       "  <thead>\n",
       "    <tr style=\"text-align: right;\">\n",
       "      <th></th>\n",
       "      <th>TransactionID</th>\n",
       "      <th>isFraud</th>\n",
       "      <th>TransactionDT</th>\n",
       "      <th>TransactionAmt</th>\n",
       "      <th>ProductCD</th>\n",
       "      <th>card1</th>\n",
       "      <th>card2</th>\n",
       "      <th>card3</th>\n",
       "      <th>card4</th>\n",
       "      <th>card5</th>\n",
       "      <th>...</th>\n",
       "      <th>V333</th>\n",
       "      <th>V334</th>\n",
       "      <th>V335</th>\n",
       "      <th>V336</th>\n",
       "      <th>V337</th>\n",
       "      <th>V338</th>\n",
       "      <th>V339</th>\n",
       "      <th>TransactionAmt_int</th>\n",
       "      <th>TransactionAmt_float</th>\n",
       "      <th>TransactionAmt_log</th>\n",
       "    </tr>\n",
       "  </thead>\n",
       "  <tbody>\n",
       "    <tr>\n",
       "      <th>0</th>\n",
       "      <td>2987000</td>\n",
       "      <td>0</td>\n",
       "      <td>86400</td>\n",
       "      <td>68.5</td>\n",
       "      <td>W</td>\n",
       "      <td>13926</td>\n",
       "      <td>NaN</td>\n",
       "      <td>150.0</td>\n",
       "      <td>discover</td>\n",
       "      <td>142.0</td>\n",
       "      <td>...</td>\n",
       "      <td>NaN</td>\n",
       "      <td>NaN</td>\n",
       "      <td>NaN</td>\n",
       "      <td>NaN</td>\n",
       "      <td>NaN</td>\n",
       "      <td>NaN</td>\n",
       "      <td>NaN</td>\n",
       "      <td>68</td>\n",
       "      <td>0.5</td>\n",
       "      <td>4.226834</td>\n",
       "    </tr>\n",
       "    <tr>\n",
       "      <th>1</th>\n",
       "      <td>2987001</td>\n",
       "      <td>0</td>\n",
       "      <td>86401</td>\n",
       "      <td>29.0</td>\n",
       "      <td>W</td>\n",
       "      <td>2755</td>\n",
       "      <td>404.0</td>\n",
       "      <td>150.0</td>\n",
       "      <td>mastercard</td>\n",
       "      <td>102.0</td>\n",
       "      <td>...</td>\n",
       "      <td>NaN</td>\n",
       "      <td>NaN</td>\n",
       "      <td>NaN</td>\n",
       "      <td>NaN</td>\n",
       "      <td>NaN</td>\n",
       "      <td>NaN</td>\n",
       "      <td>NaN</td>\n",
       "      <td>29</td>\n",
       "      <td>0.0</td>\n",
       "      <td>3.367296</td>\n",
       "    </tr>\n",
       "  </tbody>\n",
       "</table>\n",
       "<p>2 rows × 397 columns</p>\n",
       "</div>"
      ],
      "text/plain": [
       "   TransactionID  isFraud  TransactionDT  TransactionAmt ProductCD  card1  \\\n",
       "0        2987000        0          86400            68.5         W  13926   \n",
       "1        2987001        0          86401            29.0         W   2755   \n",
       "\n",
       "   card2  card3       card4  card5  ... V333  V334  V335  V336  V337 V338  \\\n",
       "0    NaN  150.0    discover  142.0  ...  NaN   NaN   NaN   NaN   NaN  NaN   \n",
       "1  404.0  150.0  mastercard  102.0  ...  NaN   NaN   NaN   NaN   NaN  NaN   \n",
       "\n",
       "  V339  TransactionAmt_int  TransactionAmt_float  TransactionAmt_log  \n",
       "0  NaN                  68                   0.5            4.226834  \n",
       "1  NaN                  29                   0.0            3.367296  \n",
       "\n",
       "[2 rows x 397 columns]"
      ]
     },
     "execution_count": 60,
     "metadata": {},
     "output_type": "execute_result"
    }
   ],
   "source": [
    "train6.head(2)"
   ]
  },
  {
   "cell_type": "code",
   "execution_count": 61,
   "metadata": {},
   "outputs": [
    {
     "name": "stdout",
     "output_type": "stream",
     "text": [
      "Training until validation scores don't improve for 25 rounds\n",
      "[50]\ttraining's auc: 0.882519\tvalid_1's auc: 0.872688\n",
      "[100]\ttraining's auc: 0.90285\tvalid_1's auc: 0.890702\n",
      "[150]\ttraining's auc: 0.912367\tvalid_1's auc: 0.898378\n",
      "[200]\ttraining's auc: 0.921905\tvalid_1's auc: 0.903686\n",
      "[250]\ttraining's auc: 0.929568\tvalid_1's auc: 0.9093\n",
      "[300]\ttraining's auc: 0.936727\tvalid_1's auc: 0.914373\n",
      "[350]\ttraining's auc: 0.942975\tvalid_1's auc: 0.918605\n",
      "[400]\ttraining's auc: 0.948644\tvalid_1's auc: 0.922306\n",
      "[450]\ttraining's auc: 0.952963\tvalid_1's auc: 0.924841\n",
      "[500]\ttraining's auc: 0.956518\tvalid_1's auc: 0.927337\n",
      "[550]\ttraining's auc: 0.959988\tvalid_1's auc: 0.929212\n",
      "[600]\ttraining's auc: 0.96265\tvalid_1's auc: 0.930958\n",
      "[650]\ttraining's auc: 0.965084\tvalid_1's auc: 0.932185\n",
      "[700]\ttraining's auc: 0.967596\tvalid_1's auc: 0.933586\n",
      "[750]\ttraining's auc: 0.96976\tvalid_1's auc: 0.93452\n",
      "[800]\ttraining's auc: 0.971275\tvalid_1's auc: 0.935305\n",
      "[850]\ttraining's auc: 0.973108\tvalid_1's auc: 0.936\n",
      "[900]\ttraining's auc: 0.974374\tvalid_1's auc: 0.936685\n",
      "[950]\ttraining's auc: 0.975759\tvalid_1's auc: 0.937495\n",
      "[1000]\ttraining's auc: 0.977181\tvalid_1's auc: 0.938166\n",
      "Did not meet early stopping. Best iteration is:\n",
      "[1000]\ttraining's auc: 0.977181\tvalid_1's auc: 0.938166\n"
     ]
    },
    {
     "data": {
      "text/plain": [
       "LGBMClassifier(learning_rate=0.01, metric='auc', n_estimators=1000, n_jobs=6,\n",
       "               objective='binary', seed=99)"
      ]
     },
     "execution_count": 61,
     "metadata": {},
     "output_type": "execute_result"
    }
   ],
   "source": [
    "X_train6, X_valid6, y_train6, y_valid6, cat_cols6 = get_train_and_split(train6)\n",
    "model_lgbm6 = LGBMClassifier(**params)\n",
    "model_lgbm6.fit(\n",
    "    categorical_feature=cat_cols6,\n",
    "    X=X_train6,\n",
    "    y=y_train6,\n",
    "    eval_set=[(X_train6, y_train6), (X_valid6, y_valid6)],\n",
    "    early_stopping_rounds=25,\n",
    "    eval_metric=\"auc\",\n",
    "    verbose=50\n",
    ")"
   ]
  },
  {
   "cell_type": "markdown",
   "metadata": {},
   "source": [
    "Выводы: новые сгенерированные признаки практически не увеличили качество по сравнению с базовым качеством, однако здесь переобучение немного ниже, чем в двух предыдущих. Хорошее качество при минимальной разнице между train и valid достигается на 100 итерациях, а затем модель начинает переобучаться на train."
   ]
  },
  {
   "cell_type": "code",
   "execution_count": null,
   "metadata": {},
   "outputs": [],
   "source": []
  },
  {
   "cell_type": "code",
   "execution_count": null,
   "metadata": {},
   "outputs": [],
   "source": []
  }
 ],
 "metadata": {
  "colab": {
   "name": "035b8a0e7096fceb77c734f1c4a117ef.ipynb",
   "provenance": []
  },
  "kernelspec": {
   "display_name": "Python 3",
   "language": "python",
   "name": "python3"
  },
  "language_info": {
   "codemirror_mode": {
    "name": "ipython",
    "version": 3
   },
   "file_extension": ".py",
   "mimetype": "text/x-python",
   "name": "python",
   "nbconvert_exporter": "python",
   "pygments_lexer": "ipython3",
   "version": "3.7.6"
  }
 },
 "nbformat": 4,
 "nbformat_minor": 1
}
