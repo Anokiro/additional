{
 "cells": [
  {
   "cell_type": "markdown",
   "metadata": {},
   "source": [
    "## Урок 2"
   ]
  },
  {
   "cell_type": "code",
   "execution_count": 5,
   "metadata": {},
   "outputs": [],
   "source": [
    "from typing import List, Optional\n",
    "from tqdm import tqdm\n",
    "\n",
    "import numpy as np\n",
    "import pandas as pd\n",
    "import matplotlib as mpl\n",
    "import matplotlib.pyplot as plt\n",
    "\n",
    "import seaborn as sns\n",
    "import scipy.stats as st\n",
    "from scipy.stats import probplot, ks_2samp\n",
    "\n",
    "from sklearn.metrics import roc_auc_score\n",
    "from sklearn.ensemble import RandomForestClassifier\n",
    "from sklearn.model_selection import KFold, cross_val_score\n",
    "from sklearn.base import BaseEstimator, TransformerMixin\n",
    "from sklearn.utils.validation import check_is_fitted\n",
    "import missingno as msno\n",
    "import xgboost as xgb\n",
    "\n",
    "from sklearn.metrics import (roc_auc_score, roc_curve, auc, confusion_matrix, accuracy_score, \\\n",
    "                            classification_report, plot_confusion_matrix, plot_precision_recall_curve, \\\n",
    "                            precision_recall_curve, recall_score, plot_roc_curve)\n",
    "\n",
    "import xgboost as xgb\n",
    "from xgboost import XGBClassifier\n",
    "\n",
    "from sklearn.model_selection import train_test_split\n",
    "from sklearn.metrics import roc_auc_score\n",
    "# plt.style.use('fivethirtyeight')\n",
    "# %config InlineBackend.figure_format = 'svg'\n",
    "%matplotlib inline\n",
    "import warnings\n",
    "warnings.filterwarnings('ignore')"
   ]
  },
  {
   "cell_type": "code",
   "execution_count": 6,
   "metadata": {},
   "outputs": [],
   "source": [
    "train = pd.read_csv(r\"./assignment_2_train.csv\")\n",
    "test = pd.read_csv(r\"./assignment_2_test.csv\")"
   ]
  },
  {
   "cell_type": "code",
   "execution_count": 7,
   "metadata": {},
   "outputs": [
    {
     "data": {
      "text/html": [
       "<div>\n",
       "<style scoped>\n",
       "    .dataframe tbody tr th:only-of-type {\n",
       "        vertical-align: middle;\n",
       "    }\n",
       "\n",
       "    .dataframe tbody tr th {\n",
       "        vertical-align: top;\n",
       "    }\n",
       "\n",
       "    .dataframe thead th {\n",
       "        text-align: right;\n",
       "    }\n",
       "</style>\n",
       "<table border=\"1\" class=\"dataframe\">\n",
       "  <thead>\n",
       "    <tr style=\"text-align: right;\">\n",
       "      <th></th>\n",
       "      <th>TransactionID</th>\n",
       "      <th>isFraud</th>\n",
       "      <th>TransactionDT</th>\n",
       "      <th>TransactionAmt</th>\n",
       "      <th>ProductCD</th>\n",
       "      <th>card1</th>\n",
       "      <th>card2</th>\n",
       "      <th>card3</th>\n",
       "      <th>card4</th>\n",
       "      <th>card5</th>\n",
       "      <th>...</th>\n",
       "      <th>V330</th>\n",
       "      <th>V331</th>\n",
       "      <th>V332</th>\n",
       "      <th>V333</th>\n",
       "      <th>V334</th>\n",
       "      <th>V335</th>\n",
       "      <th>V336</th>\n",
       "      <th>V337</th>\n",
       "      <th>V338</th>\n",
       "      <th>V339</th>\n",
       "    </tr>\n",
       "  </thead>\n",
       "  <tbody>\n",
       "    <tr>\n",
       "      <th>0</th>\n",
       "      <td>2987000</td>\n",
       "      <td>0</td>\n",
       "      <td>86400</td>\n",
       "      <td>68.5</td>\n",
       "      <td>W</td>\n",
       "      <td>13926</td>\n",
       "      <td>NaN</td>\n",
       "      <td>150.0</td>\n",
       "      <td>discover</td>\n",
       "      <td>142.0</td>\n",
       "      <td>...</td>\n",
       "      <td>NaN</td>\n",
       "      <td>NaN</td>\n",
       "      <td>NaN</td>\n",
       "      <td>NaN</td>\n",
       "      <td>NaN</td>\n",
       "      <td>NaN</td>\n",
       "      <td>NaN</td>\n",
       "      <td>NaN</td>\n",
       "      <td>NaN</td>\n",
       "      <td>NaN</td>\n",
       "    </tr>\n",
       "    <tr>\n",
       "      <th>1</th>\n",
       "      <td>2987001</td>\n",
       "      <td>0</td>\n",
       "      <td>86401</td>\n",
       "      <td>29.0</td>\n",
       "      <td>W</td>\n",
       "      <td>2755</td>\n",
       "      <td>404.0</td>\n",
       "      <td>150.0</td>\n",
       "      <td>mastercard</td>\n",
       "      <td>102.0</td>\n",
       "      <td>...</td>\n",
       "      <td>NaN</td>\n",
       "      <td>NaN</td>\n",
       "      <td>NaN</td>\n",
       "      <td>NaN</td>\n",
       "      <td>NaN</td>\n",
       "      <td>NaN</td>\n",
       "      <td>NaN</td>\n",
       "      <td>NaN</td>\n",
       "      <td>NaN</td>\n",
       "      <td>NaN</td>\n",
       "    </tr>\n",
       "  </tbody>\n",
       "</table>\n",
       "<p>2 rows × 394 columns</p>\n",
       "</div>"
      ],
      "text/plain": [
       "   TransactionID  isFraud  TransactionDT  TransactionAmt ProductCD  card1  \\\n",
       "0        2987000        0          86400            68.5         W  13926   \n",
       "1        2987001        0          86401            29.0         W   2755   \n",
       "\n",
       "   card2  card3       card4  card5  ... V330  V331  V332  V333  V334 V335  \\\n",
       "0    NaN  150.0    discover  142.0  ...  NaN   NaN   NaN   NaN   NaN  NaN   \n",
       "1  404.0  150.0  mastercard  102.0  ...  NaN   NaN   NaN   NaN   NaN  NaN   \n",
       "\n",
       "  V336  V337  V338  V339  \n",
       "0  NaN   NaN   NaN   NaN  \n",
       "1  NaN   NaN   NaN   NaN  \n",
       "\n",
       "[2 rows x 394 columns]"
      ]
     },
     "execution_count": 7,
     "metadata": {},
     "output_type": "execute_result"
    }
   ],
   "source": [
    "train.head(2)"
   ]
  },
  {
   "cell_type": "code",
   "execution_count": 8,
   "metadata": {},
   "outputs": [
    {
     "data": {
      "text/html": [
       "<div>\n",
       "<style scoped>\n",
       "    .dataframe tbody tr th:only-of-type {\n",
       "        vertical-align: middle;\n",
       "    }\n",
       "\n",
       "    .dataframe tbody tr th {\n",
       "        vertical-align: top;\n",
       "    }\n",
       "\n",
       "    .dataframe thead th {\n",
       "        text-align: right;\n",
       "    }\n",
       "</style>\n",
       "<table border=\"1\" class=\"dataframe\">\n",
       "  <thead>\n",
       "    <tr style=\"text-align: right;\">\n",
       "      <th></th>\n",
       "      <th>TransactionID</th>\n",
       "      <th>isFraud</th>\n",
       "      <th>TransactionDT</th>\n",
       "      <th>TransactionAmt</th>\n",
       "      <th>ProductCD</th>\n",
       "      <th>card1</th>\n",
       "      <th>card2</th>\n",
       "      <th>card3</th>\n",
       "      <th>card4</th>\n",
       "      <th>card5</th>\n",
       "      <th>...</th>\n",
       "      <th>V330</th>\n",
       "      <th>V331</th>\n",
       "      <th>V332</th>\n",
       "      <th>V333</th>\n",
       "      <th>V334</th>\n",
       "      <th>V335</th>\n",
       "      <th>V336</th>\n",
       "      <th>V337</th>\n",
       "      <th>V338</th>\n",
       "      <th>V339</th>\n",
       "    </tr>\n",
       "  </thead>\n",
       "  <tbody>\n",
       "    <tr>\n",
       "      <th>0</th>\n",
       "      <td>3287000</td>\n",
       "      <td>1</td>\n",
       "      <td>7415038</td>\n",
       "      <td>226.0</td>\n",
       "      <td>W</td>\n",
       "      <td>12473</td>\n",
       "      <td>555.0</td>\n",
       "      <td>150.0</td>\n",
       "      <td>visa</td>\n",
       "      <td>226.0</td>\n",
       "      <td>...</td>\n",
       "      <td>NaN</td>\n",
       "      <td>NaN</td>\n",
       "      <td>NaN</td>\n",
       "      <td>NaN</td>\n",
       "      <td>NaN</td>\n",
       "      <td>NaN</td>\n",
       "      <td>NaN</td>\n",
       "      <td>NaN</td>\n",
       "      <td>NaN</td>\n",
       "      <td>NaN</td>\n",
       "    </tr>\n",
       "    <tr>\n",
       "      <th>1</th>\n",
       "      <td>3287001</td>\n",
       "      <td>0</td>\n",
       "      <td>7415054</td>\n",
       "      <td>3072.0</td>\n",
       "      <td>W</td>\n",
       "      <td>15651</td>\n",
       "      <td>417.0</td>\n",
       "      <td>150.0</td>\n",
       "      <td>visa</td>\n",
       "      <td>226.0</td>\n",
       "      <td>...</td>\n",
       "      <td>NaN</td>\n",
       "      <td>NaN</td>\n",
       "      <td>NaN</td>\n",
       "      <td>NaN</td>\n",
       "      <td>NaN</td>\n",
       "      <td>NaN</td>\n",
       "      <td>NaN</td>\n",
       "      <td>NaN</td>\n",
       "      <td>NaN</td>\n",
       "      <td>NaN</td>\n",
       "    </tr>\n",
       "  </tbody>\n",
       "</table>\n",
       "<p>2 rows × 394 columns</p>\n",
       "</div>"
      ],
      "text/plain": [
       "   TransactionID  isFraud  TransactionDT  TransactionAmt ProductCD  card1  \\\n",
       "0        3287000        1        7415038           226.0         W  12473   \n",
       "1        3287001        0        7415054          3072.0         W  15651   \n",
       "\n",
       "   card2  card3 card4  card5  ... V330  V331  V332  V333  V334 V335 V336  \\\n",
       "0  555.0  150.0  visa  226.0  ...  NaN   NaN   NaN   NaN   NaN  NaN  NaN   \n",
       "1  417.0  150.0  visa  226.0  ...  NaN   NaN   NaN   NaN   NaN  NaN  NaN   \n",
       "\n",
       "   V337  V338  V339  \n",
       "0   NaN   NaN   NaN  \n",
       "1   NaN   NaN   NaN  \n",
       "\n",
       "[2 rows x 394 columns]"
      ]
     },
     "execution_count": 8,
     "metadata": {},
     "output_type": "execute_result"
    }
   ],
   "source": [
    "test.head(2)"
   ]
  },
  {
   "cell_type": "markdown",
   "metadata": {},
   "source": [
    "### Задание 1: отобрать только числовые признаки и обучить модель XGBoost с параметром booster = gbtree. Обучать алгоритм до тех пор, пока метрика качества не перестанет улучшаться на валидационной выборке в течение определенного числа итераций (выбрать значение самостоятельно).\n"
   ]
  },
  {
   "cell_type": "code",
   "execution_count": 5,
   "metadata": {},
   "outputs": [
    {
     "name": "stdout",
     "output_type": "stream",
     "text": [
      "<class 'pandas.core.frame.DataFrame'>\n",
      "RangeIndex: 180000 entries, 0 to 179999\n",
      "Columns: 394 entries, TransactionID to V339\n",
      "dtypes: float64(376), int64(4), object(14)\n",
      "memory usage: 541.1+ MB\n"
     ]
    }
   ],
   "source": [
    "train.info()"
   ]
  },
  {
   "cell_type": "code",
   "execution_count": 6,
   "metadata": {},
   "outputs": [
    {
     "data": {
      "text/html": [
       "<div>\n",
       "<style scoped>\n",
       "    .dataframe tbody tr th:only-of-type {\n",
       "        vertical-align: middle;\n",
       "    }\n",
       "\n",
       "    .dataframe tbody tr th {\n",
       "        vertical-align: top;\n",
       "    }\n",
       "\n",
       "    .dataframe thead th {\n",
       "        text-align: right;\n",
       "    }\n",
       "</style>\n",
       "<table border=\"1\" class=\"dataframe\">\n",
       "  <thead>\n",
       "    <tr style=\"text-align: right;\">\n",
       "      <th></th>\n",
       "      <th>TransactionID</th>\n",
       "      <th>isFraud</th>\n",
       "      <th>TransactionDT</th>\n",
       "      <th>TransactionAmt</th>\n",
       "      <th>card1</th>\n",
       "      <th>card2</th>\n",
       "      <th>card3</th>\n",
       "      <th>card5</th>\n",
       "      <th>addr1</th>\n",
       "      <th>addr2</th>\n",
       "      <th>...</th>\n",
       "      <th>V330</th>\n",
       "      <th>V331</th>\n",
       "      <th>V332</th>\n",
       "      <th>V333</th>\n",
       "      <th>V334</th>\n",
       "      <th>V335</th>\n",
       "      <th>V336</th>\n",
       "      <th>V337</th>\n",
       "      <th>V338</th>\n",
       "      <th>V339</th>\n",
       "    </tr>\n",
       "  </thead>\n",
       "  <tbody>\n",
       "    <tr>\n",
       "      <th>0</th>\n",
       "      <td>2987000</td>\n",
       "      <td>0</td>\n",
       "      <td>86400</td>\n",
       "      <td>68.50</td>\n",
       "      <td>13926</td>\n",
       "      <td>NaN</td>\n",
       "      <td>150.0</td>\n",
       "      <td>142.0</td>\n",
       "      <td>315.0</td>\n",
       "      <td>87.0</td>\n",
       "      <td>...</td>\n",
       "      <td>NaN</td>\n",
       "      <td>NaN</td>\n",
       "      <td>NaN</td>\n",
       "      <td>NaN</td>\n",
       "      <td>NaN</td>\n",
       "      <td>NaN</td>\n",
       "      <td>NaN</td>\n",
       "      <td>NaN</td>\n",
       "      <td>NaN</td>\n",
       "      <td>NaN</td>\n",
       "    </tr>\n",
       "    <tr>\n",
       "      <th>1</th>\n",
       "      <td>2987001</td>\n",
       "      <td>0</td>\n",
       "      <td>86401</td>\n",
       "      <td>29.00</td>\n",
       "      <td>2755</td>\n",
       "      <td>404.0</td>\n",
       "      <td>150.0</td>\n",
       "      <td>102.0</td>\n",
       "      <td>325.0</td>\n",
       "      <td>87.0</td>\n",
       "      <td>...</td>\n",
       "      <td>NaN</td>\n",
       "      <td>NaN</td>\n",
       "      <td>NaN</td>\n",
       "      <td>NaN</td>\n",
       "      <td>NaN</td>\n",
       "      <td>NaN</td>\n",
       "      <td>NaN</td>\n",
       "      <td>NaN</td>\n",
       "      <td>NaN</td>\n",
       "      <td>NaN</td>\n",
       "    </tr>\n",
       "    <tr>\n",
       "      <th>2</th>\n",
       "      <td>2987002</td>\n",
       "      <td>0</td>\n",
       "      <td>86469</td>\n",
       "      <td>59.00</td>\n",
       "      <td>4663</td>\n",
       "      <td>490.0</td>\n",
       "      <td>150.0</td>\n",
       "      <td>166.0</td>\n",
       "      <td>330.0</td>\n",
       "      <td>87.0</td>\n",
       "      <td>...</td>\n",
       "      <td>NaN</td>\n",
       "      <td>NaN</td>\n",
       "      <td>NaN</td>\n",
       "      <td>NaN</td>\n",
       "      <td>NaN</td>\n",
       "      <td>NaN</td>\n",
       "      <td>NaN</td>\n",
       "      <td>NaN</td>\n",
       "      <td>NaN</td>\n",
       "      <td>NaN</td>\n",
       "    </tr>\n",
       "    <tr>\n",
       "      <th>3</th>\n",
       "      <td>2987003</td>\n",
       "      <td>0</td>\n",
       "      <td>86499</td>\n",
       "      <td>50.00</td>\n",
       "      <td>18132</td>\n",
       "      <td>567.0</td>\n",
       "      <td>150.0</td>\n",
       "      <td>117.0</td>\n",
       "      <td>476.0</td>\n",
       "      <td>87.0</td>\n",
       "      <td>...</td>\n",
       "      <td>NaN</td>\n",
       "      <td>NaN</td>\n",
       "      <td>NaN</td>\n",
       "      <td>NaN</td>\n",
       "      <td>NaN</td>\n",
       "      <td>NaN</td>\n",
       "      <td>NaN</td>\n",
       "      <td>NaN</td>\n",
       "      <td>NaN</td>\n",
       "      <td>NaN</td>\n",
       "    </tr>\n",
       "    <tr>\n",
       "      <th>4</th>\n",
       "      <td>2987004</td>\n",
       "      <td>0</td>\n",
       "      <td>86506</td>\n",
       "      <td>50.00</td>\n",
       "      <td>4497</td>\n",
       "      <td>514.0</td>\n",
       "      <td>150.0</td>\n",
       "      <td>102.0</td>\n",
       "      <td>420.0</td>\n",
       "      <td>87.0</td>\n",
       "      <td>...</td>\n",
       "      <td>0.0</td>\n",
       "      <td>0.0</td>\n",
       "      <td>0.0</td>\n",
       "      <td>0.0</td>\n",
       "      <td>0.0</td>\n",
       "      <td>0.0</td>\n",
       "      <td>0.0</td>\n",
       "      <td>0.0</td>\n",
       "      <td>0.0</td>\n",
       "      <td>0.0</td>\n",
       "    </tr>\n",
       "    <tr>\n",
       "      <th>...</th>\n",
       "      <td>...</td>\n",
       "      <td>...</td>\n",
       "      <td>...</td>\n",
       "      <td>...</td>\n",
       "      <td>...</td>\n",
       "      <td>...</td>\n",
       "      <td>...</td>\n",
       "      <td>...</td>\n",
       "      <td>...</td>\n",
       "      <td>...</td>\n",
       "      <td>...</td>\n",
       "      <td>...</td>\n",
       "      <td>...</td>\n",
       "      <td>...</td>\n",
       "      <td>...</td>\n",
       "      <td>...</td>\n",
       "      <td>...</td>\n",
       "      <td>...</td>\n",
       "      <td>...</td>\n",
       "      <td>...</td>\n",
       "      <td>...</td>\n",
       "    </tr>\n",
       "    <tr>\n",
       "      <th>179995</th>\n",
       "      <td>3166995</td>\n",
       "      <td>0</td>\n",
       "      <td>3958217</td>\n",
       "      <td>39.00</td>\n",
       "      <td>1877</td>\n",
       "      <td>310.0</td>\n",
       "      <td>150.0</td>\n",
       "      <td>224.0</td>\n",
       "      <td>272.0</td>\n",
       "      <td>87.0</td>\n",
       "      <td>...</td>\n",
       "      <td>NaN</td>\n",
       "      <td>NaN</td>\n",
       "      <td>NaN</td>\n",
       "      <td>NaN</td>\n",
       "      <td>NaN</td>\n",
       "      <td>NaN</td>\n",
       "      <td>NaN</td>\n",
       "      <td>NaN</td>\n",
       "      <td>NaN</td>\n",
       "      <td>NaN</td>\n",
       "    </tr>\n",
       "    <tr>\n",
       "      <th>179996</th>\n",
       "      <td>3166996</td>\n",
       "      <td>0</td>\n",
       "      <td>3958237</td>\n",
       "      <td>59.95</td>\n",
       "      <td>10075</td>\n",
       "      <td>514.0</td>\n",
       "      <td>150.0</td>\n",
       "      <td>224.0</td>\n",
       "      <td>315.0</td>\n",
       "      <td>87.0</td>\n",
       "      <td>...</td>\n",
       "      <td>NaN</td>\n",
       "      <td>NaN</td>\n",
       "      <td>NaN</td>\n",
       "      <td>NaN</td>\n",
       "      <td>NaN</td>\n",
       "      <td>NaN</td>\n",
       "      <td>NaN</td>\n",
       "      <td>NaN</td>\n",
       "      <td>NaN</td>\n",
       "      <td>NaN</td>\n",
       "    </tr>\n",
       "    <tr>\n",
       "      <th>179997</th>\n",
       "      <td>3166997</td>\n",
       "      <td>0</td>\n",
       "      <td>3958241</td>\n",
       "      <td>34.00</td>\n",
       "      <td>6053</td>\n",
       "      <td>122.0</td>\n",
       "      <td>150.0</td>\n",
       "      <td>195.0</td>\n",
       "      <td>330.0</td>\n",
       "      <td>87.0</td>\n",
       "      <td>...</td>\n",
       "      <td>NaN</td>\n",
       "      <td>NaN</td>\n",
       "      <td>NaN</td>\n",
       "      <td>NaN</td>\n",
       "      <td>NaN</td>\n",
       "      <td>NaN</td>\n",
       "      <td>NaN</td>\n",
       "      <td>NaN</td>\n",
       "      <td>NaN</td>\n",
       "      <td>NaN</td>\n",
       "    </tr>\n",
       "    <tr>\n",
       "      <th>179998</th>\n",
       "      <td>3166998</td>\n",
       "      <td>0</td>\n",
       "      <td>3958260</td>\n",
       "      <td>59.00</td>\n",
       "      <td>7726</td>\n",
       "      <td>555.0</td>\n",
       "      <td>150.0</td>\n",
       "      <td>226.0</td>\n",
       "      <td>272.0</td>\n",
       "      <td>87.0</td>\n",
       "      <td>...</td>\n",
       "      <td>NaN</td>\n",
       "      <td>NaN</td>\n",
       "      <td>NaN</td>\n",
       "      <td>NaN</td>\n",
       "      <td>NaN</td>\n",
       "      <td>NaN</td>\n",
       "      <td>NaN</td>\n",
       "      <td>NaN</td>\n",
       "      <td>NaN</td>\n",
       "      <td>NaN</td>\n",
       "    </tr>\n",
       "    <tr>\n",
       "      <th>179999</th>\n",
       "      <td>3166999</td>\n",
       "      <td>0</td>\n",
       "      <td>3958317</td>\n",
       "      <td>226.00</td>\n",
       "      <td>17480</td>\n",
       "      <td>528.0</td>\n",
       "      <td>150.0</td>\n",
       "      <td>226.0</td>\n",
       "      <td>123.0</td>\n",
       "      <td>87.0</td>\n",
       "      <td>...</td>\n",
       "      <td>NaN</td>\n",
       "      <td>NaN</td>\n",
       "      <td>NaN</td>\n",
       "      <td>NaN</td>\n",
       "      <td>NaN</td>\n",
       "      <td>NaN</td>\n",
       "      <td>NaN</td>\n",
       "      <td>NaN</td>\n",
       "      <td>NaN</td>\n",
       "      <td>NaN</td>\n",
       "    </tr>\n",
       "  </tbody>\n",
       "</table>\n",
       "<p>180000 rows × 380 columns</p>\n",
       "</div>"
      ],
      "text/plain": [
       "        TransactionID  isFraud  TransactionDT  TransactionAmt  card1  card2  \\\n",
       "0             2987000        0          86400           68.50  13926    NaN   \n",
       "1             2987001        0          86401           29.00   2755  404.0   \n",
       "2             2987002        0          86469           59.00   4663  490.0   \n",
       "3             2987003        0          86499           50.00  18132  567.0   \n",
       "4             2987004        0          86506           50.00   4497  514.0   \n",
       "...               ...      ...            ...             ...    ...    ...   \n",
       "179995        3166995        0        3958217           39.00   1877  310.0   \n",
       "179996        3166996        0        3958237           59.95  10075  514.0   \n",
       "179997        3166997        0        3958241           34.00   6053  122.0   \n",
       "179998        3166998        0        3958260           59.00   7726  555.0   \n",
       "179999        3166999        0        3958317          226.00  17480  528.0   \n",
       "\n",
       "        card3  card5  addr1  addr2  ...  V330  V331  V332  V333  V334  V335  \\\n",
       "0       150.0  142.0  315.0   87.0  ...   NaN   NaN   NaN   NaN   NaN   NaN   \n",
       "1       150.0  102.0  325.0   87.0  ...   NaN   NaN   NaN   NaN   NaN   NaN   \n",
       "2       150.0  166.0  330.0   87.0  ...   NaN   NaN   NaN   NaN   NaN   NaN   \n",
       "3       150.0  117.0  476.0   87.0  ...   NaN   NaN   NaN   NaN   NaN   NaN   \n",
       "4       150.0  102.0  420.0   87.0  ...   0.0   0.0   0.0   0.0   0.0   0.0   \n",
       "...       ...    ...    ...    ...  ...   ...   ...   ...   ...   ...   ...   \n",
       "179995  150.0  224.0  272.0   87.0  ...   NaN   NaN   NaN   NaN   NaN   NaN   \n",
       "179996  150.0  224.0  315.0   87.0  ...   NaN   NaN   NaN   NaN   NaN   NaN   \n",
       "179997  150.0  195.0  330.0   87.0  ...   NaN   NaN   NaN   NaN   NaN   NaN   \n",
       "179998  150.0  226.0  272.0   87.0  ...   NaN   NaN   NaN   NaN   NaN   NaN   \n",
       "179999  150.0  226.0  123.0   87.0  ...   NaN   NaN   NaN   NaN   NaN   NaN   \n",
       "\n",
       "        V336  V337  V338  V339  \n",
       "0        NaN   NaN   NaN   NaN  \n",
       "1        NaN   NaN   NaN   NaN  \n",
       "2        NaN   NaN   NaN   NaN  \n",
       "3        NaN   NaN   NaN   NaN  \n",
       "4        0.0   0.0   0.0   0.0  \n",
       "...      ...   ...   ...   ...  \n",
       "179995   NaN   NaN   NaN   NaN  \n",
       "179996   NaN   NaN   NaN   NaN  \n",
       "179997   NaN   NaN   NaN   NaN  \n",
       "179998   NaN   NaN   NaN   NaN  \n",
       "179999   NaN   NaN   NaN   NaN  \n",
       "\n",
       "[180000 rows x 380 columns]"
      ]
     },
     "execution_count": 6,
     "metadata": {},
     "output_type": "execute_result"
    }
   ],
   "source": [
    "train_numeric = train.select_dtypes(include=[np.number])\n",
    "train_numeric"
   ]
  },
  {
   "cell_type": "code",
   "execution_count": 53,
   "metadata": {},
   "outputs": [],
   "source": [
    "X = train_numeric.drop(['isFraud'], axis=1)\n",
    "y = train_numeric['isFraud']\n",
    "\n",
    "X_train, X_valid, y_train, y_valid = train_test_split(X, y, test_size=0.2, random_state=99)"
   ]
  },
  {
   "cell_type": "code",
   "execution_count": 54,
   "metadata": {},
   "outputs": [],
   "source": [
    "params = {\n",
    "    \"booster\": \"gbtree\",\n",
    "    \"objective\": \"binary:logistic\",\n",
    "    \"eval_metric\": \"auc\",\n",
    "    \"learning_rate\": 0.1,\n",
    "    \"n_estimators\": 1000,\n",
    "    \"reg_lambda\": 100,\n",
    "    \"max_depth\": 4,\n",
    "    \"gamma\": 10,\n",
    "    \"nthread\": 6,\n",
    "    \"seed\": 27\n",
    "}"
   ]
  },
  {
   "cell_type": "code",
   "execution_count": 55,
   "metadata": {},
   "outputs": [
    {
     "name": "stdout",
     "output_type": "stream",
     "text": [
      "[0]\tvalidation_0-auc:0.65287\tvalidation_1-auc:0.63767\n",
      "[25]\tvalidation_0-auc:0.84078\tvalidation_1-auc:0.83603\n",
      "[50]\tvalidation_0-auc:0.88315\tvalidation_1-auc:0.87315\n",
      "[75]\tvalidation_0-auc:0.89311\tvalidation_1-auc:0.88472\n",
      "[100]\tvalidation_0-auc:0.89963\tvalidation_1-auc:0.89120\n",
      "[125]\tvalidation_0-auc:0.90399\tvalidation_1-auc:0.89405\n",
      "[150]\tvalidation_0-auc:0.90749\tvalidation_1-auc:0.89576\n",
      "[175]\tvalidation_0-auc:0.90763\tvalidation_1-auc:0.89575\n",
      "[194]\tvalidation_0-auc:0.90763\tvalidation_1-auc:0.89575\n"
     ]
    },
    {
     "data": {
      "text/plain": [
       "XGBClassifier(base_score=0.5, booster='gbtree', colsample_bylevel=1,\n",
       "              colsample_bynode=1, colsample_bytree=1, eval_metric='auc',\n",
       "              gamma=10, gpu_id=-1, importance_type='gain',\n",
       "              interaction_constraints='', learning_rate=0.1, max_delta_step=0,\n",
       "              max_depth=4, min_child_weight=1, missing=nan,\n",
       "              monotone_constraints='()', n_estimators=1000, n_jobs=6, nthread=6,\n",
       "              num_parallel_tree=1, random_state=27, reg_alpha=0, reg_lambda=100,\n",
       "              scale_pos_weight=1, seed=27, subsample=1, tree_method='exact',\n",
       "              validate_parameters=1, verbosity=None)"
      ]
     },
     "execution_count": 55,
     "metadata": {},
     "output_type": "execute_result"
    }
   ],
   "source": [
    "model_gb1 = xgb.XGBClassifier(**params)\n",
    "model_gb1.fit(\n",
    "    X=X_train,\n",
    "    y=y_train,\n",
    "    eval_set=[(X_train, y_train), (X_valid, y_valid)],\n",
    "    early_stopping_rounds=50,\n",
    "    eval_metric=\"auc\",\n",
    "    verbose=25\n",
    ")"
   ]
  },
  {
   "cell_type": "markdown",
   "metadata": {},
   "source": [
    "### Задание 2: обработать категориальные признаки любым способом (который вы знаете) и добавить их к данным. Выполнить задание 1."
   ]
  },
  {
   "cell_type": "code",
   "execution_count": 12,
   "metadata": {},
   "outputs": [
    {
     "data": {
      "text/html": [
       "<div>\n",
       "<style scoped>\n",
       "    .dataframe tbody tr th:only-of-type {\n",
       "        vertical-align: middle;\n",
       "    }\n",
       "\n",
       "    .dataframe tbody tr th {\n",
       "        vertical-align: top;\n",
       "    }\n",
       "\n",
       "    .dataframe thead th {\n",
       "        text-align: right;\n",
       "    }\n",
       "</style>\n",
       "<table border=\"1\" class=\"dataframe\">\n",
       "  <thead>\n",
       "    <tr style=\"text-align: right;\">\n",
       "      <th></th>\n",
       "      <th>TransactionID</th>\n",
       "      <th>isFraud</th>\n",
       "      <th>TransactionDT</th>\n",
       "      <th>TransactionAmt</th>\n",
       "      <th>ProductCD</th>\n",
       "      <th>card1</th>\n",
       "      <th>card2</th>\n",
       "      <th>card3</th>\n",
       "      <th>card4</th>\n",
       "      <th>card5</th>\n",
       "      <th>...</th>\n",
       "      <th>V330</th>\n",
       "      <th>V331</th>\n",
       "      <th>V332</th>\n",
       "      <th>V333</th>\n",
       "      <th>V334</th>\n",
       "      <th>V335</th>\n",
       "      <th>V336</th>\n",
       "      <th>V337</th>\n",
       "      <th>V338</th>\n",
       "      <th>V339</th>\n",
       "    </tr>\n",
       "  </thead>\n",
       "  <tbody>\n",
       "    <tr>\n",
       "      <th>0</th>\n",
       "      <td>2987000</td>\n",
       "      <td>0</td>\n",
       "      <td>86400</td>\n",
       "      <td>68.5</td>\n",
       "      <td>W</td>\n",
       "      <td>13926</td>\n",
       "      <td>NaN</td>\n",
       "      <td>150.0</td>\n",
       "      <td>discover</td>\n",
       "      <td>142.0</td>\n",
       "      <td>...</td>\n",
       "      <td>NaN</td>\n",
       "      <td>NaN</td>\n",
       "      <td>NaN</td>\n",
       "      <td>NaN</td>\n",
       "      <td>NaN</td>\n",
       "      <td>NaN</td>\n",
       "      <td>NaN</td>\n",
       "      <td>NaN</td>\n",
       "      <td>NaN</td>\n",
       "      <td>NaN</td>\n",
       "    </tr>\n",
       "    <tr>\n",
       "      <th>1</th>\n",
       "      <td>2987001</td>\n",
       "      <td>0</td>\n",
       "      <td>86401</td>\n",
       "      <td>29.0</td>\n",
       "      <td>W</td>\n",
       "      <td>2755</td>\n",
       "      <td>404.0</td>\n",
       "      <td>150.0</td>\n",
       "      <td>mastercard</td>\n",
       "      <td>102.0</td>\n",
       "      <td>...</td>\n",
       "      <td>NaN</td>\n",
       "      <td>NaN</td>\n",
       "      <td>NaN</td>\n",
       "      <td>NaN</td>\n",
       "      <td>NaN</td>\n",
       "      <td>NaN</td>\n",
       "      <td>NaN</td>\n",
       "      <td>NaN</td>\n",
       "      <td>NaN</td>\n",
       "      <td>NaN</td>\n",
       "    </tr>\n",
       "    <tr>\n",
       "      <th>2</th>\n",
       "      <td>2987002</td>\n",
       "      <td>0</td>\n",
       "      <td>86469</td>\n",
       "      <td>59.0</td>\n",
       "      <td>W</td>\n",
       "      <td>4663</td>\n",
       "      <td>490.0</td>\n",
       "      <td>150.0</td>\n",
       "      <td>visa</td>\n",
       "      <td>166.0</td>\n",
       "      <td>...</td>\n",
       "      <td>NaN</td>\n",
       "      <td>NaN</td>\n",
       "      <td>NaN</td>\n",
       "      <td>NaN</td>\n",
       "      <td>NaN</td>\n",
       "      <td>NaN</td>\n",
       "      <td>NaN</td>\n",
       "      <td>NaN</td>\n",
       "      <td>NaN</td>\n",
       "      <td>NaN</td>\n",
       "    </tr>\n",
       "    <tr>\n",
       "      <th>3</th>\n",
       "      <td>2987003</td>\n",
       "      <td>0</td>\n",
       "      <td>86499</td>\n",
       "      <td>50.0</td>\n",
       "      <td>W</td>\n",
       "      <td>18132</td>\n",
       "      <td>567.0</td>\n",
       "      <td>150.0</td>\n",
       "      <td>mastercard</td>\n",
       "      <td>117.0</td>\n",
       "      <td>...</td>\n",
       "      <td>NaN</td>\n",
       "      <td>NaN</td>\n",
       "      <td>NaN</td>\n",
       "      <td>NaN</td>\n",
       "      <td>NaN</td>\n",
       "      <td>NaN</td>\n",
       "      <td>NaN</td>\n",
       "      <td>NaN</td>\n",
       "      <td>NaN</td>\n",
       "      <td>NaN</td>\n",
       "    </tr>\n",
       "    <tr>\n",
       "      <th>4</th>\n",
       "      <td>2987004</td>\n",
       "      <td>0</td>\n",
       "      <td>86506</td>\n",
       "      <td>50.0</td>\n",
       "      <td>H</td>\n",
       "      <td>4497</td>\n",
       "      <td>514.0</td>\n",
       "      <td>150.0</td>\n",
       "      <td>mastercard</td>\n",
       "      <td>102.0</td>\n",
       "      <td>...</td>\n",
       "      <td>0.0</td>\n",
       "      <td>0.0</td>\n",
       "      <td>0.0</td>\n",
       "      <td>0.0</td>\n",
       "      <td>0.0</td>\n",
       "      <td>0.0</td>\n",
       "      <td>0.0</td>\n",
       "      <td>0.0</td>\n",
       "      <td>0.0</td>\n",
       "      <td>0.0</td>\n",
       "    </tr>\n",
       "  </tbody>\n",
       "</table>\n",
       "<p>5 rows × 394 columns</p>\n",
       "</div>"
      ],
      "text/plain": [
       "   TransactionID  isFraud  TransactionDT  TransactionAmt ProductCD  card1  \\\n",
       "0        2987000        0          86400            68.5         W  13926   \n",
       "1        2987001        0          86401            29.0         W   2755   \n",
       "2        2987002        0          86469            59.0         W   4663   \n",
       "3        2987003        0          86499            50.0         W  18132   \n",
       "4        2987004        0          86506            50.0         H   4497   \n",
       "\n",
       "   card2  card3       card4  card5  ... V330  V331  V332  V333  V334 V335  \\\n",
       "0    NaN  150.0    discover  142.0  ...  NaN   NaN   NaN   NaN   NaN  NaN   \n",
       "1  404.0  150.0  mastercard  102.0  ...  NaN   NaN   NaN   NaN   NaN  NaN   \n",
       "2  490.0  150.0        visa  166.0  ...  NaN   NaN   NaN   NaN   NaN  NaN   \n",
       "3  567.0  150.0  mastercard  117.0  ...  NaN   NaN   NaN   NaN   NaN  NaN   \n",
       "4  514.0  150.0  mastercard  102.0  ...  0.0   0.0   0.0   0.0   0.0  0.0   \n",
       "\n",
       "  V336  V337  V338  V339  \n",
       "0  NaN   NaN   NaN   NaN  \n",
       "1  NaN   NaN   NaN   NaN  \n",
       "2  NaN   NaN   NaN   NaN  \n",
       "3  NaN   NaN   NaN   NaN  \n",
       "4  0.0   0.0   0.0   0.0  \n",
       "\n",
       "[5 rows x 394 columns]"
      ]
     },
     "execution_count": 12,
     "metadata": {},
     "output_type": "execute_result"
    }
   ],
   "source": [
    "all_train = train.copy()\n",
    "all_train.head()"
   ]
  },
  {
   "cell_type": "code",
   "execution_count": 13,
   "metadata": {},
   "outputs": [
    {
     "data": {
      "text/plain": [
       "['ProductCD',\n",
       " 'card4',\n",
       " 'card6',\n",
       " 'P_emaildomain',\n",
       " 'R_emaildomain',\n",
       " 'M1',\n",
       " 'M2',\n",
       " 'M3',\n",
       " 'M4',\n",
       " 'M5',\n",
       " 'M6',\n",
       " 'M7',\n",
       " 'M8',\n",
       " 'M9']"
      ]
     },
     "execution_count": 13,
     "metadata": {},
     "output_type": "execute_result"
    }
   ],
   "source": [
    "cat_cols = train.select_dtypes(include=[np.object]).columns.tolist()\n",
    "cat_cols"
   ]
  },
  {
   "cell_type": "code",
   "execution_count": 14,
   "metadata": {},
   "outputs": [
    {
     "data": {
      "text/plain": [
       "W    110340\n",
       "H     22422\n",
       "R     21926\n",
       "C     21664\n",
       "S      3648\n",
       "Name: ProductCD, dtype: int64"
      ]
     },
     "execution_count": 14,
     "metadata": {},
     "output_type": "execute_result"
    }
   ],
   "source": [
    "all_train['ProductCD'].value_counts()"
   ]
  },
  {
   "cell_type": "code",
   "execution_count": 15,
   "metadata": {},
   "outputs": [],
   "source": [
    "hash_space = 0.1\n",
    "for item_column in cat_cols:\n",
    "    for itm in all_train[item_column].value_counts().index.tolist():\n",
    "        all_train.loc[all_train[item_column] == itm, item_column] = (hash(itm) % hash_space)\n",
    "\n",
    "    all_train[item_column] = all_train[item_column].astype('float')"
   ]
  },
  {
   "cell_type": "code",
   "execution_count": 16,
   "metadata": {},
   "outputs": [
    {
     "data": {
      "text/plain": [
       "0.094975    110340\n",
       "0.087314     22422\n",
       "0.003198     21926\n",
       "0.052051     21664\n",
       "0.077632      3648\n",
       "Name: ProductCD, dtype: int64"
      ]
     },
     "execution_count": 16,
     "metadata": {},
     "output_type": "execute_result"
    }
   ],
   "source": [
    "all_train['ProductCD'].value_counts()"
   ]
  },
  {
   "cell_type": "code",
   "execution_count": 17,
   "metadata": {},
   "outputs": [],
   "source": [
    "X2 = all_train.drop(['isFraud'], axis=1)\n",
    "y2 = all_train['isFraud']\n",
    "\n",
    "X_train2, X_valid2, y_train2, y_valid2 = train_test_split(X2, y2, test_size=0.2, random_state=99)"
   ]
  },
  {
   "cell_type": "code",
   "execution_count": 18,
   "metadata": {},
   "outputs": [
    {
     "name": "stdout",
     "output_type": "stream",
     "text": [
      "[0]\tvalidation_0-auc:0.65287\tvalidation_1-auc:0.63767\n",
      "[10]\tvalidation_0-auc:0.78898\tvalidation_1-auc:0.76630\n",
      "[20]\tvalidation_0-auc:0.82800\tvalidation_1-auc:0.81994\n",
      "[30]\tvalidation_0-auc:0.85948\tvalidation_1-auc:0.84774\n",
      "[40]\tvalidation_0-auc:0.87613\tvalidation_1-auc:0.86616\n",
      "[50]\tvalidation_0-auc:0.88688\tvalidation_1-auc:0.87471\n",
      "[60]\tvalidation_0-auc:0.89578\tvalidation_1-auc:0.88431\n",
      "[70]\tvalidation_0-auc:0.90077\tvalidation_1-auc:0.88941\n",
      "[80]\tvalidation_0-auc:0.90494\tvalidation_1-auc:0.89351\n",
      "[90]\tvalidation_0-auc:0.90705\tvalidation_1-auc:0.89546\n",
      "[100]\tvalidation_0-auc:0.91006\tvalidation_1-auc:0.89756\n",
      "[110]\tvalidation_0-auc:0.91194\tvalidation_1-auc:0.89924\n",
      "[120]\tvalidation_0-auc:0.91357\tvalidation_1-auc:0.90042\n",
      "[130]\tvalidation_0-auc:0.91511\tvalidation_1-auc:0.90163\n",
      "[140]\tvalidation_0-auc:0.91637\tvalidation_1-auc:0.90261\n",
      "[150]\tvalidation_0-auc:0.91684\tvalidation_1-auc:0.90283\n",
      "[160]\tvalidation_0-auc:0.91684\tvalidation_1-auc:0.90283\n",
      "[170]\tvalidation_0-auc:0.91684\tvalidation_1-auc:0.90283\n",
      "[180]\tvalidation_0-auc:0.91684\tvalidation_1-auc:0.90283\n",
      "[190]\tvalidation_0-auc:0.91684\tvalidation_1-auc:0.90283\n",
      "[195]\tvalidation_0-auc:0.91684\tvalidation_1-auc:0.90283\n"
     ]
    },
    {
     "data": {
      "text/plain": [
       "XGBClassifier(base_score=0.5, booster='gbtree', colsample_bylevel=1,\n",
       "              colsample_bynode=1, colsample_bytree=1, eval_metric='auc',\n",
       "              gamma=10, gpu_id=-1, importance_type='gain',\n",
       "              interaction_constraints='', learning_rate=0.1, max_delta_step=0,\n",
       "              max_depth=4, min_child_weight=1, missing=nan,\n",
       "              monotone_constraints='()', n_estimators=1000, n_jobs=6, nthread=6,\n",
       "              num_parallel_tree=1, random_state=27, reg_alpha=0, reg_lambda=100,\n",
       "              scale_pos_weight=1, seed=27, subsample=1, tree_method='exact',\n",
       "              validate_parameters=1, verbosity=None)"
      ]
     },
     "execution_count": 18,
     "metadata": {},
     "output_type": "execute_result"
    }
   ],
   "source": [
    "model_gb2 = xgb.XGBClassifier(**params)\n",
    "model_gb2.fit(\n",
    "    X=X_train2,\n",
    "    y=y_train2,\n",
    "    eval_set=[(X_train2, y_train2), (X_valid2, y_valid2)],\n",
    "    early_stopping_rounds=50,\n",
    "    eval_metric=\"auc\",\n",
    "    verbose=10\n",
    ")"
   ]
  },
  {
   "cell_type": "markdown",
   "metadata": {},
   "source": [
    "### Задание 3: для числовых признаков обучить модель LightGBM. Обучать алгоритм до тех пор, пока метрика качества не перестанет улучшаться на валидационной выборке в течение определенного числа итераций (выбрать значение самостоятельно)."
   ]
  },
  {
   "cell_type": "code",
   "execution_count": 19,
   "metadata": {},
   "outputs": [],
   "source": [
    "params2 = {\n",
    "    \"boosting_type\": \"gbdt\",\n",
    "    \"objective\": \"binary\",\n",
    "    \"metric\": \"auc\",\n",
    "    \"learning_rate\": 0.01,\n",
    "    \"n_estimators\": 1000,\n",
    "    \"n_jobs\": 6,\n",
    "    \"seed\": 27\n",
    "}"
   ]
  },
  {
   "cell_type": "code",
   "execution_count": 20,
   "metadata": {},
   "outputs": [
    {
     "name": "stdout",
     "output_type": "stream",
     "text": [
      "Training until validation scores don't improve for 25 rounds\n",
      "[25]\ttraining's auc: 0.86447\tvalid_1's auc: 0.851898\n",
      "[50]\ttraining's auc: 0.879598\tvalid_1's auc: 0.870263\n",
      "[75]\ttraining's auc: 0.885776\tvalid_1's auc: 0.877906\n",
      "[100]\ttraining's auc: 0.892919\tvalid_1's auc: 0.882228\n",
      "[125]\ttraining's auc: 0.898091\tvalid_1's auc: 0.889125\n",
      "[150]\ttraining's auc: 0.902778\tvalid_1's auc: 0.892661\n",
      "[175]\ttraining's auc: 0.906846\tvalid_1's auc: 0.895612\n",
      "[200]\ttraining's auc: 0.910409\tvalid_1's auc: 0.897865\n",
      "[225]\ttraining's auc: 0.913833\tvalid_1's auc: 0.900577\n",
      "[250]\ttraining's auc: 0.917959\tvalid_1's auc: 0.902784\n",
      "[275]\ttraining's auc: 0.921431\tvalid_1's auc: 0.905034\n",
      "[300]\ttraining's auc: 0.925384\tvalid_1's auc: 0.907025\n",
      "[325]\ttraining's auc: 0.929127\tvalid_1's auc: 0.909064\n",
      "[350]\ttraining's auc: 0.93205\tvalid_1's auc: 0.910517\n",
      "[375]\ttraining's auc: 0.935323\tvalid_1's auc: 0.912015\n",
      "[400]\ttraining's auc: 0.938013\tvalid_1's auc: 0.913821\n",
      "[425]\ttraining's auc: 0.94\tvalid_1's auc: 0.914897\n",
      "[450]\ttraining's auc: 0.942424\tvalid_1's auc: 0.916761\n",
      "[475]\ttraining's auc: 0.944184\tvalid_1's auc: 0.917322\n",
      "[500]\ttraining's auc: 0.946144\tvalid_1's auc: 0.918187\n",
      "[525]\ttraining's auc: 0.947969\tvalid_1's auc: 0.919023\n",
      "[550]\ttraining's auc: 0.949968\tvalid_1's auc: 0.920097\n",
      "[575]\ttraining's auc: 0.951657\tvalid_1's auc: 0.920929\n",
      "[600]\ttraining's auc: 0.952911\tvalid_1's auc: 0.921807\n",
      "[625]\ttraining's auc: 0.954214\tvalid_1's auc: 0.922769\n",
      "[650]\ttraining's auc: 0.955519\tvalid_1's auc: 0.923397\n",
      "[675]\ttraining's auc: 0.956726\tvalid_1's auc: 0.924169\n",
      "[700]\ttraining's auc: 0.957992\tvalid_1's auc: 0.925364\n",
      "[725]\ttraining's auc: 0.959006\tvalid_1's auc: 0.925859\n",
      "[750]\ttraining's auc: 0.959956\tvalid_1's auc: 0.926353\n",
      "[775]\ttraining's auc: 0.960916\tvalid_1's auc: 0.927018\n",
      "[800]\ttraining's auc: 0.961794\tvalid_1's auc: 0.927595\n",
      "[825]\ttraining's auc: 0.96259\tvalid_1's auc: 0.928129\n",
      "[850]\ttraining's auc: 0.963591\tvalid_1's auc: 0.928752\n",
      "[875]\ttraining's auc: 0.964481\tvalid_1's auc: 0.929224\n",
      "[900]\ttraining's auc: 0.96536\tvalid_1's auc: 0.929629\n",
      "[925]\ttraining's auc: 0.966137\tvalid_1's auc: 0.930157\n",
      "[950]\ttraining's auc: 0.966858\tvalid_1's auc: 0.930557\n",
      "[975]\ttraining's auc: 0.967519\tvalid_1's auc: 0.930959\n",
      "[1000]\ttraining's auc: 0.968135\tvalid_1's auc: 0.931403\n",
      "Did not meet early stopping. Best iteration is:\n",
      "[1000]\ttraining's auc: 0.968135\tvalid_1's auc: 0.931403\n"
     ]
    },
    {
     "data": {
      "text/plain": [
       "LGBMClassifier(learning_rate=0.01, metric='auc', n_estimators=1000, n_jobs=6,\n",
       "               objective='binary', seed=27)"
      ]
     },
     "execution_count": 20,
     "metadata": {},
     "output_type": "execute_result"
    }
   ],
   "source": [
    "from lightgbm import LGBMClassifier\n",
    "import lightgbm as lgb\n",
    "model_lgbm1 = LGBMClassifier(**params2)\n",
    "model_lgbm1.fit(\n",
    "    X=X_train,\n",
    "    y=y_train,\n",
    "    eval_set=[(X_train, y_train), (X_valid, y_valid)],\n",
    "    early_stopping_rounds=25,\n",
    "    eval_metric=\"auc\",\n",
    "    verbose=25\n",
    ")"
   ]
  },
  {
   "cell_type": "code",
   "execution_count": 22,
   "metadata": {},
   "outputs": [],
   "source": [
    "# dtrain = lgb.Dataset(\n",
    "#     data=X_train3, label=y_train3\n",
    "# )\n",
    "# dvalid = lgb.Dataset(\n",
    "#     data=X_valid3, label=y_valid3\n",
    "# )\n",
    "\n",
    "# cv_result = lgb.cv(\n",
    "#     params=params2,\n",
    "#     train_set=dtrain,\n",
    "#     num_boost_round=200,\n",
    "#     categorical_feature=\"auto\",\n",
    "#     early_stopping_rounds=50,\n",
    "#     verbose_eval=10,\n",
    "#     stratified=True,\n",
    "#     shuffle=True,\n",
    "#     nfold=5, \n",
    "# )"
   ]
  },
  {
   "cell_type": "markdown",
   "metadata": {},
   "source": [
    "### Задание 4: обработать категориальные признаки любым способом (который вы знаете) и добавить их к данным. Выполнить задание 3."
   ]
  },
  {
   "cell_type": "code",
   "execution_count": 23,
   "metadata": {},
   "outputs": [
    {
     "name": "stdout",
     "output_type": "stream",
     "text": [
      "Training until validation scores don't improve for 25 rounds\n",
      "[25]\ttraining's auc: 0.870206\tvalid_1's auc: 0.859421\n",
      "[50]\ttraining's auc: 0.882152\tvalid_1's auc: 0.872311\n",
      "[75]\ttraining's auc: 0.887561\tvalid_1's auc: 0.877912\n",
      "[100]\ttraining's auc: 0.898283\tvalid_1's auc: 0.886104\n",
      "[125]\ttraining's auc: 0.903532\tvalid_1's auc: 0.890294\n",
      "[150]\ttraining's auc: 0.90875\tvalid_1's auc: 0.895304\n",
      "[175]\ttraining's auc: 0.913236\tvalid_1's auc: 0.898689\n",
      "[200]\ttraining's auc: 0.917469\tvalid_1's auc: 0.902348\n",
      "[225]\ttraining's auc: 0.921762\tvalid_1's auc: 0.905749\n",
      "[250]\ttraining's auc: 0.92698\tvalid_1's auc: 0.909311\n",
      "[275]\ttraining's auc: 0.931447\tvalid_1's auc: 0.912974\n",
      "[300]\ttraining's auc: 0.934462\tvalid_1's auc: 0.915333\n",
      "[325]\ttraining's auc: 0.937662\tvalid_1's auc: 0.917496\n",
      "[350]\ttraining's auc: 0.940669\tvalid_1's auc: 0.918895\n",
      "[375]\ttraining's auc: 0.942944\tvalid_1's auc: 0.920111\n",
      "[400]\ttraining's auc: 0.9451\tvalid_1's auc: 0.921194\n",
      "[425]\ttraining's auc: 0.947292\tvalid_1's auc: 0.923338\n",
      "[450]\ttraining's auc: 0.949305\tvalid_1's auc: 0.924532\n",
      "[475]\ttraining's auc: 0.951248\tvalid_1's auc: 0.926069\n",
      "[500]\ttraining's auc: 0.952961\tvalid_1's auc: 0.92709\n",
      "[525]\ttraining's auc: 0.954522\tvalid_1's auc: 0.928086\n",
      "[550]\ttraining's auc: 0.955824\tvalid_1's auc: 0.92904\n",
      "[575]\ttraining's auc: 0.957513\tvalid_1's auc: 0.92974\n",
      "[600]\ttraining's auc: 0.95912\tvalid_1's auc: 0.930863\n",
      "[625]\ttraining's auc: 0.960335\tvalid_1's auc: 0.93189\n",
      "[650]\ttraining's auc: 0.961656\tvalid_1's auc: 0.932983\n",
      "[675]\ttraining's auc: 0.962711\tvalid_1's auc: 0.933541\n",
      "[700]\ttraining's auc: 0.963854\tvalid_1's auc: 0.934355\n",
      "[725]\ttraining's auc: 0.964849\tvalid_1's auc: 0.934909\n",
      "[750]\ttraining's auc: 0.965752\tvalid_1's auc: 0.935401\n",
      "[775]\ttraining's auc: 0.966682\tvalid_1's auc: 0.935764\n",
      "[800]\ttraining's auc: 0.967529\tvalid_1's auc: 0.936248\n",
      "[825]\ttraining's auc: 0.968329\tvalid_1's auc: 0.936811\n",
      "[850]\ttraining's auc: 0.969227\tvalid_1's auc: 0.937394\n",
      "[875]\ttraining's auc: 0.970048\tvalid_1's auc: 0.937878\n",
      "[900]\ttraining's auc: 0.970759\tvalid_1's auc: 0.938228\n",
      "[925]\ttraining's auc: 0.971624\tvalid_1's auc: 0.938774\n",
      "[950]\ttraining's auc: 0.972456\tvalid_1's auc: 0.939381\n",
      "[975]\ttraining's auc: 0.973179\tvalid_1's auc: 0.939784\n",
      "[1000]\ttraining's auc: 0.973921\tvalid_1's auc: 0.940111\n",
      "Did not meet early stopping. Best iteration is:\n",
      "[1000]\ttraining's auc: 0.973921\tvalid_1's auc: 0.940111\n"
     ]
    },
    {
     "data": {
      "text/plain": [
       "LGBMClassifier(learning_rate=0.01, metric='auc', n_estimators=1000, n_jobs=6,\n",
       "               objective='binary', seed=27)"
      ]
     },
     "execution_count": 23,
     "metadata": {},
     "output_type": "execute_result"
    }
   ],
   "source": [
    "model_lgbm2 = LGBMClassifier(**params2)\n",
    "model_lgbm2.fit(\n",
    "    X=X_train2,\n",
    "    y=y_train2,\n",
    "    eval_set=[(X_train2, y_train2), (X_valid2, y_valid2)],\n",
    "    early_stopping_rounds=25,\n",
    "    eval_metric=\"auc\",\n",
    "    verbose=25\n",
    ")"
   ]
  },
  {
   "cell_type": "markdown",
   "metadata": {},
   "source": [
    "### Задание 5: обработать категориальные признаки встроенным методом в LightGBM. Выполнить задание 4. Сделать выводы о качестве работы алгоритма, по сравнению с пунктом 4.\n"
   ]
  },
  {
   "cell_type": "code",
   "execution_count": 24,
   "metadata": {},
   "outputs": [],
   "source": [
    "# Преобразуем сначала object в category, потому что LGBM работает с категорями\n",
    "for feature in cat_cols:\n",
    "    train[feature] = pd.Series(train[feature], dtype=\"category\")"
   ]
  },
  {
   "cell_type": "code",
   "execution_count": 25,
   "metadata": {},
   "outputs": [],
   "source": [
    "# Подадим все признаки без обработки\n",
    "X3 = train.drop(['isFraud'], axis=1)\n",
    "y3 = train['isFraud']\n",
    "\n",
    "X_train3, X_valid3, y_train3, y_valid3 = train_test_split(X3, y3, test_size=0.2, random_state=99)"
   ]
  },
  {
   "cell_type": "code",
   "execution_count": 26,
   "metadata": {},
   "outputs": [
    {
     "name": "stdout",
     "output_type": "stream",
     "text": [
      "Training until validation scores don't improve for 25 rounds\n",
      "[25]\ttraining's auc: 0.864806\tvalid_1's auc: 0.85272\n",
      "[50]\ttraining's auc: 0.883851\tvalid_1's auc: 0.872015\n",
      "[75]\ttraining's auc: 0.895396\tvalid_1's auc: 0.882771\n",
      "[100]\ttraining's auc: 0.901802\tvalid_1's auc: 0.888125\n",
      "[125]\ttraining's auc: 0.905786\tvalid_1's auc: 0.890855\n",
      "[150]\ttraining's auc: 0.91104\tvalid_1's auc: 0.895554\n",
      "[175]\ttraining's auc: 0.916053\tvalid_1's auc: 0.899284\n",
      "[200]\ttraining's auc: 0.919833\tvalid_1's auc: 0.902524\n",
      "[225]\ttraining's auc: 0.923323\tvalid_1's auc: 0.904849\n",
      "[250]\ttraining's auc: 0.927672\tvalid_1's auc: 0.908163\n",
      "[275]\ttraining's auc: 0.932963\tvalid_1's auc: 0.91144\n",
      "[300]\ttraining's auc: 0.936375\tvalid_1's auc: 0.913816\n",
      "[325]\ttraining's auc: 0.939758\tvalid_1's auc: 0.91598\n",
      "[350]\ttraining's auc: 0.942099\tvalid_1's auc: 0.917979\n",
      "[375]\ttraining's auc: 0.944271\tvalid_1's auc: 0.919671\n",
      "[400]\ttraining's auc: 0.946536\tvalid_1's auc: 0.921214\n",
      "[425]\ttraining's auc: 0.949108\tvalid_1's auc: 0.922437\n",
      "[450]\ttraining's auc: 0.951296\tvalid_1's auc: 0.924652\n",
      "[475]\ttraining's auc: 0.953294\tvalid_1's auc: 0.925967\n",
      "[500]\ttraining's auc: 0.955274\tvalid_1's auc: 0.927256\n",
      "[525]\ttraining's auc: 0.957113\tvalid_1's auc: 0.928154\n",
      "[550]\ttraining's auc: 0.958595\tvalid_1's auc: 0.928951\n",
      "[575]\ttraining's auc: 0.960075\tvalid_1's auc: 0.929829\n",
      "[600]\ttraining's auc: 0.961265\tvalid_1's auc: 0.930461\n",
      "[625]\ttraining's auc: 0.962725\tvalid_1's auc: 0.931296\n",
      "[650]\ttraining's auc: 0.964072\tvalid_1's auc: 0.932121\n",
      "[675]\ttraining's auc: 0.965132\tvalid_1's auc: 0.932928\n",
      "[700]\ttraining's auc: 0.96611\tvalid_1's auc: 0.933466\n",
      "[725]\ttraining's auc: 0.967085\tvalid_1's auc: 0.934069\n",
      "[750]\ttraining's auc: 0.967889\tvalid_1's auc: 0.934729\n",
      "[775]\ttraining's auc: 0.968656\tvalid_1's auc: 0.935145\n",
      "[800]\ttraining's auc: 0.969491\tvalid_1's auc: 0.935772\n",
      "[825]\ttraining's auc: 0.970308\tvalid_1's auc: 0.936198\n",
      "[850]\ttraining's auc: 0.971164\tvalid_1's auc: 0.936587\n",
      "[875]\ttraining's auc: 0.97194\tvalid_1's auc: 0.937015\n",
      "[900]\ttraining's auc: 0.972571\tvalid_1's auc: 0.937403\n",
      "[925]\ttraining's auc: 0.973346\tvalid_1's auc: 0.937761\n",
      "[950]\ttraining's auc: 0.974086\tvalid_1's auc: 0.938204\n",
      "[975]\ttraining's auc: 0.9749\tvalid_1's auc: 0.938668\n",
      "[1000]\ttraining's auc: 0.975576\tvalid_1's auc: 0.93906\n",
      "Did not meet early stopping. Best iteration is:\n",
      "[1000]\ttraining's auc: 0.975576\tvalid_1's auc: 0.93906\n"
     ]
    },
    {
     "data": {
      "text/plain": [
       "LGBMClassifier(learning_rate=0.01, metric='auc', n_estimators=1000, n_jobs=6,\n",
       "               objective='binary', seed=27)"
      ]
     },
     "execution_count": 26,
     "metadata": {},
     "output_type": "execute_result"
    }
   ],
   "source": [
    "model_lgbm3 = LGBMClassifier(**params2)\n",
    "model_lgbm3.fit(\n",
    "    categorical_feature=cat_cols,\n",
    "    X=X_train3,\n",
    "    y=y_train3,\n",
    "    eval_set=[(X_train3, y_train3), (X_valid3, y_valid3)],\n",
    "    early_stopping_rounds=25,\n",
    "    eval_metric=\"auc\",\n",
    "    verbose=25\n",
    ")"
   ]
  },
  {
   "cell_type": "code",
   "execution_count": 27,
   "metadata": {},
   "outputs": [
    {
     "data": {
      "image/png": "[encoded data removed]",
      "text/plain": [
       "<Figure size 1224x288 with 1 Axes>"
      ]
     },
     "metadata": {
      "needs_background": "light"
     },
     "output_type": "display_data"
    }
   ],
   "source": [
    "plt.figure(figsize=(17,4))\n",
    "barlist = plt.bar(np.arange(1, 7),\n",
    "        [model_lgbm1.best_score_.get('training').get('auc'), model_lgbm1.best_score_.get('valid_1').get('auc'),\n",
    "        model_lgbm2.best_score_.get('training').get('auc'), model_lgbm2.best_score_.get('valid_1').get('auc'),\n",
    "        model_lgbm3.best_score_.get('training').get('auc'), model_lgbm3.best_score_.get('valid_1').get('auc')],\n",
    "        edgecolor='black', linewidth=1,\n",
    "                  tick_label=['LGBM_numeric_train','LGBM_numeric_valid',\n",
    "                              'LGBM_cat_transform_train','LGBM_cat_transform_valid',\n",
    "                              'LGBM_not_transform_train', 'LGBM_not_transform_valid'], color=['y','y','g','g','c','c'])\n",
    "# barlist[0].set_color('yellow')\n",
    "plt.ylim(0.85, 1)\n",
    "plt.grid(alpha=0.5)\n",
    "plt.show()"
   ]
  },
  {
   "cell_type": "code",
   "execution_count": 28,
   "metadata": {},
   "outputs": [
    {
     "data": {
      "image/png": "[encoded data removed]",
      "text/plain": [
       "<Figure size 1152x432 with 1 Axes>"
      ]
     },
     "metadata": {
      "needs_background": "light"
     },
     "output_type": "display_data"
    }
   ],
   "source": [
    "plt.figure(figsize=(16, 6))\n",
    "plt.plot(np.arange(len(model_lgbm1.evals_result_.get('training').get('auc'))),\n",
    "        model_lgbm1.evals_result_.get('training').get('auc'), color='y')\n",
    "plt.plot(np.arange(len(model_lgbm1.evals_result_.get('training').get('auc'))),\n",
    "         model_lgbm1.evals_result_.get('valid_1').get('auc'), color='y')\n",
    "\n",
    "plt.plot(np.arange(len(model_lgbm1.evals_result_.get('training').get('auc'))),\n",
    "        model_lgbm2.evals_result_.get('training').get('auc'), color='g')\n",
    "plt.plot(np.arange(len(model_lgbm1.evals_result_.get('training').get('auc'))),\n",
    "         model_lgbm2.evals_result_.get('valid_1').get('auc'), color='g')\n",
    "\n",
    "plt.plot(np.arange(len(model_lgbm1.evals_result_.get('training').get('auc'))),\n",
    "        model_lgbm3.evals_result_.get('training').get('auc'), color='c')\n",
    "plt.plot(np.arange(len(model_lgbm1.evals_result_.get('training').get('auc'))),\n",
    "         model_lgbm3.evals_result_.get('valid_1').get('auc'), color='c')\n",
    "plt.ylim(0.85, 1)\n",
    "plt.grid(alpha=0.5)\n",
    "plt.show()"
   ]
  },
  {
   "cell_type": "markdown",
   "metadata": {},
   "source": [
    "Выводы: использование максимального количества признаков обеспечивает лучший результат по сравнению с использованием только вещественных признаков. Прирост качества между ручной обработкой и встроенным методом в LightGBM незначительный, однако встроенный метод экономит время, которое необходимо уделить обработке категориальных признаков."
   ]
  },
  {
   "cell_type": "markdown",
   "metadata": {},
   "source": [
    "### Задание 6: для числовых признаков обучить модель CatBoost. Обучать алгоритм до тех пор, пока метрика качества не перестанет улучшаться на валидационной выборке в течение определенного числа итераций (выбрать значение самостоятельно)."
   ]
  },
  {
   "cell_type": "code",
   "execution_count": 29,
   "metadata": {},
   "outputs": [],
   "source": [
    "import catboost as cb\n",
    "cb_params = {\n",
    "    \"n_estimators\": 1000,\n",
    "    \"loss_function\": \"Logloss\",\n",
    "    \"eval_metric\": \"AUC\",\n",
    "    \"task_type\": \"CPU\",\n",
    "    \"max_bin\": 20,\n",
    "    \"verbose\": 25,\n",
    "    \"max_depth\": 6,\n",
    "    \"l2_leaf_reg\": 100,\n",
    "    \"early_stopping_rounds\": 50,\n",
    "    \"thread_count\": 6,\n",
    "    \"random_seed\": 42\n",
    "}"
   ]
  },
  {
   "cell_type": "code",
   "execution_count": 30,
   "metadata": {},
   "outputs": [
    {
     "name": "stdout",
     "output_type": "stream",
     "text": [
      "0:\ttest: 0.6498514\ttest1: 0.6389082\tbest: 0.6389082 (0)\ttotal: 155ms\tremaining: 2m 34s\n",
      "25:\ttest: 0.8342303\ttest1: 0.8229762\tbest: 0.8231485 (24)\ttotal: 2.25s\tremaining: 1m 24s\n",
      "50:\ttest: 0.8549277\ttest1: 0.8429631\tbest: 0.8434950 (48)\ttotal: 4.42s\tremaining: 1m 22s\n",
      "75:\ttest: 0.8593181\ttest1: 0.8485207\tbest: 0.8485856 (74)\ttotal: 6.48s\tremaining: 1m 18s\n",
      "100:\ttest: 0.8650631\ttest1: 0.8562184\tbest: 0.8562184 (100)\ttotal: 8.64s\tremaining: 1m 16s\n",
      "125:\ttest: 0.8699124\ttest1: 0.8626887\tbest: 0.8626887 (125)\ttotal: 10.8s\tremaining: 1m 14s\n",
      "150:\ttest: 0.8739689\ttest1: 0.8669919\tbest: 0.8669919 (150)\ttotal: 13s\tremaining: 1m 13s\n",
      "175:\ttest: 0.8774260\ttest1: 0.8694014\tbest: 0.8694014 (175)\ttotal: 15.3s\tremaining: 1m 11s\n",
      "200:\ttest: 0.8805125\ttest1: 0.8726719\tbest: 0.8726719 (200)\ttotal: 17.4s\tremaining: 1m 9s\n",
      "225:\ttest: 0.8828850\ttest1: 0.8750647\tbest: 0.8750647 (225)\ttotal: 19.7s\tremaining: 1m 7s\n",
      "250:\ttest: 0.8843550\ttest1: 0.8766637\tbest: 0.8766637 (250)\ttotal: 21.8s\tremaining: 1m 5s\n",
      "275:\ttest: 0.8856678\ttest1: 0.8777768\tbest: 0.8777768 (275)\ttotal: 23.9s\tremaining: 1m 2s\n",
      "300:\ttest: 0.8866716\ttest1: 0.8788162\tbest: 0.8788162 (300)\ttotal: 26s\tremaining: 1m\n",
      "325:\ttest: 0.8879478\ttest1: 0.8801864\tbest: 0.8801864 (325)\ttotal: 28.1s\tremaining: 58s\n",
      "350:\ttest: 0.8888091\ttest1: 0.8810418\tbest: 0.8810418 (350)\ttotal: 30.1s\tremaining: 55.7s\n",
      "375:\ttest: 0.8894702\ttest1: 0.8816345\tbest: 0.8816345 (375)\ttotal: 32.2s\tremaining: 53.4s\n",
      "400:\ttest: 0.8902585\ttest1: 0.8824331\tbest: 0.8824337 (399)\ttotal: 34.3s\tremaining: 51.2s\n",
      "425:\ttest: 0.8907538\ttest1: 0.8830258\tbest: 0.8830258 (425)\ttotal: 36.3s\tremaining: 49s\n",
      "450:\ttest: 0.8914311\ttest1: 0.8836847\tbest: 0.8836847 (450)\ttotal: 38.3s\tremaining: 46.7s\n",
      "475:\ttest: 0.8915666\ttest1: 0.8837798\tbest: 0.8837832 (474)\ttotal: 40.3s\tremaining: 44.4s\n",
      "500:\ttest: 0.8918971\ttest1: 0.8841479\tbest: 0.8841479 (500)\ttotal: 42.3s\tremaining: 42.1s\n",
      "525:\ttest: 0.8925106\ttest1: 0.8848293\tbest: 0.8848293 (525)\ttotal: 44.4s\tremaining: 40s\n",
      "550:\ttest: 0.8931485\ttest1: 0.8853831\tbest: 0.8853831 (550)\ttotal: 46.6s\tremaining: 37.9s\n",
      "575:\ttest: 0.8936061\ttest1: 0.8859164\tbest: 0.8859164 (575)\ttotal: 48.7s\tremaining: 35.8s\n",
      "600:\ttest: 0.8944152\ttest1: 0.8865667\tbest: 0.8865667 (600)\ttotal: 50.7s\tremaining: 33.7s\n",
      "625:\ttest: 0.8945879\ttest1: 0.8868315\tbest: 0.8868315 (625)\ttotal: 52.7s\tremaining: 31.5s\n",
      "650:\ttest: 0.8947124\ttest1: 0.8868912\tbest: 0.8869198 (649)\ttotal: 54.6s\tremaining: 29.3s\n",
      "675:\ttest: 0.8950994\ttest1: 0.8872207\tbest: 0.8872207 (675)\ttotal: 56.6s\tremaining: 27.1s\n",
      "700:\ttest: 0.8959004\ttest1: 0.8878763\tbest: 0.8878803 (699)\ttotal: 58.7s\tremaining: 25s\n",
      "725:\ttest: 0.8969387\ttest1: 0.8888029\tbest: 0.8888029 (725)\ttotal: 1m\tremaining: 23s\n",
      "750:\ttest: 0.8977336\ttest1: 0.8894583\tbest: 0.8894583 (750)\ttotal: 1m 3s\tremaining: 20.9s\n",
      "775:\ttest: 0.8985090\ttest1: 0.8902800\tbest: 0.8902800 (775)\ttotal: 1m 5s\tremaining: 18.8s\n",
      "800:\ttest: 0.8993143\ttest1: 0.8909461\tbest: 0.8909461 (800)\ttotal: 1m 7s\tremaining: 16.7s\n",
      "825:\ttest: 0.8999603\ttest1: 0.8915722\tbest: 0.8915722 (825)\ttotal: 1m 9s\tremaining: 14.6s\n",
      "850:\ttest: 0.9003212\ttest1: 0.8919883\tbest: 0.8919883 (850)\ttotal: 1m 11s\tremaining: 12.5s\n",
      "875:\ttest: 0.9007998\ttest1: 0.8925102\tbest: 0.8925102 (875)\ttotal: 1m 13s\tremaining: 10.4s\n",
      "900:\ttest: 0.9012239\ttest1: 0.8928861\tbest: 0.8928875 (898)\ttotal: 1m 15s\tremaining: 8.28s\n",
      "925:\ttest: 0.9016942\ttest1: 0.8933142\tbest: 0.8933142 (925)\ttotal: 1m 17s\tremaining: 6.2s\n",
      "950:\ttest: 0.9018672\ttest1: 0.8934311\tbest: 0.8934311 (950)\ttotal: 1m 19s\tremaining: 4.09s\n",
      "975:\ttest: 0.9021041\ttest1: 0.8936018\tbest: 0.8936018 (975)\ttotal: 1m 21s\tremaining: 2s\n",
      "999:\ttest: 0.9024313\ttest1: 0.8939420\tbest: 0.8939420 (999)\ttotal: 1m 23s\tremaining: 0us\n",
      "\n",
      "bestTest = 0.8939420163\n",
      "bestIteration = 999\n",
      "\n"
     ]
    },
    {
     "data": {
      "text/plain": [
       "<catboost.core.CatBoostClassifier at 0x1eda2f20788>"
      ]
     },
     "execution_count": 30,
     "metadata": {},
     "output_type": "execute_result"
    }
   ],
   "source": [
    "model_cb1 = cb.CatBoostClassifier(**cb_params)\n",
    "model_cb1.fit(X_train, y_train, eval_set=[(X_train, y_train), (X_valid, y_valid)])"
   ]
  },
  {
   "cell_type": "markdown",
   "metadata": {},
   "source": [
    "### Задание 7: обработать категориальные признаки любым способом (который вы знаете) и добавить их к данным. Выполнить задание 6."
   ]
  },
  {
   "cell_type": "code",
   "execution_count": 31,
   "metadata": {},
   "outputs": [
    {
     "name": "stdout",
     "output_type": "stream",
     "text": [
      "0:\ttest: 0.6680477\ttest1: 0.6574057\tbest: 0.6574057 (0)\ttotal: 98.4ms\tremaining: 1m 38s\n",
      "25:\ttest: 0.8237252\ttest1: 0.8177426\tbest: 0.8181713 (24)\ttotal: 2.21s\tremaining: 1m 22s\n",
      "50:\ttest: 0.8555098\ttest1: 0.8430806\tbest: 0.8430806 (50)\ttotal: 4.34s\tremaining: 1m 20s\n",
      "75:\ttest: 0.8612728\ttest1: 0.8496029\tbest: 0.8496128 (74)\ttotal: 6.44s\tremaining: 1m 18s\n",
      "100:\ttest: 0.8686801\ttest1: 0.8584552\tbest: 0.8584552 (100)\ttotal: 8.56s\tremaining: 1m 16s\n",
      "125:\ttest: 0.8754945\ttest1: 0.8662506\tbest: 0.8662506 (125)\ttotal: 10.8s\tremaining: 1m 15s\n",
      "150:\ttest: 0.8794646\ttest1: 0.8709400\tbest: 0.8709400 (150)\ttotal: 13.1s\tremaining: 1m 13s\n",
      "175:\ttest: 0.8846966\ttest1: 0.8759777\tbest: 0.8759777 (175)\ttotal: 15.5s\tremaining: 1m 12s\n",
      "200:\ttest: 0.8877919\ttest1: 0.8789548\tbest: 0.8789548 (200)\ttotal: 17.8s\tremaining: 1m 10s\n",
      "225:\ttest: 0.8899082\ttest1: 0.8806723\tbest: 0.8806826 (224)\ttotal: 20s\tremaining: 1m 8s\n",
      "250:\ttest: 0.8923374\ttest1: 0.8830600\tbest: 0.8830600 (250)\ttotal: 22.3s\tremaining: 1m 6s\n",
      "275:\ttest: 0.8938223\ttest1: 0.8845249\tbest: 0.8845249 (275)\ttotal: 24.4s\tremaining: 1m 4s\n",
      "300:\ttest: 0.8949096\ttest1: 0.8856965\tbest: 0.8856965 (300)\ttotal: 26.5s\tremaining: 1m 1s\n",
      "325:\ttest: 0.8961525\ttest1: 0.8867528\tbest: 0.8867528 (325)\ttotal: 28.5s\tremaining: 59s\n",
      "350:\ttest: 0.8971458\ttest1: 0.8875289\tbest: 0.8875289 (350)\ttotal: 30.6s\tremaining: 56.5s\n",
      "375:\ttest: 0.8978555\ttest1: 0.8883228\tbest: 0.8883335 (374)\ttotal: 32.6s\tremaining: 54.1s\n",
      "400:\ttest: 0.8990986\ttest1: 0.8893086\tbest: 0.8893086 (400)\ttotal: 34.8s\tremaining: 52s\n",
      "425:\ttest: 0.8995603\ttest1: 0.8898198\tbest: 0.8898198 (425)\ttotal: 36.7s\tremaining: 49.5s\n",
      "450:\ttest: 0.9000147\ttest1: 0.8902780\tbest: 0.8902780 (450)\ttotal: 38.8s\tremaining: 47.2s\n",
      "475:\ttest: 0.9001946\ttest1: 0.8904611\tbest: 0.8904611 (475)\ttotal: 40.8s\tremaining: 44.9s\n",
      "500:\ttest: 0.9007813\ttest1: 0.8909665\tbest: 0.8909679 (499)\ttotal: 42.8s\tremaining: 42.6s\n",
      "525:\ttest: 0.9015061\ttest1: 0.8915677\tbest: 0.8915677 (525)\ttotal: 44.9s\tremaining: 40.4s\n",
      "550:\ttest: 0.9023085\ttest1: 0.8922731\tbest: 0.8922731 (550)\ttotal: 47.1s\tremaining: 38.3s\n",
      "575:\ttest: 0.9033270\ttest1: 0.8932762\tbest: 0.8932762 (575)\ttotal: 49.3s\tremaining: 36.3s\n",
      "600:\ttest: 0.9040943\ttest1: 0.8939279\tbest: 0.8939279 (600)\ttotal: 51.4s\tremaining: 34.1s\n",
      "625:\ttest: 0.9046369\ttest1: 0.8943511\tbest: 0.8943511 (625)\ttotal: 53.4s\tremaining: 31.9s\n",
      "650:\ttest: 0.9050597\ttest1: 0.8944523\tbest: 0.8944640 (645)\ttotal: 55.6s\tremaining: 29.8s\n",
      "675:\ttest: 0.9052207\ttest1: 0.8945395\tbest: 0.8945399 (674)\ttotal: 57.6s\tremaining: 27.6s\n",
      "700:\ttest: 0.9052262\ttest1: 0.8945405\tbest: 0.8945428 (684)\ttotal: 59.5s\tremaining: 25.4s\n",
      "725:\ttest: 0.9056645\ttest1: 0.8948393\tbest: 0.8948423 (723)\ttotal: 1m 1s\tremaining: 23.2s\n",
      "750:\ttest: 0.9064378\ttest1: 0.8954501\tbest: 0.8954501 (750)\ttotal: 1m 3s\tremaining: 21.1s\n",
      "775:\ttest: 0.9071550\ttest1: 0.8960401\tbest: 0.8960401 (774)\ttotal: 1m 5s\tremaining: 18.9s\n",
      "800:\ttest: 0.9075511\ttest1: 0.8962974\tbest: 0.8963126 (799)\ttotal: 1m 7s\tremaining: 16.8s\n",
      "825:\ttest: 0.9081298\ttest1: 0.8969360\tbest: 0.8969360 (825)\ttotal: 1m 9s\tremaining: 14.7s\n",
      "850:\ttest: 0.9084325\ttest1: 0.8971260\tbest: 0.8971260 (850)\ttotal: 1m 11s\tremaining: 12.5s\n",
      "875:\ttest: 0.9089199\ttest1: 0.8975657\tbest: 0.8975657 (875)\ttotal: 1m 13s\tremaining: 10.4s\n",
      "900:\ttest: 0.9092675\ttest1: 0.8979149\tbest: 0.8979149 (900)\ttotal: 1m 15s\tremaining: 8.33s\n",
      "925:\ttest: 0.9095300\ttest1: 0.8980572\tbest: 0.8980572 (925)\ttotal: 1m 17s\tremaining: 6.23s\n",
      "950:\ttest: 0.9100365\ttest1: 0.8984105\tbest: 0.8984105 (950)\ttotal: 1m 20s\tremaining: 4.12s\n",
      "975:\ttest: 0.9104591\ttest1: 0.8986908\tbest: 0.8986908 (975)\ttotal: 1m 22s\tremaining: 2.02s\n",
      "999:\ttest: 0.9108422\ttest1: 0.8988097\tbest: 0.8988223 (992)\ttotal: 1m 24s\tremaining: 0us\n",
      "\n",
      "bestTest = 0.8988222546\n",
      "bestIteration = 992\n",
      "\n",
      "Shrink model to first 993 iterations.\n"
     ]
    },
    {
     "data": {
      "text/plain": [
       "<catboost.core.CatBoostClassifier at 0x1edc7726148>"
      ]
     },
     "execution_count": 31,
     "metadata": {},
     "output_type": "execute_result"
    }
   ],
   "source": [
    "model_cb2 = cb.CatBoostClassifier(**cb_params)\n",
    "model_cb2.fit(X_train2, y_train2, eval_set=[(X_train2, y_train2), (X_valid2, y_valid2)])"
   ]
  },
  {
   "cell_type": "markdown",
   "metadata": {},
   "source": [
    "### Задание 8: обработать категориальные признаки встроенным методом в CatBoost. Выполнить задание 7. Сделать выводы о качестве работы алгоритма, по сравнению с пунктом 7."
   ]
  },
  {
   "cell_type": "code",
   "execution_count": 84,
   "metadata": {},
   "outputs": [
    {
     "data": {
      "text/plain": [
       "['ProductCD',\n",
       " 'card4',\n",
       " 'card6',\n",
       " 'P_emaildomain',\n",
       " 'R_emaildomain',\n",
       " 'M1',\n",
       " 'M2',\n",
       " 'M3',\n",
       " 'M4',\n",
       " 'M5',\n",
       " 'M6',\n",
       " 'M7',\n",
       " 'M8',\n",
       " 'M9']"
      ]
     },
     "execution_count": 84,
     "metadata": {},
     "output_type": "execute_result"
    }
   ],
   "source": [
    "cat_cols"
   ]
  },
  {
   "cell_type": "code",
   "execution_count": 85,
   "metadata": {},
   "outputs": [],
   "source": [
    "for ii in train[cat_cols]:\n",
    "    train[ii] = train[ii].astype(str)"
   ]
  },
  {
   "cell_type": "code",
   "execution_count": 86,
   "metadata": {},
   "outputs": [
    {
     "data": {
      "text/plain": [
       "[3, 7, 9, 14, 15, 45, 46, 47, 48, 49, 50, 51, 52, 53]"
      ]
     },
     "execution_count": 86,
     "metadata": {},
     "output_type": "execute_result"
    }
   ],
   "source": [
    "cat_features_idx = np.where(train.drop('isFraud', axis=1).dtypes == \"object\")[0].tolist()\n",
    "cat_features_idx"
   ]
  },
  {
   "cell_type": "code",
   "execution_count": 87,
   "metadata": {},
   "outputs": [
    {
     "name": "stdout",
     "output_type": "stream",
     "text": [
      "<class 'pandas.core.frame.DataFrame'>\n",
      "RangeIndex: 180000 entries, 0 to 179999\n",
      "Columns: 394 entries, TransactionID to V339\n",
      "dtypes: float64(376), int64(4), object(14)\n",
      "memory usage: 541.1+ MB\n"
     ]
    }
   ],
   "source": [
    "train.info()"
   ]
  },
  {
   "cell_type": "code",
   "execution_count": 88,
   "metadata": {},
   "outputs": [],
   "source": [
    "for ii in train.drop('isFraud', axis=1).select_dtypes(include=['float', 'int']).columns.tolist():\n",
    "    train[ii] = train[ii].fillna(-1)"
   ]
  },
  {
   "cell_type": "code",
   "execution_count": 89,
   "metadata": {},
   "outputs": [
    {
     "data": {
      "text/plain": [
       "array([0, 0, 0, 0, 0, 0, 0, 0, 0, 0, 0, 0, 0, 0, 0, 0, 0, 0, 0, 0, 0, 0,\n",
       "       0, 0, 0, 0, 0, 0, 0, 0, 0, 0, 0, 0, 0, 0, 0, 0, 0, 0, 0, 0, 0, 0,\n",
       "       0, 0, 0, 0, 0, 0, 0, 0, 0, 0, 0, 0, 0, 0, 0, 0, 0, 0, 0, 0, 0, 0,\n",
       "       0, 0, 0, 0, 0, 0, 0, 0, 0, 0, 0, 0, 0, 0, 0, 0, 0, 0, 0, 0, 0, 0,\n",
       "       0, 0, 0, 0, 0, 0, 0, 0, 0, 0, 0, 0, 0, 0, 0, 0, 0, 0, 0, 0, 0, 0,\n",
       "       0, 0, 0, 0, 0, 0, 0, 0, 0, 0, 0, 0, 0, 0, 0, 0, 0, 0, 0, 0, 0, 0,\n",
       "       0, 0, 0, 0, 0, 0, 0, 0, 0, 0, 0, 0, 0, 0, 0, 0, 0, 0, 0, 0, 0, 0,\n",
       "       0, 0, 0, 0, 0, 0, 0, 0, 0, 0, 0, 0, 0, 0, 0, 0, 0, 0, 0, 0, 0, 0,\n",
       "       0, 0, 0, 0, 0, 0, 0, 0, 0, 0, 0, 0, 0, 0, 0, 0, 0, 0, 0, 0, 0, 0,\n",
       "       0, 0, 0, 0, 0, 0, 0, 0, 0, 0, 0, 0, 0, 0, 0, 0, 0, 0, 0, 0, 0, 0,\n",
       "       0, 0, 0, 0, 0, 0, 0, 0, 0, 0, 0, 0, 0, 0, 0, 0, 0, 0, 0, 0, 0, 0,\n",
       "       0, 0, 0, 0, 0, 0, 0, 0, 0, 0, 0, 0, 0, 0, 0, 0, 0, 0, 0, 0, 0, 0,\n",
       "       0, 0, 0, 0, 0, 0, 0, 0, 0, 0, 0, 0, 0, 0, 0, 0, 0, 0, 0, 0, 0, 0,\n",
       "       0, 0, 0, 0, 0, 0, 0, 0, 0, 0, 0, 0, 0, 0, 0, 0, 0, 0, 0, 0, 0, 0,\n",
       "       0, 0, 0, 0, 0, 0, 0, 0, 0, 0, 0, 0, 0, 0, 0, 0, 0, 0, 0, 0, 0, 0,\n",
       "       0, 0, 0, 0, 0, 0, 0, 0, 0, 0, 0, 0, 0, 0, 0, 0, 0, 0, 0, 0, 0, 0,\n",
       "       0, 0, 0, 0, 0, 0, 0, 0, 0, 0, 0, 0, 0, 0, 0, 0, 0, 0, 0, 0, 0, 0,\n",
       "       0, 0, 0, 0, 0, 0, 0, 0, 0, 0, 0, 0, 0, 0, 0, 0, 0, 0, 0, 0],\n",
       "      dtype=int64)"
      ]
     },
     "execution_count": 89,
     "metadata": {},
     "output_type": "execute_result"
    }
   ],
   "source": [
    "train.isna().sum().values"
   ]
  },
  {
   "cell_type": "code",
   "execution_count": 90,
   "metadata": {},
   "outputs": [],
   "source": [
    "X4 = train.drop(['isFraud'], axis=1)\n",
    "y4 = train['isFraud']\n",
    "X_train4, X_valid4, y_train4, y_valid4 = train_test_split(X4, y4, test_size=0.2, random_state=99)"
   ]
  },
  {
   "cell_type": "code",
   "execution_count": 91,
   "metadata": {
    "scrolled": false
   },
   "outputs": [
    {
     "name": "stdout",
     "output_type": "stream",
     "text": [
      "0:\ttest: 0.7395602\ttest1: 0.7368920\tbest: 0.7368920 (0)\ttotal: 509ms\tremaining: 8m 28s\n",
      "25:\ttest: 0.8341832\ttest1: 0.8243008\tbest: 0.8243008 (25)\ttotal: 11.1s\tremaining: 6m 57s\n",
      "50:\ttest: 0.8522459\ttest1: 0.8412291\tbest: 0.8414035 (45)\ttotal: 21.8s\tremaining: 6m 46s\n",
      "75:\ttest: 0.8569317\ttest1: 0.8460409\tbest: 0.8460409 (75)\ttotal: 32.4s\tremaining: 6m 33s\n",
      "100:\ttest: 0.8681592\ttest1: 0.8588925\tbest: 0.8588925 (100)\ttotal: 43.3s\tremaining: 6m 25s\n",
      "125:\ttest: 0.8728722\ttest1: 0.8644461\tbest: 0.8644461 (125)\ttotal: 55s\tremaining: 6m 21s\n",
      "150:\ttest: 0.8774647\ttest1: 0.8695616\tbest: 0.8695616 (150)\ttotal: 1m 5s\tremaining: 6m 10s\n",
      "175:\ttest: 0.8825669\ttest1: 0.8749349\tbest: 0.8749349 (175)\ttotal: 1m 16s\tremaining: 5m 58s\n",
      "200:\ttest: 0.8858974\ttest1: 0.8786968\tbest: 0.8786968 (200)\ttotal: 1m 27s\tremaining: 5m 48s\n",
      "225:\ttest: 0.8889139\ttest1: 0.8812943\tbest: 0.8812943 (225)\ttotal: 1m 38s\tremaining: 5m 37s\n",
      "250:\ttest: 0.8915040\ttest1: 0.8840819\tbest: 0.8840819 (250)\ttotal: 1m 49s\tremaining: 5m 26s\n",
      "275:\ttest: 0.8930569\ttest1: 0.8853555\tbest: 0.8853555 (275)\ttotal: 1m 59s\tremaining: 5m 13s\n",
      "300:\ttest: 0.8945977\ttest1: 0.8866611\tbest: 0.8866611 (300)\ttotal: 2m 9s\tremaining: 5m 1s\n",
      "325:\ttest: 0.8957744\ttest1: 0.8877796\tbest: 0.8877796 (325)\ttotal: 2m 19s\tremaining: 4m 48s\n",
      "350:\ttest: 0.8967768\ttest1: 0.8886180\tbest: 0.8886180 (350)\ttotal: 2m 29s\tremaining: 4m 37s\n",
      "375:\ttest: 0.8976955\ttest1: 0.8893273\tbest: 0.8893273 (375)\ttotal: 2m 40s\tremaining: 4m 26s\n",
      "400:\ttest: 0.8985710\ttest1: 0.8900527\tbest: 0.8900527 (400)\ttotal: 2m 50s\tremaining: 4m 15s\n",
      "425:\ttest: 0.8993820\ttest1: 0.8906998\tbest: 0.8906998 (425)\ttotal: 3m 1s\tremaining: 4m 4s\n",
      "450:\ttest: 0.8995113\ttest1: 0.8908245\tbest: 0.8908252 (449)\ttotal: 3m 11s\tremaining: 3m 53s\n",
      "475:\ttest: 0.8999691\ttest1: 0.8911487\tbest: 0.8911487 (475)\ttotal: 3m 21s\tremaining: 3m 42s\n",
      "500:\ttest: 0.9004308\ttest1: 0.8914950\tbest: 0.8914950 (500)\ttotal: 3m 32s\tremaining: 3m 31s\n",
      "525:\ttest: 0.9013438\ttest1: 0.8923115\tbest: 0.8923115 (525)\ttotal: 3m 42s\tremaining: 3m 20s\n",
      "550:\ttest: 0.9018696\ttest1: 0.8928157\tbest: 0.8928157 (550)\ttotal: 3m 53s\tremaining: 3m 10s\n",
      "575:\ttest: 0.9028102\ttest1: 0.8935047\tbest: 0.8935047 (575)\ttotal: 4m 4s\tremaining: 2m 59s\n",
      "600:\ttest: 0.9038413\ttest1: 0.8943823\tbest: 0.8943823 (600)\ttotal: 4m 15s\tremaining: 2m 49s\n",
      "625:\ttest: 0.9045244\ttest1: 0.8950093\tbest: 0.8950093 (625)\ttotal: 4m 26s\tremaining: 2m 38s\n",
      "650:\ttest: 0.9055201\ttest1: 0.8958541\tbest: 0.8958541 (650)\ttotal: 4m 36s\tremaining: 2m 28s\n",
      "675:\ttest: 0.9065975\ttest1: 0.8966766\tbest: 0.8966766 (675)\ttotal: 4m 47s\tremaining: 2m 17s\n",
      "700:\ttest: 0.9075044\ttest1: 0.8973529\tbest: 0.8973529 (700)\ttotal: 4m 57s\tremaining: 2m 7s\n",
      "725:\ttest: 0.9084671\ttest1: 0.8980487\tbest: 0.8980487 (725)\ttotal: 5m 8s\tremaining: 1m 56s\n",
      "750:\ttest: 0.9086912\ttest1: 0.8981936\tbest: 0.8981953 (747)\ttotal: 5m 19s\tremaining: 1m 45s\n",
      "775:\ttest: 0.9086960\ttest1: 0.8982004\tbest: 0.8982004 (775)\ttotal: 5m 29s\tremaining: 1m 34s\n",
      "800:\ttest: 0.9087089\ttest1: 0.8981938\tbest: 0.8982010 (781)\ttotal: 5m 39s\tremaining: 1m 24s\n",
      "825:\ttest: 0.9088018\ttest1: 0.8981831\tbest: 0.8982010 (781)\ttotal: 5m 49s\tremaining: 1m 13s\n",
      "850:\ttest: 0.9094052\ttest1: 0.8986563\tbest: 0.8986563 (850)\ttotal: 5m 59s\tremaining: 1m 2s\n",
      "875:\ttest: 0.9098736\ttest1: 0.8990359\tbest: 0.8990359 (875)\ttotal: 6m 10s\tremaining: 52.4s\n",
      "900:\ttest: 0.9106872\ttest1: 0.8997159\tbest: 0.8997159 (900)\ttotal: 6m 21s\tremaining: 41.9s\n",
      "925:\ttest: 0.9112468\ttest1: 0.9001926\tbest: 0.9001926 (925)\ttotal: 6m 32s\tremaining: 31.4s\n",
      "950:\ttest: 0.9118865\ttest1: 0.9005888\tbest: 0.9005888 (950)\ttotal: 6m 44s\tremaining: 20.9s\n",
      "975:\ttest: 0.9124891\ttest1: 0.9008741\tbest: 0.9008881 (972)\ttotal: 6m 57s\tremaining: 10.3s\n",
      "999:\ttest: 0.9130119\ttest1: 0.9013457\tbest: 0.9013457 (999)\ttotal: 7m 8s\tremaining: 0us\n",
      "\n",
      "bestTest = 0.9013457387\n",
      "bestIteration = 999\n",
      "\n"
     ]
    },
    {
     "data": {
      "text/plain": [
       "<catboost.core.CatBoostClassifier at 0x1edde6fd848>"
      ]
     },
     "execution_count": 91,
     "metadata": {},
     "output_type": "execute_result"
    }
   ],
   "source": [
    "model_cb3 = cb.CatBoostClassifier(**cb_params)\n",
    "model_cb3.fit(X_train4, y_train4, eval_set=[(X_train4, y_train4), (X_valid4, y_valid4)], cat_features=cat_features_idx)"
   ]
  },
  {
   "cell_type": "markdown",
   "metadata": {},
   "source": [
    "### Задание 9: построить ROC-кривую для всех построенных алгоритмов на обучающей и тестовой выборке. Сделать выводы о работе алгоритмов с точки зрения качества на тестовой выборке и с точки зрения переобучения."
   ]
  },
  {
   "cell_type": "code",
   "execution_count": 92,
   "metadata": {},
   "outputs": [
    {
     "data": {
      "text/html": [
       "<div>\n",
       "<style scoped>\n",
       "    .dataframe tbody tr th:only-of-type {\n",
       "        vertical-align: middle;\n",
       "    }\n",
       "\n",
       "    .dataframe tbody tr th {\n",
       "        vertical-align: top;\n",
       "    }\n",
       "\n",
       "    .dataframe thead th {\n",
       "        text-align: right;\n",
       "    }\n",
       "</style>\n",
       "<table border=\"1\" class=\"dataframe\">\n",
       "  <thead>\n",
       "    <tr style=\"text-align: right;\">\n",
       "      <th></th>\n",
       "      <th>TransactionID</th>\n",
       "      <th>isFraud</th>\n",
       "      <th>TransactionDT</th>\n",
       "      <th>TransactionAmt</th>\n",
       "      <th>ProductCD</th>\n",
       "      <th>card1</th>\n",
       "      <th>card2</th>\n",
       "      <th>card3</th>\n",
       "      <th>card4</th>\n",
       "      <th>card5</th>\n",
       "      <th>...</th>\n",
       "      <th>V330</th>\n",
       "      <th>V331</th>\n",
       "      <th>V332</th>\n",
       "      <th>V333</th>\n",
       "      <th>V334</th>\n",
       "      <th>V335</th>\n",
       "      <th>V336</th>\n",
       "      <th>V337</th>\n",
       "      <th>V338</th>\n",
       "      <th>V339</th>\n",
       "    </tr>\n",
       "  </thead>\n",
       "  <tbody>\n",
       "    <tr>\n",
       "      <th>0</th>\n",
       "      <td>3287000</td>\n",
       "      <td>1</td>\n",
       "      <td>7415038</td>\n",
       "      <td>226.0</td>\n",
       "      <td>W</td>\n",
       "      <td>12473</td>\n",
       "      <td>555.0</td>\n",
       "      <td>150.0</td>\n",
       "      <td>visa</td>\n",
       "      <td>226.0</td>\n",
       "      <td>...</td>\n",
       "      <td>NaN</td>\n",
       "      <td>NaN</td>\n",
       "      <td>NaN</td>\n",
       "      <td>NaN</td>\n",
       "      <td>NaN</td>\n",
       "      <td>NaN</td>\n",
       "      <td>NaN</td>\n",
       "      <td>NaN</td>\n",
       "      <td>NaN</td>\n",
       "      <td>NaN</td>\n",
       "    </tr>\n",
       "    <tr>\n",
       "      <th>1</th>\n",
       "      <td>3287001</td>\n",
       "      <td>0</td>\n",
       "      <td>7415054</td>\n",
       "      <td>3072.0</td>\n",
       "      <td>W</td>\n",
       "      <td>15651</td>\n",
       "      <td>417.0</td>\n",
       "      <td>150.0</td>\n",
       "      <td>visa</td>\n",
       "      <td>226.0</td>\n",
       "      <td>...</td>\n",
       "      <td>NaN</td>\n",
       "      <td>NaN</td>\n",
       "      <td>NaN</td>\n",
       "      <td>NaN</td>\n",
       "      <td>NaN</td>\n",
       "      <td>NaN</td>\n",
       "      <td>NaN</td>\n",
       "      <td>NaN</td>\n",
       "      <td>NaN</td>\n",
       "      <td>NaN</td>\n",
       "    </tr>\n",
       "  </tbody>\n",
       "</table>\n",
       "<p>2 rows × 394 columns</p>\n",
       "</div>"
      ],
      "text/plain": [
       "   TransactionID  isFraud  TransactionDT  TransactionAmt ProductCD  card1  \\\n",
       "0        3287000        1        7415038           226.0         W  12473   \n",
       "1        3287001        0        7415054          3072.0         W  15651   \n",
       "\n",
       "   card2  card3 card4  card5  ... V330  V331  V332  V333  V334 V335 V336  \\\n",
       "0  555.0  150.0  visa  226.0  ...  NaN   NaN   NaN   NaN   NaN  NaN  NaN   \n",
       "1  417.0  150.0  visa  226.0  ...  NaN   NaN   NaN   NaN   NaN  NaN  NaN   \n",
       "\n",
       "   V337  V338  V339  \n",
       "0   NaN   NaN   NaN  \n",
       "1   NaN   NaN   NaN  \n",
       "\n",
       "[2 rows x 394 columns]"
      ]
     },
     "execution_count": 92,
     "metadata": {},
     "output_type": "execute_result"
    }
   ],
   "source": [
    "test.head(2)"
   ]
  },
  {
   "cell_type": "code",
   "execution_count": null,
   "metadata": {},
   "outputs": [],
   "source": [
    "# import catboost.utils as cbu\n",
    "\n",
    "# def calculate_score_on_dataset_and_show_graph(X, y, model):\n",
    "#     import sklearn.metrics\n",
    "#     import matplotlib.pylab as pl\n",
    "#     pl.style.use('ggplot')\n",
    "    \n",
    "#     dataset = cb.Pool(X, y, cat_features=np.where(X.dtypes != np.float)[0])\n",
    "#     fpr, tpr, _ = cbu.get_roc_curve(model, dataset, plot=True)\n",
    "#     auc = sklearn.metrics.auc(fpr, tpr)\n",
    "#     return auc\n",
    "# calculate_score_on_dataset_and_show_graph(X_test, y_test, model_cb3)"
   ]
  },
  {
   "cell_type": "code",
   "execution_count": 93,
   "metadata": {},
   "outputs": [],
   "source": [
    "catboost_test = test.copy()\n",
    "\n",
    "for ii in catboost_test[cat_cols]:\n",
    "    catboost_test[ii] = catboost_test[ii].astype(str)\n",
    "    \n",
    "for ii in catboost_test.drop('isFraud', axis=1).select_dtypes(include=['float', 'int']).columns.tolist():\n",
    "    catboost_test[ii] = catboost_test[ii].fillna(-1)\n",
    "    \n",
    "catboost_test.isna().sum().values"
   ]
  },
  {
   "cell_type": "code",
   "execution_count": 96,
   "metadata": {},
   "outputs": [
    {
     "data": {
      "text/plain": [
       "[3, 7, 9, 14, 15, 45, 46, 47, 48, 49, 50, 51, 52, 53]"
      ]
     },
     "execution_count": 96,
     "metadata": {},
     "output_type": "execute_result"
    }
   ],
   "source": [
    "cat_features_idxx = np.where(catboost_test.drop('isFraud', axis=1).dtypes == \"object\")[0].tolist()\n",
    "cat_features_idxx"
   ]
  },
  {
   "cell_type": "code",
   "execution_count": 110,
   "metadata": {},
   "outputs": [],
   "source": [
    "X_test_catb = catboost_test.drop('isFraud', axis=1)\n",
    "y_test_catb = catboost_test['isFraud']"
   ]
  },
  {
   "cell_type": "code",
   "execution_count": 103,
   "metadata": {},
   "outputs": [],
   "source": [
    "model_cb3_pred_proba = model_cb3.predict_proba(X_test_catb)"
   ]
  },
  {
   "cell_type": "code",
   "execution_count": 119,
   "metadata": {},
   "outputs": [],
   "source": [
    "def get_roc_auc(y_true, model_pred_proba):\n",
    "    fpr, tpr, thresholds = roc_curve(y_true, model_pred_proba[:,1])\n",
    "    roc_auc = auc(fpr, tpr)\n",
    "    plt.figure()\n",
    "    plt.plot(fpr, tpr, color='darkorange',\n",
    "             lw=1, label='ROC curve (area = %0.2f)' % roc_auc)\n",
    "    plt.plot([0, 1], [0, 1], color='navy', lw=1, linestyle='--')\n",
    "    plt.xlim([0.0, 1.0])\n",
    "    plt.ylim([0.0, 1.05])\n",
    "    plt.xlabel('False Positive Rate')\n",
    "    plt.ylabel('True Positive Rate')\n",
    "    plt.title('ROC curve')\n",
    "    plt.legend(loc=\"lower right\")\n",
    "    plt.show()"
   ]
  },
  {
   "cell_type": "code",
   "execution_count": 120,
   "metadata": {},
   "outputs": [
    {
     "data": {
      "image/png": "[encoded data removed]",
      "text/plain": [
       "<Figure size 432x288 with 1 Axes>"
      ]
     },
     "metadata": {
      "needs_background": "light"
     },
     "output_type": "display_data"
    }
   ],
   "source": [
    "get_roc_auc(y_test_catb, model_cb3_pred_proba)"
   ]
  },
  {
   "cell_type": "code",
   "execution_count": 112,
   "metadata": {},
   "outputs": [
    {
     "data": {
      "text/plain": [
       "0.8658277486830472"
      ]
     },
     "execution_count": 112,
     "metadata": {},
     "output_type": "execute_result"
    }
   ],
   "source": [
    "roc_auc_score(y_test_catb, model_cb3_pred_proba[:,1])"
   ]
  },
  {
   "cell_type": "markdown",
   "metadata": {},
   "source": [
    "###### ------------------------------------------------------------------------------------------------"
   ]
  },
  {
   "cell_type": "code",
   "execution_count": 105,
   "metadata": {},
   "outputs": [],
   "source": [
    "lightgbm_test = test.copy()\n",
    "\n",
    "# Преобразуем сначала object в category, потому что LGBM работает с категорями\n",
    "for feature in cat_cols:\n",
    "    lightgbm_test[feature] = pd.Series(lightgbm_test[feature], dtype=\"category\")\n",
    "    \n",
    "X_test_lgbm = lightgbm_test.drop('isFraud', axis=1)\n",
    "y_test_lgbm = lightgbm_test['isFraud']"
   ]
  },
  {
   "cell_type": "code",
   "execution_count": 106,
   "metadata": {},
   "outputs": [],
   "source": [
    "model_lgbm3_pred_proba = model_lgbm3.predict_proba(X_test_lgbm)"
   ]
  },
  {
   "cell_type": "code",
   "execution_count": 121,
   "metadata": {},
   "outputs": [
    {
     "data": {
      "image/png": "[encoded data removed]",
      "text/plain": [
       "<Figure size 432x288 with 1 Axes>"
      ]
     },
     "metadata": {
      "needs_background": "light"
     },
     "output_type": "display_data"
    }
   ],
   "source": [
    "get_roc_auc(y_test_lgbm, model_lgbm3_pred_proba)"
   ]
  },
  {
   "cell_type": "code",
   "execution_count": 113,
   "metadata": {},
   "outputs": [
    {
     "data": {
      "text/plain": [
       "0.8695011645124876"
      ]
     },
     "execution_count": 113,
     "metadata": {},
     "output_type": "execute_result"
    }
   ],
   "source": [
    "roc_auc_score(y_test_lgbm, model_lgbm3_pred_proba[:,1])"
   ]
  },
  {
   "cell_type": "markdown",
   "metadata": {},
   "source": [
    "###### ------------------------------------------------------------------------------------------------"
   ]
  },
  {
   "cell_type": "code",
   "execution_count": 114,
   "metadata": {},
   "outputs": [],
   "source": [
    "gb_test = test.copy()\n",
    "\n",
    "hash_space = 0.1\n",
    "for item_column in cat_cols:\n",
    "    for itm in gb_test[item_column].value_counts().index.tolist():\n",
    "        gb_test.loc[gb_test[item_column] == itm, item_column] = (hash(itm) % hash_space)\n",
    "\n",
    "    gb_test[item_column] = gb_test[item_column].astype('float')"
   ]
  },
  {
   "cell_type": "code",
   "execution_count": 115,
   "metadata": {},
   "outputs": [],
   "source": [
    "X_test_gb = gb_test.drop('isFraud', axis=1)\n",
    "y_test_gb = gb_test['isFraud']"
   ]
  },
  {
   "cell_type": "code",
   "execution_count": 116,
   "metadata": {},
   "outputs": [],
   "source": [
    "model_gb2_pred_proba = model_gb2.predict_proba(X_test_gb)"
   ]
  },
  {
   "cell_type": "code",
   "execution_count": 122,
   "metadata": {},
   "outputs": [
    {
     "data": {
      "image/png": "[encoded data removed]",
      "text/plain": [
       "<Figure size 432x288 with 1 Axes>"
      ]
     },
     "metadata": {
      "needs_background": "light"
     },
     "output_type": "display_data"
    }
   ],
   "source": [
    "get_roc_auc(y_test_gb, model_gb2_pred_proba)"
   ]
  },
  {
   "cell_type": "code",
   "execution_count": 118,
   "metadata": {},
   "outputs": [
    {
     "data": {
      "text/plain": [
       "0.8640699260270834"
      ]
     },
     "execution_count": 118,
     "metadata": {},
     "output_type": "execute_result"
    }
   ],
   "source": [
    "roc_auc_score(y_test_gb, model_gb2_pred_proba[:,1])"
   ]
  },
  {
   "cell_type": "code",
   "execution_count": 134,
   "metadata": {},
   "outputs": [
    {
     "data": {
      "image/png": "[encoded data removed]",
      "text/plain": [
       "<Figure size 1224x288 with 1 Axes>"
      ]
     },
     "metadata": {
      "needs_background": "light"
     },
     "output_type": "display_data"
    }
   ],
   "source": [
    "plt.figure(figsize=(17,4))\n",
    "barlist = plt.bar(np.arange(1, 4),\n",
    "        [roc_auc_score(y_test_catb, model_cb3_pred_proba[:,1]),\n",
    "        roc_auc_score(y_test_lgbm, model_lgbm3_pred_proba[:,1]),\n",
    "        roc_auc_score(y_test_gb, model_gb2_pred_proba[:,1])],\n",
    "        edgecolor='black', linewidth=1,\n",
    "                  tick_label=['Catboost ROC_AUC','LGBM ROC_AUC',\n",
    "                              'GB ROC_AUC'], color=['c','g','y'])\n",
    "# barlist[0].set_color('yellow')\n",
    "plt.ylim(0.85, 0.872)\n",
    "plt.grid(alpha=0.5)\n",
    "plt.show()"
   ]
  },
  {
   "cell_type": "markdown",
   "metadata": {},
   "source": [
    "Выводы: Все алгоритмы хорошо обучились на тестовой выборке, результаты моделей примерно одинаковы."
   ]
  },
  {
   "cell_type": "markdown",
   "metadata": {},
   "source": [
    "### Дополнительные задания"
   ]
  },
  {
   "cell_type": "markdown",
   "metadata": {},
   "source": [
    "### Задание 1: Построить график распределения времени совершения транзакции для обучающей / тестовой выборки, сделать выводы о том, как разбиты данные и какие виды валидации могут подойти для данной задачи.\n"
   ]
  },
  {
   "cell_type": "code",
   "execution_count": 458,
   "metadata": {},
   "outputs": [
    {
     "data": {
      "text/html": [
       "<div>\n",
       "<style scoped>\n",
       "    .dataframe tbody tr th:only-of-type {\n",
       "        vertical-align: middle;\n",
       "    }\n",
       "\n",
       "    .dataframe tbody tr th {\n",
       "        vertical-align: top;\n",
       "    }\n",
       "\n",
       "    .dataframe thead th {\n",
       "        text-align: right;\n",
       "    }\n",
       "</style>\n",
       "<table border=\"1\" class=\"dataframe\">\n",
       "  <thead>\n",
       "    <tr style=\"text-align: right;\">\n",
       "      <th></th>\n",
       "      <th>TransactionID</th>\n",
       "      <th>isFraud</th>\n",
       "      <th>TransactionDT</th>\n",
       "      <th>TransactionAmt</th>\n",
       "      <th>ProductCD</th>\n",
       "      <th>card1</th>\n",
       "      <th>card2</th>\n",
       "      <th>card3</th>\n",
       "      <th>card4</th>\n",
       "      <th>card5</th>\n",
       "      <th>...</th>\n",
       "      <th>V330</th>\n",
       "      <th>V331</th>\n",
       "      <th>V332</th>\n",
       "      <th>V333</th>\n",
       "      <th>V334</th>\n",
       "      <th>V335</th>\n",
       "      <th>V336</th>\n",
       "      <th>V337</th>\n",
       "      <th>V338</th>\n",
       "      <th>V339</th>\n",
       "    </tr>\n",
       "  </thead>\n",
       "  <tbody>\n",
       "    <tr>\n",
       "      <th>0</th>\n",
       "      <td>2987000</td>\n",
       "      <td>0</td>\n",
       "      <td>86400</td>\n",
       "      <td>68.5</td>\n",
       "      <td>W</td>\n",
       "      <td>13926</td>\n",
       "      <td>NaN</td>\n",
       "      <td>150.0</td>\n",
       "      <td>discover</td>\n",
       "      <td>142.0</td>\n",
       "      <td>...</td>\n",
       "      <td>NaN</td>\n",
       "      <td>NaN</td>\n",
       "      <td>NaN</td>\n",
       "      <td>NaN</td>\n",
       "      <td>NaN</td>\n",
       "      <td>NaN</td>\n",
       "      <td>NaN</td>\n",
       "      <td>NaN</td>\n",
       "      <td>NaN</td>\n",
       "      <td>NaN</td>\n",
       "    </tr>\n",
       "    <tr>\n",
       "      <th>1</th>\n",
       "      <td>2987001</td>\n",
       "      <td>0</td>\n",
       "      <td>86401</td>\n",
       "      <td>29.0</td>\n",
       "      <td>W</td>\n",
       "      <td>2755</td>\n",
       "      <td>404.0</td>\n",
       "      <td>150.0</td>\n",
       "      <td>mastercard</td>\n",
       "      <td>102.0</td>\n",
       "      <td>...</td>\n",
       "      <td>NaN</td>\n",
       "      <td>NaN</td>\n",
       "      <td>NaN</td>\n",
       "      <td>NaN</td>\n",
       "      <td>NaN</td>\n",
       "      <td>NaN</td>\n",
       "      <td>NaN</td>\n",
       "      <td>NaN</td>\n",
       "      <td>NaN</td>\n",
       "      <td>NaN</td>\n",
       "    </tr>\n",
       "  </tbody>\n",
       "</table>\n",
       "<p>2 rows × 394 columns</p>\n",
       "</div>"
      ],
      "text/plain": [
       "   TransactionID  isFraud  TransactionDT  TransactionAmt ProductCD  card1  \\\n",
       "0        2987000        0          86400            68.5         W  13926   \n",
       "1        2987001        0          86401            29.0         W   2755   \n",
       "\n",
       "   card2  card3       card4  card5  ... V330  V331  V332  V333  V334 V335  \\\n",
       "0    NaN  150.0    discover  142.0  ...  NaN   NaN   NaN   NaN   NaN  NaN   \n",
       "1  404.0  150.0  mastercard  102.0  ...  NaN   NaN   NaN   NaN   NaN  NaN   \n",
       "\n",
       "  V336  V337  V338  V339  \n",
       "0  NaN   NaN   NaN   NaN  \n",
       "1  NaN   NaN   NaN   NaN  \n",
       "\n",
       "[2 rows x 394 columns]"
      ]
     },
     "execution_count": 458,
     "metadata": {},
     "output_type": "execute_result"
    }
   ],
   "source": [
    "train.head(2)"
   ]
  },
  {
   "cell_type": "code",
   "execution_count": 459,
   "metadata": {},
   "outputs": [
    {
     "data": {
      "text/html": [
       "<div>\n",
       "<style scoped>\n",
       "    .dataframe tbody tr th:only-of-type {\n",
       "        vertical-align: middle;\n",
       "    }\n",
       "\n",
       "    .dataframe tbody tr th {\n",
       "        vertical-align: top;\n",
       "    }\n",
       "\n",
       "    .dataframe thead th {\n",
       "        text-align: right;\n",
       "    }\n",
       "</style>\n",
       "<table border=\"1\" class=\"dataframe\">\n",
       "  <thead>\n",
       "    <tr style=\"text-align: right;\">\n",
       "      <th></th>\n",
       "      <th>TransactionID</th>\n",
       "      <th>isFraud</th>\n",
       "      <th>TransactionDT</th>\n",
       "      <th>TransactionAmt</th>\n",
       "      <th>ProductCD</th>\n",
       "      <th>card1</th>\n",
       "      <th>card2</th>\n",
       "      <th>card3</th>\n",
       "      <th>card4</th>\n",
       "      <th>card5</th>\n",
       "      <th>...</th>\n",
       "      <th>V330</th>\n",
       "      <th>V331</th>\n",
       "      <th>V332</th>\n",
       "      <th>V333</th>\n",
       "      <th>V334</th>\n",
       "      <th>V335</th>\n",
       "      <th>V336</th>\n",
       "      <th>V337</th>\n",
       "      <th>V338</th>\n",
       "      <th>V339</th>\n",
       "    </tr>\n",
       "  </thead>\n",
       "  <tbody>\n",
       "    <tr>\n",
       "      <th>0</th>\n",
       "      <td>3287000</td>\n",
       "      <td>1</td>\n",
       "      <td>7415038</td>\n",
       "      <td>226.0</td>\n",
       "      <td>W</td>\n",
       "      <td>12473</td>\n",
       "      <td>555.0</td>\n",
       "      <td>150.0</td>\n",
       "      <td>visa</td>\n",
       "      <td>226.0</td>\n",
       "      <td>...</td>\n",
       "      <td>NaN</td>\n",
       "      <td>NaN</td>\n",
       "      <td>NaN</td>\n",
       "      <td>NaN</td>\n",
       "      <td>NaN</td>\n",
       "      <td>NaN</td>\n",
       "      <td>NaN</td>\n",
       "      <td>NaN</td>\n",
       "      <td>NaN</td>\n",
       "      <td>NaN</td>\n",
       "    </tr>\n",
       "    <tr>\n",
       "      <th>1</th>\n",
       "      <td>3287001</td>\n",
       "      <td>0</td>\n",
       "      <td>7415054</td>\n",
       "      <td>3072.0</td>\n",
       "      <td>W</td>\n",
       "      <td>15651</td>\n",
       "      <td>417.0</td>\n",
       "      <td>150.0</td>\n",
       "      <td>visa</td>\n",
       "      <td>226.0</td>\n",
       "      <td>...</td>\n",
       "      <td>NaN</td>\n",
       "      <td>NaN</td>\n",
       "      <td>NaN</td>\n",
       "      <td>NaN</td>\n",
       "      <td>NaN</td>\n",
       "      <td>NaN</td>\n",
       "      <td>NaN</td>\n",
       "      <td>NaN</td>\n",
       "      <td>NaN</td>\n",
       "      <td>NaN</td>\n",
       "    </tr>\n",
       "  </tbody>\n",
       "</table>\n",
       "<p>2 rows × 394 columns</p>\n",
       "</div>"
      ],
      "text/plain": [
       "   TransactionID  isFraud  TransactionDT  TransactionAmt ProductCD  card1  \\\n",
       "0        3287000        1        7415038           226.0         W  12473   \n",
       "1        3287001        0        7415054          3072.0         W  15651   \n",
       "\n",
       "   card2  card3 card4  card5  ... V330  V331  V332  V333  V334 V335 V336  \\\n",
       "0  555.0  150.0  visa  226.0  ...  NaN   NaN   NaN   NaN   NaN  NaN  NaN   \n",
       "1  417.0  150.0  visa  226.0  ...  NaN   NaN   NaN   NaN   NaN  NaN  NaN   \n",
       "\n",
       "   V337  V338  V339  \n",
       "0   NaN   NaN   NaN  \n",
       "1   NaN   NaN   NaN  \n",
       "\n",
       "[2 rows x 394 columns]"
      ]
     },
     "execution_count": 459,
     "metadata": {},
     "output_type": "execute_result"
    }
   ],
   "source": [
    "test.head(2)"
   ]
  },
  {
   "cell_type": "code",
   "execution_count": 453,
   "metadata": {},
   "outputs": [
    {
     "data": {
      "text/plain": [
       "<matplotlib.legend.Legend at 0x2490cf61448>"
      ]
     },
     "execution_count": 453,
     "metadata": {},
     "output_type": "execute_result"
    },
    {
     "data": {
      "image/png": "[encoded data removed]",
      "text/plain": [
       "<Figure size 1584x576 with 2 Axes>"
      ]
     },
     "metadata": {},
     "output_type": "display_data"
    }
   ],
   "source": [
    "plt.figure(figsize=(22, 8))\n",
    "plt.subplot(121)\n",
    "v_zero = train.loc[train['isFraud'] == 0, 'TransactionDT']\n",
    "v_one = train.loc[train['isFraud'] == 1, 'TransactionDT']\n",
    "plt.hist(v_zero, bins = 50, label='Train. Class 0', density=True, edgecolor='white', color='grey')\n",
    "plt.hist(v_one, bins = 50, label='Train. Class 1', alpha=0.2, density=True, edgecolor='black', color='red')\n",
    "plt.xlabel('Class', alpha=0.5)\n",
    "plt.legend(fontsize=8, frameon=False)\n",
    "\n",
    "plt.subplot(122)\n",
    "v2_zero = test.loc[train['isFraud'] == 0, 'TransactionDT']\n",
    "v2_one = test.loc[train['isFraud'] == 1, 'TransactionDT']\n",
    "plt.hist(v2_zero, bins = 50, label='Test. Class 0', density=True, edgecolor='white', color='grey')\n",
    "plt.hist(v2_one, bins = 50, label='Test. Class 1', alpha=0.2, density=True, edgecolor='black', color='red')\n",
    "plt.xlabel('Class', alpha=0.5)\n",
    "plt.legend(fontsize=8, frameon=False)"
   ]
  },
  {
   "cell_type": "code",
   "execution_count": 457,
   "metadata": {},
   "outputs": [
    {
     "data": {
      "text/plain": [
       "<matplotlib.legend.Legend at 0x2490e224248>"
      ]
     },
     "execution_count": 457,
     "metadata": {},
     "output_type": "execute_result"
    },
    {
     "data": {
      "image/png": "[encoded data removed]",
      "text/plain": [
       "<Figure size 1584x576 with 2 Axes>"
      ]
     },
     "metadata": {},
     "output_type": "display_data"
    }
   ],
   "source": [
    "plt.figure(figsize=(22, 8))\n",
    "plt.subplot(121)\n",
    "sns.kdeplot(v_zero, shade=True, color=\"grey\", label=\"=0\", alpha=.7)\n",
    "sns.kdeplot(v_one, shade=True, color=\"r\", label=\"=1\", alpha=.5)\n",
    "plt.legend()\n",
    "\n",
    "plt.subplot(122)\n",
    "sns.kdeplot(v2_zero, shade=True, color=\"grey\", label=\"=0\", alpha=.7)\n",
    "sns.kdeplot(v2_one, shade=True, color=\"r\", label=\"=1\", alpha=.5)\n",
    "plt.legend()"
   ]
  },
  {
   "cell_type": "code",
   "execution_count": 493,
   "metadata": {},
   "outputs": [
    {
     "data": {
      "text/plain": [
       "<matplotlib.axes._subplots.AxesSubplot at 0x249101edcc8>"
      ]
     },
     "execution_count": 493,
     "metadata": {},
     "output_type": "execute_result"
    },
    {
     "data": {
      "image/png": "[encoded data removed]",
      "text/plain": [
       "<Figure size 1296x360 with 3 Axes>"
      ]
     },
     "metadata": {},
     "output_type": "display_data"
    }
   ],
   "source": [
    "target = train[\"TransactionDT\"]\n",
    "fig, axes = plt.subplots(1, 3, figsize=(18, 5))\n",
    "\n",
    "axes[0].set_title(\"Johnson SU\", fontsize=14)\n",
    "sns.distplot(target, kde=False, color=\"grey\", fit=st.johnsonsu, ax=axes[0])\n",
    "\n",
    "axes[1].set_title(\"Normal\", fontsize=14)\n",
    "sns.distplot(target, kde=False, color=\"grey\", fit=st.norm, ax=axes[1])\n",
    "\n",
    "axes[2].set_title(\"Log Normal\", fontsize=14)\n",
    "sns.distplot(target, kde=False, color=\"grey\", fit=st.lognorm, ax=axes[2])"
   ]
  },
  {
   "cell_type": "code",
   "execution_count": 494,
   "metadata": {},
   "outputs": [
    {
     "data": {
      "text/plain": [
       "<matplotlib.axes._subplots.AxesSubplot at 0x249109918c8>"
      ]
     },
     "execution_count": 494,
     "metadata": {},
     "output_type": "execute_result"
    },
    {
     "data": {
      "image/png": "[encoded data removed]",
      "text/plain": [
       "<Figure size 1296x360 with 3 Axes>"
      ]
     },
     "metadata": {},
     "output_type": "display_data"
    }
   ],
   "source": [
    "target = test[\"TransactionDT\"]\n",
    "fig, axes = plt.subplots(1, 3, figsize=(18, 5))\n",
    "\n",
    "axes[0].set_title(\"Johnson SU\", fontsize=14)\n",
    "sns.distplot(target, kde=False, color=\"grey\", fit=st.johnsonsu, ax=axes[0])\n",
    "\n",
    "axes[1].set_title(\"Normal\", fontsize=14)\n",
    "sns.distplot(target, kde=False, color=\"grey\", fit=st.norm, ax=axes[1])\n",
    "\n",
    "axes[2].set_title(\"Log Normal\", fontsize=14)\n",
    "sns.distplot(target, kde=False, color=\"grey\", fit=st.lognorm, ax=axes[2])"
   ]
  },
  {
   "cell_type": "code",
   "execution_count": 495,
   "metadata": {},
   "outputs": [
    {
     "data": {
      "image/png": "[encoded data removed]",
      "text/plain": [
       "<Figure size 936x360 with 2 Axes>"
      ]
     },
     "metadata": {},
     "output_type": "display_data"
    }
   ],
   "source": [
    "target = np.log(train[\"TransactionDT\"])\n",
    "fig = plt.figure(figsize=(13, 5))\n",
    "plt.subplot(121)\n",
    "sns.distplot(target, bins=15, color=\"grey\")\n",
    "plt.subplot(122)\n",
    "probplot(target, plot=plt)\n",
    "plt.show();"
   ]
  },
  {
   "cell_type": "code",
   "execution_count": 513,
   "metadata": {},
   "outputs": [
    {
     "data": {
      "text/plain": [
       "<matplotlib.axes._subplots.AxesSubplot at 0x2490e059f08>"
      ]
     },
     "execution_count": 513,
     "metadata": {},
     "output_type": "execute_result"
    },
    {
     "data": {
      "image/png": "[encoded data removed]",
      "text/plain": [
       "<Figure size 936x360 with 2 Axes>"
      ]
     },
     "metadata": {},
     "output_type": "display_data"
    }
   ],
   "source": [
    "fig = plt.figure(figsize=(13, 5))\n",
    "plt.subplot(121)\n",
    "sns.kdeplot(train.loc[train['isFraud'] == 0, \"TransactionDT\"], color=\"blue\", label=\"train(class 0)\")\n",
    "sns.kdeplot(test.loc[test['isFraud'] == 0, \"TransactionDT\"], color=\"red\", label=\"test(class 0)\")\n",
    "plt.subplot(122)\n",
    "sns.kdeplot(train.loc[train['isFraud'] == 1, \"TransactionDT\"], color=\"blue\", label=\"train(class 1)\")\n",
    "sns.kdeplot(test.loc[test['isFraud'] == 1, \"TransactionDT\"], color=\"red\", label=\"test(class 1)\")"
   ]
  },
  {
   "cell_type": "code",
   "execution_count": 505,
   "metadata": {},
   "outputs": [
    {
     "data": {
      "text/plain": [
       "count    1.800000e+05\n",
       "mean     1.909818e+06\n",
       "std      1.039029e+06\n",
       "min      8.640000e+04\n",
       "25%      1.091681e+06\n",
       "50%      1.884075e+06\n",
       "75%      2.693196e+06\n",
       "max      3.958317e+06\n",
       "Name: TransactionDT, dtype: float64"
      ]
     },
     "execution_count": 505,
     "metadata": {},
     "output_type": "execute_result"
    }
   ],
   "source": [
    "train.TransactionDT.describe()"
   ]
  },
  {
   "cell_type": "code",
   "execution_count": 506,
   "metadata": {},
   "outputs": [
    {
     "data": {
      "text/plain": [
       "count    1.000010e+05\n",
       "mean     8.696663e+06\n",
       "std      7.603909e+05\n",
       "min      7.415038e+06\n",
       "25%      8.023328e+06\n",
       "50%      8.630067e+06\n",
       "75%      9.346592e+06\n",
       "max      1.009155e+07\n",
       "Name: TransactionDT, dtype: float64"
      ]
     },
     "execution_count": 506,
     "metadata": {},
     "output_type": "execute_result"
    }
   ],
   "source": [
    "test.TransactionDT.describe()"
   ]
  },
  {
   "cell_type": "markdown",
   "metadata": {},
   "source": [
    "Выводы: значения TransactionDT распределены ненормально на трейне и на тесте и имеют разное распределение статистики, в том числе в разрезе целевого класса. Предположительно необходимо использовать валидацию hold-out и разбить трейн выборку не менее чем на 3 части(train, test, valid), а также провести кросс-валидацию на 5 и более фолдах."
   ]
  },
  {
   "cell_type": "code",
   "execution_count": null,
   "metadata": {},
   "outputs": [],
   "source": []
  }
 ],
 "metadata": {
  "colab": {
   "name": "035b8a0e7096fceb77c734f1c4a117ef.ipynb",
   "provenance": []
  },
  "kernelspec": {
   "display_name": "Python 3",
   "language": "python",
   "name": "python3"
  },
  "language_info": {
   "codemirror_mode": {
    "name": "ipython",
    "version": 3
   },
   "file_extension": ".py",
   "mimetype": "text/x-python",
   "name": "python",
   "nbconvert_exporter": "python",
   "pygments_lexer": "ipython3",
   "version": "3.7.6"
  }
 },
 "nbformat": 4,
 "nbformat_minor": 1
}
