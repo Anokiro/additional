{
 "cells": [
  {
   "cell_type": "markdown",
   "metadata": {},
   "source": [
    "## Часть 4.\n",
    "### Построение модели и тюнинг гиперпараметров."
   ]
  },
  {
   "cell_type": "markdown",
   "metadata": {},
   "source": [
    "**Оглавление**\n",
    "* Разделы:\n",
    "    * [1. Базовая модель](#bload)\n",
    "    * [2. Подбор гиперпараметров](#exp)\n",
    "    * [3. Финальная модель](#end)"
   ]
  },
  {
   "cell_type": "code",
   "execution_count": null,
   "metadata": {},
   "outputs": [],
   "source": [
    "#!pip install catboost\n",
    "# conda install scikit-learn\n",
    "# !pip install scikit-learn==0.22\n",
    "# !pip install bayesian-optimization"
   ]
  },
  {
   "cell_type": "code",
   "execution_count": 1,
   "metadata": {},
   "outputs": [],
   "source": [
    "from tqdm import tqdm\n",
    "import numpy as np\n",
    "import pandas as pd\n",
    "import matplotlib.pyplot as plt\n",
    "import seaborn as sns\n",
    "import scipy.stats as st\n",
    "from scipy.stats import gmean, rankdata\n",
    "\n",
    "from sklearn.metrics import roc_auc_score, roc_curve, auc, plot_roc_curve\n",
    "\n",
    "import catboost as ctb\n",
    "from catboost import CatBoostClassifier\n",
    "from sklearn.ensemble import VotingClassifier\n",
    "\n",
    "from bayes_opt import BayesianOptimization\n",
    "\n",
    "from sklearn.model_selection import train_test_split\n",
    "from sklearn.model_selection import KFold, cross_val_score\n",
    "\n",
    "%matplotlib inline\n",
    "import warnings\n",
    "warnings.filterwarnings('ignore')"
   ]
  },
  {
   "cell_type": "code",
   "execution_count": 2,
   "metadata": {},
   "outputs": [],
   "source": [
    "my_train_old = pd.read_csv(r\"./competitive-data-analysis_coursework/train_ready.csv\")\n",
    "my_test_old = pd.read_csv(r\"./competitive-data-analysis_coursework/test_ready.csv\")"
   ]
  },
  {
   "cell_type": "code",
   "execution_count": 3,
   "metadata": {},
   "outputs": [
    {
     "data": {
      "text/html": [
       "<div>\n",
       "<style scoped>\n",
       "    .dataframe tbody tr th:only-of-type {\n",
       "        vertical-align: middle;\n",
       "    }\n",
       "\n",
       "    .dataframe tbody tr th {\n",
       "        vertical-align: top;\n",
       "    }\n",
       "\n",
       "    .dataframe thead th {\n",
       "        text-align: right;\n",
       "    }\n",
       "</style>\n",
       "<table border=\"1\" class=\"dataframe\">\n",
       "  <thead>\n",
       "    <tr style=\"text-align: right;\">\n",
       "      <th></th>\n",
       "      <th>APPLICATION_NUMBER</th>\n",
       "      <th>TARGET</th>\n",
       "      <th>NAME_CONTRACT_TYPE</th>\n",
       "      <th>GENDER</th>\n",
       "      <th>TOTAL_SALARY</th>\n",
       "      <th>AMOUNT_CREDIT</th>\n",
       "      <th>AMOUNT_ANNUITY</th>\n",
       "      <th>EDUCATION_LEVEL</th>\n",
       "      <th>FAMILY_STATUS</th>\n",
       "      <th>REGION_POPULATION</th>\n",
       "      <th>...</th>\n",
       "      <th>DAYS_DECISION</th>\n",
       "      <th>SELLERPLACE_AREA</th>\n",
       "      <th>AMOUNT_ANNUITY/TOTAL_SALARY</th>\n",
       "      <th>AMOUNT_CREDIT/AMOUNT_ANNUITY</th>\n",
       "      <th>TOTAL_SALARY*REGION_POPULATION</th>\n",
       "      <th>EXTERNAL_SR3*AMOUNT_CREDIT</th>\n",
       "      <th>EXTERNAL_SR2*AMOUNT_ANNUITY</th>\n",
       "      <th>EXTERNAL_SR3*AMOUNT_ANNUITY</th>\n",
       "      <th>mean_EXTERNAL_SR</th>\n",
       "      <th>sum_EXTERNAL_SR</th>\n",
       "    </tr>\n",
       "  </thead>\n",
       "  <tbody>\n",
       "    <tr>\n",
       "      <th>0</th>\n",
       "      <td>123687442</td>\n",
       "      <td>0</td>\n",
       "      <td>0.013188</td>\n",
       "      <td>0.087802</td>\n",
       "      <td>157500.0</td>\n",
       "      <td>855000.0</td>\n",
       "      <td>25128.0</td>\n",
       "      <td>0.014295</td>\n",
       "      <td>0.090711</td>\n",
       "      <td>0.019101</td>\n",
       "      <td>...</td>\n",
       "      <td>2702.0</td>\n",
       "      <td>3</td>\n",
       "      <td>0.159543</td>\n",
       "      <td>34.025787</td>\n",
       "      <td>3008.4075</td>\n",
       "      <td>612667.56</td>\n",
       "      <td>16230.521</td>\n",
       "      <td>18005.977</td>\n",
       "      <td>0.687756</td>\n",
       "      <td>2.063268</td>\n",
       "    </tr>\n",
       "    <tr>\n",
       "      <th>1</th>\n",
       "      <td>123597908</td>\n",
       "      <td>1</td>\n",
       "      <td>0.013188</td>\n",
       "      <td>0.043765</td>\n",
       "      <td>0.0</td>\n",
       "      <td>0.0</td>\n",
       "      <td>0.0</td>\n",
       "      <td>0.043765</td>\n",
       "      <td>0.043765</td>\n",
       "      <td>0.000000</td>\n",
       "      <td>...</td>\n",
       "      <td>903.0</td>\n",
       "      <td>4</td>\n",
       "      <td>0.000000</td>\n",
       "      <td>0.000000</td>\n",
       "      <td>0.0000</td>\n",
       "      <td>0.00</td>\n",
       "      <td>0.000</td>\n",
       "      <td>0.000</td>\n",
       "      <td>0.000000</td>\n",
       "      <td>0.000000</td>\n",
       "    </tr>\n",
       "  </tbody>\n",
       "</table>\n",
       "<p>2 rows × 29 columns</p>\n",
       "</div>"
      ],
      "text/plain": [
       "   APPLICATION_NUMBER  TARGET  NAME_CONTRACT_TYPE    GENDER  TOTAL_SALARY  \\\n",
       "0           123687442       0            0.013188  0.087802      157500.0   \n",
       "1           123597908       1            0.013188  0.043765           0.0   \n",
       "\n",
       "   AMOUNT_CREDIT  AMOUNT_ANNUITY  EDUCATION_LEVEL  FAMILY_STATUS  \\\n",
       "0       855000.0         25128.0         0.014295       0.090711   \n",
       "1            0.0             0.0         0.043765       0.043765   \n",
       "\n",
       "   REGION_POPULATION  ...  DAYS_DECISION  SELLERPLACE_AREA  \\\n",
       "0           0.019101  ...         2702.0                 3   \n",
       "1           0.000000  ...          903.0                 4   \n",
       "\n",
       "   AMOUNT_ANNUITY/TOTAL_SALARY  AMOUNT_CREDIT/AMOUNT_ANNUITY  \\\n",
       "0                     0.159543                     34.025787   \n",
       "1                     0.000000                      0.000000   \n",
       "\n",
       "   TOTAL_SALARY*REGION_POPULATION  EXTERNAL_SR3*AMOUNT_CREDIT  \\\n",
       "0                       3008.4075                   612667.56   \n",
       "1                          0.0000                        0.00   \n",
       "\n",
       "   EXTERNAL_SR2*AMOUNT_ANNUITY  EXTERNAL_SR3*AMOUNT_ANNUITY  mean_EXTERNAL_SR  \\\n",
       "0                    16230.521                    18005.977          0.687756   \n",
       "1                        0.000                        0.000          0.000000   \n",
       "\n",
       "   sum_EXTERNAL_SR  \n",
       "0         2.063268  \n",
       "1         0.000000  \n",
       "\n",
       "[2 rows x 29 columns]"
      ]
     },
     "execution_count": 3,
     "metadata": {},
     "output_type": "execute_result"
    }
   ],
   "source": [
    "my_train_old.head(2)"
   ]
  },
  {
   "cell_type": "code",
   "execution_count": 4,
   "metadata": {},
   "outputs": [
    {
     "data": {
      "text/html": [
       "<div>\n",
       "<style scoped>\n",
       "    .dataframe tbody tr th:only-of-type {\n",
       "        vertical-align: middle;\n",
       "    }\n",
       "\n",
       "    .dataframe tbody tr th {\n",
       "        vertical-align: top;\n",
       "    }\n",
       "\n",
       "    .dataframe thead th {\n",
       "        text-align: right;\n",
       "    }\n",
       "</style>\n",
       "<table border=\"1\" class=\"dataframe\">\n",
       "  <thead>\n",
       "    <tr style=\"text-align: right;\">\n",
       "      <th></th>\n",
       "      <th>APPLICATION_NUMBER</th>\n",
       "      <th>NAME_CONTRACT_TYPE</th>\n",
       "      <th>GENDER</th>\n",
       "      <th>TOTAL_SALARY</th>\n",
       "      <th>AMOUNT_CREDIT</th>\n",
       "      <th>AMOUNT_ANNUITY</th>\n",
       "      <th>EDUCATION_LEVEL</th>\n",
       "      <th>FAMILY_STATUS</th>\n",
       "      <th>REGION_POPULATION</th>\n",
       "      <th>AGE</th>\n",
       "      <th>...</th>\n",
       "      <th>DAYS_DECISION</th>\n",
       "      <th>SELLERPLACE_AREA</th>\n",
       "      <th>AMOUNT_ANNUITY/TOTAL_SALARY</th>\n",
       "      <th>AMOUNT_CREDIT/AMOUNT_ANNUITY</th>\n",
       "      <th>TOTAL_SALARY*REGION_POPULATION</th>\n",
       "      <th>EXTERNAL_SR3*AMOUNT_CREDIT</th>\n",
       "      <th>EXTERNAL_SR2*AMOUNT_ANNUITY</th>\n",
       "      <th>EXTERNAL_SR3*AMOUNT_ANNUITY</th>\n",
       "      <th>mean_EXTERNAL_SR</th>\n",
       "      <th>sum_EXTERNAL_SR</th>\n",
       "    </tr>\n",
       "  </thead>\n",
       "  <tbody>\n",
       "    <tr>\n",
       "      <th>0</th>\n",
       "      <td>123724268</td>\n",
       "      <td>0.013188</td>\n",
       "      <td>0.087802</td>\n",
       "      <td>117000.0</td>\n",
       "      <td>1125000.0</td>\n",
       "      <td>32895.0</td>\n",
       "      <td>0.014295</td>\n",
       "      <td>0.090711</td>\n",
       "      <td>0.028663</td>\n",
       "      <td>16007.0</td>\n",
       "      <td>...</td>\n",
       "      <td>720.0</td>\n",
       "      <td>4</td>\n",
       "      <td>0.281154</td>\n",
       "      <td>34.199726</td>\n",
       "      <td>3353.571</td>\n",
       "      <td>0.000</td>\n",
       "      <td>20666.814</td>\n",
       "      <td>0.0000</td>\n",
       "      <td>0.209422</td>\n",
       "      <td>0.628266</td>\n",
       "    </tr>\n",
       "    <tr>\n",
       "      <th>1</th>\n",
       "      <td>123456549</td>\n",
       "      <td>0.013188</td>\n",
       "      <td>0.073746</td>\n",
       "      <td>81000.0</td>\n",
       "      <td>312768.0</td>\n",
       "      <td>17095.5</td>\n",
       "      <td>0.014295</td>\n",
       "      <td>0.090711</td>\n",
       "      <td>0.019689</td>\n",
       "      <td>10315.0</td>\n",
       "      <td>...</td>\n",
       "      <td>1069.0</td>\n",
       "      <td>2</td>\n",
       "      <td>0.211056</td>\n",
       "      <td>18.295341</td>\n",
       "      <td>1594.809</td>\n",
       "      <td>58953.492</td>\n",
       "      <td>9883.951</td>\n",
       "      <td>3222.3228</td>\n",
       "      <td>0.255550</td>\n",
       "      <td>0.766651</td>\n",
       "    </tr>\n",
       "  </tbody>\n",
       "</table>\n",
       "<p>2 rows × 28 columns</p>\n",
       "</div>"
      ],
      "text/plain": [
       "   APPLICATION_NUMBER  NAME_CONTRACT_TYPE    GENDER  TOTAL_SALARY  \\\n",
       "0           123724268            0.013188  0.087802      117000.0   \n",
       "1           123456549            0.013188  0.073746       81000.0   \n",
       "\n",
       "   AMOUNT_CREDIT  AMOUNT_ANNUITY  EDUCATION_LEVEL  FAMILY_STATUS  \\\n",
       "0      1125000.0         32895.0         0.014295       0.090711   \n",
       "1       312768.0         17095.5         0.014295       0.090711   \n",
       "\n",
       "   REGION_POPULATION      AGE  ...  DAYS_DECISION  SELLERPLACE_AREA  \\\n",
       "0           0.028663  16007.0  ...          720.0                 4   \n",
       "1           0.019689  10315.0  ...         1069.0                 2   \n",
       "\n",
       "   AMOUNT_ANNUITY/TOTAL_SALARY  AMOUNT_CREDIT/AMOUNT_ANNUITY  \\\n",
       "0                     0.281154                     34.199726   \n",
       "1                     0.211056                     18.295341   \n",
       "\n",
       "   TOTAL_SALARY*REGION_POPULATION  EXTERNAL_SR3*AMOUNT_CREDIT  \\\n",
       "0                        3353.571                       0.000   \n",
       "1                        1594.809                   58953.492   \n",
       "\n",
       "   EXTERNAL_SR2*AMOUNT_ANNUITY  EXTERNAL_SR3*AMOUNT_ANNUITY  mean_EXTERNAL_SR  \\\n",
       "0                    20666.814                       0.0000          0.209422   \n",
       "1                     9883.951                    3222.3228          0.255550   \n",
       "\n",
       "   sum_EXTERNAL_SR  \n",
       "0         0.628266  \n",
       "1         0.766651  \n",
       "\n",
       "[2 rows x 28 columns]"
      ]
     },
     "execution_count": 4,
     "metadata": {},
     "output_type": "execute_result"
    }
   ],
   "source": [
    "my_test_old.head(2)"
   ]
  },
  {
   "cell_type": "code",
   "execution_count": 5,
   "metadata": {},
   "outputs": [],
   "source": [
    "def make_cross_validation(X: pd.DataFrame,\n",
    "                          y: pd.Series,\n",
    "                          estimator: object,\n",
    "                          metric: callable,\n",
    "                          cv_strategy):\n",
    "  \n",
    "    estimators, fold_train_scores, fold_valid_scores = [], [], []\n",
    "    oof_predictions = np.zeros(X.shape[0])\n",
    "\n",
    "    for fold_number, (train_idx, valid_idx) in enumerate(cv_strategy.split(X, y)):\n",
    "        x_train, x_valid = X.loc[train_idx], X.loc[valid_idx]\n",
    "        y_train, y_valid = y.loc[train_idx], y.loc[valid_idx]\n",
    "\n",
    "        estimator.fit(x_train, y_train)\n",
    "        y_train_pred = estimator.predict_proba(x_train)\n",
    "        y_valid_pred = estimator.predict_proba(x_valid)\n",
    "\n",
    "        fold_train_scores.append(metric(y_train, y_train_pred[:,1]))\n",
    "        fold_valid_scores.append(metric(y_valid, y_valid_pred[:,1]))\n",
    "        oof_predictions[valid_idx] = y_valid_pred[:,1]\n",
    "\n",
    "        msg = (\n",
    "            f\"Fold: {fold_number+1}, train-observations = {len(train_idx)}, \"\n",
    "            f\"valid-observations = {len(valid_idx)}\\n\"\n",
    "            f\"train-score = {round(fold_train_scores[fold_number], 4)}, \"\n",
    "            f\"valid-score = {round(fold_valid_scores[fold_number], 4)}\" \n",
    "        )\n",
    "        print(msg)\n",
    "        print(\"=\"*69)\n",
    "        estimators.append(estimator)\n",
    "\n",
    "    oof_score = metric(y, oof_predictions)\n",
    "    print(f\"CV-results train: {round(np.mean(fold_train_scores), 4)} +/- {round(np.std(fold_train_scores), 3)}\")\n",
    "    print(f\"CV-results valid: {round(np.mean(fold_valid_scores), 4)} +/- {round(np.std(fold_valid_scores), 3)}\")\n",
    "    print(f\"OOF-score = {round(oof_score, 4)}\")\n",
    "    \n",
    "    print(estimators, oof_score, fold_train_scores, fold_valid_scores, oof_predictions)\n",
    "    return estimators, oof_score, fold_train_scores, fold_valid_scores, oof_predictions"
   ]
  },
  {
   "cell_type": "markdown",
   "metadata": {},
   "source": [
    "#### 1. Базовая модель.  <a class='anchor' id='bload'>"
   ]
  },
  {
   "cell_type": "code",
   "execution_count": 7,
   "metadata": {},
   "outputs": [],
   "source": [
    "X = my_train_old.drop(\"TARGET\", axis=1)\n",
    "y = my_train_old[\"TARGET\"]\n",
    "X_train, X_valid, y_train, y_valid = train_test_split(X, y, test_size=0.3, random_state=99)"
   ]
  },
  {
   "cell_type": "code",
   "execution_count": 8,
   "metadata": {},
   "outputs": [],
   "source": [
    "params_ctb = {\n",
    "    \"n_estimators\": 1000,\n",
    "    \"loss_function\": \"Logloss\",\n",
    "    \"eval_metric\": \"AUC\",\n",
    "    \"task_type\": \"CPU\",\n",
    "    \"max_bin\": 20,\n",
    "    \"verbose\": 25,\n",
    "    \"max_depth\": 6,\n",
    "    \"l2_leaf_reg\": 100,\n",
    "    \"early_stopping_rounds\": 50,\n",
    "    \"thread_count\": 6,\n",
    "    \"random_seed\": 99\n",
    "}"
   ]
  },
  {
   "cell_type": "code",
   "execution_count": 9,
   "metadata": {},
   "outputs": [
    {
     "name": "stdout",
     "output_type": "stream",
     "text": [
      "0:\ttest: 0.6362334\ttest1: 0.6347121\tbest: 0.6347121 (0)\ttotal: 82.7ms\tremaining: 1m 22s\n",
      "200:\ttest: 0.7304733\ttest1: 0.7195827\tbest: 0.7196155 (199)\ttotal: 4.77s\tremaining: 19s\n",
      "Stopped by overfitting detector  (50 iterations wait)\n",
      "\n",
      "bestTest = 0.7233985654\n",
      "bestIteration = 318\n",
      "\n",
      "Shrink model to first 319 iterations.\n"
     ]
    },
    {
     "data": {
      "text/plain": [
       "<catboost.core.CatBoostClassifier at 0x20567b04ac8>"
      ]
     },
     "execution_count": 9,
     "metadata": {},
     "output_type": "execute_result"
    }
   ],
   "source": [
    "model_ctb_old = CatBoostClassifier(**params_ctb)\n",
    "model_ctb_old.fit(X_train, y_train, eval_set=[(X_train, y_train), (X_valid, y_valid)], verbose=200)"
   ]
  },
  {
   "cell_type": "markdown",
   "metadata": {},
   "source": [
    "#### 2. Подбор гиперпараметров.  <a class='anchor' id='exp'>"
   ]
  },
  {
   "cell_type": "code",
   "execution_count": 15,
   "metadata": {},
   "outputs": [],
   "source": [
    "def catboost_old_optimize_params(n_estimators, max_depth, learning_rate, l2_leaf_reg, max_bin, thread_count, min_child_samples, subsample):\n",
    "    params_ctb[\"n_estimators\"]= int(n_estimators)\n",
    "    params_ctb[\"max_depth\"] = int(max_depth)\n",
    "    params_ctb[\"learning_rate\"] = learning_rate\n",
    "    params_ctb[\"l2_leaf_reg\"]= int(l2_leaf_reg)\n",
    "    params_ctb[\"max_bin\"]= int(max_bin)\n",
    "    params_ctb[\"thread_count\"]= int(thread_count)\n",
    "    params_ctb[\"min_child_samples\"]= int(min_child_samples)\n",
    "    params_ctb[\"subsample\"] = subsample\n",
    "\n",
    "    model_ctb_old = CatBoostClassifier(**params_ctb)\n",
    "    model_ctb_old.fit(X_train, y_train, eval_set=[(X_train, y_train), (X_valid, y_valid)], verbose=False)\n",
    "\n",
    "    return roc_auc_score(y_valid, model_ctb_old.predict_proba(X_valid)[:,1])"
   ]
  },
  {
   "cell_type": "code",
   "execution_count": 16,
   "metadata": {
    "scrolled": true
   },
   "outputs": [
    {
     "name": "stdout",
     "output_type": "stream",
     "text": [
      "|   iter    |  target   | l2_lea... | learni... |  max_bin  | max_depth | min_ch... | n_esti... | subsample | thread... |\n",
      "-------------------------------------------------------------------------------------------------------------------------\n",
      "| \u001b[0m 1       \u001b[0m | \u001b[0m 0.7277  \u001b[0m | \u001b[0m 250.8   \u001b[0m | \u001b[0m 0.2492  \u001b[0m | \u001b[0m 306.4   \u001b[0m | \u001b[0m 2.094   \u001b[0m | \u001b[0m 221.2   \u001b[0m | \u001b[0m 1.566e+0\u001b[0m | \u001b[0m 0.4488  \u001b[0m | \u001b[0m 10.93   \u001b[0m |\n",
      "| \u001b[0m 2       \u001b[0m | \u001b[0m 0.7264  \u001b[0m | \u001b[0m 298.6   \u001b[0m | \u001b[0m 0.01334 \u001b[0m | \u001b[0m 292.4   \u001b[0m | \u001b[0m 4.24    \u001b[0m | \u001b[0m 156.6   \u001b[0m | \u001b[0m 1.494e+0\u001b[0m | \u001b[0m 0.7645  \u001b[0m | \u001b[0m 17.91   \u001b[0m |\n",
      "| \u001b[0m 3       \u001b[0m | \u001b[0m 0.7254  \u001b[0m | \u001b[0m 296.1   \u001b[0m | \u001b[0m 0.267   \u001b[0m | \u001b[0m 123.4   \u001b[0m | \u001b[0m 4.44    \u001b[0m | \u001b[0m 131.8   \u001b[0m | \u001b[0m 1.554e+0\u001b[0m | \u001b[0m 0.4461  \u001b[0m | \u001b[0m 26.32   \u001b[0m |\n",
      "| \u001b[0m 4       \u001b[0m | \u001b[0m 0.7267  \u001b[0m | \u001b[0m 274.2   \u001b[0m | \u001b[0m 0.1186  \u001b[0m | \u001b[0m 261.2   \u001b[0m | \u001b[0m 2.286   \u001b[0m | \u001b[0m 161.7   \u001b[0m | \u001b[0m 1.097e+0\u001b[0m | \u001b[0m 0.372   \u001b[0m | \u001b[0m 14.24   \u001b[0m |\n",
      "| \u001b[0m 5       \u001b[0m | \u001b[0m 0.724   \u001b[0m | \u001b[0m 221.5   \u001b[0m | \u001b[0m 0.04803 \u001b[0m | \u001b[0m 158.8   \u001b[0m | \u001b[0m 2.02    \u001b[0m | \u001b[0m 234.8   \u001b[0m | \u001b[0m 1.552e+0\u001b[0m | \u001b[0m 0.3838  \u001b[0m | \u001b[0m 28.58   \u001b[0m |\n",
      "| \u001b[95m 6       \u001b[0m | \u001b[95m 0.728   \u001b[0m | \u001b[95m 255.1   \u001b[0m | \u001b[95m 0.3906  \u001b[0m | \u001b[95m 316.5   \u001b[0m | \u001b[95m 4.486   \u001b[0m | \u001b[95m 199.1   \u001b[0m | \u001b[95m 1.573e+0\u001b[0m | \u001b[95m 0.7136  \u001b[0m | \u001b[95m 19.19   \u001b[0m |\n",
      "| \u001b[0m 7       \u001b[0m | \u001b[0m 0.7261  \u001b[0m | \u001b[0m 267.3   \u001b[0m | \u001b[0m 0.2078  \u001b[0m | \u001b[0m 336.0   \u001b[0m | \u001b[0m 3.987   \u001b[0m | \u001b[0m 212.5   \u001b[0m | \u001b[0m 1.608e+0\u001b[0m | \u001b[0m 0.5557  \u001b[0m | \u001b[0m 27.43   \u001b[0m |\n",
      "| \u001b[0m 8       \u001b[0m | \u001b[0m 0.7274  \u001b[0m | \u001b[0m 244.9   \u001b[0m | \u001b[0m 0.0117  \u001b[0m | \u001b[0m 317.5   \u001b[0m | \u001b[0m 4.495   \u001b[0m | \u001b[0m 196.9   \u001b[0m | \u001b[0m 1.549e+0\u001b[0m | \u001b[0m 0.4601  \u001b[0m | \u001b[0m 13.36   \u001b[0m |\n",
      "=========================================================================================================================\n"
     ]
    }
   ],
   "source": [
    "ctb_params_search = BayesianOptimization(\n",
    "    f=catboost_old_optimize_params,\n",
    "    pbounds={\n",
    "        \"n_estimators\": (1000, 2000),\n",
    "        \"max_depth\": (2, 10),\n",
    "        'learning_rate': (0.01, 0.5),\n",
    "        \"l2_leaf_reg\": (150, 300),\n",
    "        \"max_bin\": (100, 350),\n",
    "        \"thread_count\": (10, 30),\n",
    "        'min_child_samples': (100, 250),\n",
    "        'subsample': (0.3, 0.8)\n",
    "    },\n",
    "    random_state=99\n",
    ")\n",
    "\n",
    "ctb_params_search.maximize(init_points=5, n_iter=3, acq='ei')"
   ]
  },
  {
   "cell_type": "code",
   "execution_count": 25,
   "metadata": {},
   "outputs": [],
   "source": [
    "params_ctb2 = {\n",
    "    \"silent\": True,\n",
    "    \"loss_function\": \"Logloss\",\n",
    "    \"eval_metric\": \"AUC\",\n",
    "    \"task_type\": \"CPU\",\n",
    "    \"early_stopping_rounds\": 550,\n",
    "    \"random_state\": 99,\n",
    "    'l2_leaf_reg': 221.498423168379,\n",
    "    'learning_rate': 0.03,\n",
    "    'max_bin': 158,\n",
    "    'max_depth': 3,\n",
    "    'min_child_samples': 234.79662806085997,\n",
    "    'n_estimators': 6552,\n",
    "    'subsample': 0.3,\n",
    "    'thread_count': 28\n",
    "}"
   ]
  },
  {
   "cell_type": "code",
   "execution_count": 26,
   "metadata": {},
   "outputs": [
    {
     "name": "stdout",
     "output_type": "stream",
     "text": [
      "0:\ttest: 0.5360167\ttest1: 0.5366264\tbest: 0.5366264 (0)\ttotal: 45.9ms\tremaining: 5m\n",
      "200:\ttest: 0.7159019\ttest1: 0.7139479\tbest: 0.7139479 (200)\ttotal: 9.04s\tremaining: 4m 45s\n",
      "400:\ttest: 0.7267927\ttest1: 0.7225879\tbest: 0.7225879 (400)\ttotal: 17.9s\tremaining: 4m 35s\n",
      "600:\ttest: 0.7337414\ttest1: 0.7247099\tbest: 0.7248238 (582)\ttotal: 26.6s\tremaining: 4m 23s\n",
      "800:\ttest: 0.7384236\ttest1: 0.7257974\tbest: 0.7258001 (792)\ttotal: 35.5s\tremaining: 4m 14s\n",
      "1000:\ttest: 0.7425444\ttest1: 0.7263031\tbest: 0.7263098 (999)\ttotal: 44.6s\tremaining: 4m 7s\n",
      "1200:\ttest: 0.7457349\ttest1: 0.7271327\tbest: 0.7271327 (1200)\ttotal: 53.3s\tremaining: 3m 57s\n",
      "1400:\ttest: 0.7485991\ttest1: 0.7271299\tbest: 0.7272004 (1384)\ttotal: 1m 2s\tremaining: 3m 48s\n",
      "1600:\ttest: 0.7515017\ttest1: 0.7276123\tbest: 0.7276275 (1592)\ttotal: 1m 10s\tremaining: 3m 39s\n",
      "1800:\ttest: 0.7541075\ttest1: 0.7276957\tbest: 0.7277222 (1610)\ttotal: 1m 19s\tremaining: 3m 29s\n",
      "2000:\ttest: 0.7563668\ttest1: 0.7279913\tbest: 0.7280465 (1975)\ttotal: 1m 28s\tremaining: 3m 21s\n",
      "2200:\ttest: 0.7584788\ttest1: 0.7280028\tbest: 0.7280465 (1975)\ttotal: 1m 37s\tremaining: 3m 12s\n",
      "2400:\ttest: 0.7603292\ttest1: 0.7281256\tbest: 0.7281525 (2388)\ttotal: 1m 46s\tremaining: 3m 3s\n",
      "2600:\ttest: 0.7624756\ttest1: 0.7281616\tbest: 0.7282967 (2496)\ttotal: 1m 55s\tremaining: 2m 55s\n",
      "2800:\ttest: 0.7643172\ttest1: 0.7283595\tbest: 0.7283659 (2799)\ttotal: 2m 4s\tremaining: 2m 46s\n",
      "3000:\ttest: 0.7662808\ttest1: 0.7280658\tbest: 0.7283765 (2802)\ttotal: 2m 13s\tremaining: 2m 37s\n",
      "3200:\ttest: 0.7680779\ttest1: 0.7280427\tbest: 0.7283765 (2802)\ttotal: 2m 21s\tremaining: 2m 28s\n",
      "Stopped by overfitting detector  (550 iterations wait)\n",
      "\n",
      "bestTest = 0.7283764699\n",
      "bestIteration = 2802\n",
      "\n",
      "Shrink model to first 2803 iterations.\n"
     ]
    },
    {
     "data": {
      "text/plain": [
       "<catboost.core.CatBoostClassifier at 0x20568037148>"
      ]
     },
     "execution_count": 26,
     "metadata": {},
     "output_type": "execute_result"
    }
   ],
   "source": [
    "model_ctb_old = CatBoostClassifier(**params_ctb2)\n",
    "model_ctb_old.fit(X_train, y_train, eval_set=[(X_train, y_train), (X_valid, y_valid)], verbose=200)"
   ]
  },
  {
   "cell_type": "code",
   "execution_count": 27,
   "metadata": {
    "scrolled": true
   },
   "outputs": [
    {
     "name": "stdout",
     "output_type": "stream",
     "text": [
      "Fold: 1, train-observations = 88074, valid-observations = 22019\n",
      "train-score = 0.7896, valid-score = 0.7256\n",
      "=====================================================================\n",
      "Fold: 2, train-observations = 88074, valid-observations = 22019\n",
      "train-score = 0.792, valid-score = 0.7218\n",
      "=====================================================================\n",
      "Fold: 3, train-observations = 88074, valid-observations = 22019\n",
      "train-score = 0.7882, valid-score = 0.7315\n",
      "=====================================================================\n",
      "Fold: 4, train-observations = 88075, valid-observations = 22018\n",
      "train-score = 0.7911, valid-score = 0.7226\n",
      "=====================================================================\n",
      "Fold: 5, train-observations = 88075, valid-observations = 22018\n",
      "train-score = 0.7869, valid-score = 0.7318\n",
      "=====================================================================\n",
      "CV-results train: 0.7896 +/- 0.002\n",
      "CV-results valid: 0.7267 +/- 0.004\n",
      "OOF-score = 0.7263\n",
      "[<catboost.core.CatBoostClassifier object at 0x0000020568037148>, <catboost.core.CatBoostClassifier object at 0x0000020568037148>, <catboost.core.CatBoostClassifier object at 0x0000020568037148>, <catboost.core.CatBoostClassifier object at 0x0000020568037148>, <catboost.core.CatBoostClassifier object at 0x0000020568037148>] 0.7263087986063659 [0.7895715407328654, 0.7919700144804538, 0.788247912881851, 0.7910795613789421, 0.7868872030491868] [0.7255897945123456, 0.7217824928792985, 0.7314970310142013, 0.7226079802538913, 0.7317854167283863] [0.02257492 0.07654946 0.07653611 ... 0.08472614 0.0419952  0.07228559]\n"
     ]
    }
   ],
   "source": [
    "cv_strategy = KFold(n_splits=5)\n",
    "\n",
    "estimators_ctb1, oof_score_ctb1, fold_train_scores_ctb1, fold_valid_scores_ctb1, oof_predictions_ctb1 = make_cross_validation(\n",
    "    my_train_old.drop('TARGET', axis=1), my_train_old['TARGET'], model_ctb_old, metric=roc_auc_score, cv_strategy=cv_strategy\n",
    ")"
   ]
  },
  {
   "cell_type": "code",
   "execution_count": null,
   "metadata": {},
   "outputs": [],
   "source": [
    "# Второй катбуст"
   ]
  },
  {
   "cell_type": "code",
   "execution_count": 94,
   "metadata": {},
   "outputs": [],
   "source": [
    "params_ctb3 = {\n",
    "    \"silent\": True,\n",
    "    \"loss_function\": \"Logloss\",\n",
    "    \"eval_metric\": \"AUC\",\n",
    "    \"task_type\": \"CPU\",\n",
    "    \"early_stopping_rounds\": 550,\n",
    "    \"random_state\": 99,\n",
    "    \n",
    "    'l2_leaf_reg': 250.84178379461878,\n",
    "    'learning_rate': 0.24915841562788602,\n",
    "    'max_bin': 306,\n",
    "    'max_depth': 2,\n",
    "    'min_child_samples': 221.20749450472715,\n",
    "    'n_estimators': 4552,\n",
    "    'subsample': 0.3785734992223664,\n",
    "    'thread_count': 11\n",
    "}"
   ]
  },
  {
   "cell_type": "code",
   "execution_count": 95,
   "metadata": {},
   "outputs": [
    {
     "name": "stdout",
     "output_type": "stream",
     "text": [
      "0:\ttest: 0.5000053\ttest1: 0.5003133\tbest: 0.5003133 (0)\ttotal: 24.1ms\tremaining: 1m 49s\n",
      "200:\ttest: 0.7397514\ttest1: 0.7245868\tbest: 0.7247035 (178)\ttotal: 4.3s\tremaining: 1m 33s\n",
      "400:\ttest: 0.7503788\ttest1: 0.7276798\tbest: 0.7277036 (393)\ttotal: 8.62s\tremaining: 1m 29s\n",
      "600:\ttest: 0.7593838\ttest1: 0.7277883\tbest: 0.7281743 (456)\ttotal: 12.9s\tremaining: 1m 25s\n",
      "800:\ttest: 0.7652483\ttest1: 0.7264449\tbest: 0.7281743 (456)\ttotal: 17.3s\tremaining: 1m 21s\n",
      "1000:\ttest: 0.7714824\ttest1: 0.7259830\tbest: 0.7281743 (456)\ttotal: 21.6s\tremaining: 1m 16s\n",
      "Stopped by overfitting detector  (550 iterations wait)\n",
      "\n",
      "bestTest = 0.7281743304\n",
      "bestIteration = 456\n",
      "\n",
      "Shrink model to first 457 iterations.\n"
     ]
    },
    {
     "data": {
      "text/plain": [
       "<catboost.core.CatBoostClassifier at 0x20567b21088>"
      ]
     },
     "execution_count": 95,
     "metadata": {},
     "output_type": "execute_result"
    }
   ],
   "source": [
    "model_ctb_old2 = CatBoostClassifier(**params_ctb3)\n",
    "model_ctb_old2.fit(X_train, y_train, eval_set=[(X_train, y_train), (X_valid, y_valid)], verbose=200)"
   ]
  },
  {
   "cell_type": "code",
   "execution_count": 96,
   "metadata": {
    "scrolled": true
   },
   "outputs": [
    {
     "name": "stdout",
     "output_type": "stream",
     "text": [
      "Fold: 1, train-observations = 88074, valid-observations = 22019\n",
      "train-score = 0.8288, valid-score = 0.7156\n",
      "=====================================================================\n",
      "Fold: 2, train-observations = 88074, valid-observations = 22019\n",
      "train-score = 0.8277, valid-score = 0.7132\n",
      "=====================================================================\n",
      "Fold: 3, train-observations = 88074, valid-observations = 22019\n",
      "train-score = 0.8257, valid-score = 0.7226\n",
      "=====================================================================\n",
      "Fold: 4, train-observations = 88075, valid-observations = 22018\n",
      "train-score = 0.8276, valid-score = 0.7108\n",
      "=====================================================================\n",
      "Fold: 5, train-observations = 88075, valid-observations = 22018\n",
      "train-score = 0.8259, valid-score = 0.7181\n",
      "=====================================================================\n",
      "CV-results train: 0.8271 +/- 0.001\n",
      "CV-results valid: 0.7161 +/- 0.004\n",
      "OOF-score = 0.7158\n",
      "[<catboost.core.CatBoostClassifier object at 0x0000020567B21088>, <catboost.core.CatBoostClassifier object at 0x0000020567B21088>, <catboost.core.CatBoostClassifier object at 0x0000020567B21088>, <catboost.core.CatBoostClassifier object at 0x0000020567B21088>, <catboost.core.CatBoostClassifier object at 0x0000020567B21088>] 0.7158190969576974 [0.82875882224858, 0.8276589130236017, 0.8256570885708527, 0.827621304942077, 0.8258885957761157] [0.7155634824905193, 0.7131945431557427, 0.7226364474290605, 0.7108106792161379, 0.718103093872775] [0.01545185 0.0776064  0.12213601 ... 0.08380571 0.03353852 0.07368056]\n"
     ]
    }
   ],
   "source": [
    "cv_strategy = KFold(n_splits=5)\n",
    "\n",
    "estimators_ctb2, oof_score_ctb2, fold_train_scores_ctb2, fold_valid_scores_ctb2, oof_predictions_ctb2 = make_cross_validation(\n",
    "    my_train_old.drop('TARGET', axis=1), my_train_old['TARGET'], model_ctb_old2, metric=roc_auc_score, cv_strategy=cv_strategy\n",
    ")"
   ]
  },
  {
   "cell_type": "code",
   "execution_count": null,
   "metadata": {},
   "outputs": [],
   "source": [
    "# третий катбуст"
   ]
  },
  {
   "cell_type": "code",
   "execution_count": 97,
   "metadata": {},
   "outputs": [],
   "source": [
    "params_ctb4 = {\n",
    "    \"silent\": True,\n",
    "    \"loss_function\": \"Logloss\",\n",
    "    \"eval_metric\": \"AUC\",\n",
    "    \"task_type\": \"CPU\",\n",
    "    \"early_stopping_rounds\": 550,\n",
    "    \"random_state\": 99,\n",
    "    'l2_leaf_reg': 221.498423168379,\n",
    "    'learning_rate': 0.026,\n",
    "    'max_bin': 158,\n",
    "    'max_depth': 2,\n",
    "    'min_child_samples': 234.79662806085997,\n",
    "    'n_estimators': 6552,\n",
    "    'subsample': 0.3,\n",
    "    'thread_count': 28\n",
    "}"
   ]
  },
  {
   "cell_type": "code",
   "execution_count": 98,
   "metadata": {},
   "outputs": [
    {
     "name": "stdout",
     "output_type": "stream",
     "text": [
      "0:\ttest: 0.5000053\ttest1: 0.5003133\tbest: 0.5003133 (0)\ttotal: 18.8ms\tremaining: 2m 2s\n",
      "200:\ttest: 0.7068586\ttest1: 0.7041225\tbest: 0.7041723 (198)\ttotal: 8.07s\tremaining: 4m 15s\n",
      "400:\ttest: 0.7159252\ttest1: 0.7144106\tbest: 0.7144106 (400)\ttotal: 16s\tremaining: 4m 4s\n",
      "600:\ttest: 0.7227673\ttest1: 0.7204049\tbest: 0.7204049 (600)\ttotal: 23.7s\tremaining: 3m 54s\n",
      "800:\ttest: 0.7264995\ttest1: 0.7229479\tbest: 0.7229817 (794)\ttotal: 31.7s\tremaining: 3m 47s\n",
      "1000:\ttest: 0.7294242\ttest1: 0.7245276\tbest: 0.7245276 (1000)\ttotal: 39.8s\tremaining: 3m 40s\n",
      "1200:\ttest: 0.7319049\ttest1: 0.7250390\tbest: 0.7250390 (1200)\ttotal: 47.8s\tremaining: 3m 32s\n",
      "1400:\ttest: 0.7342331\ttest1: 0.7253756\tbest: 0.7254754 (1331)\ttotal: 55.8s\tremaining: 3m 25s\n",
      "1600:\ttest: 0.7361106\ttest1: 0.7256568\tbest: 0.7256601 (1599)\ttotal: 1m 3s\tremaining: 3m 17s\n",
      "1800:\ttest: 0.7382410\ttest1: 0.7264898\tbest: 0.7264898 (1800)\ttotal: 1m 11s\tremaining: 3m 8s\n",
      "2000:\ttest: 0.7397733\ttest1: 0.7266759\tbest: 0.7267330 (1956)\ttotal: 1m 19s\tremaining: 3m 1s\n",
      "2200:\ttest: 0.7413201\ttest1: 0.7268522\tbest: 0.7268949 (2087)\ttotal: 1m 27s\tremaining: 2m 53s\n",
      "2400:\ttest: 0.7425800\ttest1: 0.7269313\tbest: 0.7269559 (2359)\ttotal: 1m 35s\tremaining: 2m 45s\n",
      "2600:\ttest: 0.7438155\ttest1: 0.7269447\tbest: 0.7269898 (2582)\ttotal: 1m 44s\tremaining: 2m 38s\n",
      "2800:\ttest: 0.7452581\ttest1: 0.7270178\tbest: 0.7270567 (2686)\ttotal: 1m 52s\tremaining: 2m 30s\n",
      "3000:\ttest: 0.7462977\ttest1: 0.7270818\tbest: 0.7271486 (2971)\ttotal: 2m\tremaining: 2m 22s\n",
      "3200:\ttest: 0.7473939\ttest1: 0.7270478\tbest: 0.7271486 (2971)\ttotal: 2m 8s\tremaining: 2m 14s\n",
      "3400:\ttest: 0.7483617\ttest1: 0.7270160\tbest: 0.7271509 (3266)\ttotal: 2m 16s\tremaining: 2m 6s\n",
      "3600:\ttest: 0.7494288\ttest1: 0.7271157\tbest: 0.7271509 (3266)\ttotal: 2m 24s\tremaining: 1m 58s\n",
      "3800:\ttest: 0.7504384\ttest1: 0.7271351\tbest: 0.7271636 (3739)\ttotal: 2m 32s\tremaining: 1m 50s\n",
      "4000:\ttest: 0.7514848\ttest1: 0.7271984\tbest: 0.7272314 (3984)\ttotal: 2m 40s\tremaining: 1m 42s\n",
      "4200:\ttest: 0.7523973\ttest1: 0.7272447\tbest: 0.7272602 (4185)\ttotal: 2m 48s\tremaining: 1m 34s\n",
      "4400:\ttest: 0.7532298\ttest1: 0.7272071\tbest: 0.7272642 (4350)\ttotal: 2m 56s\tremaining: 1m 26s\n",
      "4600:\ttest: 0.7540449\ttest1: 0.7272151\tbest: 0.7273100 (4515)\ttotal: 3m 4s\tremaining: 1m 18s\n",
      "4800:\ttest: 0.7549468\ttest1: 0.7271283\tbest: 0.7273100 (4515)\ttotal: 3m 12s\tremaining: 1m 10s\n",
      "5000:\ttest: 0.7558036\ttest1: 0.7272253\tbest: 0.7273100 (4515)\ttotal: 3m 20s\tremaining: 1m 2s\n",
      "Stopped by overfitting detector  (550 iterations wait)\n",
      "\n",
      "bestTest = 0.7273099853\n",
      "bestIteration = 4515\n",
      "\n",
      "Shrink model to first 4516 iterations.\n"
     ]
    },
    {
     "data": {
      "text/plain": [
       "<catboost.core.CatBoostClassifier at 0x205681ee4c8>"
      ]
     },
     "execution_count": 98,
     "metadata": {},
     "output_type": "execute_result"
    }
   ],
   "source": [
    "model_ctb_old3 = CatBoostClassifier(**params_ctb4)\n",
    "model_ctb_old3.fit(X_train, y_train, eval_set=[(X_train, y_train), (X_valid, y_valid)], verbose=200)"
   ]
  },
  {
   "cell_type": "code",
   "execution_count": 99,
   "metadata": {
    "scrolled": true
   },
   "outputs": [
    {
     "name": "stdout",
     "output_type": "stream",
     "text": [
      "Fold: 1, train-observations = 88074, valid-observations = 22019\n",
      "train-score = 0.7599, valid-score = 0.7245\n",
      "=====================================================================\n",
      "Fold: 2, train-observations = 88074, valid-observations = 22019\n",
      "train-score = 0.7621, valid-score = 0.7224\n",
      "=====================================================================\n",
      "Fold: 3, train-observations = 88074, valid-observations = 22019\n",
      "train-score = 0.759, valid-score = 0.732\n",
      "=====================================================================\n",
      "Fold: 4, train-observations = 88075, valid-observations = 22018\n",
      "train-score = 0.7606, valid-score = 0.7242\n",
      "=====================================================================\n",
      "Fold: 5, train-observations = 88075, valid-observations = 22018\n",
      "train-score = 0.7579, valid-score = 0.7348\n",
      "=====================================================================\n",
      "CV-results train: 0.7599 +/- 0.001\n",
      "CV-results valid: 0.7276 +/- 0.005\n",
      "OOF-score = 0.7272\n",
      "[<catboost.core.CatBoostClassifier object at 0x00000205681EE4C8>, <catboost.core.CatBoostClassifier object at 0x00000205681EE4C8>, <catboost.core.CatBoostClassifier object at 0x00000205681EE4C8>, <catboost.core.CatBoostClassifier object at 0x00000205681EE4C8>, <catboost.core.CatBoostClassifier object at 0x00000205681EE4C8>] 0.7271973687892758 [0.7598679419144506, 0.7621125679288379, 0.7589980559343643, 0.7605980745951966, 0.7579359401992877] [0.7244885272646863, 0.7224268294878261, 0.7320306721612158, 0.7242222570074578, 0.7347512726165721] [0.01824977 0.08028186 0.06282362 ... 0.08354203 0.03639373 0.08655692]\n"
     ]
    }
   ],
   "source": [
    "cv_strategy = KFold(n_splits=5)\n",
    "\n",
    "estimators_ctb3, oof_score_ctb3, fold_train_scores_ctb3, fold_valid_scores_ctb3, oof_predictions_ctb3 = make_cross_validation(\n",
    "    my_train_old.drop('TARGET', axis=1), my_train_old['TARGET'], model_ctb_old3, metric=roc_auc_score, cv_strategy=cv_strategy\n",
    ")"
   ]
  },
  {
   "cell_type": "code",
   "execution_count": 100,
   "metadata": {},
   "outputs": [],
   "source": [
    "scores = pd.DataFrame({\n",
    "    \"ctb1\": oof_predictions_ctb1,\n",
    "    \"ctb2\": oof_predictions_ctb2,\n",
    "    'ctb3': oof_predictions_ctb3\n",
    "    \n",
    "})\n",
    "\n",
    "corr = scores.corr()\n",
    "mask = np.zeros_like(corr, dtype=np.bool)\n",
    "mask[np.triu_indices_from(mask)] = True"
   ]
  },
  {
   "cell_type": "code",
   "execution_count": 101,
   "metadata": {},
   "outputs": [
    {
     "data": {
      "text/plain": [
       "<matplotlib.axes._subplots.AxesSubplot at 0x20568011e08>"
      ]
     },
     "execution_count": 101,
     "metadata": {},
     "output_type": "execute_result"
    },
    {
     "data": {
      "image/png": "[encoded data removed]",
      "text/plain": [
       "<Figure size 576x576 with 2 Axes>"
      ]
     },
     "metadata": {
      "needs_background": "light"
     },
     "output_type": "display_data"
    }
   ],
   "source": [
    "fig, axes = plt.subplots(1, 1, figsize=(8, 8))\n",
    "sns.heatmap(corr, mask=mask, annot=True, fmt=\".4g\", square=True, cmap=\"viridis\", ax=axes)"
   ]
  },
  {
   "cell_type": "markdown",
   "metadata": {},
   "source": [
    "Корреляция близка к высокой, однако все еще возможно улучшение качества комбинации моделей."
   ]
  },
  {
   "cell_type": "markdown",
   "metadata": {},
   "source": [
    "#### 3. Финальная модель.  <a class='anchor' id='end'>"
   ]
  },
  {
   "cell_type": "code",
   "execution_count": 104,
   "metadata": {},
   "outputs": [],
   "source": [
    "eclf2 = VotingClassifier(estimators=[\n",
    "    ('ctb1', model_ctb_old),\n",
    "    ('ctb2', model_ctb_old2),\n",
    "    ('ctb3', model_ctb_old3)\n",
    "  ],\n",
    "                         voting='soft')"
   ]
  },
  {
   "cell_type": "code",
   "execution_count": 105,
   "metadata": {},
   "outputs": [
    {
     "data": {
      "text/plain": [
       "VotingClassifier(estimators=[('ctb1',\n",
       "                              <catboost.core.CatBoostClassifier object at 0x0000020568037148>),\n",
       "                             ('ctb2',\n",
       "                              <catboost.core.CatBoostClassifier object at 0x0000020567B21088>),\n",
       "                             ('ctb3',\n",
       "                              <catboost.core.CatBoostClassifier object at 0x00000205681EE4C8>)],\n",
       "                 voting='soft')"
      ]
     },
     "execution_count": 105,
     "metadata": {},
     "output_type": "execute_result"
    }
   ],
   "source": [
    "eclf2.fit(my_train_old.drop('TARGET', axis=1), my_train_old['TARGET'])"
   ]
  },
  {
   "cell_type": "code",
   "execution_count": 106,
   "metadata": {},
   "outputs": [
    {
     "data": {
      "text/plain": [
       "165141"
      ]
     },
     "execution_count": 106,
     "metadata": {},
     "output_type": "execute_result"
    }
   ],
   "source": [
    "len(eclf2.predict_proba(my_test_old)[:,1])"
   ]
  },
  {
   "cell_type": "code",
   "execution_count": 107,
   "metadata": {},
   "outputs": [
    {
     "data": {
      "text/html": [
       "<div>\n",
       "<style scoped>\n",
       "    .dataframe tbody tr th:only-of-type {\n",
       "        vertical-align: middle;\n",
       "    }\n",
       "\n",
       "    .dataframe tbody tr th {\n",
       "        vertical-align: top;\n",
       "    }\n",
       "\n",
       "    .dataframe thead th {\n",
       "        text-align: right;\n",
       "    }\n",
       "</style>\n",
       "<table border=\"1\" class=\"dataframe\">\n",
       "  <thead>\n",
       "    <tr style=\"text-align: right;\">\n",
       "      <th></th>\n",
       "      <th>APPLICATION_NUMBER</th>\n",
       "      <th>TARGET</th>\n",
       "    </tr>\n",
       "  </thead>\n",
       "  <tbody>\n",
       "    <tr>\n",
       "      <th>0</th>\n",
       "      <td>123724268</td>\n",
       "      <td>0.062846</td>\n",
       "    </tr>\n",
       "    <tr>\n",
       "      <th>1</th>\n",
       "      <td>123456549</td>\n",
       "      <td>0.251945</td>\n",
       "    </tr>\n",
       "    <tr>\n",
       "      <th>2</th>\n",
       "      <td>123428178</td>\n",
       "      <td>0.171311</td>\n",
       "    </tr>\n",
       "    <tr>\n",
       "      <th>3</th>\n",
       "      <td>123619984</td>\n",
       "      <td>0.081737</td>\n",
       "    </tr>\n",
       "    <tr>\n",
       "      <th>4</th>\n",
       "      <td>123671104</td>\n",
       "      <td>0.022742</td>\n",
       "    </tr>\n",
       "    <tr>\n",
       "      <th>...</th>\n",
       "      <td>...</td>\n",
       "      <td>...</td>\n",
       "    </tr>\n",
       "    <tr>\n",
       "      <th>165136</th>\n",
       "      <td>123487967</td>\n",
       "      <td>0.089997</td>\n",
       "    </tr>\n",
       "    <tr>\n",
       "      <th>165137</th>\n",
       "      <td>123536402</td>\n",
       "      <td>0.061982</td>\n",
       "    </tr>\n",
       "    <tr>\n",
       "      <th>165138</th>\n",
       "      <td>123718238</td>\n",
       "      <td>0.088406</td>\n",
       "    </tr>\n",
       "    <tr>\n",
       "      <th>165139</th>\n",
       "      <td>123631557</td>\n",
       "      <td>0.015896</td>\n",
       "    </tr>\n",
       "    <tr>\n",
       "      <th>165140</th>\n",
       "      <td>123433260</td>\n",
       "      <td>0.039189</td>\n",
       "    </tr>\n",
       "  </tbody>\n",
       "</table>\n",
       "<p>165141 rows × 2 columns</p>\n",
       "</div>"
      ],
      "text/plain": [
       "        APPLICATION_NUMBER    TARGET\n",
       "0                123724268  0.062846\n",
       "1                123456549  0.251945\n",
       "2                123428178  0.171311\n",
       "3                123619984  0.081737\n",
       "4                123671104  0.022742\n",
       "...                    ...       ...\n",
       "165136           123487967  0.089997\n",
       "165137           123536402  0.061982\n",
       "165138           123718238  0.088406\n",
       "165139           123631557  0.015896\n",
       "165140           123433260  0.039189\n",
       "\n",
       "[165141 rows x 2 columns]"
      ]
     },
     "execution_count": 107,
     "metadata": {},
     "output_type": "execute_result"
    }
   ],
   "source": [
    "sample_submit = pd.read_csv(r\"./competitive-data-analysis_coursework/sample_submit.csv\")\n",
    "sample_submit['TARGET'] = eclf2.predict_proba(my_test_old)[:,1].tolist()\n",
    "sample_submit.to_csv(r\"./competitive-data-analysis_coursework/submitions/sport_kaggle.csv\", index=False)\n",
    "sample_submit"
   ]
  },
  {
   "cell_type": "markdown",
   "metadata": {},
   "source": [
    "#### Вывод <a class='anchor' id='end'> "
   ]
  },
  {
   "cell_type": "markdown",
   "metadata": {},
   "source": [
    "В результате нескольких итераций выполнения вышепроизведенных действий качество roc_auc на лидерборде kaggle составило 0.73290"
   ]
  },
  {
   "cell_type": "code",
   "execution_count": null,
   "metadata": {},
   "outputs": [],
   "source": []
  },
  {
   "cell_type": "code",
   "execution_count": null,
   "metadata": {},
   "outputs": [],
   "source": []
  }
 ],
 "metadata": {
  "kernelspec": {
   "display_name": "Python 3",
   "language": "python",
   "name": "python3"
  },
  "language_info": {
   "codemirror_mode": {
    "name": "ipython",
    "version": 3
   },
   "file_extension": ".py",
   "mimetype": "text/x-python",
   "name": "python",
   "nbconvert_exporter": "python",
   "pygments_lexer": "ipython3",
   "version": "3.7.6"
  }
 },
 "nbformat": 4,
 "nbformat_minor": 4
}
